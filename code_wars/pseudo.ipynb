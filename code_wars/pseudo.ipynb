{
 "cells": [
  {
   "cell_type": "markdown",
   "metadata": {},
   "source": [
    "Given integers a and b, determine whether the following pseudocode results in an infinite loop\n",
    "\n",
    "while a is not equal to b do\n",
    "  increase a by 1\n",
    "  decrease b by 1\n",
    "Assume that the program is executed on a virtual machine which can store arbitrary long numbers and execute forever.\n",
    "\n",
    "Example\n",
    "\n",
    "For a = 2 and b = 6, the output should be\n",
    "solution(a, b) = false;\n",
    "For a = 2 and b = 3, the output should be\n",
    "solution(a, b) = true."
   ]
  },
  {
   "cell_type": "code",
   "execution_count": 3,
   "metadata": {},
   "outputs": [
    {
     "data": {
      "text/plain": [
       "True"
      ]
     },
     "execution_count": 3,
     "metadata": {},
     "output_type": "execute_result"
    }
   ],
   "source": [
    "def is_inf(a, b):\n",
    "    if a < b and (b-a) % 2 == 0:\n",
    "        return False\n",
    "    else:\n",
    "        return True\n",
    "    \n",
    "is_inf(3,6)"
   ]
  }
 ],
 "metadata": {
  "kernelspec": {
   "display_name": "Python 3",
   "language": "python",
   "name": "python3"
  },
  "language_info": {
   "codemirror_mode": {
    "name": "ipython",
    "version": 3
   },
   "file_extension": ".py",
   "mimetype": "text/x-python",
   "name": "python",
   "nbconvert_exporter": "python",
   "pygments_lexer": "ipython3",
   "version": "3.11.5"
  }
 },
 "nbformat": 4,
 "nbformat_minor": 2
}
