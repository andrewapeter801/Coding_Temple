{
 "cells": [
  {
   "cell_type": "markdown",
   "metadata": {},
   "source": [
    "Write a function that removes the spaces from the string, then return the resultant string.\n",
    "Your input will always be a string that only contains spaces, numbers, and letters.\n",
    "\n",
    "Examples:\n",
    "\n",
    "Input -> Output\n",
    "\n",
    "\"8 j 8   mBliB8g  imjB8B8  jl  B\" -> \"8j8mBliB8gimjB8B8jlB\"\n",
    "\n",
    "\"8 8 Bi fk8h B 8 BB8B B B  B888 c hl8 BhB fd\" -> \"88Bifk8hB8BB8BBBB888chl8BhBfd\"\n",
    "\n",
    "\"8aaaaa dddd r     \" -> \"8aaaaaddddr\"\n",
    "\n",
    "\"                 \" -> \"\""
   ]
  },
  {
   "cell_type": "code",
   "execution_count": null,
   "metadata": {},
   "outputs": [],
   "source": [
    "#UPER\n",
    "#Understand\n",
    "# Remove spaces using the .replace\n",
    "# Input will be a string"
   ]
  },
  {
   "cell_type": "code",
   "execution_count": 4,
   "metadata": {},
   "outputs": [
    {
     "data": {
      "text/plain": [
       "'8aaaaaddddr'"
      ]
     },
     "execution_count": 4,
     "metadata": {},
     "output_type": "execute_result"
    }
   ],
   "source": [
    "def remove_spaces(s):\n",
    "    result  = s.replace(\" \", \"\")\n",
    "    return result\n",
    "    \n",
    "remove_spaces(\"8aaaaa dddd r     \")"
   ]
  }
 ],
 "metadata": {
  "kernelspec": {
   "display_name": "base",
   "language": "python",
   "name": "python3"
  },
  "language_info": {
   "codemirror_mode": {
    "name": "ipython",
    "version": 3
   },
   "file_extension": ".py",
   "mimetype": "text/x-python",
   "name": "python",
   "nbconvert_exporter": "python",
   "pygments_lexer": "ipython3",
   "version": "3.11.4"
  }
 },
 "nbformat": 4,
 "nbformat_minor": 2
}
