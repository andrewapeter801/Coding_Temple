{
 "cells": [
  {
   "cell_type": "markdown",
   "metadata": {},
   "source": [
    "You get an array of numbers, return the sum of all of the positives ones.\n",
    "\n",
    "Example [1,-4,7,12] => 1 + 7 + 12 = 20\n",
    "\n",
    "Note: if there is nothing to sum, the sum is default to 0."
   ]
  },
  {
   "cell_type": "code",
   "execution_count": 2,
   "metadata": {},
   "outputs": [
    {
     "data": {
      "text/plain": [
       "10"
      ]
     },
     "execution_count": 2,
     "metadata": {},
     "output_type": "execute_result"
    }
   ],
   "source": [
    "def arr_nums(in_lst):\n",
    "    out_lst = []\n",
    "    for n in in_lst:\n",
    "        if n > 0:\n",
    "            out_lst.append(n)\n",
    "\n",
    "    return sum(out_lst)\n",
    "arr_nums([1,-4,7,2])\n"
   ]
  },
  {
   "cell_type": "code",
   "execution_count": null,
   "metadata": {},
   "outputs": [],
   "source": []
  }
 ],
 "metadata": {
  "kernelspec": {
   "display_name": "Python 3",
   "language": "python",
   "name": "python3"
  },
  "language_info": {
   "codemirror_mode": {
    "name": "ipython",
    "version": 3
   },
   "file_extension": ".py",
   "mimetype": "text/x-python",
   "name": "python",
   "nbconvert_exporter": "python",
   "pygments_lexer": "ipython3",
   "version": "3.11.5"
  },
  "orig_nbformat": 4
 },
 "nbformat": 4,
 "nbformat_minor": 2
}
