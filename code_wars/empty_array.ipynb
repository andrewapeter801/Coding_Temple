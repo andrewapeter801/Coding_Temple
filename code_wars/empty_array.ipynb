{
 "cells": [
  {
   "cell_type": "markdown",
   "metadata": {},
   "source": [
    " Given an array of integers.\n",
    " Return an array, where the first element is the count of positives numbers and the second element is sum of negative numbers. 0 is neither positive nor negative.\n",
    "\n",
    " If the input is an empty array or is null, return an empty array.\n",
    "\n",
    " Example\n",
    " For input [1, 2, 3, 4, 5, 6, 7, 8, 9, 10, -11, -12, -13, -14, -15], you should return [10, -65]."
   ]
  },
  {
   "cell_type": "code",
   "execution_count": null,
   "metadata": {},
   "outputs": [],
   "source": [
    "# Understand\n",
    "# count = 0\n",
    "# for loop - 1st element is the count of positive numbers\n",
    "# 2nd element is the sum of negative (abs) numbers - add together and then make negative"
   ]
  },
  {
   "cell_type": "code",
   "execution_count": null,
   "metadata": {},
   "outputs": [],
   "source": [
    "def sol(num):\n",
    "    count = 0\n",
    "    s = 0\n",
    "    for x in num:\n",
    "        if x > 0:\n",
    "            return count += 1\n",
    "        elif x < 0: \n",
    "            s += abs(x)\n",
    "        return [count, -s]\n",
    "    \n",
    "print(sol([1, 2, 3, 4, 5, 6, 7, 8, 9, 10, -11, -12, -13, -14, -15]))"
   ]
  }
 ],
 "metadata": {
  "kernelspec": {
   "display_name": "base",
   "language": "python",
   "name": "python3"
  },
  "language_info": {
   "name": "python",
   "version": "3.11.4"
  }
 },
 "nbformat": 4,
 "nbformat_minor": 2
}
