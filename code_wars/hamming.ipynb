{
 "cells": [
  {
   "cell_type": "markdown",
   "metadata": {},
   "source": [
    " The Hamming Distance is a measure of similarity between two strings of equal length.\n",
    " Complete the function so that it returns the number of differences between the two strings.\n",
    " Examples:\n",
    " a = \"I like turtles\"\n",
    " b = \"I like turkeys\"\n",
    " Result: 3\n",
    " a = \"Hello World\"\n",
    " b = \"Hello World\"\n",
    " Result: 0\n",
    "a = \"espresso\"\n",
    "b = \"Expresso\"\n",
    " Result: 2\n",
    "\n",
    " Notes:\n",
    " You can assume that the two inputs strings of equal length."
   ]
  },
  {
   "cell_type": "code",
   "execution_count": null,
   "metadata": {},
   "outputs": [],
   "source": [
    "# Understand: See if two strings are the same of equal length\n",
    "\n",
    "#Plan:\n",
    "# Step 1: Create list\n",
    "# Step 2: Boolean for similarities"
   ]
  },
  {
   "cell_type": "code",
   "execution_count": 1,
   "metadata": {},
   "outputs": [
    {
     "data": {
      "text/plain": [
       "3"
      ]
     },
     "execution_count": 1,
     "metadata": {},
     "output_type": "execute_result"
    }
   ],
   "source": [
    "a= \"I like turtles\"\n",
    "b= \"I like turkeys\"\n",
    "\n",
    "def ham_dist(a,b):\n",
    "    count_diff = 0\n",
    "    if a == b:\n",
    "        return 0\n",
    "    else:\n",
    "        for i in range(len(a)):\n",
    "            if a[i] != b[i]:\n",
    "                count_diff += 1\n",
    "        return count_diff\n",
    "ham_dist(a,b)\n"
   ]
  }
 ],
 "metadata": {
  "kernelspec": {
   "display_name": "Python 3",
   "language": "python",
   "name": "python3"
  },
  "language_info": {
   "codemirror_mode": {
    "name": "ipython",
    "version": 3
   },
   "file_extension": ".py",
   "mimetype": "text/x-python",
   "name": "python",
   "nbconvert_exporter": "python",
   "pygments_lexer": "ipython3",
   "version": "3.11.5"
  }
 },
 "nbformat": 4,
 "nbformat_minor": 2
}
