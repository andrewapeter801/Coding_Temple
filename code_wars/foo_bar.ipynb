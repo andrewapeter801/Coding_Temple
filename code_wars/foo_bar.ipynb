{
 "cells": [
  {
   "cell_type": "markdown",
   "metadata": {},
   "source": [
    "Write a function that reverses characters in (possibly nested) parentheses in the input string.\n",
    "Input strings will always be well-formed with matching ()s.\n",
    "Example\n",
    "\n",
    "For inputString = \"(bar)\", the output should be\n",
    "solution(inputString) = \"rab\";\n",
    "\n",
    "For inputString = \"foo(bar)baz\", the output should be\n",
    "solution(inputString) = \"foorabbaz\";\n",
    "\n",
    "For inputString = \"foo(bar)baz(blim)\", the output should be\n",
    "solution(inputString) = \"foorabbazmilb\";\n",
    "\n",
    "For inputString = \"foo(bar(baz))blim\", the output should be\n",
    "solution(inputString) = \"foobazrabblim\".\n",
    "\n",
    "Because \"foo(bar(baz))blim\" becomes \"foo(barzab)blim\" and then \"foobazrabblim\"."
   ]
  },
  {
   "cell_type": "code",
   "execution_count": 1,
   "metadata": {},
   "outputs": [
    {
     "ename": "",
     "evalue": "",
     "output_type": "error",
     "traceback": [
      "\u001b[1;31mThe Kernel crashed while executing code in the the current cell or a previous cell. Please review the code in the cell(s) to identify a possible cause of the failure. Click <a href='https://aka.ms/vscodeJupyterKernelCrash'>here</a> for more info. View Jupyter <a href='command:jupyter.viewOutput'>log</a> for further details."
     ]
    }
   ],
   "source": [
    "sample = \"foo(bar)baz\"\n",
    "\n",
    "def reverse_parens(start_text):\n",
    "    start = 0\n",
    "    stop = 0\n",
    "    for i in range(len(start_text)):\n",
    "        if start_text[i] == \"(\":\n",
    "            start = i + 1\n",
    "        if start_text[i] == \")\":\n",
    "            stop = i\n",
    "            return reverse_parens(start_text[:start -1]+start_text[start:stop][::-1]+start_text[stop +1])\n",
    "        \n",
    "    return start_text\n",
    "        \n"
   ]
  }
 ],
 "metadata": {
  "kernelspec": {
   "display_name": "base",
   "language": "python",
   "name": "python3"
  },
  "language_info": {
   "codemirror_mode": {
    "name": "ipython",
    "version": 3
   },
   "file_extension": ".py",
   "mimetype": "text/x-python",
   "name": "python",
   "nbconvert_exporter": "python",
   "pygments_lexer": "ipython3",
   "version": "3.11.4"
  }
 },
 "nbformat": 4,
 "nbformat_minor": 2
}
