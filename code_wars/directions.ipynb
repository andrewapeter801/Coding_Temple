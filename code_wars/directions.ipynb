{
 "cells": [
  {
   "cell_type": "markdown",
   "metadata": {},
   "source": [
    "You found directions to hidden treasure only written in words. The possible directions are \"NORTH\", \"SOUTH\",\"WEST\",\"EAST\".\n",
    "\"NORTH\" and \"SOUTH\" are opposite directions, as are \"EAST\" and \"WEST\". Going one direction and coming back in the opposite direction leads to going nowhere. Someone else also has these directions to the treasure and you need to get there first. Since the directions are long, you decide to write a program to figure out the fastest and most direct route to the treasure.\n",
    "Write a function that will take a list of strings and will return a list of strings with the unneeded directions removed (NORTH<->SOUTH or EAST<->WEST side by side)."
   ]
  },
  {
   "cell_type": "markdown",
   "metadata": {},
   "source": [
    "Example 1:\n",
    "input: ['NORTH','EAST','WEST','SOUTH','WEST','SOUTH','NORTH','WEST']\n",
    "output:['WEST','WEST']\n",
    "In ['NORTH','EAST','WEST','SOUTH','WEST','SOUTH','NORTH','WEST'] 'NORTH' and 'SOUTH' are not directly opposite but they become directly opposite after reduction of 'EAST' and 'WEST'. The whole path can be reduced to ['WEST','WEST'].\n",
    "Example 2:\n",
    "input: ['EAST','NORTH','WEST','SOUTH']\n",
    "output:['EAST','NORTH','WEST','SOUTH']\n",
    "Not all paths are reducible. The path ['EAST','NORTH','WEST','SOUTH'] is not reducible. 'EAST' and 'NORTH', 'NORTH' and 'WEST', 'WEST' and 'SOUTH' are not directly opposite of each other and thus can't be reduced. The resulting path has not changed from the original path: ['EAST','NORTH','WEST','SOUTH']\n",
    "#up and around a mountain maybe?"
   ]
  },
  {
   "cell_type": "code",
   "execution_count": 4,
   "metadata": {},
   "outputs": [
    {
     "data": {
      "text/plain": [
       "['NORTH']"
      ]
     },
     "execution_count": 4,
     "metadata": {},
     "output_type": "execute_result"
    }
   ],
   "source": [
    "def directions(in_lst):\n",
    "    out_lst = []\n",
    "    logic_dict = {'North': 'South', 'South':'North', 'East':'West', 'West': 'East'}\n",
    "    for n in in_lst:\n",
    "        if len(out_lst) !=0 and n == logic_dict[out_lst[-1]]:\n",
    "            out_lst.pop()\n",
    "        else:\n",
    "            out_lst.append(n)\n",
    "\n",
    "        return out_lst\n",
    "    \n",
    "directions(['NORTH','EAST','WEST','SOUTH','WEST','SOUTH','NORTH','WEST'])"
   ]
  }
 ],
 "metadata": {
  "kernelspec": {
   "display_name": "base",
   "language": "python",
   "name": "python3"
  },
  "language_info": {
   "codemirror_mode": {
    "name": "ipython",
    "version": 3
   },
   "file_extension": ".py",
   "mimetype": "text/x-python",
   "name": "python",
   "nbconvert_exporter": "python",
   "pygments_lexer": "ipython3",
   "version": "3.11.4"
  }
 },
 "nbformat": 4,
 "nbformat_minor": 2
}
