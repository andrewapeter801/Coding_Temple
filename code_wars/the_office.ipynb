{
 "cells": [
  {
   "cell_type": "markdown",
   "metadata": {},
   "source": [
    "Your colleagues have been looking over you shoulder. When you should have been doing your boring real job, you've been using the work computers to smash in endless hours of codewars.\n",
    "\n",
    "In a team meeting, a terrible, awful person declares to the group that you aren't working. You're in trouble. You quickly have to gauge the feeling in the room to decide whether or not you should gather your things and leave.\n",
    "\n",
    "Given an object (meet) containing team member names as keys, and their happiness rating out of 10 as the value, you need to assess the overall happiness rating of the group. If <= 5, return 'Get Out Now!'. Else return 'Nice Work Champ!'.\n",
    "\n",
    "Happiness rating will be total score / number of people in the room.\n",
    "\n",
    "Note that your boss is in the room (boss), their score is worth double it's face value (but they are still just one person!)."
   ]
  },
  {
   "cell_type": "code",
   "execution_count": 1,
   "metadata": {},
   "outputs": [],
   "source": [
    "def outed(meet, boss):\n",
    "    counter += 0\n",
    "    for val in meet.values():\n",
    "        counter += val\n",
    "    counter += meet[boss]\n",
    "    avg = counter(len(meet))\n",
    "    if val <+ 5:\n",
    "        return \"Get Out Now!\"\n",
    "    else:\n",
    "        return \"Nice Work Champ!\""
   ]
  }
 ],
 "metadata": {
  "kernelspec": {
   "display_name": "Python 3",
   "language": "python",
   "name": "python3"
  },
  "language_info": {
   "codemirror_mode": {
    "name": "ipython",
    "version": 3
   },
   "file_extension": ".py",
   "mimetype": "text/x-python",
   "name": "python",
   "nbconvert_exporter": "python",
   "pygments_lexer": "ipython3",
   "version": "3.11.5"
  },
  "orig_nbformat": 4
 },
 "nbformat": 4,
 "nbformat_minor": 2
}
