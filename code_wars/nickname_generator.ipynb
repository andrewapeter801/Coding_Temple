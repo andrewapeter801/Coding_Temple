{
 "cells": [
  {
   "cell_type": "markdown",
   "metadata": {},
   "source": [
    "# Nickname Generator\n",
    "Write a function, nicknameGenerator that takes a string name as an argument and returns the first 3 or 4 letters as a nickname.\n",
    "If the 3rd letter is a consonant, return the first 3 letters.\n",
    "\n",
    "nickname(\"Robert\") //=> \"Rob\"\n",
    "\n",
    "nickname(\"Kimberly\") //=> \"Kim\"\n",
    "\n",
    "nickname(\"Samantha\") //=> \"Sam\"\n",
    "\n",
    "If the 3rd letter is a vowel, return the first 4 letters.\n",
    "\n",
    "nickname(\"Jeannie\") //=> \"Jean\"\n",
    "\n",
    "nickname(\"Douglas\") //=> \"Doug\"\n",
    "\n",
    "nickname(\"Gregory\") //=> \"Greg\"\n",
    "\n",
    "If the string is less than 4 characters, return \"Error: Name too short\".\n",
    "\n",
    "Notes:\n",
    "Vowels are \"aeiou\", so discount the letter \"y\".\n",
    "\n",
    "Input will always be a string.\n",
    "\n",
    "Input will always have the first letter capitalised and the rest lowercase (e.g. Sam)."
   ]
  },
  {
   "cell_type": "code",
   "execution_count": null,
   "metadata": {},
   "outputs": [],
   "source": [
    "# Understand \n",
    "# Input: name that will be title case\n",
    "# Output: a string of either 3 or 4 letters based on if the original strings 3rd letter is a constant or a vowel\n",
    "# Output: will also include an error if name is less than 4 characters"
   ]
  },
  {
   "cell_type": "code",
   "execution_count": 3,
   "metadata": {},
   "outputs": [
    {
     "name": "stdout",
     "output_type": "stream",
     "text": [
      "And\n"
     ]
    }
   ],
   "source": [
    "def sol(s):\n",
    "    if len(s) < 4:\n",
    "        return \"Error: Name too short\"\n",
    "    if s[2] in 'aeiou':\n",
    "        return s[:4]\n",
    "    else:\n",
    "        return s[:3]\n",
    "    \n",
    "print(sol('Andrew'))"
   ]
  }
 ],
 "metadata": {
  "kernelspec": {
   "display_name": "Python 3",
   "language": "python",
   "name": "python3"
  },
  "language_info": {
   "codemirror_mode": {
    "name": "ipython",
    "version": 3
   },
   "file_extension": ".py",
   "mimetype": "text/x-python",
   "name": "python",
   "nbconvert_exporter": "python",
   "pygments_lexer": "ipython3",
   "version": "3.11.5"
  }
 },
 "nbformat": 4,
 "nbformat_minor": 2
}
