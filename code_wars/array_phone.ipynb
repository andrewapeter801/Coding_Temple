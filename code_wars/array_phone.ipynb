{
 "cells": [
  {
   "cell_type": "markdown",
   "metadata": {},
   "source": [
    "Write a function that accepts an array of 10 integers (between 0 and 9), that returns a string of those numbers in the form of a phone number.\n",
    "Example\n",
    "create_phone_number([1, 2, 3, 4, 5, 6, 7, 8, 9, 0]) # => returns \"(123) 456-7890\"\n",
    "The returned format must be correct in order to complete this challenge.\n",
    "Don't forget the space after the closing parentheses!"
   ]
  },
  {
   "cell_type": "code",
   "execution_count": 4,
   "metadata": {},
   "outputs": [
    {
     "name": "stdout",
     "output_type": "stream",
     "text": [
      "([1, 2] [4, 5]-[7, 8, 9, 0])\n"
     ]
    }
   ],
   "source": [
    "# Create a function that take the input of an array of numbers. Index into the array to from a phone number.\n",
    "# Plan: \n",
    "# Step1:create a def name caller(a):\n",
    "# Step2: Index from the array_of_num[0] calling the value of the number f'({a[0:2]} {a[3:5]}-{a[6:]})'\n",
    "# Step3: Call the function caller(a):\n",
    "\n",
    "def caller(a):\n",
    "    return f'({a[0:2]} {a[3:5]}-{a[6:]})'\n",
    "\n",
    "print(caller([1, 2, 3, 4, 5, 6, 7, 8, 9, 0]))"
   ]
  },
  {
   "cell_type": "code",
   "execution_count": null,
   "metadata": {},
   "outputs": [],
   "source": []
  }
 ],
 "metadata": {
  "kernelspec": {
   "display_name": "Python 3",
   "language": "python",
   "name": "python3"
  },
  "language_info": {
   "codemirror_mode": {
    "name": "ipython",
    "version": 3
   },
   "file_extension": ".py",
   "mimetype": "text/x-python",
   "name": "python",
   "nbconvert_exporter": "python",
   "pygments_lexer": "ipython3",
   "version": "3.11.5"
  },
  "orig_nbformat": 4
 },
 "nbformat": 4,
 "nbformat_minor": 2
}
