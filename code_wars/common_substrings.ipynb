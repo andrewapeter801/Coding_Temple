{
 "cells": [
  {
   "cell_type": "markdown",
   "metadata": {},
   "source": [
    "Given 2 strings, your job is to find out if there is a substring that appears in both strings. You will return true if you find a substring that appears in both strings, or false if you do not. We only care about substrings that are longer than one letter long.\n",
    "\n",
    "#Examples:\n",
    "\n",
    "*Example 1*\n",
    "SubstringTest(\"Something\",\"Fun\"); //Returns false\n",
    "\n",
    "*Example 2*\n",
    "SubstringTest(\"Something\",\"Home\"); //Returns true\n",
    "In the above example, example 2 returns true because both of the inputs contain the substring \"me\". (soMEthing and hoME)\n",
    "In example 1, the method will return false because something and fun contain no common substrings. (We do not count the 'n' as a substring in this Kata because it is only 1 character long)\n",
    "\n",
    "#Rules: Lowercase and uppercase letters are the same. So 'A' == 'a'.\n",
    "We only count substrings that are > 1 in length.\n",
    "\n",
    "#Input: Two strings with both lower and upper cases. #Output: A boolean value determining if there is a common substring between the two inputs."
   ]
  },
  {
   "cell_type": "code",
   "execution_count": 9,
   "metadata": {},
   "outputs": [
    {
     "name": "stdout",
     "output_type": "stream",
     "text": [
      "False\n"
     ]
    }
   ],
   "source": [
    "# Plan: \n",
    "#    Step 1: Break strings into lists\n",
    "#    Step 2: Append strings to .lower()\n",
    "\n",
    "def substring_test(str1, str2):\n",
    "    str1 = str1.lower()\n",
    "    str2 = str2.lower()\n",
    "    return any(\n",
    "        str1[i:i+2] in str2\n",
    "        for i in range(len(str1)-1)\n",
    "    )\n",
    "print(substring_test(\"Something\", \"Fun\"))"
   ]
  },
  {
   "cell_type": "code",
   "execution_count": null,
   "metadata": {},
   "outputs": [],
   "source": []
  }
 ],
 "metadata": {
  "kernelspec": {
   "display_name": "base",
   "language": "python",
   "name": "python3"
  },
  "language_info": {
   "codemirror_mode": {
    "name": "ipython",
    "version": 3
   },
   "file_extension": ".py",
   "mimetype": "text/x-python",
   "name": "python",
   "nbconvert_exporter": "python",
   "pygments_lexer": "ipython3",
   "version": "3.11.4"
  }
 },
 "nbformat": 4,
 "nbformat_minor": 2
}
