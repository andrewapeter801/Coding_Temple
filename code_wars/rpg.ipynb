{
 "cells": [
  {
   "cell_type": "markdown",
   "metadata": {},
   "source": [
    "You are playing an RPG game. Currently your experience points (XP) total is equal to experience. To reach the next level your XP should be at least at threshold. If you kill the monster in front of you, you will gain more experience points in the amount of the reward.\n",
    "Given values experience, threshold and reward, check if you reach the next level after killing the monster.\n",
    "Example\n",
    "For experience = 10, threshold = 15, and reward = 5, the output should be\n",
    "solution(experience, threshold, reward) = true;\n",
    "For experience = 10, threshold = 15, and reward = 4, the output should be\n",
    "solution(experience, threshold, reward) = false."
   ]
  },
  {
   "cell_type": "code",
   "execution_count": 1,
   "metadata": {},
   "outputs": [
    {
     "name": "stdout",
     "output_type": "stream",
     "text": [
      "True\n"
     ]
    }
   ],
   "source": [
    "# For experience = 10, threshold = 15, and reward = 5\n",
    "# Output: (experience, threshold, reward) = true;\n",
    "# For experience = 10, threshold = 15, and reward = 4\n",
    "# Output: (experience, threshold, reward) = False;\n",
    "\n",
    "def rpg_game(experience, threshold, reward):\n",
    "    if experience + reward >= threshold:\n",
    "        return True\n",
    "    else:\n",
    "        False\n",
    "\n",
    "print(rpg_game(10, 15, 5))"
   ]
  }
 ],
 "metadata": {
  "kernelspec": {
   "display_name": "base",
   "language": "python",
   "name": "python3"
  },
  "language_info": {
   "codemirror_mode": {
    "name": "ipython",
    "version": 3
   },
   "file_extension": ".py",
   "mimetype": "text/x-python",
   "name": "python",
   "nbconvert_exporter": "python",
   "pygments_lexer": "ipython3",
   "version": "3.11.4"
  }
 },
 "nbformat": 4,
 "nbformat_minor": 2
}
