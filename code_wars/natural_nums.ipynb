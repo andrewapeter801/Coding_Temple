{
 "cells": [
  {
   "cell_type": "markdown",
   "metadata": {},
   "source": [
    "If we list all the natural numbers below 10 that are multiples of 3 or 5, we \n",
    "get 3, 5, 6 and 9. The sum of these multiples is 23\n",
    "Finish the solution so that it returns the sum of all the multiples of 3 or 5 \n",
    "below the number passed in\n",
    "Additionally, if the number is negative, return 0\n",
    "Note: If the number is a multiple of both 3 and 5, only count it once."
   ]
  },
  {
   "cell_type": "code",
   "execution_count": 4,
   "metadata": {},
   "outputs": [
    {
     "name": "stdout",
     "output_type": "stream",
     "text": [
      "0\n",
      "0\n",
      "0\n",
      "1\n",
      "2\n",
      "3\n",
      "0\n",
      "3\n",
      "4\n",
      "5\n",
      "3\n",
      "8\n",
      "6\n",
      "8\n",
      "14\n",
      "7\n",
      "8\n",
      "9\n",
      "14\n",
      "23\n",
      "23\n"
     ]
    }
   ],
   "source": [
    "# Understand: List of nums below 10 that are multiples of 3 or 5 = 3,5,6,9\n",
    "# Input: integer less than 10 and if are multiple of 3 or 5\n",
    "# Output: integer value sum of all nums = 23, negative nums return\n",
    "\n",
    "\n",
    "def sol(num):\n",
    "\n",
    "    count = 0 \n",
    "    \n",
    "\n",
    "    if num < 0:\n",
    "        return 0\n",
    "\n",
    "    total = 0 \n",
    "    while count < num:\n",
    "        print(count)\n",
    "        if count % 3 == 0 or count % 5 == 0:\n",
    "            print(total)  \n",
    "            total += count\n",
    "            print(total)\n",
    "        count += 1\n",
    "    return total \n",
    "\n",
    "print(sol(10))\n"
   ]
  }
 ],
 "metadata": {
  "kernelspec": {
   "display_name": "Python 3",
   "language": "python",
   "name": "python3"
  },
  "language_info": {
   "codemirror_mode": {
    "name": "ipython",
    "version": 3
   },
   "file_extension": ".py",
   "mimetype": "text/x-python",
   "name": "python",
   "nbconvert_exporter": "python",
   "pygments_lexer": "ipython3",
   "version": "3.11.5"
  }
 },
 "nbformat": 4,
 "nbformat_minor": 2
}
