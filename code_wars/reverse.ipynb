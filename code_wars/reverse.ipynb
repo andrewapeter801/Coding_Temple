{
 "cells": [
  {
   "cell_type": "markdown",
   "metadata": {},
   "source": [
    "Complete the function that accepts a string parameter, and reverses each word in the string. All spaces in the string should be retained\n",
    "Examples\n",
    "\"This is an example!\" ==> \"sihT si na !elpmaxe\"\n",
    "\"double  spaces\"      ==> \"elbuod  secaps\""
   ]
  },
  {
   "cell_type": "code",
   "execution_count": null,
   "metadata": {},
   "outputs": [],
   "source": [
    "# UPER\n",
    "\n",
    "# Understand: string - reverse each word in the position, keep spacing, include punction in string\n",
    "# P: how to index into each letter in a word, split each word, index through the letters\n",
    "# flip it and reverse it [::-1]"
   ]
  },
  {
   "cell_type": "code",
   "execution_count": null,
   "metadata": {},
   "outputs": [],
   "source": [
    "example = \"This is an example!\"\n",
    "def string_reversal(example):\n",
    "    example_split = example.split(\" \")\n",
    "    example_list = []\n",
    "    for word in example_split:\n",
    "        example_list.append(word[::-1])\n",
    "    reverse_example = \" \".join(example_list)\n",
    "    return reverse_example\n",
    "\n"
   ]
  }
 ],
 "metadata": {
  "kernelspec": {
   "display_name": "Python 3",
   "language": "python",
   "name": "python3"
  },
  "language_info": {
   "codemirror_mode": {
    "name": "ipython",
    "version": 3
   },
   "file_extension": ".py",
   "mimetype": "text/x-python",
   "name": "python",
   "nbconvert_exporter": "python",
   "pygments_lexer": "ipython3",
   "version": "3.11.5"
  }
 },
 "nbformat": 4,
 "nbformat_minor": 2
}
