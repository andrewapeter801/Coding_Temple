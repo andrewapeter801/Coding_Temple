{
 "cells": [
  {
   "attachments": {},
   "cell_type": "markdown",
   "metadata": {},
   "source": [
    "# Coding Temple's Data Analytics Course\n",
    "---\n",
    "## Python II: Numpy & CSV's"
   ]
  },
  {
   "attachments": {},
   "cell_type": "markdown",
   "metadata": {},
   "source": [
    "## Tasks Today:\n",
    "\n",
    "1) <b>Lambda Functions</b> <br>\n",
    " &nbsp;&nbsp;&nbsp;&nbsp; a) Syntax <br>\n",
    " &nbsp;&nbsp;&nbsp;&nbsp; b) Saving to a Variable <br>\n",
    " &nbsp;&nbsp;&nbsp;&nbsp; c) Multiple Inputs <br>\n",
    " &nbsp;&nbsp;&nbsp;&nbsp; d) Passing a Lambda into a Function <br>\n",
    " &nbsp;&nbsp;&nbsp;&nbsp; e) Returning a Lambda from a Function <br>\n",
    " &nbsp;&nbsp;&nbsp;&nbsp; f) In-Class Exercise #1 <br>\n",
    "2) <b>Map</b> <br>\n",
    " &nbsp;&nbsp;&nbsp;&nbsp; a) Syntax <br>\n",
    " &nbsp;&nbsp;&nbsp;&nbsp; b) Using Lambda's with Map <br>\n",
    " &nbsp;&nbsp;&nbsp;&nbsp; c) In-Class Exercise #2 <br>\n",
    "3) <b>Filter</b> <br>\n",
    " &nbsp;&nbsp;&nbsp;&nbsp; a) Syntax <br>\n",
    " &nbsp;&nbsp;&nbsp;&nbsp; b) Using Lambda's with Filter <br>\n",
    " &nbsp;&nbsp;&nbsp;&nbsp; c) In-Class Exercise #3 <br>\n",
    "4) <b>Recursion</b> <br>\n",
    " &nbsp;&nbsp;&nbsp;&nbsp; a) Implementing a Base <br>\n",
    " &nbsp;&nbsp;&nbsp;&nbsp; b) Writing a Factorial Function <br>\n",
    " &nbsp;&nbsp;&nbsp;&nbsp; c) In-Class Exercise #4 <br>\n",
    "5) <b>Generators & Iterators</b> <br>\n",
    " &nbsp;&nbsp;&nbsp;&nbsp; a) Yield Keyword <br>\n",
    " &nbsp;&nbsp;&nbsp;&nbsp; c) In-Class Exercise #5 <br>\n",
    "\n",
    "\n",
    "6) <b>Numpy</b> <br>\n",
    " &nbsp;&nbsp;&nbsp;&nbsp; a) Python List Comparison <br>\n",
    " &nbsp;&nbsp;&nbsp;&nbsp; b) In-Class Exercise #6 <br>\n",
    " &nbsp;&nbsp;&nbsp;&nbsp; c) Importing <br>\n",
    " &nbsp;&nbsp;&nbsp;&nbsp; d) Creating an NDArray <br>\n",
    " &nbsp;&nbsp;&nbsp;&nbsp;&nbsp;&nbsp;&nbsp;&nbsp; - np.array() <br>\n",
    " &nbsp;&nbsp;&nbsp;&nbsp;&nbsp;&nbsp;&nbsp;&nbsp; - np.zeros() <br>\n",
    " &nbsp;&nbsp;&nbsp;&nbsp;&nbsp;&nbsp;&nbsp;&nbsp; - np.ones() <br>\n",
    " &nbsp;&nbsp;&nbsp;&nbsp;&nbsp;&nbsp;&nbsp;&nbsp; - np.arange() <br>\n",
    " &nbsp;&nbsp;&nbsp;&nbsp;&nbsp;&nbsp;&nbsp;&nbsp; - Making Lists into NDArrays <br>\n",
    " &nbsp;&nbsp;&nbsp;&nbsp; e) Performing Calculations on NDArrays <br>\n",
    " &nbsp;&nbsp;&nbsp;&nbsp;&nbsp;&nbsp;&nbsp;&nbsp; - Summation <br>\n",
    " &nbsp;&nbsp;&nbsp;&nbsp;&nbsp;&nbsp;&nbsp;&nbsp; - Difference <br>\n",
    " &nbsp;&nbsp;&nbsp;&nbsp;&nbsp;&nbsp;&nbsp;&nbsp; - Multiplication <br>\n",
    " &nbsp;&nbsp;&nbsp;&nbsp;&nbsp;&nbsp;&nbsp;&nbsp; - Division <br>\n",
    " &nbsp;&nbsp;&nbsp;&nbsp;&nbsp;&nbsp;&nbsp;&nbsp; - Standard Distribution <br>\n",
    " &nbsp;&nbsp;&nbsp;&nbsp;&nbsp;&nbsp;&nbsp;&nbsp; - Mean <br>\n",
    " &nbsp;&nbsp;&nbsp;&nbsp;&nbsp;&nbsp;&nbsp;&nbsp; - Median <br> \n",
    " &nbsp;&nbsp;&nbsp;&nbsp; f) Numpy Subsetting <br>\n",
    " &nbsp;&nbsp;&nbsp;&nbsp; g) Multi-dimensional Arrays <br>\n",
    " &nbsp;&nbsp;&nbsp;&nbsp; h) Indexing NDArrays <br>\n",
    " &nbsp;&nbsp;&nbsp;&nbsp; i) Checking NDArray Type <br>\n",
    " &nbsp;&nbsp;&nbsp;&nbsp; j) Altering NDArray Type <br>\n",
    " &nbsp;&nbsp;&nbsp;&nbsp; k) Checking the Shape <br>\n",
    " &nbsp;&nbsp;&nbsp;&nbsp; l) Altering the Shape <br>\n",
    " &nbsp;&nbsp;&nbsp;&nbsp; m) In-Class Exercise #7 <br>\n",
    " &nbsp;&nbsp;&nbsp;&nbsp; n) Complex Indexing & Assigning <br>\n",
    " &nbsp;&nbsp;&nbsp;&nbsp; o) Elementwise Multplication <br>\n",
    " &nbsp;&nbsp;&nbsp;&nbsp; p) np.where() <br>\n",
    " &nbsp;&nbsp;&nbsp;&nbsp; q) Random Sampling <br>\n",
    "\n",
    "7) <b>Working With CSV's</b> <br>\n",
    " &nbsp;&nbsp;&nbsp;&nbsp; a) Imports <br>\n",
    " &nbsp;&nbsp;&nbsp;&nbsp; b) Reading a CSV <br>\n",
    " &nbsp;&nbsp;&nbsp;&nbsp; c) Loading a CSV's Data <br>\n",
    " &nbsp;&nbsp;&nbsp;&nbsp; d) Checking Number of Records <br>"
   ]
  },
  {
   "cell_type": "markdown",
   "metadata": {},
   "source": [
    "## Lambda Functions <br>\n",
    "<p>Lambda functions... or \"Anonymous Functions\" are referring to inline functions with no name. The keyword lambda denotes the no name function, and executes within a single line. Without saving it to a variable; however, it is not able to be used, unless passed in either as a paramater or within list comprehension.<br>Written as \"(keyword lambda) (one or more inputs) (colon) (function to be executed)\"</p>"
   ]
  },
  {
   "cell_type": "markdown",
   "metadata": {},
   "source": [
    "#### Syntax"
   ]
  },
  {
   "cell_type": "code",
   "execution_count": 2,
   "metadata": {},
   "outputs": [
    {
     "name": "stdout",
     "output_type": "stream",
     "text": [
      "6\n",
      "6\n"
     ]
    }
   ],
   "source": [
    "# Let's take a look at how we can creaete a function to add two to a variable\n",
    "def add_two(x):\n",
    "    return x + 2\n",
    "\n",
    "#Then we would test it:\n",
    "print(add_two(4))\n",
    "\n",
    "# This is great when I am looking to reuse a function. But what if I only needed it for a single use app?\n",
    "# This is where lambda can come into play!\n",
    "\n",
    "a_var = 4\n",
    "\n",
    "# lambda >input variable<: whatever we want to do\n",
    "print((lambda x: x+2)(a_var))"
   ]
  },
  {
   "cell_type": "code",
   "execution_count": null,
   "metadata": {},
   "outputs": [],
   "source": []
  },
  {
   "cell_type": "markdown",
   "metadata": {},
   "source": [
    "#### Saving to a Variable"
   ]
  },
  {
   "cell_type": "code",
   "execution_count": 3,
   "metadata": {},
   "outputs": [
    {
     "data": {
      "text/plain": [
       "6"
      ]
     },
     "execution_count": 3,
     "metadata": {},
     "output_type": "execute_result"
    }
   ],
   "source": [
    "# We can save lambda functions to a variable to make them more reusaable:\n",
    "\n",
    "f_test = lambda x: x+2\n",
    "\n",
    "f_test(4)"
   ]
  },
  {
   "cell_type": "code",
   "execution_count": 4,
   "metadata": {},
   "outputs": [
    {
     "data": {
      "text/plain": [
       "80"
      ]
     },
     "execution_count": 4,
     "metadata": {},
     "output_type": "execute_result"
    }
   ],
   "source": [
    "f_test(78)"
   ]
  },
  {
   "cell_type": "markdown",
   "metadata": {},
   "source": [
    "#### Multiple Inputs"
   ]
  },
  {
   "cell_type": "code",
   "execution_count": 5,
   "metadata": {},
   "outputs": [
    {
     "name": "stdout",
     "output_type": "stream",
     "text": [
      "120\n"
     ]
    }
   ],
   "source": [
    "# What if we had 3 numbers and we wanted to be able to take the product of all those numbers?\n",
    "\n",
    "#Exactly the same as a normal function:\n",
    "def product(x,y,z):\n",
    "    return x*y*z\n",
    "\n",
    "print((lambda x,y,z: z*y*x)(3,5,8))"
   ]
  },
  {
   "cell_type": "markdown",
   "metadata": {},
   "source": [
    "#### Passing a Lambda into a Function"
   ]
  },
  {
   "cell_type": "code",
   "execution_count": 6,
   "metadata": {},
   "outputs": [
    {
     "name": "stdout",
     "output_type": "stream",
     "text": [
      "16\n",
      "16\n"
     ]
    }
   ],
   "source": [
    "def multiply(function, num):\n",
    "    \"\"\"\n",
    "    function expects to see a fucntion. (lambda fucntion)\n",
    "    num expest to see a single integer input\n",
    "    \"\"\"\n",
    "    return function(num)\n",
    "print(multiply(lambda x: x*x, 4))\n",
    "\n",
    "#not only can I do this with lambda, but I can use ordinary functions as well\n",
    "def squared_nums(num):\n",
    "    return num **2\n",
    "\n",
    "print(multiply(squared_nums,4))"
   ]
  },
  {
   "cell_type": "markdown",
   "metadata": {},
   "source": [
    "#### Returning a Lambda from a Function"
   ]
  },
  {
   "cell_type": "code",
   "execution_count": 8,
   "metadata": {},
   "outputs": [
    {
     "name": "stdout",
     "output_type": "stream",
     "text": [
      "8\n",
      "<function return_lambs.<locals>.<lambda> at 0x000002686147BD80>\n",
      "23\n"
     ]
    }
   ],
   "source": [
    "def multiply_test(num):\n",
    "    return num *4\n",
    "\n",
    "# Take this function and return it inside another function\n",
    "def return_func():\n",
    "    test =4\n",
    "    def multiply(num):\n",
    "        return num *2\n",
    "    return multiply(test)\n",
    "print(return_func())\n",
    "\n",
    "# I can do the same thing useing lambda\n",
    "\n",
    "def return_lambs(b,c):\n",
    "    return lambda x,a: x+a+b+c\n",
    "\n",
    "r_lamb = return_lambs(4,5)\n",
    "print(r_lamb)\n",
    "print(r_lamb(5,9))"
   ]
  },
  {
   "cell_type": "markdown",
   "metadata": {},
   "source": [
    "#### If Statements within Lambdas"
   ]
  },
  {
   "cell_type": "code",
   "execution_count": 10,
   "metadata": {},
   "outputs": [
    {
     "name": "stdout",
     "output_type": "stream",
     "text": [
      "10\n",
      "40\n"
     ]
    }
   ],
   "source": [
    "# lambda functions are set up to be able to teak in conditional statements\n",
    "# lambda x: TRUE if (conditional) else False\n",
    "# lambda x: do something if (conditional is TRUE) else, do something else\n",
    "\n",
    "f_conditional = lambda num: num*2 if num > 10 else num +2\n",
    "print(f_conditional(8))\n",
    "print(f_conditional(20))\n"
   ]
  },
  {
   "cell_type": "code",
   "execution_count": 12,
   "metadata": {},
   "outputs": [
    {
     "data": {
      "text/plain": [
       "[3, 4, 5, 6, 7, 8, 9, 10, 11, 12, 22, 24, 26, 28]"
      ]
     },
     "execution_count": 12,
     "metadata": {},
     "output_type": "execute_result"
    }
   ],
   "source": [
    "lst = [1,2,3,4,5,6,7,8,9,10,11,12,13,14]\n",
    "# Run the lambda on the list:\n",
    "[f_conditional(num) for num in lst]\n"
   ]
  },
  {
   "cell_type": "markdown",
   "metadata": {},
   "source": [
    "#### In-Class Exercise #1 <br>\n",
    "<p>Write an anonymous function that cubes the arguments passed in and assign the anonymous function to a variable 'f'.</p>"
   ]
  },
  {
   "cell_type": "code",
   "execution_count": 15,
   "metadata": {},
   "outputs": [
    {
     "data": {
      "text/plain": [
       "125"
      ]
     },
     "execution_count": 15,
     "metadata": {},
     "output_type": "execute_result"
    }
   ],
   "source": [
    "#Write out the function\n",
    "anon_func = lambda x: x**3\n",
    "\n",
    "# Invoke the function\n",
    "anon_func(5) "
   ]
  },
  {
   "cell_type": "markdown",
   "metadata": {},
   "source": [
    "## Map <br>\n",
    "<p>The map function allows you to iterate over an entire list while running a function on each item of the list. This is why the map function works well with lambda's, because it simplifies things and you write less lines of code.<br>The syntax for a map function is \"map(function to be used, list to be used)\"<br>However, you must be careful, as the map function returns a map object, not a list. To turn it into a list we use the list() type conversion.</p>"
   ]
  },
  {
   "cell_type": "markdown",
   "metadata": {},
   "source": [
    "#### Syntax"
   ]
  },
  {
   "cell_type": "code",
   "execution_count": 16,
   "metadata": {},
   "outputs": [
    {
     "name": "stdout",
     "output_type": "stream",
     "text": [
      "[16, 121, 400, 9, 225, 400, 121, 9, 4, 36, 25, 1, 1936, 1]\n"
     ]
    }
   ],
   "source": [
    "numbers = [4,11,20,3,15,20,11,3,2,6,5,1,44,1]\n",
    "\n",
    "#Normally, in order to use a function on this, we would need to iterate through:\n",
    "def squared_normal(val):\n",
    "    return val **2\n",
    "lst = []\n",
    "for num in numbers:\n",
    "    lst.append(squared_normal(num))\n",
    "\n",
    "print(lst)"
   ]
  },
  {
   "cell_type": "code",
   "execution_count": 2,
   "metadata": {},
   "outputs": [
    {
     "data": {
      "text/plain": [
       "[(16, 16),\n",
       " (11, 10),\n",
       " (20, 3),\n",
       " (9, 4),\n",
       " (15, 6),\n",
       " (20, 10),\n",
       " (11, 15),\n",
       " (9, 9),\n",
       " (4, 16),\n",
       " (36, 49),\n",
       " (25, 36),\n",
       " (1, 0),\n",
       " (44, 42),\n",
       " (1, 1)]"
      ]
     },
     "execution_count": 2,
     "metadata": {},
     "output_type": "execute_result"
    }
   ],
   "source": [
    "''' \n",
    "map(function, iterable)\n",
    "At iterable is something we can loop over, such as: a list, dict, tuple, set or a string!\n",
    "Normally, you would use map with a predefined fuction, but we can also use it with a lambda statement!\n",
    "'''\n",
    "\n",
    "def squared_map(num, num1):\n",
    "    if num < 10 and num1 < 10:\n",
    "        return num **2, num1 **2\n",
    "    \n",
    "    else:\n",
    "        return num, num1\n",
    "    \n",
    "numbers = [4,11,20,3,15,20,11,3,2,6,5,1,44,1]\n",
    "more_numbers = [4,10,3,2,6,10,15,3,4,7,6,0,42,1]\n",
    "\n",
    "#In order to use the squared_map function without a map statement, we would need to iterate through both lists at once.\n",
    "# to do so effectively, we will utilize the zip() fucntion without a map statement, which brings together two iterable objects and\n",
    "# Returns the values at each index position, up till the end of the shortest length of iterables.\n",
    "\n",
    "# for val1, val2 in zip(numbers, more_numbers):\n",
    "#     print(squared_map(val1,val2))\n",
    "\n",
    "list(map(squared_map, numbers, more_numbers))\n",
    "\n"
   ]
  },
  {
   "cell_type": "markdown",
   "metadata": {},
   "source": [
    "#### Using Lambda's with Map"
   ]
  },
  {
   "cell_type": "code",
   "execution_count": 122,
   "metadata": {},
   "outputs": [
    {
     "data": {
      "text/plain": [
       "[(16, 16),\n",
       " (11, 10),\n",
       " (20, 3),\n",
       " (9, 4),\n",
       " (15, 6),\n",
       " (20, 10),\n",
       " (11, 15),\n",
       " (9, 9),\n",
       " (4, 16),\n",
       " (36, 49),\n",
       " (25, 36),\n",
       " (1, 0),\n",
       " (44, 42),\n",
       " (1, 1)]"
      ]
     },
     "execution_count": 122,
     "metadata": {},
     "output_type": "execute_result"
    }
   ],
   "source": [
    "\"\"\"`\n",
    "Instead of having to build out a fucntion we plan on using 1 time\n",
    "We can use a lambda inside the map fuction in itself instead. this allows us \n",
    "to do everything we need to do in a single line of code\n",
    "\n",
    "\n",
    "map(lambda x:do something, iterable)\n",
    "\"\"\"\n",
    "# remember to always use the list function with the map function\n",
    "#Run lambda over two lists, based on conditional\n",
    "list(map(lambda x,y: (x**2,y**2) if x <10 and y<10 else (x,y) , numbers, more_numbers))"
   ]
  },
  {
   "cell_type": "markdown",
   "metadata": {},
   "source": [
    "#### In-Class Exercise #2 <br>\n",
    "<p>Use the map function to double each number and minus it by one in the list by using a lambda function</p>"
   ]
  },
  {
   "cell_type": "code",
   "execution_count": 22,
   "metadata": {},
   "outputs": [
    {
     "data": {
      "text/plain": [
       "[7, 21, 39, 5, 29, 39, 21, 5, 3, 11, 9, 1, 87, 1]"
      ]
     },
     "execution_count": 22,
     "metadata": {},
     "output_type": "execute_result"
    }
   ],
   "source": [
    "list(map(lambda x: x*2 -1, numbers))"
   ]
  },
  {
   "cell_type": "markdown",
   "metadata": {},
   "source": [
    "## Filter() <br>\n",
    "<p>Filter's are similar to the map function, where you're able to pass a function argument and a list argument and filter out something from the list based on the conditions passed. Similar to the map function, it returns a filter object, so you need to type convert it to a list()</p>"
   ]
  },
  {
   "cell_type": "markdown",
   "metadata": {},
   "source": [
    "#### Syntax"
   ]
  },
  {
   "cell_type": "code",
   "execution_count": 23,
   "metadata": {},
   "outputs": [
    {
     "data": {
      "text/plain": [
       "['Andy', 'Angela']"
      ]
     },
     "execution_count": 23,
     "metadata": {},
     "output_type": "execute_result"
    }
   ],
   "source": [
    "# Syntax looks like:\n",
    "# list(filter(function, iterable(s)))\n",
    "# A lot like a mask\n",
    "\n",
    "names = 'Bob', 'Andy', 'Max', 'evan', 'Angela'\n",
    "\n",
    "def a_names(name):\n",
    "    # in this function we will check to see if each letter of each name begins with 'a'\n",
    "    if name[0].lower()=='a':\n",
    "        return True\n",
    "    else:\n",
    "        return False\n",
    "\n",
    "#Our function here returns a boolean as value, just like any other conditional fucntion\n",
    "#Filters take a conditional statement to filter out what is not desired\n",
    "\n",
    "list(filter(a_names, names))  \n"
   ]
  },
  {
   "cell_type": "markdown",
   "metadata": {},
   "source": [
    "#### Using Lambda's with Filter()"
   ]
  },
  {
   "cell_type": "code",
   "execution_count": 24,
   "metadata": {},
   "outputs": [
    {
     "data": {
      "text/plain": [
       "['Andy', 'Angela']"
      ]
     },
     "execution_count": 24,
     "metadata": {},
     "output_type": "execute_result"
    }
   ],
   "source": [
    "# WE can also use lambda's\n",
    "# this is great if you are trying to filter data with a sinle-use function instead of having to define one\n",
    "\n",
    "# When we use a lmbda, or comprehension, we will typically write out the value first, then the conditional\n",
    "# The best way to think about this is like a reversed for loop\n",
    "\n",
    "list(filter(lambda name: True if name[0].lower()== 'a' else False, names))\n"
   ]
  },
  {
   "cell_type": "markdown",
   "metadata": {},
   "source": [
    "#### In-Class Exercise #3 <br>\n",
    "<p>Filter out all the numbers that are below the mean of the list.<br><b>Hint: Import the 'statistics' module</b></p>"
   ]
  },
  {
   "cell_type": "code",
   "execution_count": 124,
   "metadata": {},
   "outputs": [
    {
     "data": {
      "text/plain": [
       "[11, 20, 15, 20, 11, 44]"
      ]
     },
     "execution_count": 124,
     "metadata": {},
     "output_type": "execute_result"
    }
   ],
   "source": [
    "import statistics\n",
    "statistics.mean(numbers)\n",
    "\n",
    "list(filter(lambda num: True if num >= statistics.mean(numbers) else False, numbers)) "
   ]
  },
  {
   "cell_type": "markdown",
   "metadata": {},
   "source": [
    "## Recursion <br>\n",
    "<p>Recursion means that a function is calling itself, so it contanstly executes until a base case is reached. It will then push the returning values back up the chain until the function is complete. A prime example of recursion is computing factorials... such that 5! (factorial) is 5*4*3*2*1 which equals 120.</p>"
   ]
  },
  {
   "cell_type": "markdown",
   "metadata": {},
   "source": [
    "#### Implementing a Base Case"
   ]
  },
  {
   "cell_type": "code",
   "execution_count": 32,
   "metadata": {},
   "outputs": [],
   "source": [
    "# start off with defining the fucntion\n",
    "def add_nums_breakable(num):\n",
    "    #Without a base case, we will end up infitelely looping through our program\n",
    "    if num>=20000:\n",
    "        return num + add_nums_breakable(num -1)\n",
    "    else:\n",
    "        return num"
   ]
  },
  {
   "cell_type": "code",
   "execution_count": 35,
   "metadata": {},
   "outputs": [
    {
     "name": "stdout",
     "output_type": "stream",
     "text": [
      "add_nums(5) = 5 + add_nums(4)\n",
      "add_nums(4) = 4 + add_nums(3)\n",
      "add_nums(3) = 3 + add_nums(2)\n",
      "add_nums(2) = 2 + add_nums(1)\n",
      "add_nums(1) = 1\n"
     ]
    },
    {
     "data": {
      "text/plain": [
       "15"
      ]
     },
     "execution_count": 35,
     "metadata": {},
     "output_type": "execute_result"
    }
   ],
   "source": [
    "def add_nums(num):\n",
    "    if num <= 1:\n",
    "        print('add_nums(1) = 1')\n",
    "        return num\n",
    "    else:\n",
    "        print(f'add_nums({num}) = {num} + add_nums({num - 1})')\n",
    "        return num + add_nums(num -1)\n",
    "add_nums(5)"
   ]
  },
  {
   "cell_type": "markdown",
   "metadata": {},
   "source": [
    "#### Writing a Factorial Function"
   ]
  },
  {
   "cell_type": "code",
   "execution_count": 37,
   "metadata": {},
   "outputs": [
    {
     "name": "stdout",
     "output_type": "stream",
     "text": [
      "factorial(5) = 5 * factorial(4)\n",
      "factorial(4) = 4 * factorial(3)\n",
      "factorial(3) = 3 * factorial(2)\n",
      "factorial(2) = 2 * factorial(1)\n",
      "factorial(1) =(1)\n",
      "120\n"
     ]
    }
   ],
   "source": [
    "# 5! = 5*4*3*2*1\n",
    "\n",
    "def factorial(num):\n",
    "    if num <= 1:\n",
    "        print('factorial(1) =(1)')\n",
    "        return num\n",
    "    else:\n",
    "        print(f'factorial({num}) = {num} * factorial({num - 1})')\n",
    "        return num * factorial(num - 1)\n",
    "print(factorial(5))"
   ]
  },
  {
   "cell_type": "markdown",
   "metadata": {},
   "source": [
    "#### In-Class Exercise #4 <br>\n",
    "<p>Write a recursive function that subtracts all numbers to the argument given.</p>"
   ]
  },
  {
   "cell_type": "code",
   "execution_count": 39,
   "metadata": {},
   "outputs": [
    {
     "name": "stdout",
     "output_type": "stream",
     "text": [
      "25 5\n",
      "24 4\n",
      "23 3\n",
      "22 2\n",
      "21 1\n"
     ]
    },
    {
     "data": {
      "text/plain": [
       "20"
      ]
     },
     "execution_count": 39,
     "metadata": {},
     "output_type": "execute_result"
    }
   ],
   "source": [
    "\n",
    "def subtract(num1, num2):\n",
    "    if num2 ==0:\n",
    "        return num1\n",
    "    else:\n",
    "        print(num1, num2)\n",
    "        return subtract(num1 -1, num2 -1)\n",
    "    \n",
    "subtract(25,5)"
   ]
  },
  {
   "cell_type": "markdown",
   "metadata": {},
   "source": [
    "## Generators <br>\n",
    "<p>Generators are a type of iterable, like lists or tuples. They do not allow indexing, but they can still be iterated through with for loops. They are created using functions and the yield statement.</p>"
   ]
  },
  {
   "cell_type": "markdown",
   "metadata": {},
   "source": [
    "#### Yield Keyword <br>\n",
    "<p>The yield keyword denotes a generator, it doesn't return so it won't leave the function and reset all variables in the function scope, instead it yields the number back to the caller.</p>"
   ]
  },
  {
   "cell_type": "code",
   "execution_count": 45,
   "metadata": {},
   "outputs": [
    {
     "name": "stdout",
     "output_type": "stream",
     "text": [
      "[0, 1, 2, 3, 4, 5, 6, 7, 8, 9]\n"
     ]
    }
   ],
   "source": [
    "[i for i in range(10)]\n",
    "\n",
    "def my_range(stop, start=0, step=1):\n",
    "    while start < stop:\n",
    "        yield start\n",
    "        start += step\n",
    "print([i for i in my_range(10)])"
   ]
  },
  {
   "cell_type": "markdown",
   "metadata": {},
   "source": [
    "#### In-Class Exercise #5 <br>\n",
    "<p>Create a generator that takes a number argument and yields that number squared, then prints each number squared until zero is reached.</p>"
   ]
  },
  {
   "cell_type": "code",
   "execution_count": 48,
   "metadata": {},
   "outputs": [
    {
     "data": {
      "text/plain": [
       "[25, 16, 9, 4, 1]"
      ]
     },
     "execution_count": 48,
     "metadata": {},
     "output_type": "execute_result"
    }
   ],
   "source": [
    "def squared_nums(num):\n",
    "    while num > 0:\n",
    "        yield num **2\n",
    "        num -=1\n",
    "    \n",
    "[i for i in squared_nums(5)]"
   ]
  },
  {
   "attachments": {},
   "cell_type": "markdown",
   "metadata": {},
   "source": [
    "## Numpy <br>\n",
    "\n",
    "<p>NumPy is a library for the Python programming language, adding support for large, multi-dimensional arrays and matrices, along with a large collection of high-level mathematical functions to operate on these arrays.</p>\n",
    "<ul>\n",
    "    <li>Shape = Rows & Columns</li>\n",
    "    <li>Matrix = Entire Array</li>\n",
    "    <li>Vector = Variables to be applied (same vector as the one used in physics)</li>\n",
    "    <li>Array = Similar to lists</li>\n",
    "</ul>"
   ]
  },
  {
   "attachments": {},
   "cell_type": "markdown",
   "metadata": {},
   "source": [
    "#### Python List Comparison"
   ]
  },
  {
   "attachments": {},
   "cell_type": "markdown",
   "metadata": {},
   "source": [
    "Lists are flexible, dynamic python objects that do their job quite well. But they do not support some mathematical operations in an intuitive way. Consider the summation of two lists, $l_1$ and $l_2$"
   ]
  },
  {
   "cell_type": "code",
   "execution_count": 50,
   "metadata": {},
   "outputs": [
    {
     "name": "stdout",
     "output_type": "stream",
     "text": [
      "Sum of the lists: [1, 2, 3, 4, 5, 6]\n"
     ]
    }
   ],
   "source": [
    "l1 = [1,2,3]\n",
    "l2 = [4,5,6]\n",
    "\n",
    "print(f'Sum of the lists: {l1+l2}')\n",
    "\n",
    "# Apply a subtraction element-wise "
   ]
  },
  {
   "attachments": {},
   "cell_type": "markdown",
   "metadata": {},
   "source": [
    "<p>If we wanted to sum lists elementwise, we could write our own function that does the job entirely within the framework of python</p>"
   ]
  },
  {
   "attachments": {},
   "cell_type": "markdown",
   "metadata": {},
   "source": [
    "#### In-Class Exercise #6 - Write a function that sums the indexes of two lists <br>\n",
    "<p>Ex: [2, 3, 4] + [1, 5, 2] = [3, 8, 6]</p>"
   ]
  },
  {
   "cell_type": "code",
   "execution_count": 129,
   "metadata": {},
   "outputs": [
    {
     "name": "stdout",
     "output_type": "stream",
     "text": [
      "[7, 9, 11]\n"
     ]
    }
   ],
   "source": [
    "list1 = [5,5,10]\n",
    "list2 = [2,4,1]\n",
    "\n",
    "# Output: [7,9,11]\n",
    "def sum_list(l1,l2):\n",
    "    final = []\n",
    "    i = 0 \n",
    "    while i < len(l1):\n",
    "        final.append(l1[i] + l2[i])\n",
    "        i += +1\n",
    "    return final\n",
    "print(sum_list(list1,list2))"
   ]
  },
  {
   "attachments": {},
   "cell_type": "markdown",
   "metadata": {},
   "source": [
    "We would have to write a similar function for all the possible operands that we could consider for list arithmatic. This is time consuming and inefficient. Moreover, once the lists in question become nested, mimicing the behavior of true matrices, the problem gets worse. Complicated indexing is necessary, just to allow for the most basic matrix operations common throughout science and engineering. Imagine writing a matrix multiplication function using python syntax in a general way, such that it returns a matrix-matrix or matrix-vector product:\n",
    "\n",
    "\\begin{align}\n",
    "(n \\times x) \\times (x \\times m) \\rightarrow (n \\times m)\n",
    "\\end{align}\n",
    "\n",
    "\\begin{align}\n",
    "\\begin{bmatrix}\n",
    "c_{0,0} & ... & c_{0,n} \\\\\n",
    "\\vdots & \\ddots & \\vdots \\\\\n",
    "c_{m,0} & ... & c_{m,n}\n",
    "\\end{bmatrix}\n",
    "=\n",
    "\\begin{bmatrix}\n",
    "a_{0,0} & ... & a_{0,x} \\\\\n",
    "\\vdots & \\ddots & \\vdots \\\\\n",
    "a_{n,0} & ... & a_{n,x}\n",
    "\\end{bmatrix}\n",
    "\\begin{bmatrix}\n",
    "b_{0,0} & ... & b_{0,m} \\\\\n",
    "\\vdots & \\ddots & \\vdots \\\\\n",
    "b_{x,0} & ... & b_{x,m}\n",
    "\\end{bmatrix}\n",
    "\\end{align}\n",
    "\n",
    "Another Example:\n",
    "\n",
    "<img src=\"https://www.mathsisfun.com/algebra/images/matrix-multiply-a.svg\">\n",
    "\n",
    "---\n",
    "\n",
    "The \"Dot Product\" is where we multiply matching members, then sum up:\n",
    "\n",
    "(1, 2, 3) • (7, 9, 11) = 1×7 + 2×9 + 3×11\n",
    "    = 58\n",
    "\n",
    "We match the 1st members (1 and 7), multiply them, likewise for the 2nd members (2 and 9) and the 3rd members (3 and 11), and finally sum them up.\n",
    "\n",
    "<hr>\n",
    "\n",
    "So, let's instantiate a matrix $\\mathcal{M}$ and a vector $\\vec{v}$ and write a function that does the multiplication ourselves."
   ]
  },
  {
   "cell_type": "code",
   "execution_count": 132,
   "metadata": {},
   "outputs": [
    {
     "name": "stdout",
     "output_type": "stream",
     "text": [
      "[[0], [0], [0]]\n",
      "3\n",
      "3\n",
      "1\n",
      "[[2], [4], [6]]\n"
     ]
    }
   ],
   "source": [
    "def matrix_multiplication(A,B):\n",
    "    zero_list = [[0 for i in range(len(B[0]))] for i in range(len(A))]\n",
    "    print(zero_list)\n",
    "    inner_dimensions = len(A[0])\n",
    "    print(inner_dimensions)\n",
    "    n_dimension = len(zero_list)\n",
    "    print(n_dimension)\n",
    "    m_dimension = len(zero_list[0])\n",
    "    print(m_dimension)\n",
    "\n",
    "\n",
    "#now we can loop though our matrix\n",
    "    for i in range(n_dimension):\n",
    "        for j in range(m_dimension):\n",
    "            element = 0\n",
    "            for x in range(inner_dimensions):\n",
    "                element += A[i][x] * B[x][j]\n",
    "            zero_list[i][j] = element\n",
    "    return zero_list\n",
    "print(matrix_multiplication([[0,1,0],[0,2,0],[0,3,0]],[[1],[2],[3]]))"
   ]
  },
  {
   "attachments": {},
   "cell_type": "markdown",
   "metadata": {},
   "source": [
    "#### Importing"
   ]
  },
  {
   "cell_type": "code",
   "execution_count": 61,
   "metadata": {},
   "outputs": [],
   "source": [
    "import numpy as np\n"
   ]
  },
  {
   "attachments": {},
   "cell_type": "markdown",
   "metadata": {},
   "source": [
    "#### Creating an NDArray <br>\n",
    "NumPy is based around a class called the $\\textit{NDArray}$, which is a flexible vector / matrix class that implements the intuitive matrix and vector arithmatic lacking in basic Python. Let's start by creating some NDArrays:"
   ]
  },
  {
   "attachments": {},
   "cell_type": "markdown",
   "metadata": {},
   "source": [
    "##### - np.array()"
   ]
  },
  {
   "cell_type": "code",
   "execution_count": 62,
   "metadata": {},
   "outputs": [
    {
     "name": "stdout",
     "output_type": "stream",
     "text": [
      "[1 2 3]\n",
      "<class 'numpy.ndarray'>\n"
     ]
    }
   ],
   "source": [
    "arr_1 = np.array([1,2,3])\n",
    "print(arr_1)\n",
    "print(type(arr_1))"
   ]
  },
  {
   "attachments": {},
   "cell_type": "markdown",
   "metadata": {},
   "source": [
    "##### - np.zeros()"
   ]
  },
  {
   "cell_type": "code",
   "execution_count": 64,
   "metadata": {},
   "outputs": [
    {
     "data": {
      "text/plain": [
       "array([[0, 0, 0],\n",
       "       [0, 0, 0],\n",
       "       [0, 0, 0]])"
      ]
     },
     "execution_count": 64,
     "metadata": {},
     "output_type": "execute_result"
    }
   ],
   "source": [
    "# Create a shape variable, it will reference the 2-D shape I want my matrix to have\n",
    "shape = (3,3)\n",
    "# We create the matrix\n",
    "M= np.zeros(shape, int)\n",
    "M"
   ]
  },
  {
   "attachments": {},
   "cell_type": "markdown",
   "metadata": {},
   "source": [
    "##### - np.ones()"
   ]
  },
  {
   "cell_type": "code",
   "execution_count": 65,
   "metadata": {},
   "outputs": [
    {
     "name": "stdout",
     "output_type": "stream",
     "text": [
      "[[1 1 1]\n",
      " [1 1 1]\n",
      " [1 1 1]]\n"
     ]
    }
   ],
   "source": [
    "arr2 = np.ones(shape, int)\n",
    "print(arr2)"
   ]
  },
  {
   "attachments": {},
   "cell_type": "markdown",
   "metadata": {},
   "source": [
    "##### - np.arange()"
   ]
  },
  {
   "cell_type": "code",
   "execution_count": 66,
   "metadata": {},
   "outputs": [
    {
     "data": {
      "text/plain": [
       "array([ 1,  2,  3,  4,  5,  6,  7,  8,  9, 10, 11])"
      ]
     },
     "execution_count": 66,
     "metadata": {},
     "output_type": "execute_result"
    }
   ],
   "source": [
    "np.arange(1,12)"
   ]
  },
  {
   "attachments": {},
   "cell_type": "markdown",
   "metadata": {},
   "source": [
    "##### - Making Lists into NDArrays"
   ]
  },
  {
   "cell_type": "code",
   "execution_count": 68,
   "metadata": {},
   "outputs": [
    {
     "data": {
      "text/plain": [
       "array([4, 5, 6])"
      ]
     },
     "execution_count": 68,
     "metadata": {},
     "output_type": "execute_result"
    }
   ],
   "source": [
    "l3 = [4,5,6]\n",
    "\n",
    "# we jsut use the .array() function to turn this list into a array instead:\n",
    "arr_list = np.array(l3)\n",
    "arr_list"
   ]
  },
  {
   "attachments": {},
   "cell_type": "markdown",
   "metadata": {},
   "source": [
    "#### Performing Calculations on NDArrays"
   ]
  },
  {
   "attachments": {},
   "cell_type": "markdown",
   "metadata": {},
   "source": [
    "##### - Summation"
   ]
  },
  {
   "cell_type": "code",
   "execution_count": 69,
   "metadata": {
    "scrolled": true
   },
   "outputs": [
    {
     "data": {
      "text/plain": [
       "array([15, 30, 45, 60, 75])"
      ]
     },
     "execution_count": 69,
     "metadata": {},
     "output_type": "execute_result"
    }
   ],
   "source": [
    "arr5 = np.array([5,10,15,20,25])\n",
    "arr10 = np.array([10,20,30,40,50])\n",
    "\n",
    "arr5 + arr10\n"
   ]
  },
  {
   "attachments": {},
   "cell_type": "markdown",
   "metadata": {},
   "source": [
    "##### - Difference"
   ]
  },
  {
   "cell_type": "code",
   "execution_count": 70,
   "metadata": {},
   "outputs": [
    {
     "data": {
      "text/plain": [
       "array([ 5, 10, 15, 20, 25])"
      ]
     },
     "execution_count": 70,
     "metadata": {},
     "output_type": "execute_result"
    }
   ],
   "source": [
    "arr10 - arr5"
   ]
  },
  {
   "attachments": {},
   "cell_type": "markdown",
   "metadata": {},
   "source": [
    "##### - Multiplication"
   ]
  },
  {
   "cell_type": "code",
   "execution_count": 71,
   "metadata": {},
   "outputs": [
    {
     "data": {
      "text/plain": [
       "array([  50,  200,  450,  800, 1250])"
      ]
     },
     "execution_count": 71,
     "metadata": {},
     "output_type": "execute_result"
    }
   ],
   "source": [
    "arr5 * arr10"
   ]
  },
  {
   "attachments": {},
   "cell_type": "markdown",
   "metadata": {},
   "source": [
    "##### - Division"
   ]
  },
  {
   "cell_type": "code",
   "execution_count": 72,
   "metadata": {},
   "outputs": [
    {
     "data": {
      "text/plain": [
       "array([2., 2., 2., 2., 2.])"
      ]
     },
     "execution_count": 72,
     "metadata": {},
     "output_type": "execute_result"
    }
   ],
   "source": [
    "arr10 / arr5"
   ]
  },
  {
   "attachments": {},
   "cell_type": "markdown",
   "metadata": {},
   "source": [
    "##### - Standard Deviation"
   ]
  },
  {
   "cell_type": "code",
   "execution_count": 73,
   "metadata": {},
   "outputs": [
    {
     "name": "stdout",
     "output_type": "stream",
     "text": [
      "14.142135623730951\n"
     ]
    }
   ],
   "source": [
    "print(np.std(arr10))"
   ]
  },
  {
   "attachments": {},
   "cell_type": "markdown",
   "metadata": {},
   "source": [
    "##### - Mean"
   ]
  },
  {
   "cell_type": "code",
   "execution_count": 75,
   "metadata": {},
   "outputs": [
    {
     "data": {
      "text/plain": [
       "15"
      ]
     },
     "execution_count": 75,
     "metadata": {},
     "output_type": "execute_result"
    }
   ],
   "source": [
    "int(np.mean(arr5))"
   ]
  },
  {
   "attachments": {},
   "cell_type": "markdown",
   "metadata": {},
   "source": [
    "##### - Median"
   ]
  },
  {
   "cell_type": "code",
   "execution_count": 76,
   "metadata": {},
   "outputs": [
    {
     "data": {
      "text/plain": [
       "15.0"
      ]
     },
     "execution_count": 76,
     "metadata": {},
     "output_type": "execute_result"
    }
   ],
   "source": [
    "np.median(arr5)"
   ]
  },
  {
   "attachments": {},
   "cell_type": "markdown",
   "metadata": {},
   "source": [
    "#### Numpy Subsetting"
   ]
  },
  {
   "cell_type": "code",
   "execution_count": 77,
   "metadata": {},
   "outputs": [
    {
     "data": {
      "text/plain": [
       "array([30, 40, 50])"
      ]
     },
     "execution_count": 77,
     "metadata": {},
     "output_type": "execute_result"
    }
   ],
   "source": [
    "mask = arr10 >20\n",
    "arr10[mask]"
   ]
  },
  {
   "attachments": {},
   "cell_type": "markdown",
   "metadata": {},
   "source": [
    "#### Multi-dimensional Arrays <br>\n",
    "NumPy seamlessly supports multidimensional arrays and matrices of arbitrary dimension without nesting NDArrays. NDArrays themselves are flexible and extensible and may be defined with such dimensions, with a rich API of common functions to facilitate their use. Let's start by building a two dimensional 3x3 matrix by conversion from a nested group of core python lists $M = [l_0, l_1, l_2]$:"
   ]
  },
  {
   "cell_type": "code",
   "execution_count": 133,
   "metadata": {},
   "outputs": [
    {
     "name": "stdout",
     "output_type": "stream",
     "text": [
      "This is a nested list structure: [[0, 1, 2], [3, 4, 5], [6, 7, 8]]\n",
      "Matrix Structured: [[0 1 2]\n",
      " [3 4 5]\n",
      " [6 7 8]]\n"
     ]
    }
   ],
   "source": [
    "a_list = [0,1,2]\n",
    "b_list = [3,4,5]\n",
    "c_list = [6,7,8]\n",
    "\n",
    "# Step 1: Convert the list into a matrix that we can actually work with\n",
    "M = [a_list, b_list, c_list]\n",
    "print(f'This is a nested list structure: {M}')\n",
    "\n",
    "# Step 2: we can cast it directly intal matrix row\n",
    "# When I do so, the dimensions of that matrix are inferred by Numpy for us\n",
    "M = np.array(M)\n",
    "print(f'Matrix Structured: {M}')\n"
   ]
  },
  {
   "attachments": {},
   "cell_type": "markdown",
   "metadata": {},
   "source": [
    "#### Indexing NDArrays <br>\n",
    "<p> Similar to lists within lists; however, the syntax looks more like C programming language.... It is [1, 2] to access the second row, third element.</p>"
   ]
  },
  {
   "cell_type": "code",
   "execution_count": 80,
   "metadata": {},
   "outputs": [
    {
     "name": "stdout",
     "output_type": "stream",
     "text": [
      "Get the first array out of the matrix: [0 1 2]\n",
      "Get the middel value of the array: 4\n"
     ]
    }
   ],
   "source": [
    "#  Because of the 2-D structure, single level indexing is going to return the value in the entire row:\n",
    "print(f'Get the first array out of the matrix: {M[0]}')\n",
    "\n",
    "# Multi-level indexing\n",
    "print(f'Get the middel value of the array: {M[1][1]}')"
   ]
  },
  {
   "attachments": {},
   "cell_type": "markdown",
   "metadata": {},
   "source": [
    "#### Assigning Values in NDArrays"
   ]
  },
  {
   "cell_type": "code",
   "execution_count": 88,
   "metadata": {},
   "outputs": [
    {
     "name": "stdout",
     "output_type": "stream",
     "text": [
      "[[0 7 2]\n",
      " [3 9 5]\n",
      " [6 7 8]]\n",
      "[[0 8 2]\n",
      " [3 9 5]\n",
      " [6 7 8]]\n"
     ]
    }
   ],
   "source": [
    "# Multi - level way:\n",
    "# This will separates out the statement in to two indicies\n",
    "M[1][1] = 9\n",
    "print(M)\n",
    "\n",
    "# Giving a list of indicies:\n",
    "M[0,1]= 8\n",
    "print(M)"
   ]
  },
  {
   "attachments": {},
   "cell_type": "markdown",
   "metadata": {},
   "source": [
    "<p>Notice above how we ended up with a 1 in the target element's place. This is a data type issue. The .dtype() method is supported by all NDArrays, as well as the .astype() method for casting between data types:</p>"
   ]
  },
  {
   "attachments": {},
   "cell_type": "markdown",
   "metadata": {},
   "source": [
    "#### Checking NDArray Type"
   ]
  },
  {
   "cell_type": "code",
   "execution_count": 89,
   "metadata": {},
   "outputs": [
    {
     "data": {
      "text/plain": [
       "dtype('int32')"
      ]
     },
     "execution_count": 89,
     "metadata": {},
     "output_type": "execute_result"
    }
   ],
   "source": [
    "M.dtype"
   ]
  },
  {
   "attachments": {},
   "cell_type": "markdown",
   "metadata": {},
   "source": [
    "#### Altering NDArray Type"
   ]
  },
  {
   "cell_type": "code",
   "execution_count": 91,
   "metadata": {},
   "outputs": [
    {
     "name": "stdout",
     "output_type": "stream",
     "text": [
      "Type before changes: int32\n",
      "[[0. 8. 2.]\n",
      " [3. 9. 5.]\n",
      " [6. 7. 8.]]\n",
      "Type after the change: float64\n"
     ]
    }
   ],
   "source": [
    "# Let's take a look at the type of the data before we make any changes:\n",
    "t= M\n",
    "print(f'Type before changes: {t.dtype}')\n",
    "\n",
    "#Change the data to be float instead?\n",
    "# We wil utlize the .astype() function\n",
    "\n",
    "changed = t.astype(np.float64)\n",
    "print(changed)\n",
    "print(f'Type after the change: {changed.dtype}')"
   ]
  },
  {
   "attachments": {},
   "cell_type": "markdown",
   "metadata": {},
   "source": [
    "#### Checking the Shape <br>\n",
    "The behavior and properties of an NDArray are often sensitively dependent on the $\\textit{shape}$ of the NDArray itself. The shape of an array can be found by calling the .shape method, which will return a tuple containing the array's dimensions:"
   ]
  },
  {
   "cell_type": "code",
   "execution_count": 92,
   "metadata": {},
   "outputs": [
    {
     "name": "stdout",
     "output_type": "stream",
     "text": [
      "(3, 3)\n",
      "(5,)\n"
     ]
    }
   ],
   "source": [
    "# In a 2-D data structure, the shapes is the displayed as: (rows, columns) or (rows x columns)\n",
    "\n",
    "print(changed.shape)\n",
    "\n",
    "# 1 -D Vector\n",
    "print(arr5.shape)"
   ]
  },
  {
   "cell_type": "code",
   "execution_count": null,
   "metadata": {},
   "outputs": [],
   "source": []
  },
  {
   "attachments": {},
   "cell_type": "markdown",
   "metadata": {},
   "source": [
    "#### Altering the Shape <br>\n",
    "<p>As long as the number of elements remains fixed, we can reshape NDArrays at will:</p>"
   ]
  },
  {
   "cell_type": "code",
   "execution_count": 94,
   "metadata": {},
   "outputs": [
    {
     "name": "stdout",
     "output_type": "stream",
     "text": [
      "(3, 3)\n",
      "Now we will reshape the matrix into Vector: [[0]\n",
      " [8]\n",
      " [2]\n",
      " [3]\n",
      " [9]\n",
      " [5]\n",
      " [6]\n",
      " [7]\n",
      " [8]]\n"
     ]
    }
   ],
   "source": [
    "print(changed.shape)\n",
    "print(f'Now we will reshape the matrix into Vector: {changed.reshape(9,1).astype(int)}')"
   ]
  },
  {
   "cell_type": "code",
   "execution_count": null,
   "metadata": {},
   "outputs": [],
   "source": []
  },
  {
   "attachments": {},
   "cell_type": "markdown",
   "metadata": {},
   "source": [
    "#### In-Class Exercise #7 - Create a matrix of range 0 up to 16 and reshape it into a 4x4 matrice"
   ]
  },
  {
   "cell_type": "code",
   "execution_count": 3,
   "metadata": {},
   "outputs": [],
   "source": [
    "import numpy as np"
   ]
  },
  {
   "attachments": {},
   "cell_type": "markdown",
   "metadata": {},
   "source": [
    "#### Complex Indexing & Assinging"
   ]
  },
  {
   "cell_type": "code",
   "execution_count": 4,
   "metadata": {},
   "outputs": [
    {
     "name": "stdout",
     "output_type": "stream",
     "text": [
      "Resetting the Matrix... Please wait\n",
      "Before assing values: \n",
      " {M}\n",
      "end=n After assigning 1 to the firs to column:\\m[[0 0 0 0 0 0]\n",
      " [0 0 0 0 0 0]\n",
      " [0 0 0 0 0 0]\n",
      " [0 0 0 0 0 0]\n",
      " [0 0 0 0 0 0]\n",
      " [0 0 0 0 0 0]]\n",
      "\n",
      " After assitng 5:\n",
      "[[0 0 0 0 0 0]\n",
      " [0 0 0 0 0 0]\n",
      " [5 5 5 5 5 5]\n",
      " [5 5 5 5 5 5]\n",
      " [5 5 5 5 5 5]\n",
      " [0 0 0 0 0 0]]\n",
      "Reset was confirmed\n",
      "[[0 0 0 0 0 0]\n",
      " [0 0 0 0 0 0]\n",
      " [0 0 0 0 0 0]\n",
      " [0 0 0 0 0 0]\n",
      " [0 0 0 0 0 0]\n",
      " [0 0 0 0 0 0]]\n",
      "Assigning 2 to the second and thrid columns:\n",
      "[[0 2 2 0 0 0]\n",
      " [0 2 2 0 0 0]\n",
      " [0 2 2 0 0 0]\n",
      " [0 2 2 0 0 0]\n",
      " [0 2 2 0 0 0]\n",
      " [0 2 2 0 0 0]]\n"
     ]
    }
   ],
   "source": [
    "# reset the matrixx\n",
    "\n",
    "M = np.zeros((6,6)).astype(int)\n",
    "print('Resetting the Matrix... Please wait')\n",
    "print('Before assing values: \\n {M}')\n",
    "\n",
    "M[:0] =1\n",
    "print(f'end=n After assigning 1 to the firs to column:\\m{M}')\n",
    "\n",
    "M[2:5, ] =5\n",
    "print(f'\\n After assitng 5:\\n{M}')\n",
    "\n",
    "#Reset back to zero\n",
    "M = M*0\n",
    "print(f'Reset was confirmed\\n{M}')\n",
    "\n",
    "#set the 2nd and 3rd columns to qual to the value of 2\n",
    "M[:, 1:3]=2\n",
    "print(f'Assigning 2 to the second and thrid columns:\\n{M}')"
   ]
  },
  {
   "attachments": {},
   "cell_type": "markdown",
   "metadata": {},
   "source": [
    "#### Elementwise Multiplication"
   ]
  },
  {
   "attachments": {},
   "cell_type": "markdown",
   "metadata": {},
   "source": [
    "<p>As long as the shapes of NDArrays are 'compatible', they can be multiplied elementwise, broadcasted, used in inner products, and much much more. 'Compatible' in this context can mean compatible in the linear algebraic sense, i.e. for inner products and other matrix multiplication, or simply sharing a dimension in such a manner that broadcasting 'makes sense'. Here are some examples of this:</p>"
   ]
  },
  {
   "cell_type": "code",
   "execution_count": 8,
   "metadata": {},
   "outputs": [
    {
     "name": "stdout",
     "output_type": "stream",
     "text": [
      "[[0 0 0 0 0 0]\n",
      " [0 0 0 0 0 0]\n",
      " [0 0 0 0 0 0]\n",
      " [0 0 0 0 0 0]\n",
      " [0 0 0 0 0 0]\n",
      " [0 0 0 0 0 0]]\n",
      "\n",
      "\n",
      "[0 1 2 3 4 5]\n",
      "[[0 1 2 3 4 5]\n",
      " [0 1 2 3 4 5]\n",
      " [0 1 2 3 4 5]\n",
      " [0 1 2 3 4 5]\n",
      " [0 1 2 3 4 5]\n",
      " [0 1 2 3 4 5]]\n",
      "[[ 0  1  4  9 16 25]\n",
      " [ 0  1  4  9 16 25]\n",
      " [ 0  1  4  9 16 25]\n",
      " [ 0  1  4  9 16 25]\n",
      " [ 0  1  4  9 16 25]\n",
      " [ 0  1  4  9 16 25]]\n"
     ]
    }
   ],
   "source": [
    "M *= 0 \n",
    "\n",
    "matrix = M\n",
    "#Create tjhe vector of range 6:\n",
    "vector = np.arange(6)\n",
    "print(matrix)\n",
    "print('\\n')\n",
    "print(vector)\n",
    "\n",
    "\n",
    "matrix += vector\n",
    "print(matrix)\n",
    "\n",
    "matrix*= vector\n",
    "print(matrix)"
   ]
  },
  {
   "attachments": {},
   "cell_type": "markdown",
   "metadata": {},
   "source": [
    "#### np.where() <br>\n",
    "<p>If statement within NDArrays that allows you to run conditionals on the entire array</p>"
   ]
  },
  {
   "cell_type": "code",
   "execution_count": 9,
   "metadata": {},
   "outputs": [
    {
     "name": "stdout",
     "output_type": "stream",
     "text": [
      "(array([0, 0, 0, 0, 1, 1, 1, 1, 2, 2, 2, 2, 3, 3, 3, 3, 4, 4, 4, 4, 5, 5,\n",
      "       5, 5], dtype=int64), array([2, 3, 4, 5, 2, 3, 4, 5, 2, 3, 4, 5, 2, 3, 4, 5, 2, 3, 4, 5, 2, 3,\n",
      "       4, 5], dtype=int64))\n",
      "[[ 0  2  4  9 16 25]\n",
      " [ 0  2  4  9 16 25]\n",
      " [ 0  2  4  9 16 25]\n",
      " [ 0  2  4  9 16 25]\n",
      " [ 0  2  4  9 16 25]\n",
      " [ 0  2  4  9 16 25]]\n"
     ]
    }
   ],
   "source": [
    "print(f'{np.where(M>2)}')\n",
    "\n",
    "mask = np.where(M==1)\n",
    "M[mask] = 2\n",
    "print(M)"
   ]
  },
  {
   "attachments": {},
   "cell_type": "markdown",
   "metadata": {},
   "source": [
    "#### Random Sampling <br>\n",
    "<p>NumPy provides machinery to work with random numbers - something often needed in a broad spectrum of data science applications.</p>"
   ]
  },
  {
   "cell_type": "code",
   "execution_count": 109,
   "metadata": {},
   "outputs": [
    {
     "name": "stdout",
     "output_type": "stream",
     "text": [
      "0.3745401188473625\n",
      "950714.3064099161\n",
      "[7.58794548 6.38792636 2.40416776]\n",
      "[[3 7 8 5 4 8]\n",
      " [8 3 6 5 2 8]\n",
      " [6 2 5 1 6 9]\n",
      " [1 3 7 4 9 3]\n",
      " [5 3 7 5 9 7]\n",
      " [2 4 9 2 9 5]]\n"
     ]
    }
   ],
   "source": [
    "# Seed allows us to reporoduce the random numbers over and over again. \n",
    "#So, once run, the randomizer provides the same numbers everytime\n",
    "np.random.seed(42)\n",
    "\n",
    "# A single call to the uniform function that allows us to generate a float between 0 and 1\n",
    "print(np.random.uniform())\n",
    "\n",
    "# We can also pass in some parameters:\n",
    "print(np.random.uniform(0,1e06))\n",
    "\n",
    "#We can generate more than one number!\n",
    "print(np.random.uniform(1,10,3))\n",
    "\n",
    "print(np.random.randint(1,10, (6,6)))"
   ]
  },
  {
   "attachments": {},
   "cell_type": "markdown",
   "metadata": {},
   "source": [
    "## Working With CSV's"
   ]
  },
  {
   "attachments": {},
   "cell_type": "markdown",
   "metadata": {},
   "source": [
    "#### Imports"
   ]
  },
  {
   "cell_type": "code",
   "execution_count": 10,
   "metadata": {},
   "outputs": [],
   "source": [
    "import csv"
   ]
  },
  {
   "attachments": {},
   "cell_type": "markdown",
   "metadata": {},
   "source": [
    "#### Reading a CSV"
   ]
  },
  {
   "cell_type": "code",
   "execution_count": 15,
   "metadata": {},
   "outputs": [
    {
     "data": {
      "text/plain": [
       "[['Rk',\n",
       "  'Pos',\n",
       "  'Name',\n",
       "  'Age',\n",
       "  'G',\n",
       "  'PA',\n",
       "  'AB',\n",
       "  'R',\n",
       "  'H',\n",
       "  '2B',\n",
       "  '3B',\n",
       "  'HR',\n",
       "  'RBI',\n",
       "  'SB',\n",
       "  'CS',\n",
       "  'BB',\n",
       "  'SO',\n",
       "  'BA',\n",
       "  'OBP',\n",
       "  'SLG',\n",
       "  'OPS',\n",
       "  'OPS+',\n",
       "  'TB',\n",
       "  'GDP',\n",
       "  'HBP',\n",
       "  'SH',\n",
       "  'SF',\n",
       "  'IBB'],\n",
       " ['1',\n",
       "  'C',\n",
       "  'Christian Vazquez',\n",
       "  '26',\n",
       "  '99',\n",
       "  '345',\n",
       "  '324',\n",
       "  '43',\n",
       "  '94',\n",
       "  '18',\n",
       "  '2',\n",
       "  '5',\n",
       "  '32',\n",
       "  '7',\n",
       "  '2',\n",
       "  '17',\n",
       "  '64',\n",
       "  '.290',\n",
       "  '.330',\n",
       "  '.404',\n",
       "  '.735',\n",
       "  '91',\n",
       "  '131',\n",
       "  '14',\n",
       "  '3',\n",
       "  '0',\n",
       "  '1',\n",
       "  '0'],\n",
       " ['2',\n",
       "  '1B',\n",
       "  'Mitch Moreland',\n",
       "  '31',\n",
       "  '149',\n",
       "  '576',\n",
       "  '508',\n",
       "  '73',\n",
       "  '125',\n",
       "  '34',\n",
       "  '0',\n",
       "  '22',\n",
       "  '79',\n",
       "  '0',\n",
       "  '1',\n",
       "  '57',\n",
       "  '120',\n",
       "  '.246',\n",
       "  '.326',\n",
       "  '.443',\n",
       "  '.769',\n",
       "  '99',\n",
       "  '225',\n",
       "  '14',\n",
       "  '6',\n",
       "  '0',\n",
       "  '5',\n",
       "  '6'],\n",
       " ['3',\n",
       "  '2B',\n",
       "  'Dustin Pedroia',\n",
       "  '33',\n",
       "  '105',\n",
       "  '463',\n",
       "  '406',\n",
       "  '46',\n",
       "  '119',\n",
       "  '19',\n",
       "  '0',\n",
       "  '7',\n",
       "  '62',\n",
       "  '4',\n",
       "  '3',\n",
       "  '49',\n",
       "  '48',\n",
       "  '.293',\n",
       "  '.369',\n",
       "  '.392',\n",
       "  '.760',\n",
       "  '100',\n",
       "  '159',\n",
       "  '11',\n",
       "  '2',\n",
       "  '2',\n",
       "  '4',\n",
       "  '4'],\n",
       " ['4',\n",
       "  'SS',\n",
       "  'Xander Bogaerts',\n",
       "  '24',\n",
       "  '148',\n",
       "  '635',\n",
       "  '571',\n",
       "  '94',\n",
       "  '156',\n",
       "  '32',\n",
       "  '6',\n",
       "  '10',\n",
       "  '62',\n",
       "  '15',\n",
       "  '1',\n",
       "  '56',\n",
       "  '116',\n",
       "  '.273',\n",
       "  '.343',\n",
       "  '.403',\n",
       "  '.746',\n",
       "  '95',\n",
       "  '230',\n",
       "  '17',\n",
       "  '6',\n",
       "  '0',\n",
       "  '2',\n",
       "  '6'],\n",
       " ['5',\n",
       "  '3B',\n",
       "  'Rafael Devers',\n",
       "  '20',\n",
       "  '58',\n",
       "  '240',\n",
       "  '222',\n",
       "  '34',\n",
       "  '63',\n",
       "  '14',\n",
       "  '0',\n",
       "  '10',\n",
       "  '30',\n",
       "  '3',\n",
       "  '1',\n",
       "  '18',\n",
       "  '57',\n",
       "  '.284',\n",
       "  '.338',\n",
       "  '.482',\n",
       "  '.819',\n",
       "  '111',\n",
       "  '107',\n",
       "  '5',\n",
       "  '0',\n",
       "  '0',\n",
       "  '0',\n",
       "  '3'],\n",
       " ['6',\n",
       "  'LF',\n",
       "  'Andrew Benintendi',\n",
       "  '22',\n",
       "  '151',\n",
       "  '658',\n",
       "  '573',\n",
       "  '84',\n",
       "  '155',\n",
       "  '26',\n",
       "  '1',\n",
       "  '20',\n",
       "  '90',\n",
       "  '20',\n",
       "  '5',\n",
       "  '70',\n",
       "  '112',\n",
       "  '.271',\n",
       "  '.352',\n",
       "  '.424',\n",
       "  '.776',\n",
       "  '102',\n",
       "  '243',\n",
       "  '16',\n",
       "  '6',\n",
       "  '1',\n",
       "  '8',\n",
       "  '7'],\n",
       " ['7',\n",
       "  'CF',\n",
       "  'Jackie Bradley Jr.',\n",
       "  '27',\n",
       "  '133',\n",
       "  '541',\n",
       "  '482',\n",
       "  '58',\n",
       "  '118',\n",
       "  '19',\n",
       "  '3',\n",
       "  '17',\n",
       "  '63',\n",
       "  '8',\n",
       "  '3',\n",
       "  '48',\n",
       "  '124',\n",
       "  '.245',\n",
       "  '.323',\n",
       "  '.402',\n",
       "  '.726',\n",
       "  '89',\n",
       "  '194',\n",
       "  '8',\n",
       "  '9',\n",
       "  '0',\n",
       "  '2',\n",
       "  '4'],\n",
       " ['8',\n",
       "  'RF',\n",
       "  'Mookie Betts',\n",
       "  '24',\n",
       "  '153',\n",
       "  '712',\n",
       "  '628',\n",
       "  '101',\n",
       "  '166',\n",
       "  '46',\n",
       "  '2',\n",
       "  '24',\n",
       "  '102',\n",
       "  '26',\n",
       "  '3',\n",
       "  '77',\n",
       "  '79',\n",
       "  '.264',\n",
       "  '.344',\n",
       "  '.459',\n",
       "  '.803',\n",
       "  '108',\n",
       "  '288',\n",
       "  '9',\n",
       "  '2',\n",
       "  '0',\n",
       "  '5',\n",
       "  '9'],\n",
       " ['9',\n",
       "  'DH',\n",
       "  'Hanley Ramirez',\n",
       "  '33',\n",
       "  '133',\n",
       "  '553',\n",
       "  '496',\n",
       "  '58',\n",
       "  '120',\n",
       "  '24',\n",
       "  '0',\n",
       "  '23',\n",
       "  '62',\n",
       "  '1',\n",
       "  '3',\n",
       "  '51',\n",
       "  '116',\n",
       "  '.242',\n",
       "  '.320',\n",
       "  '.429',\n",
       "  '.750',\n",
       "  '94',\n",
       "  '213',\n",
       "  '15',\n",
       "  '6',\n",
       "  '0',\n",
       "  '0',\n",
       "  '8'],\n",
       " ['10',\n",
       "  'C',\n",
       "  'Sandy Leon',\n",
       "  '28',\n",
       "  '85',\n",
       "  '301',\n",
       "  '271',\n",
       "  '32',\n",
       "  '61',\n",
       "  '14',\n",
       "  '0',\n",
       "  '7',\n",
       "  '39',\n",
       "  '0',\n",
       "  '0',\n",
       "  '25',\n",
       "  '74',\n",
       "  '.225',\n",
       "  '.290',\n",
       "  '.354',\n",
       "  '.644',\n",
       "  '68',\n",
       "  '96',\n",
       "  '5',\n",
       "  '1',\n",
       "  '1',\n",
       "  '3',\n",
       "  '1'],\n",
       " ['11',\n",
       "  'UT',\n",
       "  'Chris Young',\n",
       "  '33',\n",
       "  '90',\n",
       "  '276',\n",
       "  '243',\n",
       "  '30',\n",
       "  '57',\n",
       "  '12',\n",
       "  '2',\n",
       "  '7',\n",
       "  '25',\n",
       "  '3',\n",
       "  '2',\n",
       "  '30',\n",
       "  '55',\n",
       "  '.235',\n",
       "  '.322',\n",
       "  '.387',\n",
       "  '.709',\n",
       "  '85',\n",
       "  '94',\n",
       "  '4',\n",
       "  '2',\n",
       "  '0',\n",
       "  '1',\n",
       "  '0'],\n",
       " ['12',\n",
       "  '3B',\n",
       "  'Deven Marrero',\n",
       "  '26',\n",
       "  '71',\n",
       "  '188',\n",
       "  '171',\n",
       "  '32',\n",
       "  '36',\n",
       "  '9',\n",
       "  '0',\n",
       "  '4',\n",
       "  '27',\n",
       "  '5',\n",
       "  '0',\n",
       "  '12',\n",
       "  '61',\n",
       "  '.211',\n",
       "  '.259',\n",
       "  '.333',\n",
       "  '.593',\n",
       "  '54',\n",
       "  '57',\n",
       "  '8',\n",
       "  '0',\n",
       "  '3',\n",
       "  '2',\n",
       "  '0'],\n",
       " ['13',\n",
       "  '2B',\n",
       "  'Eduardo Nunez',\n",
       "  '30',\n",
       "  '38',\n",
       "  '173',\n",
       "  '165',\n",
       "  '23',\n",
       "  '53',\n",
       "  '12',\n",
       "  '0',\n",
       "  '8',\n",
       "  '27',\n",
       "  '6',\n",
       "  '2',\n",
       "  '6',\n",
       "  '25',\n",
       "  '.321',\n",
       "  '.353',\n",
       "  '.539',\n",
       "  '.892',\n",
       "  '128',\n",
       "  '89',\n",
       "  '3',\n",
       "  '2',\n",
       "  '0',\n",
       "  '0',\n",
       "  '0'],\n",
       " ['14',\n",
       "  '2B',\n",
       "  'Brock Holt',\n",
       "  '29',\n",
       "  '64',\n",
       "  '164',\n",
       "  '140',\n",
       "  '20',\n",
       "  '28',\n",
       "  '6',\n",
       "  '0',\n",
       "  '0',\n",
       "  '7',\n",
       "  '2',\n",
       "  '1',\n",
       "  '19',\n",
       "  '34',\n",
       "  '.200',\n",
       "  '.305',\n",
       "  '.243',\n",
       "  '.548',\n",
       "  '47',\n",
       "  '34',\n",
       "  '3',\n",
       "  '3',\n",
       "  '0',\n",
       "  '2',\n",
       "  '0'],\n",
       " ['15',\n",
       "  'IF',\n",
       "  'Josh Rutledge',\n",
       "  '28',\n",
       "  '37',\n",
       "  '118',\n",
       "  '107',\n",
       "  '10',\n",
       "  '24',\n",
       "  '2',\n",
       "  '1',\n",
       "  '0',\n",
       "  '9',\n",
       "  '1',\n",
       "  '0',\n",
       "  '9',\n",
       "  '31',\n",
       "  '.224',\n",
       "  '.297',\n",
       "  '.262',\n",
       "  '.558',\n",
       "  '49',\n",
       "  '28',\n",
       "  '1',\n",
       "  '2',\n",
       "  '0',\n",
       "  '0',\n",
       "  '0'],\n",
       " ['16',\n",
       "  '3B',\n",
       "  'Pablo Sandoval',\n",
       "  '30',\n",
       "  '32',\n",
       "  '108',\n",
       "  '99',\n",
       "  '10',\n",
       "  '21',\n",
       "  '2',\n",
       "  '0',\n",
       "  '4',\n",
       "  '12',\n",
       "  '0',\n",
       "  '1',\n",
       "  '8',\n",
       "  '24',\n",
       "  '.212',\n",
       "  '.269',\n",
       "  '.354',\n",
       "  '.622',\n",
       "  '61',\n",
       "  '35',\n",
       "  '4',\n",
       "  '0',\n",
       "  '0',\n",
       "  '1',\n",
       "  '0'],\n",
       " ['17',\n",
       "  'UT',\n",
       "  'Sam Travis',\n",
       "  '23',\n",
       "  '33',\n",
       "  '83',\n",
       "  '76',\n",
       "  '13',\n",
       "  '20',\n",
       "  '6',\n",
       "  '0',\n",
       "  '0',\n",
       "  '1',\n",
       "  '1',\n",
       "  '0',\n",
       "  '6',\n",
       "  '23',\n",
       "  '.263',\n",
       "  '.325',\n",
       "  '.342',\n",
       "  '.667',\n",
       "  '75',\n",
       "  '26',\n",
       "  '2',\n",
       "  '1',\n",
       "  '0',\n",
       "  '0',\n",
       "  '0'],\n",
       " ['18',\n",
       "  'UT',\n",
       "  'Tzu-Wei Lin',\n",
       "  '23',\n",
       "  '25',\n",
       "  '66',\n",
       "  '56',\n",
       "  '7',\n",
       "  '15',\n",
       "  '0',\n",
       "  '2',\n",
       "  '0',\n",
       "  '2',\n",
       "  '1',\n",
       "  '1',\n",
       "  '9',\n",
       "  '17',\n",
       "  '.268',\n",
       "  '.369',\n",
       "  '.339',\n",
       "  '.709',\n",
       "  '88',\n",
       "  '19',\n",
       "  '0',\n",
       "  '0',\n",
       "  '1',\n",
       "  '0',\n",
       "  '0'],\n",
       " ['19',\n",
       "  'IF',\n",
       "  'Marco Hernandez',\n",
       "  '24',\n",
       "  '21',\n",
       "  '60',\n",
       "  '58',\n",
       "  '7',\n",
       "  '16',\n",
       "  '3',\n",
       "  '0',\n",
       "  '0',\n",
       "  '2',\n",
       "  '0',\n",
       "  '1',\n",
       "  '1',\n",
       "  '15',\n",
       "  '.276',\n",
       "  '.300',\n",
       "  '.328',\n",
       "  '.628',\n",
       "  '65',\n",
       "  '19',\n",
       "  '0',\n",
       "  '1',\n",
       "  '0',\n",
       "  '0',\n",
       "  '0'],\n",
       " ['20',\n",
       "  'UT',\n",
       "  'Rajai Davis',\n",
       "  '36',\n",
       "  '17',\n",
       "  '38',\n",
       "  '36',\n",
       "  '7',\n",
       "  '9',\n",
       "  '2',\n",
       "  '0',\n",
       "  '0',\n",
       "  '2',\n",
       "  '3',\n",
       "  '1',\n",
       "  '1',\n",
       "  '13',\n",
       "  '.250',\n",
       "  '.289',\n",
       "  '.306',\n",
       "  '.595',\n",
       "  '56',\n",
       "  '11',\n",
       "  '2',\n",
       "  '1',\n",
       "  '0',\n",
       "  '0',\n",
       "  '0'],\n",
       " ['21',\n",
       "  'UT',\n",
       "  'Steve Selsky',\n",
       "  '27',\n",
       "  '8',\n",
       "  '9',\n",
       "  '9',\n",
       "  '0',\n",
       "  '1',\n",
       "  '1',\n",
       "  '0',\n",
       "  '0',\n",
       "  '0',\n",
       "  '0',\n",
       "  '0',\n",
       "  '0',\n",
       "  '5',\n",
       "  '.111',\n",
       "  '.111',\n",
       "  '.222',\n",
       "  '.333',\n",
       "  '-16',\n",
       "  '2',\n",
       "  '0',\n",
       "  '0',\n",
       "  '0',\n",
       "  '0',\n",
       "  '0'],\n",
       " ['22',\n",
       "  'UT',\n",
       "  'Blake Swihart',\n",
       "  '25',\n",
       "  '6',\n",
       "  '7',\n",
       "  '5',\n",
       "  '1',\n",
       "  '1',\n",
       "  '0',\n",
       "  '0',\n",
       "  '0',\n",
       "  '0',\n",
       "  '0',\n",
       "  '0',\n",
       "  '2',\n",
       "  '3',\n",
       "  '.200',\n",
       "  '.429',\n",
       "  '.200',\n",
       "  '.629',\n",
       "  '74',\n",
       "  '1',\n",
       "  '0',\n",
       "  '0',\n",
       "  '0',\n",
       "  '0',\n",
       "  '0'],\n",
       " ['23',\n",
       "  '2B',\n",
       "  \"Chase d'Arnaud\",\n",
       "  '30',\n",
       "  '2',\n",
       "  '1',\n",
       "  '1',\n",
       "  '2',\n",
       "  '1',\n",
       "  '0',\n",
       "  '0',\n",
       "  '0',\n",
       "  '0',\n",
       "  '0',\n",
       "  '0',\n",
       "  '0',\n",
       "  '0',\n",
       "  '1.000',\n",
       "  '1.000',\n",
       "  '1.000',\n",
       "  '2.000',\n",
       "  '428',\n",
       "  '1',\n",
       "  '0',\n",
       "  '0',\n",
       "  '0',\n",
       "  '0',\n",
       "  '0']]"
      ]
     },
     "execution_count": 15,
     "metadata": {},
     "output_type": "execute_result"
    }
   ],
   "source": [
    "def open_csv(filepath, d = ','):\n",
    "    #define a list to store the datain:\n",
    "    data = []\n",
    "\n",
    "    # use the with open and utf-8-sig encoding to load dat from .csv!\n",
    "    with open(filepath, encoding='utf-8-sig') as my_data:\n",
    "        info = csv.reader(my_data, delimiter=d)\n",
    "        for row in info:\n",
    "            data.append(row)\n",
    "        return data\n",
    "\n",
    "csv_data = open_csv(r'C:\\Users\\bioni\\OneDrive\\Documents\\GitHub\\Coding_Temple\\Week 3\\Data\\redsox_2017_hitting.txt')\n",
    "csv_data"
   ]
  },
  {
   "attachments": {},
   "cell_type": "markdown",
   "metadata": {},
   "source": [
    "#### Loading a CSV's Data "
   ]
  },
  {
   "cell_type": "code",
   "execution_count": 25,
   "metadata": {},
   "outputs": [
    {
     "name": "stdout",
     "output_type": "stream",
     "text": [
      "the average BA column is: 27.84\n",
      "Total Hits: 1459\n",
      "Total Hits: 0.11514736120630568\n"
     ]
    }
   ],
   "source": [
    "FIELDS = ['Rk','Pos','Name','Age','G','PA','AB','R','H','2B','3B','HR','RBI','SB',\n",
    "          'CS','BB','SO','BA','OBP','SLG','OPS','OPS+','TB','GDP','HBP','SH','SF','IBB']\n",
    "DATATYPES = [('rk', 'i'), ('pos', '|S25'), ('name', '|S25'), ('age', 'i'), ('g', 'i'), ('pa', 'i'), ('ab', 'i'),\n",
    "                ('r', 'i'), ('h', 'i'), ('2b', 'i'), ('3b', 'i'), ('hr', 'i'), ('rbi', 'i'), ('sb', 'i'), ('cs', 'i'),\n",
    "                ('bb', 'i'), ('so', 'i'), ('ba', 'f'), ('obp', 'f'), ('slg', 'f'), ('ops', 'f'), ('opsp', 'i'),\n",
    "                ('tb', 'i'), ('gdp', 'i'), ('hbp', 'i'), ('sh', 'i'), ('sf', 'i'), ('ibb', 'i')]\n",
    "\n",
    "def load_data(filepath, d = ','):\n",
    "    data = np.genfromtxt(filepath,delimiter=d, skip_header=1, usecols = np.arange(0,24), invalid_raise=False, names=FIELDS, dtype=DATATYPES)\n",
    "    return data\n",
    "bs2017 = load_data(r'C:\\Users\\bioni\\OneDrive\\Documents\\GitHub\\Coding_Temple\\Week 3\\Data\\redsox_2017_hitting.txt')\n",
    "\n",
    "length=len(bs2017['BA'])\n",
    "\n",
    "print(f'the average BA column is: {round((sum(bs2017[\"BA\"])/length)*100,2)}')\n",
    "\n",
    "#Total number of hits\n",
    "print(f'Total Hits: {int(sum(bs2017[\"H\"]))}')\n",
    "\n",
    "#\n",
    "print(f'Total Hits: {int(sum(bs2017[\"HR\"]))/ int(sum(bs2017[\"H\"]))}')"
   ]
  },
  {
   "cell_type": "code",
   "execution_count": null,
   "metadata": {},
   "outputs": [],
   "source": []
  },
  {
   "attachments": {},
   "cell_type": "markdown",
   "metadata": {},
   "source": [
    "#### Summing the top 5 hitters for HR's"
   ]
  },
  {
   "cell_type": "code",
   "execution_count": 1,
   "metadata": {},
   "outputs": [
    {
     "ename": "NameError",
     "evalue": "name 'bs2017' is not defined",
     "output_type": "error",
     "traceback": [
      "\u001b[1;31m---------------------------------------------------------------------------\u001b[0m",
      "\u001b[1;31mNameError\u001b[0m                                 Traceback (most recent call last)",
      "\u001b[1;32mc:\\Users\\bioni\\OneDrive\\Documents\\GitHub\\Coding_Temple\\Week 3\\Lecture Notes\\D3\\Python II Day III.ipynb Cell 125\u001b[0m line \u001b[0;36m1\n\u001b[1;32m----> <a href='vscode-notebook-cell:/c%3A/Users/bioni/OneDrive/Documents/GitHub/Coding_Temple/Week%203/Lecture%20Notes/D3/Python%20II%20Day%20III.ipynb#Y235sZmlsZQ%3D%3D?line=0'>1</a>\u001b[0m all_hr \u001b[39m=\u001b[39m bs2017[\u001b[39m'\u001b[39m\u001b[39mHR\u001b[39m\u001b[39m'\u001b[39m]\n\u001b[0;32m      <a href='vscode-notebook-cell:/c%3A/Users/bioni/OneDrive/Documents/GitHub/Coding_Temple/Week%203/Lecture%20Notes/D3/Python%20II%20Day%20III.ipynb#Y235sZmlsZQ%3D%3D?line=2'>3</a>\u001b[0m \u001b[39m# all_names = bs2017['Name']\u001b[39;00m\n\u001b[0;32m      <a href='vscode-notebook-cell:/c%3A/Users/bioni/OneDrive/Documents/GitHub/Coding_Temple/Week%203/Lecture%20Notes/D3/Python%20II%20Day%20III.ipynb#Y235sZmlsZQ%3D%3D?line=3'>4</a>\u001b[0m \n\u001b[0;32m      <a href='vscode-notebook-cell:/c%3A/Users/bioni/OneDrive/Documents/GitHub/Coding_Temple/Week%203/Lecture%20Notes/D3/Python%20II%20Day%20III.ipynb#Y235sZmlsZQ%3D%3D?line=4'>5</a>\u001b[0m \u001b[39m# new_names = []\u001b[39;00m\n\u001b[1;32m   (...)\u001b[0m\n\u001b[0;32m     <a href='vscode-notebook-cell:/c%3A/Users/bioni/OneDrive/Documents/GitHub/Coding_Temple/Week%203/Lecture%20Notes/D3/Python%20II%20Day%20III.ipynb#Y235sZmlsZQ%3D%3D?line=10'>11</a>\u001b[0m \u001b[39m# sorted_hr = sorted(zipped_values, key = lambda x: x[1], reverse= True)\u001b[39;00m\n\u001b[0;32m     <a href='vscode-notebook-cell:/c%3A/Users/bioni/OneDrive/Documents/GitHub/Coding_Temple/Week%203/Lecture%20Notes/D3/Python%20II%20Day%20III.ipynb#Y235sZmlsZQ%3D%3D?line=11'>12</a>\u001b[0m \u001b[39m# sorted_hr[:5]\u001b[39;00m\n",
      "\u001b[1;31mNameError\u001b[0m: name 'bs2017' is not defined"
     ]
    }
   ],
   "source": [
    "all_hr = bs2017['HR']\n",
    "\n",
    "all_names = bs2017['Name']\n",
    "\n",
    "new_names = []\n",
    "\n",
    "for name in range(len(all_names)):\n",
    "    new_names.append(all_names[name].decode('utf-8'))\n",
    "zipped_values = list(zip(new_names, all_hr))\n",
    "\n",
    "sorted_hr = sorted(zipped_values, key = lambda x: x[1], reverse= True)\n",
    "sorted_hr[:5]"
   ]
  },
  {
   "cell_type": "code",
   "execution_count": null,
   "metadata": {},
   "outputs": [],
   "source": []
  }
 ],
 "metadata": {
  "kernelspec": {
   "display_name": "Python 3",
   "language": "python",
   "name": "python3"
  },
  "language_info": {
   "codemirror_mode": {
    "name": "ipython",
    "version": 3
   },
   "file_extension": ".py",
   "mimetype": "text/x-python",
   "name": "python",
   "nbconvert_exporter": "python",
   "pygments_lexer": "ipython3",
   "version": "3.11.5"
  },
  "vscode": {
   "interpreter": {
    "hash": "26de051ba29f2982a8de78e945f0abaf191376122a1563185a90213a26c5da77"
   }
  }
 },
 "nbformat": 4,
 "nbformat_minor": 2
}
