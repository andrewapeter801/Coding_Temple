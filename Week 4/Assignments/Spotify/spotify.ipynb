{
 "cells": [
  {
   "cell_type": "markdown",
   "metadata": {},
   "source": [
    "Install Spotify Python package"
   ]
  },
  {
   "cell_type": "code",
   "execution_count": 64,
   "metadata": {},
   "outputs": [
    {
     "name": "stdout",
     "output_type": "stream",
     "text": [
      "Requirement already satisfied: spotipy in c:\\users\\bioni\\anaconda3\\lib\\site-packages (2.23.0)\n",
      "Requirement already satisfied: redis>=3.5.3 in c:\\users\\bioni\\anaconda3\\lib\\site-packages (from spotipy) (5.0.1)\n",
      "Requirement already satisfied: requests>=2.25.0 in c:\\users\\bioni\\anaconda3\\lib\\site-packages (from spotipy) (2.31.0)\n",
      "Requirement already satisfied: six>=1.15.0 in c:\\users\\bioni\\anaconda3\\lib\\site-packages (from spotipy) (1.16.0)\n",
      "Requirement already satisfied: urllib3>=1.26.0 in c:\\users\\bioni\\anaconda3\\lib\\site-packages (from spotipy) (1.26.16)\n",
      "Requirement already satisfied: charset-normalizer<4,>=2 in c:\\users\\bioni\\anaconda3\\lib\\site-packages (from requests>=2.25.0->spotipy) (2.0.4)\n",
      "Requirement already satisfied: idna<4,>=2.5 in c:\\users\\bioni\\anaconda3\\lib\\site-packages (from requests>=2.25.0->spotipy) (3.4)\n",
      "Requirement already satisfied: certifi>=2017.4.17 in c:\\users\\bioni\\anaconda3\\lib\\site-packages (from requests>=2.25.0->spotipy) (2023.7.22)\n"
     ]
    }
   ],
   "source": [
    "! pip install spotipy\n",
    "from spotipy.oauth2 import SpotifyClientCredentials\n",
    "import sys\n",
    "import spotipy\n",
    "from pprint import pprint \n"
   ]
  },
  {
   "cell_type": "markdown",
   "metadata": {},
   "source": [
    "Access Spotify API token"
   ]
  },
  {
   "cell_type": "code",
   "execution_count": 72,
   "metadata": {},
   "outputs": [
    {
     "name": "stdout",
     "output_type": "stream",
     "text": [
      "range: short_term\n"
     ]
    },
    {
     "ename": "TypeError",
     "evalue": "Spotify.current_user_top_tracks() got multiple values for argument 'limit'",
     "output_type": "error",
     "traceback": [
      "\u001b[1;31m---------------------------------------------------------------------------\u001b[0m",
      "\u001b[1;31mTypeError\u001b[0m                                 Traceback (most recent call last)",
      "\u001b[1;32mc:\\Users\\bioni\\OneDrive\\Documents\\GitHub\\Coding_Temple\\Week 4\\Assignments\\Spotify\\spotify.ipynb Cell 4\u001b[0m line \u001b[0;36m1\n\u001b[0;32m     <a href='vscode-notebook-cell:/c%3A/Users/bioni/OneDrive/Documents/GitHub/Coding_Temple/Week%204/Assignments/Spotify/spotify.ipynb#W1sZmlsZQ%3D%3D?line=11'>12</a>\u001b[0m \u001b[39mfor\u001b[39;00m sp_range \u001b[39min\u001b[39;00m ranges:\n\u001b[0;32m     <a href='vscode-notebook-cell:/c%3A/Users/bioni/OneDrive/Documents/GitHub/Coding_Temple/Week%204/Assignments/Spotify/spotify.ipynb#W1sZmlsZQ%3D%3D?line=12'>13</a>\u001b[0m     \u001b[39mprint\u001b[39m(\u001b[39m\"\u001b[39m\u001b[39mrange:\u001b[39m\u001b[39m\"\u001b[39m, sp_range)\n\u001b[1;32m---> <a href='vscode-notebook-cell:/c%3A/Users/bioni/OneDrive/Documents/GitHub/Coding_Temple/Week%204/Assignments/Spotify/spotify.ipynb#W1sZmlsZQ%3D%3D?line=13'>14</a>\u001b[0m     results \u001b[39m=\u001b[39m sp\u001b[39m.\u001b[39mcurrent_user_top_tracks(\u001b[39m'\u001b[39m\u001b[39mbionic801man\u001b[39m\u001b[39m'\u001b[39m, time_range\u001b[39m=\u001b[39msp_range, limit\u001b[39m=\u001b[39m\u001b[39m5\u001b[39m)\n\u001b[0;32m     <a href='vscode-notebook-cell:/c%3A/Users/bioni/OneDrive/Documents/GitHub/Coding_Temple/Week%204/Assignments/Spotify/spotify.ipynb#W1sZmlsZQ%3D%3D?line=14'>15</a>\u001b[0m     \u001b[39mfor\u001b[39;00m i, item \u001b[39min\u001b[39;00m \u001b[39menumerate\u001b[39m(results[\u001b[39m'\u001b[39m\u001b[39mitems\u001b[39m\u001b[39m'\u001b[39m]):\n\u001b[0;32m     <a href='vscode-notebook-cell:/c%3A/Users/bioni/OneDrive/Documents/GitHub/Coding_Temple/Week%204/Assignments/Spotify/spotify.ipynb#W1sZmlsZQ%3D%3D?line=15'>16</a>\u001b[0m         \u001b[39mprint\u001b[39m(i, item[\u001b[39m'\u001b[39m\u001b[39mname\u001b[39m\u001b[39m'\u001b[39m], \u001b[39m'\u001b[39m\u001b[39m//\u001b[39m\u001b[39m'\u001b[39m, item[\u001b[39m'\u001b[39m\u001b[39martists\u001b[39m\u001b[39m'\u001b[39m][\u001b[39m0\u001b[39m][\u001b[39m'\u001b[39m\u001b[39mname\u001b[39m\u001b[39m'\u001b[39m])\n",
      "\u001b[1;31mTypeError\u001b[0m: Spotify.current_user_top_tracks() got multiple values for argument 'limit'"
     ]
    }
   ],
   "source": [
    "from spotipy.oauth2 import SpotifyOAuth\n",
    "scope = 'user-top-read'\n",
    "sp = spotipy.Spotify(auth_manager=SpotifyOAuth(client_id=\"1a346d0eb29d4f1fa030cfeb7afd4f1f\",\n",
    "                                               client_secret=\"fba85e9ff5ba49dea9f5da7c5ba31957\",\n",
    "                                               redirect_uri=\"http://localhost:3000\",\n",
    "                                               scope= scope))\n",
    "\n",
    "current_user = sp.user('bionic801man')\n",
    "\n",
    "ranges = ['short_term', 'medium_term', 'long_term']\n",
    "\n",
    "for sp_range in ranges:\n",
    "    print(\"range:\", sp_range)\n",
    "    results = sp.current_user_top_tracks('bionic801man', time_range=sp_range, limit=5)\n",
    "    for i, item in enumerate(results['items']):\n",
    "        print(i, item['name'], '//', item['artists'][0]['name'])\n",
    "    print()"
   ]
  },
  {
   "cell_type": "code",
   "execution_count": 70,
   "metadata": {},
   "outputs": [
    {
     "name": "stdout",
     "output_type": "stream",
     "text": [
      "range: short_term\n",
      "\n",
      "range: medium_term\n",
      "\n",
      "range: long_term\n",
      "\n"
     ]
    }
   ],
   "source": [
    "ranges = ['short_term', 'medium_term', 'long_term']\n",
    "\n",
    "for sp_range in ranges:\n",
    "    print(\"range:\", sp_range)\n",
    "    results = sp.current_user_top_tracks(time_range=sp_range, limit=50)\n",
    "    for i, item in enumerate(results['items']):\n",
    "        print(i, item['name'], '//', item['artists'][0]['name'])\n",
    "    print()"
   ]
  },
  {
   "cell_type": "code",
   "execution_count": 67,
   "metadata": {},
   "outputs": [],
   "source": [
    "results = sp.current_user_top_tracks()\n",
    "for idx, item in enumerate(results['items']):\n",
    "    track = item['track']\n",
    "    print(idx, track['artists'][0]['name'], \" – \", track['name'])"
   ]
  },
  {
   "cell_type": "markdown",
   "metadata": {},
   "source": [
    "Retrieve Data from Spotify Web API"
   ]
  },
  {
   "cell_type": "code",
   "execution_count": 68,
   "metadata": {},
   "outputs": [
    {
     "ename": "KeyError",
     "evalue": "'tracks'",
     "output_type": "error",
     "traceback": [
      "\u001b[1;31m---------------------------------------------------------------------------\u001b[0m",
      "\u001b[1;31mKeyError\u001b[0m                                  Traceback (most recent call last)",
      "\u001b[1;32mc:\\Users\\bioni\\OneDrive\\Documents\\GitHub\\Coding_Temple\\Week 4\\Assignments\\Spotify\\spotify.ipynb Cell 8\u001b[0m line \u001b[0;36m8\n\u001b[0;32m      <a href='vscode-notebook-cell:/c%3A/Users/bioni/OneDrive/Documents/GitHub/Coding_Temple/Week%204/Assignments/Spotify/spotify.ipynb#W2sZmlsZQ%3D%3D?line=5'>6</a>\u001b[0m \u001b[39mfor\u001b[39;00m i \u001b[39min\u001b[39;00m \u001b[39mrange\u001b[39m(\u001b[39m0\u001b[39m,\u001b[39m1000\u001b[39m,\u001b[39m50\u001b[39m):\n\u001b[0;32m      <a href='vscode-notebook-cell:/c%3A/Users/bioni/OneDrive/Documents/GitHub/Coding_Temple/Week%204/Assignments/Spotify/spotify.ipynb#W2sZmlsZQ%3D%3D?line=6'>7</a>\u001b[0m     track_results \u001b[39m=\u001b[39m sp\u001b[39m.\u001b[39mcurrent_user_top_tracks()\n\u001b[1;32m----> <a href='vscode-notebook-cell:/c%3A/Users/bioni/OneDrive/Documents/GitHub/Coding_Temple/Week%204/Assignments/Spotify/spotify.ipynb#W2sZmlsZQ%3D%3D?line=7'>8</a>\u001b[0m     \u001b[39mfor\u001b[39;00m i, t \u001b[39min\u001b[39;00m \u001b[39menumerate\u001b[39m(track_results[\u001b[39m'\u001b[39m\u001b[39mtracks\u001b[39m\u001b[39m'\u001b[39m][\u001b[39m'\u001b[39m\u001b[39mitems\u001b[39m\u001b[39m'\u001b[39m]):\n\u001b[0;32m      <a href='vscode-notebook-cell:/c%3A/Users/bioni/OneDrive/Documents/GitHub/Coding_Temple/Week%204/Assignments/Spotify/spotify.ipynb#W2sZmlsZQ%3D%3D?line=8'>9</a>\u001b[0m         artist_name\u001b[39m.\u001b[39mappend(t[\u001b[39m'\u001b[39m\u001b[39martists\u001b[39m\u001b[39m'\u001b[39m][\u001b[39m0\u001b[39m][\u001b[39m'\u001b[39m\u001b[39mname\u001b[39m\u001b[39m'\u001b[39m])\n\u001b[0;32m     <a href='vscode-notebook-cell:/c%3A/Users/bioni/OneDrive/Documents/GitHub/Coding_Temple/Week%204/Assignments/Spotify/spotify.ipynb#W2sZmlsZQ%3D%3D?line=9'>10</a>\u001b[0m         track_name\u001b[39m.\u001b[39mappend(t[\u001b[39m'\u001b[39m\u001b[39mname\u001b[39m\u001b[39m'\u001b[39m])\n",
      "\u001b[1;31mKeyError\u001b[0m: 'tracks'"
     ]
    }
   ],
   "source": [
    "artist_name = []\n",
    "track_name = []\n",
    "popularity = []\n",
    "track_id = []\n",
    "\n",
    "for i in range(0,1000,50):\n",
    "    track_results = sp.current_user_top_tracks()\n",
    "    for i, t in enumerate(track_results['tracks']['items']):\n",
    "        artist_name.append(t['artists'][0]['name'])\n",
    "        track_name.append(t['name'])\n",
    "        track_id.append(t['id'])\n",
    "        popularity.append(t['popularity'])"
   ]
  },
  {
   "cell_type": "code",
   "execution_count": 35,
   "metadata": {},
   "outputs": [
    {
     "name": "stdout",
     "output_type": "stream",
     "text": [
      "(1000, 4)\n"
     ]
    },
    {
     "data": {
      "text/html": [
       "<div>\n",
       "<style scoped>\n",
       "    .dataframe tbody tr th:only-of-type {\n",
       "        vertical-align: middle;\n",
       "    }\n",
       "\n",
       "    .dataframe tbody tr th {\n",
       "        vertical-align: top;\n",
       "    }\n",
       "\n",
       "    .dataframe thead th {\n",
       "        text-align: right;\n",
       "    }\n",
       "</style>\n",
       "<table border=\"1\" class=\"dataframe\">\n",
       "  <thead>\n",
       "    <tr style=\"text-align: right;\">\n",
       "      <th></th>\n",
       "      <th>artist_name</th>\n",
       "      <th>track_name</th>\n",
       "      <th>track_id</th>\n",
       "      <th>popularity</th>\n",
       "    </tr>\n",
       "  </thead>\n",
       "  <tbody>\n",
       "    <tr>\n",
       "      <th>0</th>\n",
       "      <td>Doja Cat</td>\n",
       "      <td>Paint The Town Red</td>\n",
       "      <td>2IGMVunIBsBLtEQyoI1Mu7</td>\n",
       "      <td>100</td>\n",
       "    </tr>\n",
       "    <tr>\n",
       "      <th>1</th>\n",
       "      <td>Zach Bryan</td>\n",
       "      <td>I Remember Everything (feat. Kacey Musgraves)</td>\n",
       "      <td>4KULAymBBJcPRpk1yO4dOG</td>\n",
       "      <td>92</td>\n",
       "    </tr>\n",
       "    <tr>\n",
       "      <th>2</th>\n",
       "      <td>Gunna</td>\n",
       "      <td>fukumean</td>\n",
       "      <td>4rXLjWdF2ZZpXCVTfWcshS</td>\n",
       "      <td>95</td>\n",
       "    </tr>\n",
       "    <tr>\n",
       "      <th>3</th>\n",
       "      <td>Olivia Rodrigo</td>\n",
       "      <td>bad idea right?</td>\n",
       "      <td>3IX0yuEVvDbnqUwMBB3ouC</td>\n",
       "      <td>93</td>\n",
       "    </tr>\n",
       "    <tr>\n",
       "      <th>4</th>\n",
       "      <td>Olivia Rodrigo</td>\n",
       "      <td>vampire</td>\n",
       "      <td>1kuGVB7EU95pJObxwvfwKS</td>\n",
       "      <td>94</td>\n",
       "    </tr>\n",
       "    <tr>\n",
       "      <th>5</th>\n",
       "      <td>Travis Scott</td>\n",
       "      <td>I KNOW ?</td>\n",
       "      <td>6wsqVwoiVH2kde4k4KKAFU</td>\n",
       "      <td>92</td>\n",
       "    </tr>\n",
       "    <tr>\n",
       "      <th>6</th>\n",
       "      <td>Olivia Rodrigo</td>\n",
       "      <td>get him back!</td>\n",
       "      <td>2gyxAWHebV7xPYVxqoi86f</td>\n",
       "      <td>92</td>\n",
       "    </tr>\n",
       "    <tr>\n",
       "      <th>7</th>\n",
       "      <td>Billie Eilish</td>\n",
       "      <td>What Was I Made For? [From The Motion Picture ...</td>\n",
       "      <td>6wf7Yu7cxBSPrRlWeSeK0Q</td>\n",
       "      <td>96</td>\n",
       "    </tr>\n",
       "    <tr>\n",
       "      <th>8</th>\n",
       "      <td>Luke Combs</td>\n",
       "      <td>Fast Car</td>\n",
       "      <td>1Lo0QY9cvc8sUB2vnIOxDT</td>\n",
       "      <td>89</td>\n",
       "    </tr>\n",
       "    <tr>\n",
       "      <th>9</th>\n",
       "      <td>Oliver Anthony Music</td>\n",
       "      <td>Rich Men North of Richmond</td>\n",
       "      <td>78Du4CMFgnhdlG33gblkiP</td>\n",
       "      <td>88</td>\n",
       "    </tr>\n",
       "    <tr>\n",
       "      <th>10</th>\n",
       "      <td>Travis Scott</td>\n",
       "      <td>MELTDOWN (feat. Drake)</td>\n",
       "      <td>67nepsnrcZkowTxMWigSbb</td>\n",
       "      <td>91</td>\n",
       "    </tr>\n",
       "    <tr>\n",
       "      <th>11</th>\n",
       "      <td>Zach Bryan</td>\n",
       "      <td>Hey Driver (feat. The War and Treaty)</td>\n",
       "      <td>4pCbJC43j3gSqG6Fen6upD</td>\n",
       "      <td>87</td>\n",
       "    </tr>\n",
       "    <tr>\n",
       "      <th>12</th>\n",
       "      <td>Drake</td>\n",
       "      <td>Slime You Out (feat. SZA)</td>\n",
       "      <td>3RaCGXCiiMufRPoexXxGkV</td>\n",
       "      <td>90</td>\n",
       "    </tr>\n",
       "    <tr>\n",
       "      <th>13</th>\n",
       "      <td>Olivia Rodrigo</td>\n",
       "      <td>all-american bitch</td>\n",
       "      <td>34sOdxWu9FljH84UXdRwu1</td>\n",
       "      <td>90</td>\n",
       "    </tr>\n",
       "    <tr>\n",
       "      <th>14</th>\n",
       "      <td>Peso Pluma</td>\n",
       "      <td>LADY GAGA</td>\n",
       "      <td>7mXuWTczZNxG5EDcjFEuJR</td>\n",
       "      <td>94</td>\n",
       "    </tr>\n",
       "    <tr>\n",
       "      <th>15</th>\n",
       "      <td>Jung Kook</td>\n",
       "      <td>Seven (feat. Latto) (Explicit Ver.)</td>\n",
       "      <td>7x9aauaA9cu6tyfpHnqDLo</td>\n",
       "      <td>97</td>\n",
       "    </tr>\n",
       "    <tr>\n",
       "      <th>16</th>\n",
       "      <td>Morgan Wallen</td>\n",
       "      <td>Last Night</td>\n",
       "      <td>59uQI0PADDKeE6UZDTJEe8</td>\n",
       "      <td>87</td>\n",
       "    </tr>\n",
       "    <tr>\n",
       "      <th>17</th>\n",
       "      <td>Dua Lipa</td>\n",
       "      <td>Dance The Night - From Barbie The Album</td>\n",
       "      <td>1vYXt7VSjH9JIM5oRRo7vA</td>\n",
       "      <td>95</td>\n",
       "    </tr>\n",
       "    <tr>\n",
       "      <th>18</th>\n",
       "      <td>Tate McRae</td>\n",
       "      <td>greedy</td>\n",
       "      <td>3rUGC1vUpkDG9CZFHMur1t</td>\n",
       "      <td>94</td>\n",
       "    </tr>\n",
       "    <tr>\n",
       "      <th>19</th>\n",
       "      <td>Travis Scott</td>\n",
       "      <td>TELEKINESIS (feat. SZA &amp; Future)</td>\n",
       "      <td>1i9lZvlaDdWDPyXEE95aiq</td>\n",
       "      <td>90</td>\n",
       "    </tr>\n",
       "  </tbody>\n",
       "</table>\n",
       "</div>"
      ],
      "text/plain": [
       "             artist_name                                         track_name  \\\n",
       "0               Doja Cat                                 Paint The Town Red   \n",
       "1             Zach Bryan      I Remember Everything (feat. Kacey Musgraves)   \n",
       "2                  Gunna                                           fukumean   \n",
       "3         Olivia Rodrigo                                    bad idea right?   \n",
       "4         Olivia Rodrigo                                            vampire   \n",
       "5           Travis Scott                                           I KNOW ?   \n",
       "6         Olivia Rodrigo                                      get him back!   \n",
       "7          Billie Eilish  What Was I Made For? [From The Motion Picture ...   \n",
       "8             Luke Combs                                           Fast Car   \n",
       "9   Oliver Anthony Music                         Rich Men North of Richmond   \n",
       "10          Travis Scott                             MELTDOWN (feat. Drake)   \n",
       "11            Zach Bryan              Hey Driver (feat. The War and Treaty)   \n",
       "12                 Drake                          Slime You Out (feat. SZA)   \n",
       "13        Olivia Rodrigo                                 all-american bitch   \n",
       "14            Peso Pluma                                          LADY GAGA   \n",
       "15             Jung Kook                Seven (feat. Latto) (Explicit Ver.)   \n",
       "16         Morgan Wallen                                         Last Night   \n",
       "17              Dua Lipa            Dance The Night - From Barbie The Album   \n",
       "18            Tate McRae                                             greedy   \n",
       "19          Travis Scott                   TELEKINESIS (feat. SZA & Future)   \n",
       "\n",
       "                  track_id  popularity  \n",
       "0   2IGMVunIBsBLtEQyoI1Mu7         100  \n",
       "1   4KULAymBBJcPRpk1yO4dOG          92  \n",
       "2   4rXLjWdF2ZZpXCVTfWcshS          95  \n",
       "3   3IX0yuEVvDbnqUwMBB3ouC          93  \n",
       "4   1kuGVB7EU95pJObxwvfwKS          94  \n",
       "5   6wsqVwoiVH2kde4k4KKAFU          92  \n",
       "6   2gyxAWHebV7xPYVxqoi86f          92  \n",
       "7   6wf7Yu7cxBSPrRlWeSeK0Q          96  \n",
       "8   1Lo0QY9cvc8sUB2vnIOxDT          89  \n",
       "9   78Du4CMFgnhdlG33gblkiP          88  \n",
       "10  67nepsnrcZkowTxMWigSbb          91  \n",
       "11  4pCbJC43j3gSqG6Fen6upD          87  \n",
       "12  3RaCGXCiiMufRPoexXxGkV          90  \n",
       "13  34sOdxWu9FljH84UXdRwu1          90  \n",
       "14  7mXuWTczZNxG5EDcjFEuJR          94  \n",
       "15  7x9aauaA9cu6tyfpHnqDLo          97  \n",
       "16  59uQI0PADDKeE6UZDTJEe8          87  \n",
       "17  1vYXt7VSjH9JIM5oRRo7vA          95  \n",
       "18  3rUGC1vUpkDG9CZFHMur1t          94  \n",
       "19  1i9lZvlaDdWDPyXEE95aiq          90  "
      ]
     },
     "execution_count": 35,
     "metadata": {},
     "output_type": "execute_result"
    }
   ],
   "source": [
    "import pandas as pd\n",
    "\n",
    "track_dataframe = pd.DataFrame({'artist_name' : artist_name, 'track_name' : track_name, 'track_id' : track_id, 'popularity' : popularity})\n",
    "print(track_dataframe.shape)\n",
    "track_dataframe.head(20)\n"
   ]
  },
  {
   "cell_type": "code",
   "execution_count": null,
   "metadata": {},
   "outputs": [],
   "source": []
  }
 ],
 "metadata": {
  "kernelspec": {
   "display_name": "base",
   "language": "python",
   "name": "python3"
  },
  "language_info": {
   "codemirror_mode": {
    "name": "ipython",
    "version": 3
   },
   "file_extension": ".py",
   "mimetype": "text/x-python",
   "name": "python",
   "nbconvert_exporter": "python",
   "pygments_lexer": "ipython3",
   "version": "3.11.4"
  }
 },
 "nbformat": 4,
 "nbformat_minor": 2
}
