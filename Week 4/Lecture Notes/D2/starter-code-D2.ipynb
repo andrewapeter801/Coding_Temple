{
 "cells": [
  {
   "cell_type": "markdown",
   "metadata": {},
   "source": [
    "# Principles of Data Visualization\n",
    "\n",
    "_Authors:_ Noelle Brown (mostly), Tim Book\n",
    "\n",
    "---\n",
    "\n",
    "## Learning Objectives\n",
    "- Identify what type of visualization may be appropriate for a given scenario.\n",
    "- Generate bar graphs, histograms, scatter plots, and line plots in `matplotlib` and `seaborn`.\n",
    "- Generate heat maps in `seaborn`.\n",
    "- Critique data visualizations and implement changes."
   ]
  },
  {
   "cell_type": "markdown",
   "metadata": {},
   "source": [
    "<details><summary>Let's get started with a question: what is the point of creating a visualization for data?</summary>\n",
    "    \n",
    "- \"Use a picture. It's worth a thousand words.\" - Tess Flanders, 1911\n",
    "- We generally use visualizations in order to efficiently and/or effectively communicate information.\n",
    "</details>"
   ]
  },
  {
   "cell_type": "markdown",
   "metadata": {},
   "source": [
    "## First, what *not* to do..."
   ]
  },
  {
   "cell_type": "markdown",
   "metadata": {},
   "source": [
    "<img src=\"./images/bad1.jpg\" style=\"height: 500px\">"
   ]
  },
  {
   "cell_type": "markdown",
   "metadata": {},
   "source": [
    "<details><summary>What is wrong with the above visualization?</summary>\n",
    "    \n",
    "- The y-axis is flipped - most people expect 0 to be at the bottom of the graph, providing a misleading graph for people who just glance at the visualization.\n",
    "</details>"
   ]
  },
  {
   "cell_type": "markdown",
   "metadata": {},
   "source": [
    "<img src=\"./images/bad2.jpg\" style=\"height: 400px\">\n",
    "\n",
    "*Above images from [this source](https://teachdatascience.com/ethicaldataviz/).*"
   ]
  },
  {
   "cell_type": "markdown",
   "metadata": {},
   "source": [
    "<details><summary>What is wrong with the above visualization?</summary>\n",
    "    \n",
    "- The x-axis is not arranged according to dates, but according to cases. This shows a misleading decline in cases that does not actually exist.\n",
    "</details>"
   ]
  },
  {
   "cell_type": "markdown",
   "metadata": {},
   "source": [
    "<img src=\"./images/bad3.png\" style=\"height: 350px\">\n",
    "\n",
    "*Above image from [this source](https://www.datarevelations.com/resources/hey-your-tableau-public-viz-sucks-revisited/).*"
   ]
  },
  {
   "cell_type": "markdown",
   "metadata": {},
   "source": [
    "<details><summary>What is wrong with the above visualization?</summary>\n",
    "    \n",
    "- In general, this graph is not super clear. The reader is unsure of what is being conveyed here.\n",
    "- The main problem with this visual is the color scale! As a general rule, never use red and green together in a visualization. Stick with accessible, color blind friendly color palettes. Read more about this [here](https://venngage.com/blog/color-blind-friendly-palette/).\n",
    "</details>"
   ]
  },
  {
   "cell_type": "markdown",
   "metadata": {},
   "source": [
    "You can see more bad visualizations [here](https://viz.wtf/)!"
   ]
  },
  {
   "cell_type": "markdown",
   "metadata": {},
   "source": [
    "## What to do..."
   ]
  },
  {
   "cell_type": "markdown",
   "metadata": {
    "tags": []
   },
   "source": [
    "1. Less is more. Get rid of everything you don’t need and only focus on what you are trying to communicate.\n",
    "> “Above all else show the data.” “Graphical excellence consists of complex ideas communicated with clarity, precision, and efficiency.”  \n",
    "> - Tufte in [Visual Display of Quantitative Information](https://www.amazon.com/Visual-Display-Quantitative-Information/dp/1930824130)\n",
    "2. Use color to help communicate\n",
    "> Color should be used to emphasize, not distract the audience. We can use color to draw the audience's eyes where we want them to look. If you are concerned that your image is too \"cluttered,\" then consider toning down your use of color.\n",
    "3. Design for Accessibility\n",
    "> Color Blindness/ Color Vision Deficiency (CVD) can take many forms. Red-green is 99% of cases.  \n",
    "> - \"Red–green color blindness is the most common form, followed by blue–yellow color blindness and total color blindness. Red–green color blindness affects up to 8% of males and 0.5% of females of Northern European descent.\" - [Wikipedia](https://en.wikipedia.org/wiki/Color_blindness)\n",
    "\n",
    "### Let's do it!\n",
    "\n",
    "First, let's download our data. This data is from [Kaggle](https://www.kaggle.com/crawford/80-cereals?select=cereal.csv) and is part of a [Makeover Monday challenge](https://www.makeovermonday.co.uk/data/) to improve a visualization.\n",
    "\n",
    "<img src=\"./images/cereal.jpeg\" style=\"height: 35==200px\">"
   ]
  },
  {
   "cell_type": "code",
   "execution_count": null,
   "metadata": {},
   "outputs": [],
   "source": [
    "# Imports\n"
   ]
  },
  {
   "cell_type": "code",
   "execution_count": null,
   "metadata": {
    "scrolled": true
   },
   "outputs": [],
   "source": [
    "# Import and view cereal data\n"
   ]
  },
  {
   "cell_type": "code",
   "execution_count": null,
   "metadata": {},
   "outputs": [],
   "source": []
  },
  {
   "cell_type": "code",
   "execution_count": null,
   "metadata": {},
   "outputs": [],
   "source": []
  },
  {
   "cell_type": "markdown",
   "metadata": {},
   "source": [
    "## Bar Charts\n",
    "\n",
    "> \"A bar chart or bar graph is a chart or graph that presents categorical data with rectangular bars with heights or lengths proportional to the values that they represent.\" -[Wikipedia](https://en.wikipedia.org/wiki/Bar_chart)"
   ]
  },
  {
   "cell_type": "code",
   "execution_count": null,
   "metadata": {},
   "outputs": [],
   "source": [
    "# Get top 10 most sugary cereals, save as a variable\n"
   ]
  },
  {
   "cell_type": "code",
   "execution_count": null,
   "metadata": {},
   "outputs": [],
   "source": [
    "# MATPLOTLIB - Plot Bar Chart"
   ]
  },
  {
   "cell_type": "code",
   "execution_count": null,
   "metadata": {},
   "outputs": [],
   "source": [
    "# SEABORN - Plot Bar Chart"
   ]
  },
  {
   "cell_type": "code",
   "execution_count": null,
   "metadata": {
    "tags": []
   },
   "outputs": [],
   "source": [
    "# MATPLOTLIB - Plot Horizontal Bar Chart\n",
    "#plt.barh() will create a horizontal bar chart. (Note the h at the end of bar!)\n",
    "\n",
    "# Size\n",
    "\n",
    "# plt.barh()\n",
    "\n",
    "# Create a descriptive title\n",
    "\n",
    "# Add axis labels\n"
   ]
  },
  {
   "cell_type": "code",
   "execution_count": null,
   "metadata": {},
   "outputs": [],
   "source": [
    "# SEABORN - Plot Horizontal Bar Chart\n"
   ]
  },
  {
   "cell_type": "markdown",
   "metadata": {},
   "source": [
    "## Histograms\n",
    "> Histograms are used to display the distribution of numerical data."
   ]
  },
  {
   "cell_type": "code",
   "execution_count": null,
   "metadata": {},
   "outputs": [],
   "source": [
    "# MATPLOTLIB - Plot a histogram of cereal rating\n",
    "\n",
    "# Plot it\n",
    "\n",
    "# Create a descriptive title\n"
   ]
  },
  {
   "cell_type": "code",
   "execution_count": null,
   "metadata": {},
   "outputs": [],
   "source": [
    "# SEABORN - Plot a histogram of cereal rating\n"
   ]
  },
  {
   "cell_type": "markdown",
   "metadata": {},
   "source": [
    "## Boxplots\n",
    "> Boxplot are used to display the distribution of numerical data."
   ]
  },
  {
   "cell_type": "code",
   "execution_count": null,
   "metadata": {},
   "outputs": [],
   "source": [
    "# MATPLOTLIB - Plot a boxplot of cereal rating\n",
    "\n",
    "# Plot it\n",
    "\n",
    "# Create a descriptive title\n"
   ]
  },
  {
   "cell_type": "code",
   "execution_count": null,
   "metadata": {},
   "outputs": [],
   "source": [
    "# SEABORN - Plot a boxplot of cereal rating\n"
   ]
  },
  {
   "cell_type": "code",
   "execution_count": null,
   "metadata": {},
   "outputs": [],
   "source": [
    "#BONUS - What cereal has that super high rating?!\n"
   ]
  },
  {
   "cell_type": "markdown",
   "metadata": {},
   "source": [
    "## Scatter Plots\n",
    "> Scatter plots are used to display the relationship between two variables."
   ]
  },
  {
   "cell_type": "code",
   "execution_count": null,
   "metadata": {},
   "outputs": [],
   "source": [
    "# MATPLOTLIB - Create a scatter plot of calories vs. sugar\n",
    "    \n",
    "# Size\n",
    "\n",
    "# Plot it\n",
    "\n",
    "# Create a descriptive title\n",
    "\n",
    "# Add axis labels\n"
   ]
  },
  {
   "cell_type": "code",
   "execution_count": null,
   "metadata": {},
   "outputs": [],
   "source": [
    "# SEABORN - Create a scatter plot of calories vs. sugar\n"
   ]
  },
  {
   "cell_type": "markdown",
   "metadata": {},
   "source": [
    "## Line Graphs\n",
    "> Line graphs (also known as line plots or line charts) use lines to connect data points to show the changes in numerical values over time."
   ]
  },
  {
   "cell_type": "code",
   "execution_count": null,
   "metadata": {},
   "outputs": [],
   "source": [
    "# Generate data over time\n",
    "\n",
    "# Generate dates\n",
    "dates = pd.date_range('3-1-22', '7-30-22')"
   ]
  },
  {
   "cell_type": "code",
   "execution_count": null,
   "metadata": {},
   "outputs": [],
   "source": [
    "# Generate bowls eaten\n",
    "bowls_eaten = np.random.poisson(1, size = 152)"
   ]
  },
  {
   "cell_type": "code",
   "execution_count": null,
   "metadata": {},
   "outputs": [],
   "source": [
    "# MATPLOTLIB - Create a line plot of the number of bowls of cereal I've consumed\n",
    "\n",
    "# Size\n",
    "\n",
    "# Plot it \n",
    "\n",
    "# Create a descriptive title\n",
    "\n",
    "# Add axis labels\n"
   ]
  },
  {
   "cell_type": "code",
   "execution_count": null,
   "metadata": {},
   "outputs": [],
   "source": [
    "# SEABORN - Create a line plot of the number of bowls of cereal I've consumed\n"
   ]
  },
  {
   "cell_type": "markdown",
   "metadata": {},
   "source": [
    "## Heat Maps\n",
    "> Heat maps use color to show the strength of a relationship between two or more variables.\n",
    "\n",
    "A commonly seen implementation of a heatmap uses the [Seaborn library](https://seaborn.pydata.org)."
   ]
  },
  {
   "cell_type": "code",
   "execution_count": null,
   "metadata": {},
   "outputs": [],
   "source": []
  },
  {
   "cell_type": "code",
   "execution_count": null,
   "metadata": {},
   "outputs": [],
   "source": [
    "# This code is taken with minor modifications from https://seaborn.pydata.org/generated/seaborn.heatmap.html\n",
    "\n",
    "# Establish size of figure.\n",
    "\n",
    "# Get correlation of variables.\n",
    "\n",
    "# Set up mask to be \"True\" in the upper triangle.\n",
    "# mask = np.zeros_like(corr)\n",
    "# mask[np.triu_indices_from(mask)] = True\n",
    "\n",
    "# Plot our correlation heatmap\n"
   ]
  },
  {
   "cell_type": "code",
   "execution_count": null,
   "metadata": {},
   "outputs": [],
   "source": [
    "# Let's look at the correlations to rating\n"
   ]
  },
  {
   "cell_type": "markdown",
   "metadata": {},
   "source": [
    "Correlation refers to a statistical relationship between two variables. When two variables are correlated, changes in one variable are associated with changes in the other variable. A correlation can be positive (meaning that the two variables move in the same direction) or negative (meaning that the two variables move in opposite directions). However, correlation does not imply causation.\n",
    "\n",
    "Correlation can be a useful tool to identify potential relationships between variables, but it is not sufficient to establish causation.\n",
    "\n",
    "[Spurious Correlations](https://www.tylervigen.com/spurious-correlations)"
   ]
  },
  {
   "cell_type": "markdown",
   "metadata": {},
   "source": [
    "## Advanced: Subplots\n",
    "> We can use subplots to easily compare multiple visualizations by sharing an axis."
   ]
  },
  {
   "cell_type": "code",
   "execution_count": null,
   "metadata": {},
   "outputs": [],
   "source": [
    "stocks = pd.read_csv('../data/food-stocks.csv')\n",
    "stocks['Date'] = pd.to_datetime(stocks['Date'])\n",
    "stocks.head()"
   ]
  },
  {
   "cell_type": "code",
   "execution_count": null,
   "metadata": {},
   "outputs": [],
   "source": [
    "# Create the figure and list of axes.\n",
    "# We can also set the figsize here.\n",
    "# Additionally, set sharex=True to keep x-axes aligned\n",
    "fig, axs = plt.subplots(2, 2, figsize=(16, 10), sharex=True)\n",
    "\n",
    "# First determine an axis to operatoe on and then create the plot!\n",
    "axs[0][0].plot(stocks['Date'], stocks['DPZ'], color='dodgerblue', linewidth=3)\n",
    "axs[0][0].set_title('Dominoes', size=16, loc='left')\n",
    "\n",
    "# We can do this for all the other stocks!\n",
    "axs[0][1].plot(stocks['Date'], stocks['MCD'], color='red', linewidth=3)\n",
    "axs[0][1].set_title('McDonald\\'s', size=16, loc='left')\n",
    "\n",
    "axs[1][0].plot(stocks['Date'], stocks['WEN'], color='darkred', linewidth=3)\n",
    "axs[1][0].set_title('Wendy\\'s', size=16, loc='left')\n",
    "\n",
    "axs[1][1].plot(stocks['Date'], stocks['YUM'], color='purple', linewidth=3)\n",
    "axs[1][1].set_title('Yum Foods', size=16, loc='left');"
   ]
  },
  {
   "cell_type": "markdown",
   "metadata": {},
   "source": [
    "---\n",
    "\n",
    "## More Visualization Libraries in Python\n",
    "\n",
    "In this lesson, you saw the vanilla matplotlib API and [Seaborn](https://seaborn.pydata.org/) (which uses Matplotlib under the hood). Other Popular Python visualization libraries include the following, which can be used for more advanced plots (like maps) or for interactive plotting:\n",
    "- [Bokeh](http://bokeh.pydata.org/en/latest/)\n",
    "- [Altair](https://altair-viz.github.io/)\n",
    "- [Plotly](https://plot.ly/python/getting-started/)\n",
    "\n",
    "## Other Visualization Tools\n",
    "\n",
    "A variety of non-programming tools are also used in industry. However, not all of these are great for repeated analysis, customizable, or free! For example:\n",
    "- Excel\n",
    "- Power BI\n",
    "- Tableau\n",
    "\n",
    "---\n",
    "\n",
    "## Matplotlib gallery\n",
    "\n",
    "See the possibilities of matplotlib [here](https://matplotlib.org/3.2.1/tutorials/introductory/sample_plots.html#sphx-glr-tutorials-introductory-sample-plots-py).\n",
    "- These examples are to show what's possible. Don't feel you need to memorize any of them. \n",
    "\n",
    "---\n",
    "\n",
    "## Choosing the Right Chart Type\n",
    "\n",
    "**If-This-Then-That Guidelines**\n",
    "\n",
    "### Just a number or two\n",
    "If showing just one or two numbers, then:\n",
    "   - simply report the numbers.\n",
    "   - compare numbers using a bar chart.\n",
    "   \n",
    "### One Variable\n",
    "If visualizing the distribution of one variable, then:\n",
    "   - If the variable is qualitative, (categorical: nominal or ordinal): use a bar chart.\n",
    "   - If the variable is quantitative (numeric: ratio or interval): use a histogram.\n",
    "    \n",
    "### Two Variables\n",
    "If visualizing the relationship between two variables, then:\n",
    "   - If both variables are quantitative, then:\n",
    "       - If one variable is time, then use a line plot.\n",
    "       - Otherwise, use a scatter plot - or a box plot if want to show stats.\n",
    "   - If one variable is quantitative and another is qualitative, then use multiple histograms.\n",
    "   - If both variables are qualitative, then:\n",
    "       - Use a table or a heat map.\n",
    "\n",
    "### Three+ Variables\n",
    "- Use a heat map, box plot, or multiple scatter plots\n",
    "\n",
    "That should cover 95%+ of cases you'll see. 😀\n",
    "\n",
    "\n",
    "### Avoid...\n",
    "- Pie Charts\n",
    "- 3-D Charts"
   ]
  }
 ],
 "metadata": {
  "kernelspec": {
   "display_name": "Python 3 (ipykernel)",
   "language": "python",
   "name": "python3"
  },
  "language_info": {
   "codemirror_mode": {
    "name": "ipython",
    "version": 3
   },
   "file_extension": ".py",
   "mimetype": "text/x-python",
   "name": "python",
   "nbconvert_exporter": "python",
   "pygments_lexer": "ipython3",
   "version": "3.9.13"
  }
 },
 "nbformat": 4,
 "nbformat_minor": 4
}
