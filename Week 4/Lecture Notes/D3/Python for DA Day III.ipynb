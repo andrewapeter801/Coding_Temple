{
 "cells": [
  {
   "attachments": {},
   "cell_type": "markdown",
   "metadata": {},
   "source": [
    "# Coding Temple's Data Analytics Full-Time Program\n",
    "---\n",
    "## Python for Data Analysis: Machine Learning in Python using Scikit-Learn"
   ]
  },
  {
   "attachments": {},
   "cell_type": "markdown",
   "metadata": {},
   "source": [
    "### Part 1: Imports"
   ]
  },
  {
   "attachments": {},
   "cell_type": "markdown",
   "metadata": {},
   "source": [
    "To work with the `scikit-learn` library, we will need to pip install it in our local machine. We will also want to pip install another couple of libraries called: `category encoders` and `xgboost`.\n",
    "\n",
    "While sklearn has built-in functionality for encoders such as OHE and OrdinalEncoder, the output of these encoders are different than that of the `category encoders` library. We will work with both libraries in conjunction together to make a pipeline object.\n",
    "\n",
    "The library `xgboost` will allow us access to our boosted models for both Regression and Classification. We will cover over boosting and other ensemble methods later in this lecture."
   ]
  },
  {
   "cell_type": "code",
   "execution_count": 1,
   "metadata": {},
   "outputs": [
    {
     "name": "stdout",
     "output_type": "stream",
     "text": [
      "Requirement already satisfied: scikit-learn in c:\\users\\bioni\\anaconda3\\lib\\site-packages (1.3.0)\n",
      "Requirement already satisfied: numpy>=1.17.3 in c:\\users\\bioni\\anaconda3\\lib\\site-packages (from scikit-learn) (1.24.3)\n",
      "Requirement already satisfied: scipy>=1.5.0 in c:\\users\\bioni\\anaconda3\\lib\\site-packages (from scikit-learn) (1.10.1)\n",
      "Requirement already satisfied: joblib>=1.1.1 in c:\\users\\bioni\\anaconda3\\lib\\site-packages (from scikit-learn) (1.2.0)\n",
      "Requirement already satisfied: threadpoolctl>=2.0.0 in c:\\users\\bioni\\anaconda3\\lib\\site-packages (from scikit-learn) (2.2.0)\n",
      "Requirement already satisfied: category_encoders in c:\\users\\bioni\\anaconda3\\lib\\site-packages (2.6.2)\n",
      "Requirement already satisfied: numpy>=1.14.0 in c:\\users\\bioni\\anaconda3\\lib\\site-packages (from category_encoders) (1.24.3)\n",
      "Requirement already satisfied: scikit-learn>=0.20.0 in c:\\users\\bioni\\anaconda3\\lib\\site-packages (from category_encoders) (1.3.0)\n",
      "Requirement already satisfied: scipy>=1.0.0 in c:\\users\\bioni\\anaconda3\\lib\\site-packages (from category_encoders) (1.10.1)\n",
      "Requirement already satisfied: statsmodels>=0.9.0 in c:\\users\\bioni\\anaconda3\\lib\\site-packages (from category_encoders) (0.14.0)\n",
      "Requirement already satisfied: pandas>=1.0.5 in c:\\users\\bioni\\anaconda3\\lib\\site-packages (from category_encoders) (1.5.3)\n",
      "Requirement already satisfied: patsy>=0.5.1 in c:\\users\\bioni\\anaconda3\\lib\\site-packages (from category_encoders) (0.5.3)\n",
      "Requirement already satisfied: python-dateutil>=2.8.1 in c:\\users\\bioni\\anaconda3\\lib\\site-packages (from pandas>=1.0.5->category_encoders) (2.8.2)\n",
      "Requirement already satisfied: pytz>=2020.1 in c:\\users\\bioni\\anaconda3\\lib\\site-packages (from pandas>=1.0.5->category_encoders) (2022.7)\n",
      "Requirement already satisfied: six in c:\\users\\bioni\\anaconda3\\lib\\site-packages (from patsy>=0.5.1->category_encoders) (1.16.0)\n",
      "Requirement already satisfied: joblib>=1.1.1 in c:\\users\\bioni\\anaconda3\\lib\\site-packages (from scikit-learn>=0.20.0->category_encoders) (1.2.0)\n",
      "Requirement already satisfied: threadpoolctl>=2.0.0 in c:\\users\\bioni\\anaconda3\\lib\\site-packages (from scikit-learn>=0.20.0->category_encoders) (2.2.0)\n",
      "Requirement already satisfied: packaging>=21.3 in c:\\users\\bioni\\anaconda3\\lib\\site-packages (from statsmodels>=0.9.0->category_encoders) (23.0)\n",
      "Requirement already satisfied: xgboost in c:\\users\\bioni\\anaconda3\\lib\\site-packages (2.0.0)\n",
      "Requirement already satisfied: numpy in c:\\users\\bioni\\anaconda3\\lib\\site-packages (from xgboost) (1.24.3)\n",
      "Requirement already satisfied: scipy in c:\\users\\bioni\\anaconda3\\lib\\site-packages (from xgboost) (1.10.1)\n"
     ]
    }
   ],
   "source": [
    "! python -m pip install scikit-learn\n",
    "! python -m pip install category_encoders\n",
    "! python -m pip install xgboost"
   ]
  },
  {
   "attachments": {},
   "cell_type": "markdown",
   "metadata": {},
   "source": [
    "Now, when it comes to the actual imports of each item we are going to use today, we will be accessing many different parts of the sklearn library. To see all the available parts of sklearn, check out this [documentation](https://scikit-learn.org/stable/auto_examples/index.html)"
   ]
  },
  {
   "cell_type": "code",
   "execution_count": 4,
   "metadata": {},
   "outputs": [],
   "source": [
    "from category_encoders import OneHotEncoder, OrdinalEncoder\n",
    "from sklearn.ensemble import RandomForestClassifier, RandomForestRegressor\n",
    "from sklearn.tree import DecisionTreeClassifier, DecisionTreeRegressor\n",
    "from sklearn.metrics import mean_absolute_error, mean_squared_error, r2_score, roc_auc_score\n",
    "from sklearn.model_selection import train_test_split, RandomizedSearchCV\n",
    "from sklearn.pipeline import make_pipeline\n",
    "from sklearn.linear_model import LinearRegression, LogisticRegression\n",
    "from sklearn.impute import SimpleImputer\n",
    "from sklearn.preprocessing import LabelEncoder\n",
    "from xgboost import XGBClassifier, XGBRegressor\n",
    "import matplotlib.pyplot as plt\n",
    "import seaborn as sns\n",
    "import pandas as pd"
   ]
  },
  {
   "attachments": {},
   "cell_type": "markdown",
   "metadata": {},
   "source": [
    "### Part 2: EDA\n",
    "In this part, we will focus on reading in the data and performing our exploratory data analysis of the dataset.\n",
    "Our overall goal is to be able to predict the price of a house based off the features given to us in this dataset"
   ]
  },
  {
   "cell_type": "code",
   "execution_count": 37,
   "metadata": {},
   "outputs": [
    {
     "data": {
      "text/html": [
       "<div>\n",
       "<style scoped>\n",
       "    .dataframe tbody tr th:only-of-type {\n",
       "        vertical-align: middle;\n",
       "    }\n",
       "\n",
       "    .dataframe tbody tr th {\n",
       "        vertical-align: top;\n",
       "    }\n",
       "\n",
       "    .dataframe thead th {\n",
       "        text-align: right;\n",
       "    }\n",
       "</style>\n",
       "<table border=\"1\" class=\"dataframe\">\n",
       "  <thead>\n",
       "    <tr style=\"text-align: right;\">\n",
       "      <th></th>\n",
       "      <th>house_id</th>\n",
       "      <th>neighborhood</th>\n",
       "      <th>area</th>\n",
       "      <th>bedrooms</th>\n",
       "      <th>bathrooms</th>\n",
       "      <th>style</th>\n",
       "      <th>price</th>\n",
       "    </tr>\n",
       "  </thead>\n",
       "  <tbody>\n",
       "    <tr>\n",
       "      <th>0</th>\n",
       "      <td>1112</td>\n",
       "      <td>B</td>\n",
       "      <td>1188</td>\n",
       "      <td>3</td>\n",
       "      <td>2</td>\n",
       "      <td>ranch</td>\n",
       "      <td>598291</td>\n",
       "    </tr>\n",
       "    <tr>\n",
       "      <th>1</th>\n",
       "      <td>491</td>\n",
       "      <td>B</td>\n",
       "      <td>3512</td>\n",
       "      <td>5</td>\n",
       "      <td>3</td>\n",
       "      <td>victorian</td>\n",
       "      <td>1744259</td>\n",
       "    </tr>\n",
       "    <tr>\n",
       "      <th>2</th>\n",
       "      <td>5952</td>\n",
       "      <td>B</td>\n",
       "      <td>1134</td>\n",
       "      <td>3</td>\n",
       "      <td>2</td>\n",
       "      <td>ranch</td>\n",
       "      <td>571669</td>\n",
       "    </tr>\n",
       "    <tr>\n",
       "      <th>3</th>\n",
       "      <td>3525</td>\n",
       "      <td>A</td>\n",
       "      <td>1940</td>\n",
       "      <td>4</td>\n",
       "      <td>2</td>\n",
       "      <td>ranch</td>\n",
       "      <td>493675</td>\n",
       "    </tr>\n",
       "    <tr>\n",
       "      <th>4</th>\n",
       "      <td>5108</td>\n",
       "      <td>B</td>\n",
       "      <td>2208</td>\n",
       "      <td>6</td>\n",
       "      <td>4</td>\n",
       "      <td>victorian</td>\n",
       "      <td>1101539</td>\n",
       "    </tr>\n",
       "  </tbody>\n",
       "</table>\n",
       "</div>"
      ],
      "text/plain": [
       "   house_id neighborhood  area  bedrooms  bathrooms      style    price\n",
       "0      1112            B  1188         3          2      ranch   598291\n",
       "1       491            B  3512         5          3  victorian  1744259\n",
       "2      5952            B  1134         3          2      ranch   571669\n",
       "3      3525            A  1940         4          2      ranch   493675\n",
       "4      5108            B  2208         6          4  victorian  1101539"
      ]
     },
     "execution_count": 37,
     "metadata": {},
     "output_type": "execute_result"
    }
   ],
   "source": [
    "df = pd.read_csv(r'C:\\Users\\bioni\\OneDrive\\Documents\\GitHub\\Coding_Temple\\Week 4\\Lecture Notes\\D3\\house_prices (1).csv')\n",
    "\n",
    "df.head()"
   ]
  },
  {
   "attachments": {},
   "cell_type": "markdown",
   "metadata": {},
   "source": [
    "What needs to be done to this dataset?\n",
    "\n",
    "* Are all columns the data type they need to be?\n",
    "* Count of null values\n",
    "* Visualization of the target variable"
   ]
  },
  {
   "cell_type": "code",
   "execution_count": 4,
   "metadata": {},
   "outputs": [
    {
     "name": "stdout",
     "output_type": "stream",
     "text": [
      "<class 'pandas.core.frame.DataFrame'>\n",
      "RangeIndex: 6028 entries, 0 to 6027\n",
      "Data columns (total 7 columns):\n",
      " #   Column        Non-Null Count  Dtype \n",
      "---  ------        --------------  ----- \n",
      " 0   house_id      6028 non-null   int64 \n",
      " 1   neighborhood  6028 non-null   object\n",
      " 2   area          6028 non-null   int64 \n",
      " 3   bedrooms      6028 non-null   int64 \n",
      " 4   bathrooms     6028 non-null   int64 \n",
      " 5   style         6028 non-null   object\n",
      " 6   price         6028 non-null   int64 \n",
      "dtypes: int64(5), object(2)\n",
      "memory usage: 329.8+ KB\n"
     ]
    }
   ],
   "source": [
    "df.info()"
   ]
  },
  {
   "attachments": {},
   "cell_type": "markdown",
   "metadata": {},
   "source": [
    "So we can see that we have 0 null values present within this dataset. Each feature in our dataset is the appropriate data-type as well. There is no cleaning that needs to be done to this data before we begin working with it. Let's double-check our distribution of the target variable as well as a scatterplot of it against each feature."
   ]
  },
  {
   "cell_type": "code",
   "execution_count": 5,
   "metadata": {},
   "outputs": [
    {
     "data": {
      "image/png": "[encoded data removed]",
      "text/plain": [
       "<Figure size 640x480 with 1 Axes>"
      ]
     },
     "metadata": {},
     "output_type": "display_data"
    }
   ],
   "source": [
    "# Let's grargetaph a histo of our t\n",
    "\n",
    "plt.hist('price', data = df)\n",
    "plt.xlabel('Price by Hundred-Thousands')\n",
    "plt.ylabel('Frequency');"
   ]
  },
  {
   "attachments": {},
   "cell_type": "markdown",
   "metadata": {},
   "source": [
    "What do we notice about the distribution of our target variable? \n",
    "\n",
    "How does the skewness of the target affect a model's ability to make predictions?"
   ]
  },
  {
   "cell_type": "code",
   "execution_count": 6,
   "metadata": {},
   "outputs": [
    {
     "data": {
      "image/png": "[encoded data removed]",
      "text/plain": [
       "<Figure size 1250x250 with 6 Axes>"
      ]
     },
     "metadata": {},
     "output_type": "display_data"
    }
   ],
   "source": [
    "# now let's vizualize the relationship between our target and the\n",
    "sns.pairplot(df, y_vars = ['price']);"
   ]
  },
  {
   "attachments": {},
   "cell_type": "markdown",
   "metadata": {},
   "source": [
    "What do we notice about the relationships between each of these variables and the price column?"
   ]
  },
  {
   "attachments": {},
   "cell_type": "markdown",
   "metadata": {},
   "source": [
    "### In-Class Exercise 1: Try it out\n",
    "For this exercise, you will download the data from [Kaggle](https://www.kaggle.com/datasets/rajkumarpandey02/vehicle-fuel-economy-data-us). Once downloaded, your goal will be to:\n",
    "\n",
    "* Load in the data using Pandas\n",
    "* Clean the data (check the data-types for inconsistencies, check for null values, change column names if needed)\n",
    "* Identify and create a visualization of what you believe the target should be\n",
    "* Create a pairplot of the target to the rest of your features present within the dataset."
   ]
  },
  {
   "cell_type": "code",
   "execution_count": 7,
   "metadata": {},
   "outputs": [
    {
     "name": "stderr",
     "output_type": "stream",
     "text": [
      "C:\\Users\\bioni\\AppData\\Local\\Temp\\ipykernel_29592\\3472937424.py:2: DtypeWarning: Columns (73,75) have mixed types. Specify dtype option on import or set low_memory=False.\n",
      "  fuel = pd.read_csv(r'C:\\Users\\bioni\\OneDrive\\Documents\\GitHub\\Coding_Temple\\Week 4\\Lecture Notes\\D3\\Vehicle Fuel Economy Data.csv')\n"
     ]
    }
   ],
   "source": [
    "# YOUR CODE HERE\n",
    "fuel = pd.read_csv(r'C:\\Users\\bioni\\OneDrive\\Documents\\GitHub\\Coding_Temple\\Week 4\\Lecture Notes\\D3\\Vehicle Fuel Economy Data.csv')\n",
    "\n",
    "fuel.drop(['guzzler','trans_dscr','tCharger','sCharger','atvType','fuelType2','rangeA','evMotor','mfrCode', 'c240Dscr','c240bDscr','startStop','eng_dscr', 'cityUF', 'range', 'rangeCity', 'rangeHwy', 'combinedUF', 'highwayUF'], axis = 1, inplace=True)\n"
   ]
  },
  {
   "cell_type": "code",
   "execution_count": 8,
   "metadata": {},
   "outputs": [
    {
     "data": {
      "text/plain": [
       "(42659, 63)"
      ]
     },
     "execution_count": 8,
     "metadata": {},
     "output_type": "execute_result"
    }
   ],
   "source": [
    "fuel = fuel.dropna()\n",
    "fuel.isna().sum()\n",
    "fuel.shape\n"
   ]
  },
  {
   "cell_type": "code",
   "execution_count": 9,
   "metadata": {},
   "outputs": [
    {
     "ename": "ValueError",
     "evalue": "Could not interpret value `rangeHwy` for parameter `y`",
     "output_type": "error",
     "traceback": [
      "\u001b[1;31m---------------------------------------------------------------------------\u001b[0m",
      "\u001b[1;31mValueError\u001b[0m                                Traceback (most recent call last)",
      "\u001b[1;32mc:\\Users\\bioni\\OneDrive\\Documents\\GitHub\\Coding_Temple\\Week 4\\Lecture Notes\\D3\\Python for DA Day III.ipynb Cell 19\u001b[0m line \u001b[0;36m1\n\u001b[1;32m----> <a href='vscode-notebook-cell:/c%3A/Users/bioni/OneDrive/Documents/GitHub/Coding_Temple/Week%204/Lecture%20Notes/D3/Python%20for%20DA%20Day%20III.ipynb#X24sZmlsZQ%3D%3D?line=0'>1</a>\u001b[0m sns\u001b[39m.\u001b[39mscatterplot(fuel, x\u001b[39m=\u001b[39m\u001b[39m'\u001b[39m\u001b[39mManufacturer\u001b[39m\u001b[39m'\u001b[39m, y\u001b[39m=\u001b[39m\u001b[39m'\u001b[39m\u001b[39mrangeHwy\u001b[39m\u001b[39m'\u001b[39m )\n",
      "File \u001b[1;32mc:\\Users\\bioni\\anaconda3\\Lib\\site-packages\\seaborn\\relational.py:742\u001b[0m, in \u001b[0;36mscatterplot\u001b[1;34m(data, x, y, hue, size, style, palette, hue_order, hue_norm, sizes, size_order, size_norm, markers, style_order, legend, ax, **kwargs)\u001b[0m\n\u001b[0;32m    732\u001b[0m \u001b[39mdef\u001b[39;00m \u001b[39mscatterplot\u001b[39m(\n\u001b[0;32m    733\u001b[0m     data\u001b[39m=\u001b[39m\u001b[39mNone\u001b[39;00m, \u001b[39m*\u001b[39m,\n\u001b[0;32m    734\u001b[0m     x\u001b[39m=\u001b[39m\u001b[39mNone\u001b[39;00m, y\u001b[39m=\u001b[39m\u001b[39mNone\u001b[39;00m, hue\u001b[39m=\u001b[39m\u001b[39mNone\u001b[39;00m, size\u001b[39m=\u001b[39m\u001b[39mNone\u001b[39;00m, style\u001b[39m=\u001b[39m\u001b[39mNone\u001b[39;00m,\n\u001b[1;32m   (...)\u001b[0m\n\u001b[0;32m    738\u001b[0m     \u001b[39m*\u001b[39m\u001b[39m*\u001b[39mkwargs\n\u001b[0;32m    739\u001b[0m ):\n\u001b[0;32m    741\u001b[0m     variables \u001b[39m=\u001b[39m _ScatterPlotter\u001b[39m.\u001b[39mget_semantics(\u001b[39mlocals\u001b[39m())\n\u001b[1;32m--> 742\u001b[0m     p \u001b[39m=\u001b[39m _ScatterPlotter(data\u001b[39m=\u001b[39mdata, variables\u001b[39m=\u001b[39mvariables, legend\u001b[39m=\u001b[39mlegend)\n\u001b[0;32m    744\u001b[0m     p\u001b[39m.\u001b[39mmap_hue(palette\u001b[39m=\u001b[39mpalette, order\u001b[39m=\u001b[39mhue_order, norm\u001b[39m=\u001b[39mhue_norm)\n\u001b[0;32m    745\u001b[0m     p\u001b[39m.\u001b[39mmap_size(sizes\u001b[39m=\u001b[39msizes, order\u001b[39m=\u001b[39msize_order, norm\u001b[39m=\u001b[39msize_norm)\n",
      "File \u001b[1;32mc:\\Users\\bioni\\anaconda3\\Lib\\site-packages\\seaborn\\relational.py:538\u001b[0m, in \u001b[0;36m_ScatterPlotter.__init__\u001b[1;34m(self, data, variables, legend)\u001b[0m\n\u001b[0;32m    529\u001b[0m \u001b[39mdef\u001b[39;00m \u001b[39m__init__\u001b[39m(\u001b[39mself\u001b[39m, \u001b[39m*\u001b[39m, data\u001b[39m=\u001b[39m\u001b[39mNone\u001b[39;00m, variables\u001b[39m=\u001b[39m{}, legend\u001b[39m=\u001b[39m\u001b[39mNone\u001b[39;00m):\n\u001b[0;32m    530\u001b[0m \n\u001b[0;32m    531\u001b[0m     \u001b[39m# TODO this is messy, we want the mapping to be agnostic about\u001b[39;00m\n\u001b[0;32m    532\u001b[0m     \u001b[39m# the kind of plot to draw, but for the time being we need to set\u001b[39;00m\n\u001b[0;32m    533\u001b[0m     \u001b[39m# this information so the SizeMapping can use it\u001b[39;00m\n\u001b[0;32m    534\u001b[0m     \u001b[39mself\u001b[39m\u001b[39m.\u001b[39m_default_size_range \u001b[39m=\u001b[39m (\n\u001b[0;32m    535\u001b[0m         np\u001b[39m.\u001b[39mr_[\u001b[39m.5\u001b[39m, \u001b[39m2\u001b[39m] \u001b[39m*\u001b[39m np\u001b[39m.\u001b[39msquare(mpl\u001b[39m.\u001b[39mrcParams[\u001b[39m\"\u001b[39m\u001b[39mlines.markersize\u001b[39m\u001b[39m\"\u001b[39m])\n\u001b[0;32m    536\u001b[0m     )\n\u001b[1;32m--> 538\u001b[0m     \u001b[39msuper\u001b[39m()\u001b[39m.\u001b[39m\u001b[39m__init__\u001b[39m(data\u001b[39m=\u001b[39mdata, variables\u001b[39m=\u001b[39mvariables)\n\u001b[0;32m    540\u001b[0m     \u001b[39mself\u001b[39m\u001b[39m.\u001b[39mlegend \u001b[39m=\u001b[39m legend\n",
      "File \u001b[1;32mc:\\Users\\bioni\\anaconda3\\Lib\\site-packages\\seaborn\\_oldcore.py:640\u001b[0m, in \u001b[0;36mVectorPlotter.__init__\u001b[1;34m(self, data, variables)\u001b[0m\n\u001b[0;32m    635\u001b[0m \u001b[39m# var_ordered is relevant only for categorical axis variables, and may\u001b[39;00m\n\u001b[0;32m    636\u001b[0m \u001b[39m# be better handled by an internal axis information object that tracks\u001b[39;00m\n\u001b[0;32m    637\u001b[0m \u001b[39m# such information and is set up by the scale_* methods. The analogous\u001b[39;00m\n\u001b[0;32m    638\u001b[0m \u001b[39m# information for numeric axes would be information about log scales.\u001b[39;00m\n\u001b[0;32m    639\u001b[0m \u001b[39mself\u001b[39m\u001b[39m.\u001b[39m_var_ordered \u001b[39m=\u001b[39m {\u001b[39m\"\u001b[39m\u001b[39mx\u001b[39m\u001b[39m\"\u001b[39m: \u001b[39mFalse\u001b[39;00m, \u001b[39m\"\u001b[39m\u001b[39my\u001b[39m\u001b[39m\"\u001b[39m: \u001b[39mFalse\u001b[39;00m}  \u001b[39m# alt., used DefaultDict\u001b[39;00m\n\u001b[1;32m--> 640\u001b[0m \u001b[39mself\u001b[39m\u001b[39m.\u001b[39massign_variables(data, variables)\n\u001b[0;32m    642\u001b[0m \u001b[39mfor\u001b[39;00m var, \u001b[39mcls\u001b[39m \u001b[39min\u001b[39;00m \u001b[39mself\u001b[39m\u001b[39m.\u001b[39m_semantic_mappings\u001b[39m.\u001b[39mitems():\n\u001b[0;32m    643\u001b[0m \n\u001b[0;32m    644\u001b[0m     \u001b[39m# Create the mapping function\u001b[39;00m\n\u001b[0;32m    645\u001b[0m     map_func \u001b[39m=\u001b[39m partial(\u001b[39mcls\u001b[39m\u001b[39m.\u001b[39mmap, plotter\u001b[39m=\u001b[39m\u001b[39mself\u001b[39m)\n",
      "File \u001b[1;32mc:\\Users\\bioni\\anaconda3\\Lib\\site-packages\\seaborn\\_oldcore.py:701\u001b[0m, in \u001b[0;36mVectorPlotter.assign_variables\u001b[1;34m(self, data, variables)\u001b[0m\n\u001b[0;32m    699\u001b[0m \u001b[39melse\u001b[39;00m:\n\u001b[0;32m    700\u001b[0m     \u001b[39mself\u001b[39m\u001b[39m.\u001b[39minput_format \u001b[39m=\u001b[39m \u001b[39m\"\u001b[39m\u001b[39mlong\u001b[39m\u001b[39m\"\u001b[39m\n\u001b[1;32m--> 701\u001b[0m     plot_data, variables \u001b[39m=\u001b[39m \u001b[39mself\u001b[39m\u001b[39m.\u001b[39m_assign_variables_longform(\n\u001b[0;32m    702\u001b[0m         data, \u001b[39m*\u001b[39m\u001b[39m*\u001b[39mvariables,\n\u001b[0;32m    703\u001b[0m     )\n\u001b[0;32m    705\u001b[0m \u001b[39mself\u001b[39m\u001b[39m.\u001b[39mplot_data \u001b[39m=\u001b[39m plot_data\n\u001b[0;32m    706\u001b[0m \u001b[39mself\u001b[39m\u001b[39m.\u001b[39mvariables \u001b[39m=\u001b[39m variables\n",
      "File \u001b[1;32mc:\\Users\\bioni\\anaconda3\\Lib\\site-packages\\seaborn\\_oldcore.py:938\u001b[0m, in \u001b[0;36mVectorPlotter._assign_variables_longform\u001b[1;34m(self, data, **kwargs)\u001b[0m\n\u001b[0;32m    933\u001b[0m \u001b[39melif\u001b[39;00m \u001b[39misinstance\u001b[39m(val, (\u001b[39mstr\u001b[39m, \u001b[39mbytes\u001b[39m)):\n\u001b[0;32m    934\u001b[0m \n\u001b[0;32m    935\u001b[0m     \u001b[39m# This looks like a column name but we don't know what it means!\u001b[39;00m\n\u001b[0;32m    937\u001b[0m     err \u001b[39m=\u001b[39m \u001b[39mf\u001b[39m\u001b[39m\"\u001b[39m\u001b[39mCould not interpret value `\u001b[39m\u001b[39m{\u001b[39;00mval\u001b[39m}\u001b[39;00m\u001b[39m` for parameter `\u001b[39m\u001b[39m{\u001b[39;00mkey\u001b[39m}\u001b[39;00m\u001b[39m`\u001b[39m\u001b[39m\"\u001b[39m\n\u001b[1;32m--> 938\u001b[0m     \u001b[39mraise\u001b[39;00m \u001b[39mValueError\u001b[39;00m(err)\n\u001b[0;32m    940\u001b[0m \u001b[39melse\u001b[39;00m:\n\u001b[0;32m    941\u001b[0m \n\u001b[0;32m    942\u001b[0m     \u001b[39m# Otherwise, assume the value is itself data\u001b[39;00m\n\u001b[0;32m    943\u001b[0m \n\u001b[0;32m    944\u001b[0m     \u001b[39m# Raise when data object is present and a vector can't matched\u001b[39;00m\n\u001b[0;32m    945\u001b[0m     \u001b[39mif\u001b[39;00m \u001b[39misinstance\u001b[39m(data, pd\u001b[39m.\u001b[39mDataFrame) \u001b[39mand\u001b[39;00m \u001b[39mnot\u001b[39;00m \u001b[39misinstance\u001b[39m(val, pd\u001b[39m.\u001b[39mSeries):\n",
      "\u001b[1;31mValueError\u001b[0m: Could not interpret value `rangeHwy` for parameter `y`"
     ]
    }
   ],
   "source": [
    "\n",
    "sns.scatterplot(fuel, x='Manufacturer', y='rangeHwy' );\n",
    "\n"
   ]
  },
  {
   "cell_type": "code",
   "execution_count": null,
   "metadata": {},
   "outputs": [
    {
     "ename": "ValueError",
     "evalue": "Could not interpret value `Manufacturer` for parameter `x`",
     "output_type": "error",
     "traceback": [
      "\u001b[1;31m---------------------------------------------------------------------------\u001b[0m",
      "\u001b[1;31mValueError\u001b[0m                                Traceback (most recent call last)",
      "\u001b[1;32mc:\\Users\\bioni\\OneDrive\\Documents\\GitHub\\Coding_Temple\\Week 4\\Lecture Notes\\D3\\Python for DA Day III.ipynb Cell 20\u001b[0m line \u001b[0;36m1\n\u001b[1;32m----> <a href='vscode-notebook-cell:/c%3A/Users/bioni/OneDrive/Documents/GitHub/Coding_Temple/Week%204/Lecture%20Notes/D3/Python%20for%20DA%20Day%20III.ipynb#X25sZmlsZQ%3D%3D?line=0'>1</a>\u001b[0m sns\u001b[39m.\u001b[39mscatterplot(df, x \u001b[39m=\u001b[39m \u001b[39m'\u001b[39m\u001b[39mManufacturer\u001b[39m\u001b[39m'\u001b[39m, y \u001b[39m=\u001b[39m \u001b[39m'\u001b[39m\u001b[39mElectricity\u001b[39m\u001b[39m'\u001b[39m)\n",
      "File \u001b[1;32mc:\\Users\\bioni\\anaconda3\\Lib\\site-packages\\seaborn\\relational.py:742\u001b[0m, in \u001b[0;36mscatterplot\u001b[1;34m(data, x, y, hue, size, style, palette, hue_order, hue_norm, sizes, size_order, size_norm, markers, style_order, legend, ax, **kwargs)\u001b[0m\n\u001b[0;32m    732\u001b[0m \u001b[39mdef\u001b[39;00m \u001b[39mscatterplot\u001b[39m(\n\u001b[0;32m    733\u001b[0m     data\u001b[39m=\u001b[39m\u001b[39mNone\u001b[39;00m, \u001b[39m*\u001b[39m,\n\u001b[0;32m    734\u001b[0m     x\u001b[39m=\u001b[39m\u001b[39mNone\u001b[39;00m, y\u001b[39m=\u001b[39m\u001b[39mNone\u001b[39;00m, hue\u001b[39m=\u001b[39m\u001b[39mNone\u001b[39;00m, size\u001b[39m=\u001b[39m\u001b[39mNone\u001b[39;00m, style\u001b[39m=\u001b[39m\u001b[39mNone\u001b[39;00m,\n\u001b[1;32m   (...)\u001b[0m\n\u001b[0;32m    738\u001b[0m     \u001b[39m*\u001b[39m\u001b[39m*\u001b[39mkwargs\n\u001b[0;32m    739\u001b[0m ):\n\u001b[0;32m    741\u001b[0m     variables \u001b[39m=\u001b[39m _ScatterPlotter\u001b[39m.\u001b[39mget_semantics(\u001b[39mlocals\u001b[39m())\n\u001b[1;32m--> 742\u001b[0m     p \u001b[39m=\u001b[39m _ScatterPlotter(data\u001b[39m=\u001b[39mdata, variables\u001b[39m=\u001b[39mvariables, legend\u001b[39m=\u001b[39mlegend)\n\u001b[0;32m    744\u001b[0m     p\u001b[39m.\u001b[39mmap_hue(palette\u001b[39m=\u001b[39mpalette, order\u001b[39m=\u001b[39mhue_order, norm\u001b[39m=\u001b[39mhue_norm)\n\u001b[0;32m    745\u001b[0m     p\u001b[39m.\u001b[39mmap_size(sizes\u001b[39m=\u001b[39msizes, order\u001b[39m=\u001b[39msize_order, norm\u001b[39m=\u001b[39msize_norm)\n",
      "File \u001b[1;32mc:\\Users\\bioni\\anaconda3\\Lib\\site-packages\\seaborn\\relational.py:538\u001b[0m, in \u001b[0;36m_ScatterPlotter.__init__\u001b[1;34m(self, data, variables, legend)\u001b[0m\n\u001b[0;32m    529\u001b[0m \u001b[39mdef\u001b[39;00m \u001b[39m__init__\u001b[39m(\u001b[39mself\u001b[39m, \u001b[39m*\u001b[39m, data\u001b[39m=\u001b[39m\u001b[39mNone\u001b[39;00m, variables\u001b[39m=\u001b[39m{}, legend\u001b[39m=\u001b[39m\u001b[39mNone\u001b[39;00m):\n\u001b[0;32m    530\u001b[0m \n\u001b[0;32m    531\u001b[0m     \u001b[39m# TODO this is messy, we want the mapping to be agnostic about\u001b[39;00m\n\u001b[0;32m    532\u001b[0m     \u001b[39m# the kind of plot to draw, but for the time being we need to set\u001b[39;00m\n\u001b[0;32m    533\u001b[0m     \u001b[39m# this information so the SizeMapping can use it\u001b[39;00m\n\u001b[0;32m    534\u001b[0m     \u001b[39mself\u001b[39m\u001b[39m.\u001b[39m_default_size_range \u001b[39m=\u001b[39m (\n\u001b[0;32m    535\u001b[0m         np\u001b[39m.\u001b[39mr_[\u001b[39m.5\u001b[39m, \u001b[39m2\u001b[39m] \u001b[39m*\u001b[39m np\u001b[39m.\u001b[39msquare(mpl\u001b[39m.\u001b[39mrcParams[\u001b[39m\"\u001b[39m\u001b[39mlines.markersize\u001b[39m\u001b[39m\"\u001b[39m])\n\u001b[0;32m    536\u001b[0m     )\n\u001b[1;32m--> 538\u001b[0m     \u001b[39msuper\u001b[39m()\u001b[39m.\u001b[39m\u001b[39m__init__\u001b[39m(data\u001b[39m=\u001b[39mdata, variables\u001b[39m=\u001b[39mvariables)\n\u001b[0;32m    540\u001b[0m     \u001b[39mself\u001b[39m\u001b[39m.\u001b[39mlegend \u001b[39m=\u001b[39m legend\n",
      "File \u001b[1;32mc:\\Users\\bioni\\anaconda3\\Lib\\site-packages\\seaborn\\_oldcore.py:640\u001b[0m, in \u001b[0;36mVectorPlotter.__init__\u001b[1;34m(self, data, variables)\u001b[0m\n\u001b[0;32m    635\u001b[0m \u001b[39m# var_ordered is relevant only for categorical axis variables, and may\u001b[39;00m\n\u001b[0;32m    636\u001b[0m \u001b[39m# be better handled by an internal axis information object that tracks\u001b[39;00m\n\u001b[0;32m    637\u001b[0m \u001b[39m# such information and is set up by the scale_* methods. The analogous\u001b[39;00m\n\u001b[0;32m    638\u001b[0m \u001b[39m# information for numeric axes would be information about log scales.\u001b[39;00m\n\u001b[0;32m    639\u001b[0m \u001b[39mself\u001b[39m\u001b[39m.\u001b[39m_var_ordered \u001b[39m=\u001b[39m {\u001b[39m\"\u001b[39m\u001b[39mx\u001b[39m\u001b[39m\"\u001b[39m: \u001b[39mFalse\u001b[39;00m, \u001b[39m\"\u001b[39m\u001b[39my\u001b[39m\u001b[39m\"\u001b[39m: \u001b[39mFalse\u001b[39;00m}  \u001b[39m# alt., used DefaultDict\u001b[39;00m\n\u001b[1;32m--> 640\u001b[0m \u001b[39mself\u001b[39m\u001b[39m.\u001b[39massign_variables(data, variables)\n\u001b[0;32m    642\u001b[0m \u001b[39mfor\u001b[39;00m var, \u001b[39mcls\u001b[39m \u001b[39min\u001b[39;00m \u001b[39mself\u001b[39m\u001b[39m.\u001b[39m_semantic_mappings\u001b[39m.\u001b[39mitems():\n\u001b[0;32m    643\u001b[0m \n\u001b[0;32m    644\u001b[0m     \u001b[39m# Create the mapping function\u001b[39;00m\n\u001b[0;32m    645\u001b[0m     map_func \u001b[39m=\u001b[39m partial(\u001b[39mcls\u001b[39m\u001b[39m.\u001b[39mmap, plotter\u001b[39m=\u001b[39m\u001b[39mself\u001b[39m)\n",
      "File \u001b[1;32mc:\\Users\\bioni\\anaconda3\\Lib\\site-packages\\seaborn\\_oldcore.py:701\u001b[0m, in \u001b[0;36mVectorPlotter.assign_variables\u001b[1;34m(self, data, variables)\u001b[0m\n\u001b[0;32m    699\u001b[0m \u001b[39melse\u001b[39;00m:\n\u001b[0;32m    700\u001b[0m     \u001b[39mself\u001b[39m\u001b[39m.\u001b[39minput_format \u001b[39m=\u001b[39m \u001b[39m\"\u001b[39m\u001b[39mlong\u001b[39m\u001b[39m\"\u001b[39m\n\u001b[1;32m--> 701\u001b[0m     plot_data, variables \u001b[39m=\u001b[39m \u001b[39mself\u001b[39m\u001b[39m.\u001b[39m_assign_variables_longform(\n\u001b[0;32m    702\u001b[0m         data, \u001b[39m*\u001b[39m\u001b[39m*\u001b[39mvariables,\n\u001b[0;32m    703\u001b[0m     )\n\u001b[0;32m    705\u001b[0m \u001b[39mself\u001b[39m\u001b[39m.\u001b[39mplot_data \u001b[39m=\u001b[39m plot_data\n\u001b[0;32m    706\u001b[0m \u001b[39mself\u001b[39m\u001b[39m.\u001b[39mvariables \u001b[39m=\u001b[39m variables\n",
      "File \u001b[1;32mc:\\Users\\bioni\\anaconda3\\Lib\\site-packages\\seaborn\\_oldcore.py:938\u001b[0m, in \u001b[0;36mVectorPlotter._assign_variables_longform\u001b[1;34m(self, data, **kwargs)\u001b[0m\n\u001b[0;32m    933\u001b[0m \u001b[39melif\u001b[39;00m \u001b[39misinstance\u001b[39m(val, (\u001b[39mstr\u001b[39m, \u001b[39mbytes\u001b[39m)):\n\u001b[0;32m    934\u001b[0m \n\u001b[0;32m    935\u001b[0m     \u001b[39m# This looks like a column name but we don't know what it means!\u001b[39;00m\n\u001b[0;32m    937\u001b[0m     err \u001b[39m=\u001b[39m \u001b[39mf\u001b[39m\u001b[39m\"\u001b[39m\u001b[39mCould not interpret value `\u001b[39m\u001b[39m{\u001b[39;00mval\u001b[39m}\u001b[39;00m\u001b[39m` for parameter `\u001b[39m\u001b[39m{\u001b[39;00mkey\u001b[39m}\u001b[39;00m\u001b[39m`\u001b[39m\u001b[39m\"\u001b[39m\n\u001b[1;32m--> 938\u001b[0m     \u001b[39mraise\u001b[39;00m \u001b[39mValueError\u001b[39;00m(err)\n\u001b[0;32m    940\u001b[0m \u001b[39melse\u001b[39;00m:\n\u001b[0;32m    941\u001b[0m \n\u001b[0;32m    942\u001b[0m     \u001b[39m# Otherwise, assume the value is itself data\u001b[39;00m\n\u001b[0;32m    943\u001b[0m \n\u001b[0;32m    944\u001b[0m     \u001b[39m# Raise when data object is present and a vector can't matched\u001b[39;00m\n\u001b[0;32m    945\u001b[0m     \u001b[39mif\u001b[39;00m \u001b[39misinstance\u001b[39m(data, pd\u001b[39m.\u001b[39mDataFrame) \u001b[39mand\u001b[39;00m \u001b[39mnot\u001b[39;00m \u001b[39misinstance\u001b[39m(val, pd\u001b[39m.\u001b[39mSeries):\n",
      "\u001b[1;31mValueError\u001b[0m: Could not interpret value `Manufacturer` for parameter `x`"
     ]
    }
   ],
   "source": [
    "sns.scatterplot(df, x = 'Manufacturer', y = 'Electricity');"
   ]
  },
  {
   "attachments": {},
   "cell_type": "markdown",
   "metadata": {},
   "source": [
    "### Part 3: Separating the target and splitting the data"
   ]
  },
  {
   "attachments": {},
   "cell_type": "markdown",
   "metadata": {},
   "source": [
    "When working with a machine learning model, it is important to understand how to present the data to that model in order to make an accurate prediction. To start with, there are two things we need to accomplish before moving forward:\n",
    "\n",
    "1. We must remove the target vector from the feature matrix. If we leave in the answers to the test before giving it to the model, it cheats and can get a perfect score on the training, but perform terribly outside of the training environment and on any new data. This is also known as data leakage, which is a cause of what we call an overfit model. \n",
    "\n",
    "2. We must also split the data apart into a training and testing set. In order to test the effectiveness of a model, we will typically hold back some of our data in order to test how the model will perform when faced with data it has never seen before. The amount of this split is typically 80/20; 80% of the data goes into the training dataset, while the reserved 20% is used as a testing set! We want to include as much data as possible in the training set so our model can draw the best conclusions it can about the target and create more accurate predictions. This will also aid you in finding any overfitting issues your model may be having."
   ]
  },
  {
   "cell_type": "code",
   "execution_count": 10,
   "metadata": {},
   "outputs": [],
   "source": [
    "# Step 1: Identify target vector:\n",
    "# This is a regression problem. Regression is the prediction of continous values.\n",
    "\n",
    "target = 'price'\n",
    "\n",
    "# Sep 2: SEparate teh target vector from the feature matrix:\n",
    "X = df.drop(columns=[target, 'house_id'])\n",
    "y = df[target]\n",
    "\n",
    "#Step3: split the data into a training set and testing set, utilizing SKLearn\n",
    "\n",
    "X_train, X_test, y_train, y_test = train_test_split(X,y, train_size=.8, random_state= 42)\n",
    "\n",
    "# Assert statement to double check my work:\n",
    "assert len(X_train) + len(X_test) == len(X), 'You messed up your split!'\n",
    "\n"
   ]
  },
  {
   "attachments": {},
   "cell_type": "markdown",
   "metadata": {},
   "source": [
    "### Part 4: Establish a baseline"
   ]
  },
  {
   "attachments": {},
   "cell_type": "markdown",
   "metadata": {},
   "source": [
    "A `baseline` is nothing more than a way to check our model's performance. It is the simplest prediction we can make about the data. \n",
    "\n",
    "For regression analysis, this baseline is the mean of our target vector. This would be the same as always predicting the average value for each price data-point in the target.\n",
    "\n",
    "For classification analysis, the baseline is the majority class and the percentage that it occurs becomes your baseline value!"
   ]
  },
  {
   "cell_type": "code",
   "execution_count": 11,
   "metadata": {},
   "outputs": [
    {
     "data": {
      "text/plain": [
       "5849     844995\n",
       "5677     458459\n",
       "1488    1177467\n",
       "2288     701328\n",
       "1634    1629542\n",
       "         ...   \n",
       "3772    1452403\n",
       "5191     822179\n",
       "5226     928192\n",
       "5390     230559\n",
       "860      757530\n",
       "Name: price, Length: 4822, dtype: int64"
      ]
     },
     "execution_count": 11,
     "metadata": {},
     "output_type": "execute_result"
    }
   ],
   "source": [
    "y_train"
   ]
  },
  {
   "cell_type": "code",
   "execution_count": 12,
   "metadata": {},
   "outputs": [
    {
     "name": "stdout",
     "output_type": "stream",
     "text": [
      "754207.88\n"
     ]
    }
   ],
   "source": [
    "# Establish a baseline\n",
    "print(df.price.mean().round(2))\n",
    "baseline = [df.price.mean()] *len(y_train)"
   ]
  },
  {
   "cell_type": "code",
   "execution_count": 13,
   "metadata": {},
   "outputs": [
    {
     "data": {
      "text/plain": [
       "[754207.8838752488,\n",
       " 754207.8838752488,\n",
       " 754207.8838752488,\n",
       " 754207.8838752488,\n",
       " 754207.8838752488,\n",
       " 754207.8838752488,\n",
       " 754207.8838752488,\n",
       " 754207.8838752488,\n",
       " 754207.8838752488,\n",
       " 754207.8838752488,\n",
       " 754207.8838752488,\n",
       " 754207.8838752488,\n",
       " 754207.8838752488,\n",
       " 754207.8838752488,\n",
       " 754207.8838752488,\n",
       " 754207.8838752488,\n",
       " 754207.8838752488,\n",
       " 754207.8838752488,\n",
       " 754207.8838752488,\n",
       " 754207.8838752488,\n",
       " 754207.8838752488,\n",
       " 754207.8838752488,\n",
       " 754207.8838752488,\n",
       " 754207.8838752488,\n",
       " 754207.8838752488,\n",
       " 754207.8838752488,\n",
       " 754207.8838752488,\n",
       " 754207.8838752488,\n",
       " 754207.8838752488,\n",
       " 754207.8838752488,\n",
       " 754207.8838752488,\n",
       " 754207.8838752488,\n",
       " 754207.8838752488,\n",
       " 754207.8838752488,\n",
       " 754207.8838752488,\n",
       " 754207.8838752488,\n",
       " 754207.8838752488,\n",
       " 754207.8838752488,\n",
       " 754207.8838752488,\n",
       " 754207.8838752488,\n",
       " 754207.8838752488,\n",
       " 754207.8838752488,\n",
       " 754207.8838752488,\n",
       " 754207.8838752488,\n",
       " 754207.8838752488,\n",
       " 754207.8838752488,\n",
       " 754207.8838752488,\n",
       " 754207.8838752488,\n",
       " 754207.8838752488,\n",
       " 754207.8838752488,\n",
       " 754207.8838752488,\n",
       " 754207.8838752488,\n",
       " 754207.8838752488,\n",
       " 754207.8838752488,\n",
       " 754207.8838752488,\n",
       " 754207.8838752488,\n",
       " 754207.8838752488,\n",
       " 754207.8838752488,\n",
       " 754207.8838752488,\n",
       " 754207.8838752488,\n",
       " 754207.8838752488,\n",
       " 754207.8838752488,\n",
       " 754207.8838752488,\n",
       " 754207.8838752488,\n",
       " 754207.8838752488,\n",
       " 754207.8838752488,\n",
       " 754207.8838752488,\n",
       " 754207.8838752488,\n",
       " 754207.8838752488,\n",
       " 754207.8838752488,\n",
       " 754207.8838752488,\n",
       " 754207.8838752488,\n",
       " 754207.8838752488,\n",
       " 754207.8838752488,\n",
       " 754207.8838752488,\n",
       " 754207.8838752488,\n",
       " 754207.8838752488,\n",
       " 754207.8838752488,\n",
       " 754207.8838752488,\n",
       " 754207.8838752488,\n",
       " 754207.8838752488,\n",
       " 754207.8838752488,\n",
       " 754207.8838752488,\n",
       " 754207.8838752488,\n",
       " 754207.8838752488,\n",
       " 754207.8838752488,\n",
       " 754207.8838752488,\n",
       " 754207.8838752488,\n",
       " 754207.8838752488,\n",
       " 754207.8838752488,\n",
       " 754207.8838752488,\n",
       " 754207.8838752488,\n",
       " 754207.8838752488,\n",
       " 754207.8838752488,\n",
       " 754207.8838752488,\n",
       " 754207.8838752488,\n",
       " 754207.8838752488,\n",
       " 754207.8838752488,\n",
       " 754207.8838752488,\n",
       " 754207.8838752488,\n",
       " 754207.8838752488,\n",
       " 754207.8838752488,\n",
       " 754207.8838752488,\n",
       " 754207.8838752488,\n",
       " 754207.8838752488,\n",
       " 754207.8838752488,\n",
       " 754207.8838752488,\n",
       " 754207.8838752488,\n",
       " 754207.8838752488,\n",
       " 754207.8838752488,\n",
       " 754207.8838752488,\n",
       " 754207.8838752488,\n",
       " 754207.8838752488,\n",
       " 754207.8838752488,\n",
       " 754207.8838752488,\n",
       " 754207.8838752488,\n",
       " 754207.8838752488,\n",
       " 754207.8838752488,\n",
       " 754207.8838752488,\n",
       " 754207.8838752488,\n",
       " 754207.8838752488,\n",
       " 754207.8838752488,\n",
       " 754207.8838752488,\n",
       " 754207.8838752488,\n",
       " 754207.8838752488,\n",
       " 754207.8838752488,\n",
       " 754207.8838752488,\n",
       " 754207.8838752488,\n",
       " 754207.8838752488,\n",
       " 754207.8838752488,\n",
       " 754207.8838752488,\n",
       " 754207.8838752488,\n",
       " 754207.8838752488,\n",
       " 754207.8838752488,\n",
       " 754207.8838752488,\n",
       " 754207.8838752488,\n",
       " 754207.8838752488,\n",
       " 754207.8838752488,\n",
       " 754207.8838752488,\n",
       " 754207.8838752488,\n",
       " 754207.8838752488,\n",
       " 754207.8838752488,\n",
       " 754207.8838752488,\n",
       " 754207.8838752488,\n",
       " 754207.8838752488,\n",
       " 754207.8838752488,\n",
       " 754207.8838752488,\n",
       " 754207.8838752488,\n",
       " 754207.8838752488,\n",
       " 754207.8838752488,\n",
       " 754207.8838752488,\n",
       " 754207.8838752488,\n",
       " 754207.8838752488,\n",
       " 754207.8838752488,\n",
       " 754207.8838752488,\n",
       " 754207.8838752488,\n",
       " 754207.8838752488,\n",
       " 754207.8838752488,\n",
       " 754207.8838752488,\n",
       " 754207.8838752488,\n",
       " 754207.8838752488,\n",
       " 754207.8838752488,\n",
       " 754207.8838752488,\n",
       " 754207.8838752488,\n",
       " 754207.8838752488,\n",
       " 754207.8838752488,\n",
       " 754207.8838752488,\n",
       " 754207.8838752488,\n",
       " 754207.8838752488,\n",
       " 754207.8838752488,\n",
       " 754207.8838752488,\n",
       " 754207.8838752488,\n",
       " 754207.8838752488,\n",
       " 754207.8838752488,\n",
       " 754207.8838752488,\n",
       " 754207.8838752488,\n",
       " 754207.8838752488,\n",
       " 754207.8838752488,\n",
       " 754207.8838752488,\n",
       " 754207.8838752488,\n",
       " 754207.8838752488,\n",
       " 754207.8838752488,\n",
       " 754207.8838752488,\n",
       " 754207.8838752488,\n",
       " 754207.8838752488,\n",
       " 754207.8838752488,\n",
       " 754207.8838752488,\n",
       " 754207.8838752488,\n",
       " 754207.8838752488,\n",
       " 754207.8838752488,\n",
       " 754207.8838752488,\n",
       " 754207.8838752488,\n",
       " 754207.8838752488,\n",
       " 754207.8838752488,\n",
       " 754207.8838752488,\n",
       " 754207.8838752488,\n",
       " 754207.8838752488,\n",
       " 754207.8838752488,\n",
       " 754207.8838752488,\n",
       " 754207.8838752488,\n",
       " 754207.8838752488,\n",
       " 754207.8838752488,\n",
       " 754207.8838752488,\n",
       " 754207.8838752488,\n",
       " 754207.8838752488,\n",
       " 754207.8838752488,\n",
       " 754207.8838752488,\n",
       " 754207.8838752488,\n",
       " 754207.8838752488,\n",
       " 754207.8838752488,\n",
       " 754207.8838752488,\n",
       " 754207.8838752488,\n",
       " 754207.8838752488,\n",
       " 754207.8838752488,\n",
       " 754207.8838752488,\n",
       " 754207.8838752488,\n",
       " 754207.8838752488,\n",
       " 754207.8838752488,\n",
       " 754207.8838752488,\n",
       " 754207.8838752488,\n",
       " 754207.8838752488,\n",
       " 754207.8838752488,\n",
       " 754207.8838752488,\n",
       " 754207.8838752488,\n",
       " 754207.8838752488,\n",
       " 754207.8838752488,\n",
       " 754207.8838752488,\n",
       " 754207.8838752488,\n",
       " 754207.8838752488,\n",
       " 754207.8838752488,\n",
       " 754207.8838752488,\n",
       " 754207.8838752488,\n",
       " 754207.8838752488,\n",
       " 754207.8838752488,\n",
       " 754207.8838752488,\n",
       " 754207.8838752488,\n",
       " 754207.8838752488,\n",
       " 754207.8838752488,\n",
       " 754207.8838752488,\n",
       " 754207.8838752488,\n",
       " 754207.8838752488,\n",
       " 754207.8838752488,\n",
       " 754207.8838752488,\n",
       " 754207.8838752488,\n",
       " 754207.8838752488,\n",
       " 754207.8838752488,\n",
       " 754207.8838752488,\n",
       " 754207.8838752488,\n",
       " 754207.8838752488,\n",
       " 754207.8838752488,\n",
       " 754207.8838752488,\n",
       " 754207.8838752488,\n",
       " 754207.8838752488,\n",
       " 754207.8838752488,\n",
       " 754207.8838752488,\n",
       " 754207.8838752488,\n",
       " 754207.8838752488,\n",
       " 754207.8838752488,\n",
       " 754207.8838752488,\n",
       " 754207.8838752488,\n",
       " 754207.8838752488,\n",
       " 754207.8838752488,\n",
       " 754207.8838752488,\n",
       " 754207.8838752488,\n",
       " 754207.8838752488,\n",
       " 754207.8838752488,\n",
       " 754207.8838752488,\n",
       " 754207.8838752488,\n",
       " 754207.8838752488,\n",
       " 754207.8838752488,\n",
       " 754207.8838752488,\n",
       " 754207.8838752488,\n",
       " 754207.8838752488,\n",
       " 754207.8838752488,\n",
       " 754207.8838752488,\n",
       " 754207.8838752488,\n",
       " 754207.8838752488,\n",
       " 754207.8838752488,\n",
       " 754207.8838752488,\n",
       " 754207.8838752488,\n",
       " 754207.8838752488,\n",
       " 754207.8838752488,\n",
       " 754207.8838752488,\n",
       " 754207.8838752488,\n",
       " 754207.8838752488,\n",
       " 754207.8838752488,\n",
       " 754207.8838752488,\n",
       " 754207.8838752488,\n",
       " 754207.8838752488,\n",
       " 754207.8838752488,\n",
       " 754207.8838752488,\n",
       " 754207.8838752488,\n",
       " 754207.8838752488,\n",
       " 754207.8838752488,\n",
       " 754207.8838752488,\n",
       " 754207.8838752488,\n",
       " 754207.8838752488,\n",
       " 754207.8838752488,\n",
       " 754207.8838752488,\n",
       " 754207.8838752488,\n",
       " 754207.8838752488,\n",
       " 754207.8838752488,\n",
       " 754207.8838752488,\n",
       " 754207.8838752488,\n",
       " 754207.8838752488,\n",
       " 754207.8838752488,\n",
       " 754207.8838752488,\n",
       " 754207.8838752488,\n",
       " 754207.8838752488,\n",
       " 754207.8838752488,\n",
       " 754207.8838752488,\n",
       " 754207.8838752488,\n",
       " 754207.8838752488,\n",
       " 754207.8838752488,\n",
       " 754207.8838752488,\n",
       " 754207.8838752488,\n",
       " 754207.8838752488,\n",
       " 754207.8838752488,\n",
       " 754207.8838752488,\n",
       " 754207.8838752488,\n",
       " 754207.8838752488,\n",
       " 754207.8838752488,\n",
       " 754207.8838752488,\n",
       " 754207.8838752488,\n",
       " 754207.8838752488,\n",
       " 754207.8838752488,\n",
       " 754207.8838752488,\n",
       " 754207.8838752488,\n",
       " 754207.8838752488,\n",
       " 754207.8838752488,\n",
       " 754207.8838752488,\n",
       " 754207.8838752488,\n",
       " 754207.8838752488,\n",
       " 754207.8838752488,\n",
       " 754207.8838752488,\n",
       " 754207.8838752488,\n",
       " 754207.8838752488,\n",
       " 754207.8838752488,\n",
       " 754207.8838752488,\n",
       " 754207.8838752488,\n",
       " 754207.8838752488,\n",
       " 754207.8838752488,\n",
       " 754207.8838752488,\n",
       " 754207.8838752488,\n",
       " 754207.8838752488,\n",
       " 754207.8838752488,\n",
       " 754207.8838752488,\n",
       " 754207.8838752488,\n",
       " 754207.8838752488,\n",
       " 754207.8838752488,\n",
       " 754207.8838752488,\n",
       " 754207.8838752488,\n",
       " 754207.8838752488,\n",
       " 754207.8838752488,\n",
       " 754207.8838752488,\n",
       " 754207.8838752488,\n",
       " 754207.8838752488,\n",
       " 754207.8838752488,\n",
       " 754207.8838752488,\n",
       " 754207.8838752488,\n",
       " 754207.8838752488,\n",
       " 754207.8838752488,\n",
       " 754207.8838752488,\n",
       " 754207.8838752488,\n",
       " 754207.8838752488,\n",
       " 754207.8838752488,\n",
       " 754207.8838752488,\n",
       " 754207.8838752488,\n",
       " 754207.8838752488,\n",
       " 754207.8838752488,\n",
       " 754207.8838752488,\n",
       " 754207.8838752488,\n",
       " 754207.8838752488,\n",
       " 754207.8838752488,\n",
       " 754207.8838752488,\n",
       " 754207.8838752488,\n",
       " 754207.8838752488,\n",
       " 754207.8838752488,\n",
       " 754207.8838752488,\n",
       " 754207.8838752488,\n",
       " 754207.8838752488,\n",
       " 754207.8838752488,\n",
       " 754207.8838752488,\n",
       " 754207.8838752488,\n",
       " 754207.8838752488,\n",
       " 754207.8838752488,\n",
       " 754207.8838752488,\n",
       " 754207.8838752488,\n",
       " 754207.8838752488,\n",
       " 754207.8838752488,\n",
       " 754207.8838752488,\n",
       " 754207.8838752488,\n",
       " 754207.8838752488,\n",
       " 754207.8838752488,\n",
       " 754207.8838752488,\n",
       " 754207.8838752488,\n",
       " 754207.8838752488,\n",
       " 754207.8838752488,\n",
       " 754207.8838752488,\n",
       " 754207.8838752488,\n",
       " 754207.8838752488,\n",
       " 754207.8838752488,\n",
       " 754207.8838752488,\n",
       " 754207.8838752488,\n",
       " 754207.8838752488,\n",
       " 754207.8838752488,\n",
       " 754207.8838752488,\n",
       " 754207.8838752488,\n",
       " 754207.8838752488,\n",
       " 754207.8838752488,\n",
       " 754207.8838752488,\n",
       " 754207.8838752488,\n",
       " 754207.8838752488,\n",
       " 754207.8838752488,\n",
       " 754207.8838752488,\n",
       " 754207.8838752488,\n",
       " 754207.8838752488,\n",
       " 754207.8838752488,\n",
       " 754207.8838752488,\n",
       " 754207.8838752488,\n",
       " 754207.8838752488,\n",
       " 754207.8838752488,\n",
       " 754207.8838752488,\n",
       " 754207.8838752488,\n",
       " 754207.8838752488,\n",
       " 754207.8838752488,\n",
       " 754207.8838752488,\n",
       " 754207.8838752488,\n",
       " 754207.8838752488,\n",
       " 754207.8838752488,\n",
       " 754207.8838752488,\n",
       " 754207.8838752488,\n",
       " 754207.8838752488,\n",
       " 754207.8838752488,\n",
       " 754207.8838752488,\n",
       " 754207.8838752488,\n",
       " 754207.8838752488,\n",
       " 754207.8838752488,\n",
       " 754207.8838752488,\n",
       " 754207.8838752488,\n",
       " 754207.8838752488,\n",
       " 754207.8838752488,\n",
       " 754207.8838752488,\n",
       " 754207.8838752488,\n",
       " 754207.8838752488,\n",
       " 754207.8838752488,\n",
       " 754207.8838752488,\n",
       " 754207.8838752488,\n",
       " 754207.8838752488,\n",
       " 754207.8838752488,\n",
       " 754207.8838752488,\n",
       " 754207.8838752488,\n",
       " 754207.8838752488,\n",
       " 754207.8838752488,\n",
       " 754207.8838752488,\n",
       " 754207.8838752488,\n",
       " 754207.8838752488,\n",
       " 754207.8838752488,\n",
       " 754207.8838752488,\n",
       " 754207.8838752488,\n",
       " 754207.8838752488,\n",
       " 754207.8838752488,\n",
       " 754207.8838752488,\n",
       " 754207.8838752488,\n",
       " 754207.8838752488,\n",
       " 754207.8838752488,\n",
       " 754207.8838752488,\n",
       " 754207.8838752488,\n",
       " 754207.8838752488,\n",
       " 754207.8838752488,\n",
       " 754207.8838752488,\n",
       " 754207.8838752488,\n",
       " 754207.8838752488,\n",
       " 754207.8838752488,\n",
       " 754207.8838752488,\n",
       " 754207.8838752488,\n",
       " 754207.8838752488,\n",
       " 754207.8838752488,\n",
       " 754207.8838752488,\n",
       " 754207.8838752488,\n",
       " 754207.8838752488,\n",
       " 754207.8838752488,\n",
       " 754207.8838752488,\n",
       " 754207.8838752488,\n",
       " 754207.8838752488,\n",
       " 754207.8838752488,\n",
       " 754207.8838752488,\n",
       " 754207.8838752488,\n",
       " 754207.8838752488,\n",
       " 754207.8838752488,\n",
       " 754207.8838752488,\n",
       " 754207.8838752488,\n",
       " 754207.8838752488,\n",
       " 754207.8838752488,\n",
       " 754207.8838752488,\n",
       " 754207.8838752488,\n",
       " 754207.8838752488,\n",
       " 754207.8838752488,\n",
       " 754207.8838752488,\n",
       " 754207.8838752488,\n",
       " 754207.8838752488,\n",
       " 754207.8838752488,\n",
       " 754207.8838752488,\n",
       " 754207.8838752488,\n",
       " 754207.8838752488,\n",
       " 754207.8838752488,\n",
       " 754207.8838752488,\n",
       " 754207.8838752488,\n",
       " 754207.8838752488,\n",
       " 754207.8838752488,\n",
       " 754207.8838752488,\n",
       " 754207.8838752488,\n",
       " 754207.8838752488,\n",
       " 754207.8838752488,\n",
       " 754207.8838752488,\n",
       " 754207.8838752488,\n",
       " 754207.8838752488,\n",
       " 754207.8838752488,\n",
       " 754207.8838752488,\n",
       " 754207.8838752488,\n",
       " 754207.8838752488,\n",
       " 754207.8838752488,\n",
       " 754207.8838752488,\n",
       " 754207.8838752488,\n",
       " 754207.8838752488,\n",
       " 754207.8838752488,\n",
       " 754207.8838752488,\n",
       " 754207.8838752488,\n",
       " 754207.8838752488,\n",
       " 754207.8838752488,\n",
       " 754207.8838752488,\n",
       " 754207.8838752488,\n",
       " 754207.8838752488,\n",
       " 754207.8838752488,\n",
       " 754207.8838752488,\n",
       " 754207.8838752488,\n",
       " 754207.8838752488,\n",
       " 754207.8838752488,\n",
       " 754207.8838752488,\n",
       " 754207.8838752488,\n",
       " 754207.8838752488,\n",
       " 754207.8838752488,\n",
       " 754207.8838752488,\n",
       " 754207.8838752488,\n",
       " 754207.8838752488,\n",
       " 754207.8838752488,\n",
       " 754207.8838752488,\n",
       " 754207.8838752488,\n",
       " 754207.8838752488,\n",
       " 754207.8838752488,\n",
       " 754207.8838752488,\n",
       " 754207.8838752488,\n",
       " 754207.8838752488,\n",
       " 754207.8838752488,\n",
       " 754207.8838752488,\n",
       " 754207.8838752488,\n",
       " 754207.8838752488,\n",
       " 754207.8838752488,\n",
       " 754207.8838752488,\n",
       " 754207.8838752488,\n",
       " 754207.8838752488,\n",
       " 754207.8838752488,\n",
       " 754207.8838752488,\n",
       " 754207.8838752488,\n",
       " 754207.8838752488,\n",
       " 754207.8838752488,\n",
       " 754207.8838752488,\n",
       " 754207.8838752488,\n",
       " 754207.8838752488,\n",
       " 754207.8838752488,\n",
       " 754207.8838752488,\n",
       " 754207.8838752488,\n",
       " 754207.8838752488,\n",
       " 754207.8838752488,\n",
       " 754207.8838752488,\n",
       " 754207.8838752488,\n",
       " 754207.8838752488,\n",
       " 754207.8838752488,\n",
       " 754207.8838752488,\n",
       " 754207.8838752488,\n",
       " 754207.8838752488,\n",
       " 754207.8838752488,\n",
       " 754207.8838752488,\n",
       " 754207.8838752488,\n",
       " 754207.8838752488,\n",
       " 754207.8838752488,\n",
       " 754207.8838752488,\n",
       " 754207.8838752488,\n",
       " 754207.8838752488,\n",
       " 754207.8838752488,\n",
       " 754207.8838752488,\n",
       " 754207.8838752488,\n",
       " 754207.8838752488,\n",
       " 754207.8838752488,\n",
       " 754207.8838752488,\n",
       " 754207.8838752488,\n",
       " 754207.8838752488,\n",
       " 754207.8838752488,\n",
       " 754207.8838752488,\n",
       " 754207.8838752488,\n",
       " 754207.8838752488,\n",
       " 754207.8838752488,\n",
       " 754207.8838752488,\n",
       " 754207.8838752488,\n",
       " 754207.8838752488,\n",
       " 754207.8838752488,\n",
       " 754207.8838752488,\n",
       " 754207.8838752488,\n",
       " 754207.8838752488,\n",
       " 754207.8838752488,\n",
       " 754207.8838752488,\n",
       " 754207.8838752488,\n",
       " 754207.8838752488,\n",
       " 754207.8838752488,\n",
       " 754207.8838752488,\n",
       " 754207.8838752488,\n",
       " 754207.8838752488,\n",
       " 754207.8838752488,\n",
       " 754207.8838752488,\n",
       " 754207.8838752488,\n",
       " 754207.8838752488,\n",
       " 754207.8838752488,\n",
       " 754207.8838752488,\n",
       " 754207.8838752488,\n",
       " 754207.8838752488,\n",
       " 754207.8838752488,\n",
       " 754207.8838752488,\n",
       " 754207.8838752488,\n",
       " 754207.8838752488,\n",
       " 754207.8838752488,\n",
       " 754207.8838752488,\n",
       " 754207.8838752488,\n",
       " 754207.8838752488,\n",
       " 754207.8838752488,\n",
       " 754207.8838752488,\n",
       " 754207.8838752488,\n",
       " 754207.8838752488,\n",
       " 754207.8838752488,\n",
       " 754207.8838752488,\n",
       " 754207.8838752488,\n",
       " 754207.8838752488,\n",
       " 754207.8838752488,\n",
       " 754207.8838752488,\n",
       " 754207.8838752488,\n",
       " 754207.8838752488,\n",
       " 754207.8838752488,\n",
       " 754207.8838752488,\n",
       " 754207.8838752488,\n",
       " 754207.8838752488,\n",
       " 754207.8838752488,\n",
       " 754207.8838752488,\n",
       " 754207.8838752488,\n",
       " 754207.8838752488,\n",
       " 754207.8838752488,\n",
       " 754207.8838752488,\n",
       " 754207.8838752488,\n",
       " 754207.8838752488,\n",
       " 754207.8838752488,\n",
       " 754207.8838752488,\n",
       " 754207.8838752488,\n",
       " 754207.8838752488,\n",
       " 754207.8838752488,\n",
       " 754207.8838752488,\n",
       " 754207.8838752488,\n",
       " 754207.8838752488,\n",
       " 754207.8838752488,\n",
       " 754207.8838752488,\n",
       " 754207.8838752488,\n",
       " 754207.8838752488,\n",
       " 754207.8838752488,\n",
       " 754207.8838752488,\n",
       " 754207.8838752488,\n",
       " 754207.8838752488,\n",
       " 754207.8838752488,\n",
       " 754207.8838752488,\n",
       " 754207.8838752488,\n",
       " 754207.8838752488,\n",
       " 754207.8838752488,\n",
       " 754207.8838752488,\n",
       " 754207.8838752488,\n",
       " 754207.8838752488,\n",
       " 754207.8838752488,\n",
       " 754207.8838752488,\n",
       " 754207.8838752488,\n",
       " 754207.8838752488,\n",
       " 754207.8838752488,\n",
       " 754207.8838752488,\n",
       " 754207.8838752488,\n",
       " 754207.8838752488,\n",
       " 754207.8838752488,\n",
       " 754207.8838752488,\n",
       " 754207.8838752488,\n",
       " 754207.8838752488,\n",
       " 754207.8838752488,\n",
       " 754207.8838752488,\n",
       " 754207.8838752488,\n",
       " 754207.8838752488,\n",
       " 754207.8838752488,\n",
       " 754207.8838752488,\n",
       " 754207.8838752488,\n",
       " 754207.8838752488,\n",
       " 754207.8838752488,\n",
       " 754207.8838752488,\n",
       " 754207.8838752488,\n",
       " 754207.8838752488,\n",
       " 754207.8838752488,\n",
       " 754207.8838752488,\n",
       " 754207.8838752488,\n",
       " 754207.8838752488,\n",
       " 754207.8838752488,\n",
       " 754207.8838752488,\n",
       " 754207.8838752488,\n",
       " 754207.8838752488,\n",
       " 754207.8838752488,\n",
       " 754207.8838752488,\n",
       " 754207.8838752488,\n",
       " 754207.8838752488,\n",
       " 754207.8838752488,\n",
       " 754207.8838752488,\n",
       " 754207.8838752488,\n",
       " 754207.8838752488,\n",
       " 754207.8838752488,\n",
       " 754207.8838752488,\n",
       " 754207.8838752488,\n",
       " 754207.8838752488,\n",
       " 754207.8838752488,\n",
       " 754207.8838752488,\n",
       " 754207.8838752488,\n",
       " 754207.8838752488,\n",
       " 754207.8838752488,\n",
       " 754207.8838752488,\n",
       " 754207.8838752488,\n",
       " 754207.8838752488,\n",
       " 754207.8838752488,\n",
       " 754207.8838752488,\n",
       " 754207.8838752488,\n",
       " 754207.8838752488,\n",
       " 754207.8838752488,\n",
       " 754207.8838752488,\n",
       " 754207.8838752488,\n",
       " 754207.8838752488,\n",
       " 754207.8838752488,\n",
       " 754207.8838752488,\n",
       " 754207.8838752488,\n",
       " 754207.8838752488,\n",
       " 754207.8838752488,\n",
       " 754207.8838752488,\n",
       " 754207.8838752488,\n",
       " 754207.8838752488,\n",
       " 754207.8838752488,\n",
       " 754207.8838752488,\n",
       " 754207.8838752488,\n",
       " 754207.8838752488,\n",
       " 754207.8838752488,\n",
       " 754207.8838752488,\n",
       " 754207.8838752488,\n",
       " 754207.8838752488,\n",
       " 754207.8838752488,\n",
       " 754207.8838752488,\n",
       " 754207.8838752488,\n",
       " 754207.8838752488,\n",
       " 754207.8838752488,\n",
       " 754207.8838752488,\n",
       " 754207.8838752488,\n",
       " 754207.8838752488,\n",
       " 754207.8838752488,\n",
       " 754207.8838752488,\n",
       " 754207.8838752488,\n",
       " 754207.8838752488,\n",
       " 754207.8838752488,\n",
       " 754207.8838752488,\n",
       " 754207.8838752488,\n",
       " 754207.8838752488,\n",
       " 754207.8838752488,\n",
       " 754207.8838752488,\n",
       " 754207.8838752488,\n",
       " 754207.8838752488,\n",
       " 754207.8838752488,\n",
       " 754207.8838752488,\n",
       " 754207.8838752488,\n",
       " 754207.8838752488,\n",
       " 754207.8838752488,\n",
       " 754207.8838752488,\n",
       " 754207.8838752488,\n",
       " 754207.8838752488,\n",
       " 754207.8838752488,\n",
       " 754207.8838752488,\n",
       " 754207.8838752488,\n",
       " 754207.8838752488,\n",
       " 754207.8838752488,\n",
       " 754207.8838752488,\n",
       " 754207.8838752488,\n",
       " 754207.8838752488,\n",
       " 754207.8838752488,\n",
       " 754207.8838752488,\n",
       " 754207.8838752488,\n",
       " 754207.8838752488,\n",
       " 754207.8838752488,\n",
       " 754207.8838752488,\n",
       " 754207.8838752488,\n",
       " 754207.8838752488,\n",
       " 754207.8838752488,\n",
       " 754207.8838752488,\n",
       " 754207.8838752488,\n",
       " 754207.8838752488,\n",
       " 754207.8838752488,\n",
       " 754207.8838752488,\n",
       " 754207.8838752488,\n",
       " 754207.8838752488,\n",
       " 754207.8838752488,\n",
       " 754207.8838752488,\n",
       " 754207.8838752488,\n",
       " 754207.8838752488,\n",
       " 754207.8838752488,\n",
       " 754207.8838752488,\n",
       " 754207.8838752488,\n",
       " 754207.8838752488,\n",
       " 754207.8838752488,\n",
       " 754207.8838752488,\n",
       " 754207.8838752488,\n",
       " 754207.8838752488,\n",
       " 754207.8838752488,\n",
       " 754207.8838752488,\n",
       " 754207.8838752488,\n",
       " 754207.8838752488,\n",
       " 754207.8838752488,\n",
       " 754207.8838752488,\n",
       " 754207.8838752488,\n",
       " 754207.8838752488,\n",
       " 754207.8838752488,\n",
       " 754207.8838752488,\n",
       " 754207.8838752488,\n",
       " 754207.8838752488,\n",
       " 754207.8838752488,\n",
       " 754207.8838752488,\n",
       " 754207.8838752488,\n",
       " 754207.8838752488,\n",
       " 754207.8838752488,\n",
       " 754207.8838752488,\n",
       " 754207.8838752488,\n",
       " 754207.8838752488,\n",
       " 754207.8838752488,\n",
       " 754207.8838752488,\n",
       " 754207.8838752488,\n",
       " 754207.8838752488,\n",
       " 754207.8838752488,\n",
       " 754207.8838752488,\n",
       " 754207.8838752488,\n",
       " 754207.8838752488,\n",
       " 754207.8838752488,\n",
       " 754207.8838752488,\n",
       " 754207.8838752488,\n",
       " 754207.8838752488,\n",
       " 754207.8838752488,\n",
       " 754207.8838752488,\n",
       " 754207.8838752488,\n",
       " 754207.8838752488,\n",
       " 754207.8838752488,\n",
       " 754207.8838752488,\n",
       " 754207.8838752488,\n",
       " 754207.8838752488,\n",
       " 754207.8838752488,\n",
       " 754207.8838752488,\n",
       " 754207.8838752488,\n",
       " 754207.8838752488,\n",
       " 754207.8838752488,\n",
       " 754207.8838752488,\n",
       " 754207.8838752488,\n",
       " 754207.8838752488,\n",
       " 754207.8838752488,\n",
       " 754207.8838752488,\n",
       " 754207.8838752488,\n",
       " 754207.8838752488,\n",
       " 754207.8838752488,\n",
       " 754207.8838752488,\n",
       " 754207.8838752488,\n",
       " 754207.8838752488,\n",
       " 754207.8838752488,\n",
       " 754207.8838752488,\n",
       " 754207.8838752488,\n",
       " 754207.8838752488,\n",
       " 754207.8838752488,\n",
       " 754207.8838752488,\n",
       " 754207.8838752488,\n",
       " 754207.8838752488,\n",
       " 754207.8838752488,\n",
       " 754207.8838752488,\n",
       " 754207.8838752488,\n",
       " 754207.8838752488,\n",
       " 754207.8838752488,\n",
       " 754207.8838752488,\n",
       " 754207.8838752488,\n",
       " 754207.8838752488,\n",
       " 754207.8838752488,\n",
       " 754207.8838752488,\n",
       " 754207.8838752488,\n",
       " 754207.8838752488,\n",
       " 754207.8838752488,\n",
       " 754207.8838752488,\n",
       " 754207.8838752488,\n",
       " 754207.8838752488,\n",
       " 754207.8838752488,\n",
       " 754207.8838752488,\n",
       " 754207.8838752488,\n",
       " 754207.8838752488,\n",
       " 754207.8838752488,\n",
       " 754207.8838752488,\n",
       " 754207.8838752488,\n",
       " 754207.8838752488,\n",
       " 754207.8838752488,\n",
       " 754207.8838752488,\n",
       " 754207.8838752488,\n",
       " 754207.8838752488,\n",
       " 754207.8838752488,\n",
       " 754207.8838752488,\n",
       " 754207.8838752488,\n",
       " 754207.8838752488,\n",
       " 754207.8838752488,\n",
       " 754207.8838752488,\n",
       " 754207.8838752488,\n",
       " 754207.8838752488,\n",
       " 754207.8838752488,\n",
       " 754207.8838752488,\n",
       " 754207.8838752488,\n",
       " 754207.8838752488,\n",
       " 754207.8838752488,\n",
       " 754207.8838752488,\n",
       " 754207.8838752488,\n",
       " 754207.8838752488,\n",
       " 754207.8838752488,\n",
       " 754207.8838752488,\n",
       " 754207.8838752488,\n",
       " 754207.8838752488,\n",
       " 754207.8838752488,\n",
       " 754207.8838752488,\n",
       " 754207.8838752488,\n",
       " 754207.8838752488,\n",
       " 754207.8838752488,\n",
       " 754207.8838752488,\n",
       " 754207.8838752488,\n",
       " 754207.8838752488,\n",
       " 754207.8838752488,\n",
       " 754207.8838752488,\n",
       " 754207.8838752488,\n",
       " 754207.8838752488,\n",
       " 754207.8838752488,\n",
       " 754207.8838752488,\n",
       " 754207.8838752488,\n",
       " 754207.8838752488,\n",
       " 754207.8838752488,\n",
       " 754207.8838752488,\n",
       " 754207.8838752488,\n",
       " 754207.8838752488,\n",
       " 754207.8838752488,\n",
       " 754207.8838752488,\n",
       " 754207.8838752488,\n",
       " 754207.8838752488,\n",
       " 754207.8838752488,\n",
       " 754207.8838752488,\n",
       " 754207.8838752488,\n",
       " 754207.8838752488,\n",
       " 754207.8838752488,\n",
       " 754207.8838752488,\n",
       " 754207.8838752488,\n",
       " 754207.8838752488,\n",
       " 754207.8838752488,\n",
       " 754207.8838752488,\n",
       " 754207.8838752488,\n",
       " 754207.8838752488,\n",
       " 754207.8838752488,\n",
       " 754207.8838752488,\n",
       " 754207.8838752488,\n",
       " 754207.8838752488,\n",
       " 754207.8838752488,\n",
       " 754207.8838752488,\n",
       " 754207.8838752488,\n",
       " 754207.8838752488,\n",
       " 754207.8838752488,\n",
       " 754207.8838752488,\n",
       " 754207.8838752488,\n",
       " 754207.8838752488,\n",
       " 754207.8838752488,\n",
       " 754207.8838752488,\n",
       " 754207.8838752488,\n",
       " 754207.8838752488,\n",
       " 754207.8838752488,\n",
       " 754207.8838752488,\n",
       " 754207.8838752488,\n",
       " 754207.8838752488,\n",
       " 754207.8838752488,\n",
       " 754207.8838752488,\n",
       " 754207.8838752488,\n",
       " 754207.8838752488,\n",
       " 754207.8838752488,\n",
       " 754207.8838752488,\n",
       " 754207.8838752488,\n",
       " 754207.8838752488,\n",
       " 754207.8838752488,\n",
       " 754207.8838752488,\n",
       " 754207.8838752488,\n",
       " ...]"
      ]
     },
     "execution_count": 13,
     "metadata": {},
     "output_type": "execute_result"
    }
   ],
   "source": [
    "baseline"
   ]
  },
  {
   "attachments": {},
   "cell_type": "markdown",
   "metadata": {},
   "source": [
    "Using only the average value, we would predict $754,207.88 as the price for each datapoint."
   ]
  },
  {
   "attachments": {},
   "cell_type": "markdown",
   "metadata": {},
   "source": [
    "### Part 5: Model Building\n"
   ]
  },
  {
   "attachments": {},
   "cell_type": "markdown",
   "metadata": {},
   "source": [
    "For this lecture, we will be walking through multiple models and some new concepts. It can be a lot to absorb all at once, so here is some explanations:\n",
    "\n",
    "In order to place the data into a model, we will need to preprocess the data. This preprocessing step usually involves two pieces:\n",
    "\n",
    "1. **An Encoder**: In order to work with string-type data, we need to change the data to a format our model can understand. In this lecture, we will focus on two different types of encoders;\n",
    "    \n",
    "    i. **OneHotEncoder**: OneHotEncoding, or also known as OHE, transforms a string column into multiple columns. These columns are labeled with each unique value in the dataset and is a boolean data-type. Each value in each column corresponds to whether that value was present within the original column in that row(1) or not(0). This can be useful for a dataset with only one or two string columns and only a few unique values present in them. OHE does run into a dimensionality issue when you begin to plug in variables with high cardinality(a lot of unique values) or a lot of different string columns. \n",
    "\n",
    "    ii. **OrdinalEncoder**: Ordinal Encoding changes the actual values themselves into a numeric representation of the string present within the column. This solves any issues regarding high cardinality, but can result in the loss of some information between the model and the data.\n",
    "    \n",
    "Overall, it is important to choose the right encoder for the job in order to provide your model with the best chance at making it's predictions!\n",
    "\n",
    "2. **An Imputer**: A lot of models don't know how to handle missing values, and missing values can also lead to bias in the model if it does accept them. To circumvent this, we use an imputer. An imputer will infer information about a column, such as the basic statitstics of the column, and fill the missing values based on the method specified. When left blank, the method will default to the mean of the column! We will utilize the `SimpleImputer` module of `sklearn` to accomplish this today. As our current dataset does not have any null values, we will not include one in our pipeline. We will see the use of this later on in this notebook!\n",
    "\n",
    "Now that we understand the preprocessing of our data, we can begin building our model! Here are the steps we will need to take:\n",
    "\n",
    "1. We will be creating a pipeline object that combines all of our steps together into a singular object. This will save us a lot of work and time. In order to do so, we will access the `make_pipeline` module of `sklearn`.\n",
    "\n",
    "2. Inside the pipeline object, we will instantiate all preprocessors and the model!\n",
    "\n",
    "3. After creation, we will need to fit the model to our training data. **DO NOT FIT THE MODEL TO TESTING DATA!!!**"
   ]
  },
  {
   "attachments": {},
   "cell_type": "markdown",
   "metadata": {},
   "source": [
    "First, let's take a look at all the steps we would need to go through in order to create a model without a pipeline object and the formula that is behind our Linear Regression model we will be using:"
   ]
  },
  {
   "attachments": {},
   "cell_type": "markdown",
   "metadata": {},
   "source": [
    "![](https://editor.analyticsvidhya.com/uploads/375512.jpg)"
   ]
  },
  {
   "attachments": {},
   "cell_type": "markdown",
   "metadata": {},
   "source": [
    "![fig-lin-reg.webp](data:image/webp;base64,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)"
   ]
  },
  {
   "attachments": {},
   "cell_type": "markdown",
   "metadata": {},
   "source": [
    "<p><strong>Intercept (<em>b</em><sub>0</sub>)</strong> - Expected value of response variable (y) when explanatory variable (x) is 0</p>\n",
    "<p><strong>Slope (<em>b</em><sub>1</sub>)</strong> - Expected value of response variable (y) when explanatory variable (x) is 0</p>\n",
    "<p><strong>Best fit - <em>y</em> = <em>b</em><sub>0</sub> + <em>b</em><sub>1</sub><em>x</em></strong></p>"
   ]
  },
  {
   "cell_type": "code",
   "execution_count": 14,
   "metadata": {},
   "outputs": [
    {
     "data": {
      "text/plain": [
       "neighborhood  style    \n",
       "B             victorian    1207\n",
       "A             victorian     926\n",
       "C             victorian     864\n",
       "B             ranch         734\n",
       "A             ranch         553\n",
       "C             ranch         515\n",
       "B             lodge         486\n",
       "A             lodge         397\n",
       "C             lodge         346\n",
       "dtype: int64"
      ]
     },
     "execution_count": 14,
     "metadata": {},
     "output_type": "execute_result"
    }
   ],
   "source": [
    "\n",
    "\n",
    "df[['neighborhood', 'style']].value_counts()"
   ]
  },
  {
   "cell_type": "code",
   "execution_count": 15,
   "metadata": {},
   "outputs": [
    {
     "data": {
      "text/html": [
       "<style>#sk-container-id-1 {color: black;}#sk-container-id-1 pre{padding: 0;}#sk-container-id-1 div.sk-toggleable {background-color: white;}#sk-container-id-1 label.sk-toggleable__label {cursor: pointer;display: block;width: 100%;margin-bottom: 0;padding: 0.3em;box-sizing: border-box;text-align: center;}#sk-container-id-1 label.sk-toggleable__label-arrow:before {content: \"▸\";float: left;margin-right: 0.25em;color: #696969;}#sk-container-id-1 label.sk-toggleable__label-arrow:hover:before {color: black;}#sk-container-id-1 div.sk-estimator:hover label.sk-toggleable__label-arrow:before {color: black;}#sk-container-id-1 div.sk-toggleable__content {max-height: 0;max-width: 0;overflow: hidden;text-align: left;background-color: #f0f8ff;}#sk-container-id-1 div.sk-toggleable__content pre {margin: 0.2em;color: black;border-radius: 0.25em;background-color: #f0f8ff;}#sk-container-id-1 input.sk-toggleable__control:checked~div.sk-toggleable__content {max-height: 200px;max-width: 100%;overflow: auto;}#sk-container-id-1 input.sk-toggleable__control:checked~label.sk-toggleable__label-arrow:before {content: \"▾\";}#sk-container-id-1 div.sk-estimator input.sk-toggleable__control:checked~label.sk-toggleable__label {background-color: #d4ebff;}#sk-container-id-1 div.sk-label input.sk-toggleable__control:checked~label.sk-toggleable__label {background-color: #d4ebff;}#sk-container-id-1 input.sk-hidden--visually {border: 0;clip: rect(1px 1px 1px 1px);clip: rect(1px, 1px, 1px, 1px);height: 1px;margin: -1px;overflow: hidden;padding: 0;position: absolute;width: 1px;}#sk-container-id-1 div.sk-estimator {font-family: monospace;background-color: #f0f8ff;border: 1px dotted black;border-radius: 0.25em;box-sizing: border-box;margin-bottom: 0.5em;}#sk-container-id-1 div.sk-estimator:hover {background-color: #d4ebff;}#sk-container-id-1 div.sk-parallel-item::after {content: \"\";width: 100%;border-bottom: 1px solid gray;flex-grow: 1;}#sk-container-id-1 div.sk-label:hover label.sk-toggleable__label {background-color: #d4ebff;}#sk-container-id-1 div.sk-serial::before {content: \"\";position: absolute;border-left: 1px solid gray;box-sizing: border-box;top: 0;bottom: 0;left: 50%;z-index: 0;}#sk-container-id-1 div.sk-serial {display: flex;flex-direction: column;align-items: center;background-color: white;padding-right: 0.2em;padding-left: 0.2em;position: relative;}#sk-container-id-1 div.sk-item {position: relative;z-index: 1;}#sk-container-id-1 div.sk-parallel {display: flex;align-items: stretch;justify-content: center;background-color: white;position: relative;}#sk-container-id-1 div.sk-item::before, #sk-container-id-1 div.sk-parallel-item::before {content: \"\";position: absolute;border-left: 1px solid gray;box-sizing: border-box;top: 0;bottom: 0;left: 50%;z-index: -1;}#sk-container-id-1 div.sk-parallel-item {display: flex;flex-direction: column;z-index: 1;position: relative;background-color: white;}#sk-container-id-1 div.sk-parallel-item:first-child::after {align-self: flex-end;width: 50%;}#sk-container-id-1 div.sk-parallel-item:last-child::after {align-self: flex-start;width: 50%;}#sk-container-id-1 div.sk-parallel-item:only-child::after {width: 0;}#sk-container-id-1 div.sk-dashed-wrapped {border: 1px dashed gray;margin: 0 0.4em 0.5em 0.4em;box-sizing: border-box;padding-bottom: 0.4em;background-color: white;}#sk-container-id-1 div.sk-label label {font-family: monospace;font-weight: bold;display: inline-block;line-height: 1.2em;}#sk-container-id-1 div.sk-label-container {text-align: center;}#sk-container-id-1 div.sk-container {/* jupyter's `normalize.less` sets `[hidden] { display: none; }` but bootstrap.min.css set `[hidden] { display: none !important; }` so we also need the `!important` here to be able to override the default hidden behavior on the sphinx rendered scikit-learn.org. See: https://github.com/scikit-learn/scikit-learn/issues/21755 */display: inline-block !important;position: relative;}#sk-container-id-1 div.sk-text-repr-fallback {display: none;}</style><div id=\"sk-container-id-1\" class=\"sk-top-container\"><div class=\"sk-text-repr-fallback\"><pre>LinearRegression()</pre><b>In a Jupyter environment, please rerun this cell to show the HTML representation or trust the notebook. <br />On GitHub, the HTML representation is unable to render, please try loading this page with nbviewer.org.</b></div><div class=\"sk-container\" hidden><div class=\"sk-item\"><div class=\"sk-estimator sk-toggleable\"><input class=\"sk-toggleable__control sk-hidden--visually\" id=\"sk-estimator-id-1\" type=\"checkbox\" checked><label for=\"sk-estimator-id-1\" class=\"sk-toggleable__label sk-toggleable__label-arrow\">LinearRegression</label><div class=\"sk-toggleable__content\"><pre>LinearRegression()</pre></div></div></div></div></div>"
      ],
      "text/plain": [
       "LinearRegression()"
      ]
     },
     "execution_count": 15,
     "metadata": {},
     "output_type": "execute_result"
    }
   ],
   "source": [
    "#Step 1 - instantiate an Encoder\n",
    "ohe = OneHotEncoder(use_cat_names= True)\n",
    "\n",
    "#Step 2: Fit the Encoder\n",
    "ohe.fit(X_train, y_train)\n",
    "\n",
    "#Step 3: Transform the data\n",
    "X_transformed = ohe.transform(X_train)\n",
    "X_transformed\n",
    "\n",
    "#Step 4: Impute the data - Why shouldn't I impute this dataset\n",
    "#NO NULL VALUES\n",
    "\n",
    "#Step 5: Instantiate the model object\n",
    "\n",
    "model_lr = LinearRegression()\n",
    "\n",
    "#Step 6 Fit the model object\n",
    "model_lr.fit(X_transformed, y_train)"
   ]
  },
  {
   "attachments": {},
   "cell_type": "markdown",
   "metadata": {},
   "source": [
    "Now, let's look at how much easier our make_pipeline function makes this for us"
   ]
  },
  {
   "cell_type": "code",
   "execution_count": 16,
   "metadata": {},
   "outputs": [
    {
     "data": {
      "text/html": [
       "<style>#sk-container-id-2 {color: black;}#sk-container-id-2 pre{padding: 0;}#sk-container-id-2 div.sk-toggleable {background-color: white;}#sk-container-id-2 label.sk-toggleable__label {cursor: pointer;display: block;width: 100%;margin-bottom: 0;padding: 0.3em;box-sizing: border-box;text-align: center;}#sk-container-id-2 label.sk-toggleable__label-arrow:before {content: \"▸\";float: left;margin-right: 0.25em;color: #696969;}#sk-container-id-2 label.sk-toggleable__label-arrow:hover:before {color: black;}#sk-container-id-2 div.sk-estimator:hover label.sk-toggleable__label-arrow:before {color: black;}#sk-container-id-2 div.sk-toggleable__content {max-height: 0;max-width: 0;overflow: hidden;text-align: left;background-color: #f0f8ff;}#sk-container-id-2 div.sk-toggleable__content pre {margin: 0.2em;color: black;border-radius: 0.25em;background-color: #f0f8ff;}#sk-container-id-2 input.sk-toggleable__control:checked~div.sk-toggleable__content {max-height: 200px;max-width: 100%;overflow: auto;}#sk-container-id-2 input.sk-toggleable__control:checked~label.sk-toggleable__label-arrow:before {content: \"▾\";}#sk-container-id-2 div.sk-estimator input.sk-toggleable__control:checked~label.sk-toggleable__label {background-color: #d4ebff;}#sk-container-id-2 div.sk-label input.sk-toggleable__control:checked~label.sk-toggleable__label {background-color: #d4ebff;}#sk-container-id-2 input.sk-hidden--visually {border: 0;clip: rect(1px 1px 1px 1px);clip: rect(1px, 1px, 1px, 1px);height: 1px;margin: -1px;overflow: hidden;padding: 0;position: absolute;width: 1px;}#sk-container-id-2 div.sk-estimator {font-family: monospace;background-color: #f0f8ff;border: 1px dotted black;border-radius: 0.25em;box-sizing: border-box;margin-bottom: 0.5em;}#sk-container-id-2 div.sk-estimator:hover {background-color: #d4ebff;}#sk-container-id-2 div.sk-parallel-item::after {content: \"\";width: 100%;border-bottom: 1px solid gray;flex-grow: 1;}#sk-container-id-2 div.sk-label:hover label.sk-toggleable__label {background-color: #d4ebff;}#sk-container-id-2 div.sk-serial::before {content: \"\";position: absolute;border-left: 1px solid gray;box-sizing: border-box;top: 0;bottom: 0;left: 50%;z-index: 0;}#sk-container-id-2 div.sk-serial {display: flex;flex-direction: column;align-items: center;background-color: white;padding-right: 0.2em;padding-left: 0.2em;position: relative;}#sk-container-id-2 div.sk-item {position: relative;z-index: 1;}#sk-container-id-2 div.sk-parallel {display: flex;align-items: stretch;justify-content: center;background-color: white;position: relative;}#sk-container-id-2 div.sk-item::before, #sk-container-id-2 div.sk-parallel-item::before {content: \"\";position: absolute;border-left: 1px solid gray;box-sizing: border-box;top: 0;bottom: 0;left: 50%;z-index: -1;}#sk-container-id-2 div.sk-parallel-item {display: flex;flex-direction: column;z-index: 1;position: relative;background-color: white;}#sk-container-id-2 div.sk-parallel-item:first-child::after {align-self: flex-end;width: 50%;}#sk-container-id-2 div.sk-parallel-item:last-child::after {align-self: flex-start;width: 50%;}#sk-container-id-2 div.sk-parallel-item:only-child::after {width: 0;}#sk-container-id-2 div.sk-dashed-wrapped {border: 1px dashed gray;margin: 0 0.4em 0.5em 0.4em;box-sizing: border-box;padding-bottom: 0.4em;background-color: white;}#sk-container-id-2 div.sk-label label {font-family: monospace;font-weight: bold;display: inline-block;line-height: 1.2em;}#sk-container-id-2 div.sk-label-container {text-align: center;}#sk-container-id-2 div.sk-container {/* jupyter's `normalize.less` sets `[hidden] { display: none; }` but bootstrap.min.css set `[hidden] { display: none !important; }` so we also need the `!important` here to be able to override the default hidden behavior on the sphinx rendered scikit-learn.org. See: https://github.com/scikit-learn/scikit-learn/issues/21755 */display: inline-block !important;position: relative;}#sk-container-id-2 div.sk-text-repr-fallback {display: none;}</style><div id=\"sk-container-id-2\" class=\"sk-top-container\"><div class=\"sk-text-repr-fallback\"><pre>Pipeline(steps=[(&#x27;onehotencoder&#x27;,\n",
       "                 OneHotEncoder(cols=[&#x27;neighborhood&#x27;, &#x27;style&#x27;],\n",
       "                               use_cat_names=True)),\n",
       "                (&#x27;linearregression&#x27;, LinearRegression())])</pre><b>In a Jupyter environment, please rerun this cell to show the HTML representation or trust the notebook. <br />On GitHub, the HTML representation is unable to render, please try loading this page with nbviewer.org.</b></div><div class=\"sk-container\" hidden><div class=\"sk-item sk-dashed-wrapped\"><div class=\"sk-label-container\"><div class=\"sk-label sk-toggleable\"><input class=\"sk-toggleable__control sk-hidden--visually\" id=\"sk-estimator-id-2\" type=\"checkbox\" ><label for=\"sk-estimator-id-2\" class=\"sk-toggleable__label sk-toggleable__label-arrow\">Pipeline</label><div class=\"sk-toggleable__content\"><pre>Pipeline(steps=[(&#x27;onehotencoder&#x27;,\n",
       "                 OneHotEncoder(cols=[&#x27;neighborhood&#x27;, &#x27;style&#x27;],\n",
       "                               use_cat_names=True)),\n",
       "                (&#x27;linearregression&#x27;, LinearRegression())])</pre></div></div></div><div class=\"sk-serial\"><div class=\"sk-item\"><div class=\"sk-estimator sk-toggleable\"><input class=\"sk-toggleable__control sk-hidden--visually\" id=\"sk-estimator-id-3\" type=\"checkbox\" ><label for=\"sk-estimator-id-3\" class=\"sk-toggleable__label sk-toggleable__label-arrow\">OneHotEncoder</label><div class=\"sk-toggleable__content\"><pre>OneHotEncoder(cols=[&#x27;neighborhood&#x27;, &#x27;style&#x27;], use_cat_names=True)</pre></div></div></div><div class=\"sk-item\"><div class=\"sk-estimator sk-toggleable\"><input class=\"sk-toggleable__control sk-hidden--visually\" id=\"sk-estimator-id-4\" type=\"checkbox\" ><label for=\"sk-estimator-id-4\" class=\"sk-toggleable__label sk-toggleable__label-arrow\">LinearRegression</label><div class=\"sk-toggleable__content\"><pre>LinearRegression()</pre></div></div></div></div></div></div></div>"
      ],
      "text/plain": [
       "Pipeline(steps=[('onehotencoder',\n",
       "                 OneHotEncoder(cols=['neighborhood', 'style'],\n",
       "                               use_cat_names=True)),\n",
       "                ('linearregression', LinearRegression())])"
      ]
     },
     "execution_count": 16,
     "metadata": {},
     "output_type": "execute_result"
    }
   ],
   "source": [
    "# Step 1a - create the pipleine object\n",
    "model_lr = make_pipeline(\n",
    "\n",
    "# Step1b - Add in ay preprocessors to the pipeline\n",
    "OneHotEncoder(use_cat_names=True), \n",
    "#step 1c - Add in the model object\n",
    "LinearRegression()\n",
    ")\n",
    "\n",
    "# Step 2 - fix the pipeline\n",
    "model_lr.fit(X_train, y_train)"
   ]
  },
  {
   "attachments": {},
   "cell_type": "markdown",
   "metadata": {},
   "source": [
    "Now that we have fit a single model, let's take a look at other models we could use for this task and compare how each of them performs:"
   ]
  },
  {
   "attachments": {},
   "cell_type": "markdown",
   "metadata": {},
   "source": [
    "![](https://www.saedsayad.com/images/Decision_tree_r1.png)"
   ]
  },
  {
   "cell_type": "code",
   "execution_count": 17,
   "metadata": {},
   "outputs": [
    {
     "data": {
      "text/html": [
       "<style>#sk-container-id-3 {color: black;}#sk-container-id-3 pre{padding: 0;}#sk-container-id-3 div.sk-toggleable {background-color: white;}#sk-container-id-3 label.sk-toggleable__label {cursor: pointer;display: block;width: 100%;margin-bottom: 0;padding: 0.3em;box-sizing: border-box;text-align: center;}#sk-container-id-3 label.sk-toggleable__label-arrow:before {content: \"▸\";float: left;margin-right: 0.25em;color: #696969;}#sk-container-id-3 label.sk-toggleable__label-arrow:hover:before {color: black;}#sk-container-id-3 div.sk-estimator:hover label.sk-toggleable__label-arrow:before {color: black;}#sk-container-id-3 div.sk-toggleable__content {max-height: 0;max-width: 0;overflow: hidden;text-align: left;background-color: #f0f8ff;}#sk-container-id-3 div.sk-toggleable__content pre {margin: 0.2em;color: black;border-radius: 0.25em;background-color: #f0f8ff;}#sk-container-id-3 input.sk-toggleable__control:checked~div.sk-toggleable__content {max-height: 200px;max-width: 100%;overflow: auto;}#sk-container-id-3 input.sk-toggleable__control:checked~label.sk-toggleable__label-arrow:before {content: \"▾\";}#sk-container-id-3 div.sk-estimator input.sk-toggleable__control:checked~label.sk-toggleable__label {background-color: #d4ebff;}#sk-container-id-3 div.sk-label input.sk-toggleable__control:checked~label.sk-toggleable__label {background-color: #d4ebff;}#sk-container-id-3 input.sk-hidden--visually {border: 0;clip: rect(1px 1px 1px 1px);clip: rect(1px, 1px, 1px, 1px);height: 1px;margin: -1px;overflow: hidden;padding: 0;position: absolute;width: 1px;}#sk-container-id-3 div.sk-estimator {font-family: monospace;background-color: #f0f8ff;border: 1px dotted black;border-radius: 0.25em;box-sizing: border-box;margin-bottom: 0.5em;}#sk-container-id-3 div.sk-estimator:hover {background-color: #d4ebff;}#sk-container-id-3 div.sk-parallel-item::after {content: \"\";width: 100%;border-bottom: 1px solid gray;flex-grow: 1;}#sk-container-id-3 div.sk-label:hover label.sk-toggleable__label {background-color: #d4ebff;}#sk-container-id-3 div.sk-serial::before {content: \"\";position: absolute;border-left: 1px solid gray;box-sizing: border-box;top: 0;bottom: 0;left: 50%;z-index: 0;}#sk-container-id-3 div.sk-serial {display: flex;flex-direction: column;align-items: center;background-color: white;padding-right: 0.2em;padding-left: 0.2em;position: relative;}#sk-container-id-3 div.sk-item {position: relative;z-index: 1;}#sk-container-id-3 div.sk-parallel {display: flex;align-items: stretch;justify-content: center;background-color: white;position: relative;}#sk-container-id-3 div.sk-item::before, #sk-container-id-3 div.sk-parallel-item::before {content: \"\";position: absolute;border-left: 1px solid gray;box-sizing: border-box;top: 0;bottom: 0;left: 50%;z-index: -1;}#sk-container-id-3 div.sk-parallel-item {display: flex;flex-direction: column;z-index: 1;position: relative;background-color: white;}#sk-container-id-3 div.sk-parallel-item:first-child::after {align-self: flex-end;width: 50%;}#sk-container-id-3 div.sk-parallel-item:last-child::after {align-self: flex-start;width: 50%;}#sk-container-id-3 div.sk-parallel-item:only-child::after {width: 0;}#sk-container-id-3 div.sk-dashed-wrapped {border: 1px dashed gray;margin: 0 0.4em 0.5em 0.4em;box-sizing: border-box;padding-bottom: 0.4em;background-color: white;}#sk-container-id-3 div.sk-label label {font-family: monospace;font-weight: bold;display: inline-block;line-height: 1.2em;}#sk-container-id-3 div.sk-label-container {text-align: center;}#sk-container-id-3 div.sk-container {/* jupyter's `normalize.less` sets `[hidden] { display: none; }` but bootstrap.min.css set `[hidden] { display: none !important; }` so we also need the `!important` here to be able to override the default hidden behavior on the sphinx rendered scikit-learn.org. See: https://github.com/scikit-learn/scikit-learn/issues/21755 */display: inline-block !important;position: relative;}#sk-container-id-3 div.sk-text-repr-fallback {display: none;}</style><div id=\"sk-container-id-3\" class=\"sk-top-container\"><div class=\"sk-text-repr-fallback\"><pre>Pipeline(steps=[(&#x27;onehotencoder&#x27;,\n",
       "                 OneHotEncoder(cols=[&#x27;neighborhood&#x27;, &#x27;style&#x27;],\n",
       "                               use_cat_names=True)),\n",
       "                (&#x27;decisiontreeregressor&#x27;,\n",
       "                 DecisionTreeRegressor(random_state=42))])</pre><b>In a Jupyter environment, please rerun this cell to show the HTML representation or trust the notebook. <br />On GitHub, the HTML representation is unable to render, please try loading this page with nbviewer.org.</b></div><div class=\"sk-container\" hidden><div class=\"sk-item sk-dashed-wrapped\"><div class=\"sk-label-container\"><div class=\"sk-label sk-toggleable\"><input class=\"sk-toggleable__control sk-hidden--visually\" id=\"sk-estimator-id-5\" type=\"checkbox\" ><label for=\"sk-estimator-id-5\" class=\"sk-toggleable__label sk-toggleable__label-arrow\">Pipeline</label><div class=\"sk-toggleable__content\"><pre>Pipeline(steps=[(&#x27;onehotencoder&#x27;,\n",
       "                 OneHotEncoder(cols=[&#x27;neighborhood&#x27;, &#x27;style&#x27;],\n",
       "                               use_cat_names=True)),\n",
       "                (&#x27;decisiontreeregressor&#x27;,\n",
       "                 DecisionTreeRegressor(random_state=42))])</pre></div></div></div><div class=\"sk-serial\"><div class=\"sk-item\"><div class=\"sk-estimator sk-toggleable\"><input class=\"sk-toggleable__control sk-hidden--visually\" id=\"sk-estimator-id-6\" type=\"checkbox\" ><label for=\"sk-estimator-id-6\" class=\"sk-toggleable__label sk-toggleable__label-arrow\">OneHotEncoder</label><div class=\"sk-toggleable__content\"><pre>OneHotEncoder(cols=[&#x27;neighborhood&#x27;, &#x27;style&#x27;], use_cat_names=True)</pre></div></div></div><div class=\"sk-item\"><div class=\"sk-estimator sk-toggleable\"><input class=\"sk-toggleable__control sk-hidden--visually\" id=\"sk-estimator-id-7\" type=\"checkbox\" ><label for=\"sk-estimator-id-7\" class=\"sk-toggleable__label sk-toggleable__label-arrow\">DecisionTreeRegressor</label><div class=\"sk-toggleable__content\"><pre>DecisionTreeRegressor(random_state=42)</pre></div></div></div></div></div></div></div>"
      ],
      "text/plain": [
       "Pipeline(steps=[('onehotencoder',\n",
       "                 OneHotEncoder(cols=['neighborhood', 'style'],\n",
       "                               use_cat_names=True)),\n",
       "                ('decisiontreeregressor',\n",
       "                 DecisionTreeRegressor(random_state=42))])"
      ]
     },
     "execution_count": 17,
     "metadata": {},
     "output_type": "execute_result"
    }
   ],
   "source": [
    "# Step 1a: Create the pipeline onject\n",
    "pipe_dt = make_pipeline(\n",
    "\n",
    "    #Step 1b - add in any preprocessors\n",
    "    OneHotEncoder(use_cat_names=True),\n",
    "    #step 1c: Add in the model object to the pipeline\n",
    "    DecisionTreeRegressor(random_state=42)\n",
    ")\n",
    "# Step 2: Fit the pipeline\n",
    "pipe_dt.fit(X_train, y_train)\n",
    "\n"
   ]
  },
  {
   "attachments": {},
   "cell_type": "markdown",
   "metadata": {},
   "source": [
    "![](https://miro.medium.com/v2/resize:fit:1400/1*ZFuMI_HrI3jt2Wlay73IUQ.png)"
   ]
  },
  {
   "cell_type": "code",
   "execution_count": 32,
   "metadata": {},
   "outputs": [
    {
     "data": {
      "text/html": [
       "<style>#sk-container-id-11 {color: black;}#sk-container-id-11 pre{padding: 0;}#sk-container-id-11 div.sk-toggleable {background-color: white;}#sk-container-id-11 label.sk-toggleable__label {cursor: pointer;display: block;width: 100%;margin-bottom: 0;padding: 0.3em;box-sizing: border-box;text-align: center;}#sk-container-id-11 label.sk-toggleable__label-arrow:before {content: \"▸\";float: left;margin-right: 0.25em;color: #696969;}#sk-container-id-11 label.sk-toggleable__label-arrow:hover:before {color: black;}#sk-container-id-11 div.sk-estimator:hover label.sk-toggleable__label-arrow:before {color: black;}#sk-container-id-11 div.sk-toggleable__content {max-height: 0;max-width: 0;overflow: hidden;text-align: left;background-color: #f0f8ff;}#sk-container-id-11 div.sk-toggleable__content pre {margin: 0.2em;color: black;border-radius: 0.25em;background-color: #f0f8ff;}#sk-container-id-11 input.sk-toggleable__control:checked~div.sk-toggleable__content {max-height: 200px;max-width: 100%;overflow: auto;}#sk-container-id-11 input.sk-toggleable__control:checked~label.sk-toggleable__label-arrow:before {content: \"▾\";}#sk-container-id-11 div.sk-estimator input.sk-toggleable__control:checked~label.sk-toggleable__label {background-color: #d4ebff;}#sk-container-id-11 div.sk-label input.sk-toggleable__control:checked~label.sk-toggleable__label {background-color: #d4ebff;}#sk-container-id-11 input.sk-hidden--visually {border: 0;clip: rect(1px 1px 1px 1px);clip: rect(1px, 1px, 1px, 1px);height: 1px;margin: -1px;overflow: hidden;padding: 0;position: absolute;width: 1px;}#sk-container-id-11 div.sk-estimator {font-family: monospace;background-color: #f0f8ff;border: 1px dotted black;border-radius: 0.25em;box-sizing: border-box;margin-bottom: 0.5em;}#sk-container-id-11 div.sk-estimator:hover {background-color: #d4ebff;}#sk-container-id-11 div.sk-parallel-item::after {content: \"\";width: 100%;border-bottom: 1px solid gray;flex-grow: 1;}#sk-container-id-11 div.sk-label:hover label.sk-toggleable__label {background-color: #d4ebff;}#sk-container-id-11 div.sk-serial::before {content: \"\";position: absolute;border-left: 1px solid gray;box-sizing: border-box;top: 0;bottom: 0;left: 50%;z-index: 0;}#sk-container-id-11 div.sk-serial {display: flex;flex-direction: column;align-items: center;background-color: white;padding-right: 0.2em;padding-left: 0.2em;position: relative;}#sk-container-id-11 div.sk-item {position: relative;z-index: 1;}#sk-container-id-11 div.sk-parallel {display: flex;align-items: stretch;justify-content: center;background-color: white;position: relative;}#sk-container-id-11 div.sk-item::before, #sk-container-id-11 div.sk-parallel-item::before {content: \"\";position: absolute;border-left: 1px solid gray;box-sizing: border-box;top: 0;bottom: 0;left: 50%;z-index: -1;}#sk-container-id-11 div.sk-parallel-item {display: flex;flex-direction: column;z-index: 1;position: relative;background-color: white;}#sk-container-id-11 div.sk-parallel-item:first-child::after {align-self: flex-end;width: 50%;}#sk-container-id-11 div.sk-parallel-item:last-child::after {align-self: flex-start;width: 50%;}#sk-container-id-11 div.sk-parallel-item:only-child::after {width: 0;}#sk-container-id-11 div.sk-dashed-wrapped {border: 1px dashed gray;margin: 0 0.4em 0.5em 0.4em;box-sizing: border-box;padding-bottom: 0.4em;background-color: white;}#sk-container-id-11 div.sk-label label {font-family: monospace;font-weight: bold;display: inline-block;line-height: 1.2em;}#sk-container-id-11 div.sk-label-container {text-align: center;}#sk-container-id-11 div.sk-container {/* jupyter's `normalize.less` sets `[hidden] { display: none; }` but bootstrap.min.css set `[hidden] { display: none !important; }` so we also need the `!important` here to be able to override the default hidden behavior on the sphinx rendered scikit-learn.org. See: https://github.com/scikit-learn/scikit-learn/issues/21755 */display: inline-block !important;position: relative;}#sk-container-id-11 div.sk-text-repr-fallback {display: none;}</style><div id=\"sk-container-id-11\" class=\"sk-top-container\"><div class=\"sk-text-repr-fallback\"><pre>Pipeline(steps=[(&#x27;onehotencoder&#x27;,\n",
       "                 OneHotEncoder(cols=[&#x27;neighborhood&#x27;, &#x27;style&#x27;],\n",
       "                               use_cat_names=True)),\n",
       "                (&#x27;randomforestregressor&#x27;,\n",
       "                 RandomForestRegressor(random_state=42))])</pre><b>In a Jupyter environment, please rerun this cell to show the HTML representation or trust the notebook. <br />On GitHub, the HTML representation is unable to render, please try loading this page with nbviewer.org.</b></div><div class=\"sk-container\" hidden><div class=\"sk-item sk-dashed-wrapped\"><div class=\"sk-label-container\"><div class=\"sk-label sk-toggleable\"><input class=\"sk-toggleable__control sk-hidden--visually\" id=\"sk-estimator-id-27\" type=\"checkbox\" ><label for=\"sk-estimator-id-27\" class=\"sk-toggleable__label sk-toggleable__label-arrow\">Pipeline</label><div class=\"sk-toggleable__content\"><pre>Pipeline(steps=[(&#x27;onehotencoder&#x27;,\n",
       "                 OneHotEncoder(cols=[&#x27;neighborhood&#x27;, &#x27;style&#x27;],\n",
       "                               use_cat_names=True)),\n",
       "                (&#x27;randomforestregressor&#x27;,\n",
       "                 RandomForestRegressor(random_state=42))])</pre></div></div></div><div class=\"sk-serial\"><div class=\"sk-item\"><div class=\"sk-estimator sk-toggleable\"><input class=\"sk-toggleable__control sk-hidden--visually\" id=\"sk-estimator-id-28\" type=\"checkbox\" ><label for=\"sk-estimator-id-28\" class=\"sk-toggleable__label sk-toggleable__label-arrow\">OneHotEncoder</label><div class=\"sk-toggleable__content\"><pre>OneHotEncoder(cols=[&#x27;neighborhood&#x27;, &#x27;style&#x27;], use_cat_names=True)</pre></div></div></div><div class=\"sk-item\"><div class=\"sk-estimator sk-toggleable\"><input class=\"sk-toggleable__control sk-hidden--visually\" id=\"sk-estimator-id-29\" type=\"checkbox\" ><label for=\"sk-estimator-id-29\" class=\"sk-toggleable__label sk-toggleable__label-arrow\">RandomForestRegressor</label><div class=\"sk-toggleable__content\"><pre>RandomForestRegressor(random_state=42)</pre></div></div></div></div></div></div></div>"
      ],
      "text/plain": [
       "Pipeline(steps=[('onehotencoder',\n",
       "                 OneHotEncoder(cols=['neighborhood', 'style'],\n",
       "                               use_cat_names=True)),\n",
       "                ('randomforestregressor',\n",
       "                 RandomForestRegressor(random_state=42))])"
      ]
     },
     "execution_count": 32,
     "metadata": {},
     "output_type": "execute_result"
    }
   ],
   "source": [
    "# Step 1a: Create the pipeline onject\n",
    "pipe_rf = make_pipeline(\n",
    "\n",
    "    #Step 1b - add in any preprocessors\n",
    "    OneHotEncoder(use_cat_names=True),\n",
    "    #step 1c: Add in the model object to the pipeline\n",
    "    RandomForestRegressor(random_state=42)\n",
    ")\n",
    "# Step 2: Fit the pipeline\n",
    "pipe_rf.fit(X_train, y_train)"
   ]
  },
  {
   "attachments": {},
   "cell_type": "markdown",
   "metadata": {},
   "source": [
    "![](https://docs.aws.amazon.com/images/sagemaker/latest/dg/images/xgboost_illustration.png)"
   ]
  },
  {
   "cell_type": "code",
   "execution_count": 19,
   "metadata": {},
   "outputs": [
    {
     "data": {
      "text/html": [
       "<style>#sk-container-id-5 {color: black;}#sk-container-id-5 pre{padding: 0;}#sk-container-id-5 div.sk-toggleable {background-color: white;}#sk-container-id-5 label.sk-toggleable__label {cursor: pointer;display: block;width: 100%;margin-bottom: 0;padding: 0.3em;box-sizing: border-box;text-align: center;}#sk-container-id-5 label.sk-toggleable__label-arrow:before {content: \"▸\";float: left;margin-right: 0.25em;color: #696969;}#sk-container-id-5 label.sk-toggleable__label-arrow:hover:before {color: black;}#sk-container-id-5 div.sk-estimator:hover label.sk-toggleable__label-arrow:before {color: black;}#sk-container-id-5 div.sk-toggleable__content {max-height: 0;max-width: 0;overflow: hidden;text-align: left;background-color: #f0f8ff;}#sk-container-id-5 div.sk-toggleable__content pre {margin: 0.2em;color: black;border-radius: 0.25em;background-color: #f0f8ff;}#sk-container-id-5 input.sk-toggleable__control:checked~div.sk-toggleable__content {max-height: 200px;max-width: 100%;overflow: auto;}#sk-container-id-5 input.sk-toggleable__control:checked~label.sk-toggleable__label-arrow:before {content: \"▾\";}#sk-container-id-5 div.sk-estimator input.sk-toggleable__control:checked~label.sk-toggleable__label {background-color: #d4ebff;}#sk-container-id-5 div.sk-label input.sk-toggleable__control:checked~label.sk-toggleable__label {background-color: #d4ebff;}#sk-container-id-5 input.sk-hidden--visually {border: 0;clip: rect(1px 1px 1px 1px);clip: rect(1px, 1px, 1px, 1px);height: 1px;margin: -1px;overflow: hidden;padding: 0;position: absolute;width: 1px;}#sk-container-id-5 div.sk-estimator {font-family: monospace;background-color: #f0f8ff;border: 1px dotted black;border-radius: 0.25em;box-sizing: border-box;margin-bottom: 0.5em;}#sk-container-id-5 div.sk-estimator:hover {background-color: #d4ebff;}#sk-container-id-5 div.sk-parallel-item::after {content: \"\";width: 100%;border-bottom: 1px solid gray;flex-grow: 1;}#sk-container-id-5 div.sk-label:hover label.sk-toggleable__label {background-color: #d4ebff;}#sk-container-id-5 div.sk-serial::before {content: \"\";position: absolute;border-left: 1px solid gray;box-sizing: border-box;top: 0;bottom: 0;left: 50%;z-index: 0;}#sk-container-id-5 div.sk-serial {display: flex;flex-direction: column;align-items: center;background-color: white;padding-right: 0.2em;padding-left: 0.2em;position: relative;}#sk-container-id-5 div.sk-item {position: relative;z-index: 1;}#sk-container-id-5 div.sk-parallel {display: flex;align-items: stretch;justify-content: center;background-color: white;position: relative;}#sk-container-id-5 div.sk-item::before, #sk-container-id-5 div.sk-parallel-item::before {content: \"\";position: absolute;border-left: 1px solid gray;box-sizing: border-box;top: 0;bottom: 0;left: 50%;z-index: -1;}#sk-container-id-5 div.sk-parallel-item {display: flex;flex-direction: column;z-index: 1;position: relative;background-color: white;}#sk-container-id-5 div.sk-parallel-item:first-child::after {align-self: flex-end;width: 50%;}#sk-container-id-5 div.sk-parallel-item:last-child::after {align-self: flex-start;width: 50%;}#sk-container-id-5 div.sk-parallel-item:only-child::after {width: 0;}#sk-container-id-5 div.sk-dashed-wrapped {border: 1px dashed gray;margin: 0 0.4em 0.5em 0.4em;box-sizing: border-box;padding-bottom: 0.4em;background-color: white;}#sk-container-id-5 div.sk-label label {font-family: monospace;font-weight: bold;display: inline-block;line-height: 1.2em;}#sk-container-id-5 div.sk-label-container {text-align: center;}#sk-container-id-5 div.sk-container {/* jupyter's `normalize.less` sets `[hidden] { display: none; }` but bootstrap.min.css set `[hidden] { display: none !important; }` so we also need the `!important` here to be able to override the default hidden behavior on the sphinx rendered scikit-learn.org. See: https://github.com/scikit-learn/scikit-learn/issues/21755 */display: inline-block !important;position: relative;}#sk-container-id-5 div.sk-text-repr-fallback {display: none;}</style><div id=\"sk-container-id-5\" class=\"sk-top-container\"><div class=\"sk-text-repr-fallback\"><pre>Pipeline(steps=[(&#x27;onehotencoder&#x27;,\n",
       "                 OneHotEncoder(cols=[&#x27;neighborhood&#x27;, &#x27;style&#x27;],\n",
       "                               use_cat_names=True)),\n",
       "                (&#x27;xgbregressor&#x27;,\n",
       "                 XGBRegressor(base_score=None, booster=None, callbacks=None,\n",
       "                              colsample_bylevel=None, colsample_bynode=None,\n",
       "                              colsample_bytree=None, device=None,\n",
       "                              early_stopping_rounds=None,\n",
       "                              enable_categorical=False, eval_metric=None,\n",
       "                              feature_types=None, gamma=None, grow_policy=None,\n",
       "                              importance_type=None,\n",
       "                              interaction_constraints=None, learning_rate=None,\n",
       "                              max_bin=None, max_cat_threshold=None,\n",
       "                              max_cat_to_onehot=None, max_delta_step=None,\n",
       "                              max_depth=None, max_leaves=None,\n",
       "                              min_child_weight=None, missing=nan,\n",
       "                              monotone_constraints=None, multi_strategy=None,\n",
       "                              n_estimators=None, n_jobs=None,\n",
       "                              num_parallel_tree=None, random_state=42, ...))])</pre><b>In a Jupyter environment, please rerun this cell to show the HTML representation or trust the notebook. <br />On GitHub, the HTML representation is unable to render, please try loading this page with nbviewer.org.</b></div><div class=\"sk-container\" hidden><div class=\"sk-item sk-dashed-wrapped\"><div class=\"sk-label-container\"><div class=\"sk-label sk-toggleable\"><input class=\"sk-toggleable__control sk-hidden--visually\" id=\"sk-estimator-id-11\" type=\"checkbox\" ><label for=\"sk-estimator-id-11\" class=\"sk-toggleable__label sk-toggleable__label-arrow\">Pipeline</label><div class=\"sk-toggleable__content\"><pre>Pipeline(steps=[(&#x27;onehotencoder&#x27;,\n",
       "                 OneHotEncoder(cols=[&#x27;neighborhood&#x27;, &#x27;style&#x27;],\n",
       "                               use_cat_names=True)),\n",
       "                (&#x27;xgbregressor&#x27;,\n",
       "                 XGBRegressor(base_score=None, booster=None, callbacks=None,\n",
       "                              colsample_bylevel=None, colsample_bynode=None,\n",
       "                              colsample_bytree=None, device=None,\n",
       "                              early_stopping_rounds=None,\n",
       "                              enable_categorical=False, eval_metric=None,\n",
       "                              feature_types=None, gamma=None, grow_policy=None,\n",
       "                              importance_type=None,\n",
       "                              interaction_constraints=None, learning_rate=None,\n",
       "                              max_bin=None, max_cat_threshold=None,\n",
       "                              max_cat_to_onehot=None, max_delta_step=None,\n",
       "                              max_depth=None, max_leaves=None,\n",
       "                              min_child_weight=None, missing=nan,\n",
       "                              monotone_constraints=None, multi_strategy=None,\n",
       "                              n_estimators=None, n_jobs=None,\n",
       "                              num_parallel_tree=None, random_state=42, ...))])</pre></div></div></div><div class=\"sk-serial\"><div class=\"sk-item\"><div class=\"sk-estimator sk-toggleable\"><input class=\"sk-toggleable__control sk-hidden--visually\" id=\"sk-estimator-id-12\" type=\"checkbox\" ><label for=\"sk-estimator-id-12\" class=\"sk-toggleable__label sk-toggleable__label-arrow\">OneHotEncoder</label><div class=\"sk-toggleable__content\"><pre>OneHotEncoder(cols=[&#x27;neighborhood&#x27;, &#x27;style&#x27;], use_cat_names=True)</pre></div></div></div><div class=\"sk-item\"><div class=\"sk-estimator sk-toggleable\"><input class=\"sk-toggleable__control sk-hidden--visually\" id=\"sk-estimator-id-13\" type=\"checkbox\" ><label for=\"sk-estimator-id-13\" class=\"sk-toggleable__label sk-toggleable__label-arrow\">XGBRegressor</label><div class=\"sk-toggleable__content\"><pre>XGBRegressor(base_score=None, booster=None, callbacks=None,\n",
       "             colsample_bylevel=None, colsample_bynode=None,\n",
       "             colsample_bytree=None, device=None, early_stopping_rounds=None,\n",
       "             enable_categorical=False, eval_metric=None, feature_types=None,\n",
       "             gamma=None, grow_policy=None, importance_type=None,\n",
       "             interaction_constraints=None, learning_rate=None, max_bin=None,\n",
       "             max_cat_threshold=None, max_cat_to_onehot=None,\n",
       "             max_delta_step=None, max_depth=None, max_leaves=None,\n",
       "             min_child_weight=None, missing=nan, monotone_constraints=None,\n",
       "             multi_strategy=None, n_estimators=None, n_jobs=None,\n",
       "             num_parallel_tree=None, random_state=42, ...)</pre></div></div></div></div></div></div></div>"
      ],
      "text/plain": [
       "Pipeline(steps=[('onehotencoder',\n",
       "                 OneHotEncoder(cols=['neighborhood', 'style'],\n",
       "                               use_cat_names=True)),\n",
       "                ('xgbregressor',\n",
       "                 XGBRegressor(base_score=None, booster=None, callbacks=None,\n",
       "                              colsample_bylevel=None, colsample_bynode=None,\n",
       "                              colsample_bytree=None, device=None,\n",
       "                              early_stopping_rounds=None,\n",
       "                              enable_categorical=False, eval_metric=None,\n",
       "                              feature_types=None, gamma=None, grow_policy=None,\n",
       "                              importance_type=None,\n",
       "                              interaction_constraints=None, learning_rate=None,\n",
       "                              max_bin=None, max_cat_threshold=None,\n",
       "                              max_cat_to_onehot=None, max_delta_step=None,\n",
       "                              max_depth=None, max_leaves=None,\n",
       "                              min_child_weight=None, missing=nan,\n",
       "                              monotone_constraints=None, multi_strategy=None,\n",
       "                              n_estimators=None, n_jobs=None,\n",
       "                              num_parallel_tree=None, random_state=42, ...))])"
      ]
     },
     "execution_count": 19,
     "metadata": {},
     "output_type": "execute_result"
    }
   ],
   "source": [
    "# Step 1a: Create the pipeline onject\n",
    "pipe_xg = make_pipeline(\n",
    "\n",
    "    #Step 1b - add in any preprocessors\n",
    "    OneHotEncoder(use_cat_names=True),\n",
    "    #step 1c: Add in the model object to the pipeline\n",
    "    XGBRegressor(random_state=42)\n",
    ")\n",
    "# Step 2: Fit the pipeline\n",
    "pipe_xg.fit(X_train, y_train)"
   ]
  },
  {
   "attachments": {},
   "cell_type": "markdown",
   "metadata": {},
   "source": [
    "### In-Class Exercise #2: Build your own models\n",
    "\n",
    "For this in-class exercise, you will use the dataset you cleaned in the previous task to create 4 different model objects. Remember that you will need to split the data BEFORE creating/fitting each model. For one of the model objects, create it outside of a pipeline with all necessary preprocessors. For the rest, create a pipeline object with all necessary preprocessors and the model object inside of it!"
   ]
  },
  {
   "cell_type": "code",
   "execution_count": null,
   "metadata": {},
   "outputs": [
    {
     "name": "stdout",
     "output_type": "stream",
     "text": [
      "34.59\n"
     ]
    }
   ],
   "source": [
    "# # Establish a baseline\n",
    "print(fuel.UHighway.mean().round(2))\n",
    "baseline = [fuel.UHighway.mean()] *len(df)"
   ]
  },
  {
   "cell_type": "code",
   "execution_count": 20,
   "metadata": {},
   "outputs": [
    {
     "data": {
      "text/html": [
       "<style>#sk-container-id-6 {color: black;}#sk-container-id-6 pre{padding: 0;}#sk-container-id-6 div.sk-toggleable {background-color: white;}#sk-container-id-6 label.sk-toggleable__label {cursor: pointer;display: block;width: 100%;margin-bottom: 0;padding: 0.3em;box-sizing: border-box;text-align: center;}#sk-container-id-6 label.sk-toggleable__label-arrow:before {content: \"▸\";float: left;margin-right: 0.25em;color: #696969;}#sk-container-id-6 label.sk-toggleable__label-arrow:hover:before {color: black;}#sk-container-id-6 div.sk-estimator:hover label.sk-toggleable__label-arrow:before {color: black;}#sk-container-id-6 div.sk-toggleable__content {max-height: 0;max-width: 0;overflow: hidden;text-align: left;background-color: #f0f8ff;}#sk-container-id-6 div.sk-toggleable__content pre {margin: 0.2em;color: black;border-radius: 0.25em;background-color: #f0f8ff;}#sk-container-id-6 input.sk-toggleable__control:checked~div.sk-toggleable__content {max-height: 200px;max-width: 100%;overflow: auto;}#sk-container-id-6 input.sk-toggleable__control:checked~label.sk-toggleable__label-arrow:before {content: \"▾\";}#sk-container-id-6 div.sk-estimator input.sk-toggleable__control:checked~label.sk-toggleable__label {background-color: #d4ebff;}#sk-container-id-6 div.sk-label input.sk-toggleable__control:checked~label.sk-toggleable__label {background-color: #d4ebff;}#sk-container-id-6 input.sk-hidden--visually {border: 0;clip: rect(1px 1px 1px 1px);clip: rect(1px, 1px, 1px, 1px);height: 1px;margin: -1px;overflow: hidden;padding: 0;position: absolute;width: 1px;}#sk-container-id-6 div.sk-estimator {font-family: monospace;background-color: #f0f8ff;border: 1px dotted black;border-radius: 0.25em;box-sizing: border-box;margin-bottom: 0.5em;}#sk-container-id-6 div.sk-estimator:hover {background-color: #d4ebff;}#sk-container-id-6 div.sk-parallel-item::after {content: \"\";width: 100%;border-bottom: 1px solid gray;flex-grow: 1;}#sk-container-id-6 div.sk-label:hover label.sk-toggleable__label {background-color: #d4ebff;}#sk-container-id-6 div.sk-serial::before {content: \"\";position: absolute;border-left: 1px solid gray;box-sizing: border-box;top: 0;bottom: 0;left: 50%;z-index: 0;}#sk-container-id-6 div.sk-serial {display: flex;flex-direction: column;align-items: center;background-color: white;padding-right: 0.2em;padding-left: 0.2em;position: relative;}#sk-container-id-6 div.sk-item {position: relative;z-index: 1;}#sk-container-id-6 div.sk-parallel {display: flex;align-items: stretch;justify-content: center;background-color: white;position: relative;}#sk-container-id-6 div.sk-item::before, #sk-container-id-6 div.sk-parallel-item::before {content: \"\";position: absolute;border-left: 1px solid gray;box-sizing: border-box;top: 0;bottom: 0;left: 50%;z-index: -1;}#sk-container-id-6 div.sk-parallel-item {display: flex;flex-direction: column;z-index: 1;position: relative;background-color: white;}#sk-container-id-6 div.sk-parallel-item:first-child::after {align-self: flex-end;width: 50%;}#sk-container-id-6 div.sk-parallel-item:last-child::after {align-self: flex-start;width: 50%;}#sk-container-id-6 div.sk-parallel-item:only-child::after {width: 0;}#sk-container-id-6 div.sk-dashed-wrapped {border: 1px dashed gray;margin: 0 0.4em 0.5em 0.4em;box-sizing: border-box;padding-bottom: 0.4em;background-color: white;}#sk-container-id-6 div.sk-label label {font-family: monospace;font-weight: bold;display: inline-block;line-height: 1.2em;}#sk-container-id-6 div.sk-label-container {text-align: center;}#sk-container-id-6 div.sk-container {/* jupyter's `normalize.less` sets `[hidden] { display: none; }` but bootstrap.min.css set `[hidden] { display: none !important; }` so we also need the `!important` here to be able to override the default hidden behavior on the sphinx rendered scikit-learn.org. See: https://github.com/scikit-learn/scikit-learn/issues/21755 */display: inline-block !important;position: relative;}#sk-container-id-6 div.sk-text-repr-fallback {display: none;}</style><div id=\"sk-container-id-6\" class=\"sk-top-container\"><div class=\"sk-text-repr-fallback\"><pre>LinearRegression()</pre><b>In a Jupyter environment, please rerun this cell to show the HTML representation or trust the notebook. <br />On GitHub, the HTML representation is unable to render, please try loading this page with nbviewer.org.</b></div><div class=\"sk-container\" hidden><div class=\"sk-item\"><div class=\"sk-estimator sk-toggleable\"><input class=\"sk-toggleable__control sk-hidden--visually\" id=\"sk-estimator-id-14\" type=\"checkbox\" checked><label for=\"sk-estimator-id-14\" class=\"sk-toggleable__label sk-toggleable__label-arrow\">LinearRegression</label><div class=\"sk-toggleable__content\"><pre>LinearRegression()</pre></div></div></div></div></div>"
      ],
      "text/plain": [
       "LinearRegression()"
      ]
     },
     "execution_count": 20,
     "metadata": {},
     "output_type": "execute_result"
    }
   ],
   "source": [
    "\n",
    "#Step 1 - instantiate an Encoder\n",
    "ohe = OneHotEncoder(use_cat_names= True)\n",
    "\n",
    "#Step 2: Fit the Encoder\n",
    "ohe.fit(X_train, y_train)\n",
    "\n",
    "#Step 3: Transform the data\n",
    "X_transformed = ohe.transform(X_train)\n",
    "X_transformed\n",
    "\n",
    "#Step 4: Impute the data - Why shouldn't I impute this dataset\n",
    "#NO NULL VALUES\n",
    "\n",
    "#Step 5: Instantiate the model object\n",
    "\n",
    "model_lr = LinearRegression()\n",
    "\n",
    "#Step 6 Fit the model object\n",
    "model_lr.fit(X_transformed, y_train)"
   ]
  },
  {
   "cell_type": "code",
   "execution_count": 21,
   "metadata": {},
   "outputs": [
    {
     "data": {
      "text/html": [
       "<style>#sk-container-id-7 {color: black;}#sk-container-id-7 pre{padding: 0;}#sk-container-id-7 div.sk-toggleable {background-color: white;}#sk-container-id-7 label.sk-toggleable__label {cursor: pointer;display: block;width: 100%;margin-bottom: 0;padding: 0.3em;box-sizing: border-box;text-align: center;}#sk-container-id-7 label.sk-toggleable__label-arrow:before {content: \"▸\";float: left;margin-right: 0.25em;color: #696969;}#sk-container-id-7 label.sk-toggleable__label-arrow:hover:before {color: black;}#sk-container-id-7 div.sk-estimator:hover label.sk-toggleable__label-arrow:before {color: black;}#sk-container-id-7 div.sk-toggleable__content {max-height: 0;max-width: 0;overflow: hidden;text-align: left;background-color: #f0f8ff;}#sk-container-id-7 div.sk-toggleable__content pre {margin: 0.2em;color: black;border-radius: 0.25em;background-color: #f0f8ff;}#sk-container-id-7 input.sk-toggleable__control:checked~div.sk-toggleable__content {max-height: 200px;max-width: 100%;overflow: auto;}#sk-container-id-7 input.sk-toggleable__control:checked~label.sk-toggleable__label-arrow:before {content: \"▾\";}#sk-container-id-7 div.sk-estimator input.sk-toggleable__control:checked~label.sk-toggleable__label {background-color: #d4ebff;}#sk-container-id-7 div.sk-label input.sk-toggleable__control:checked~label.sk-toggleable__label {background-color: #d4ebff;}#sk-container-id-7 input.sk-hidden--visually {border: 0;clip: rect(1px 1px 1px 1px);clip: rect(1px, 1px, 1px, 1px);height: 1px;margin: -1px;overflow: hidden;padding: 0;position: absolute;width: 1px;}#sk-container-id-7 div.sk-estimator {font-family: monospace;background-color: #f0f8ff;border: 1px dotted black;border-radius: 0.25em;box-sizing: border-box;margin-bottom: 0.5em;}#sk-container-id-7 div.sk-estimator:hover {background-color: #d4ebff;}#sk-container-id-7 div.sk-parallel-item::after {content: \"\";width: 100%;border-bottom: 1px solid gray;flex-grow: 1;}#sk-container-id-7 div.sk-label:hover label.sk-toggleable__label {background-color: #d4ebff;}#sk-container-id-7 div.sk-serial::before {content: \"\";position: absolute;border-left: 1px solid gray;box-sizing: border-box;top: 0;bottom: 0;left: 50%;z-index: 0;}#sk-container-id-7 div.sk-serial {display: flex;flex-direction: column;align-items: center;background-color: white;padding-right: 0.2em;padding-left: 0.2em;position: relative;}#sk-container-id-7 div.sk-item {position: relative;z-index: 1;}#sk-container-id-7 div.sk-parallel {display: flex;align-items: stretch;justify-content: center;background-color: white;position: relative;}#sk-container-id-7 div.sk-item::before, #sk-container-id-7 div.sk-parallel-item::before {content: \"\";position: absolute;border-left: 1px solid gray;box-sizing: border-box;top: 0;bottom: 0;left: 50%;z-index: -1;}#sk-container-id-7 div.sk-parallel-item {display: flex;flex-direction: column;z-index: 1;position: relative;background-color: white;}#sk-container-id-7 div.sk-parallel-item:first-child::after {align-self: flex-end;width: 50%;}#sk-container-id-7 div.sk-parallel-item:last-child::after {align-self: flex-start;width: 50%;}#sk-container-id-7 div.sk-parallel-item:only-child::after {width: 0;}#sk-container-id-7 div.sk-dashed-wrapped {border: 1px dashed gray;margin: 0 0.4em 0.5em 0.4em;box-sizing: border-box;padding-bottom: 0.4em;background-color: white;}#sk-container-id-7 div.sk-label label {font-family: monospace;font-weight: bold;display: inline-block;line-height: 1.2em;}#sk-container-id-7 div.sk-label-container {text-align: center;}#sk-container-id-7 div.sk-container {/* jupyter's `normalize.less` sets `[hidden] { display: none; }` but bootstrap.min.css set `[hidden] { display: none !important; }` so we also need the `!important` here to be able to override the default hidden behavior on the sphinx rendered scikit-learn.org. See: https://github.com/scikit-learn/scikit-learn/issues/21755 */display: inline-block !important;position: relative;}#sk-container-id-7 div.sk-text-repr-fallback {display: none;}</style><div id=\"sk-container-id-7\" class=\"sk-top-container\"><div class=\"sk-text-repr-fallback\"><pre>Pipeline(steps=[(&#x27;onehotencoder&#x27;,\n",
       "                 OneHotEncoder(cols=[&#x27;neighborhood&#x27;, &#x27;style&#x27;],\n",
       "                               use_cat_names=True)),\n",
       "                (&#x27;linearregression&#x27;, LinearRegression())])</pre><b>In a Jupyter environment, please rerun this cell to show the HTML representation or trust the notebook. <br />On GitHub, the HTML representation is unable to render, please try loading this page with nbviewer.org.</b></div><div class=\"sk-container\" hidden><div class=\"sk-item sk-dashed-wrapped\"><div class=\"sk-label-container\"><div class=\"sk-label sk-toggleable\"><input class=\"sk-toggleable__control sk-hidden--visually\" id=\"sk-estimator-id-15\" type=\"checkbox\" ><label for=\"sk-estimator-id-15\" class=\"sk-toggleable__label sk-toggleable__label-arrow\">Pipeline</label><div class=\"sk-toggleable__content\"><pre>Pipeline(steps=[(&#x27;onehotencoder&#x27;,\n",
       "                 OneHotEncoder(cols=[&#x27;neighborhood&#x27;, &#x27;style&#x27;],\n",
       "                               use_cat_names=True)),\n",
       "                (&#x27;linearregression&#x27;, LinearRegression())])</pre></div></div></div><div class=\"sk-serial\"><div class=\"sk-item\"><div class=\"sk-estimator sk-toggleable\"><input class=\"sk-toggleable__control sk-hidden--visually\" id=\"sk-estimator-id-16\" type=\"checkbox\" ><label for=\"sk-estimator-id-16\" class=\"sk-toggleable__label sk-toggleable__label-arrow\">OneHotEncoder</label><div class=\"sk-toggleable__content\"><pre>OneHotEncoder(cols=[&#x27;neighborhood&#x27;, &#x27;style&#x27;], use_cat_names=True)</pre></div></div></div><div class=\"sk-item\"><div class=\"sk-estimator sk-toggleable\"><input class=\"sk-toggleable__control sk-hidden--visually\" id=\"sk-estimator-id-17\" type=\"checkbox\" ><label for=\"sk-estimator-id-17\" class=\"sk-toggleable__label sk-toggleable__label-arrow\">LinearRegression</label><div class=\"sk-toggleable__content\"><pre>LinearRegression()</pre></div></div></div></div></div></div></div>"
      ],
      "text/plain": [
       "Pipeline(steps=[('onehotencoder',\n",
       "                 OneHotEncoder(cols=['neighborhood', 'style'],\n",
       "                               use_cat_names=True)),\n",
       "                ('linearregression', LinearRegression())])"
      ]
     },
     "execution_count": 21,
     "metadata": {},
     "output_type": "execute_result"
    }
   ],
   "source": [
    "# MODEL 1 HERE\n",
    "# Step 1a - create the pipleine object\n",
    "model_lr = make_pipeline(\n",
    "\n",
    "# Step1b - Add in ay preprocessors to the pipeline\n",
    "OneHotEncoder(use_cat_names=True), \n",
    "#step 1c - Add in the model object\n",
    "LinearRegression()\n",
    ")\n",
    "\n",
    "# Step 2 - fix the pipeline\n",
    "model_lr.fit(X_train, y_train)"
   ]
  },
  {
   "cell_type": "code",
   "execution_count": 22,
   "metadata": {},
   "outputs": [
    {
     "data": {
      "text/html": [
       "<style>#sk-container-id-8 {color: black;}#sk-container-id-8 pre{padding: 0;}#sk-container-id-8 div.sk-toggleable {background-color: white;}#sk-container-id-8 label.sk-toggleable__label {cursor: pointer;display: block;width: 100%;margin-bottom: 0;padding: 0.3em;box-sizing: border-box;text-align: center;}#sk-container-id-8 label.sk-toggleable__label-arrow:before {content: \"▸\";float: left;margin-right: 0.25em;color: #696969;}#sk-container-id-8 label.sk-toggleable__label-arrow:hover:before {color: black;}#sk-container-id-8 div.sk-estimator:hover label.sk-toggleable__label-arrow:before {color: black;}#sk-container-id-8 div.sk-toggleable__content {max-height: 0;max-width: 0;overflow: hidden;text-align: left;background-color: #f0f8ff;}#sk-container-id-8 div.sk-toggleable__content pre {margin: 0.2em;color: black;border-radius: 0.25em;background-color: #f0f8ff;}#sk-container-id-8 input.sk-toggleable__control:checked~div.sk-toggleable__content {max-height: 200px;max-width: 100%;overflow: auto;}#sk-container-id-8 input.sk-toggleable__control:checked~label.sk-toggleable__label-arrow:before {content: \"▾\";}#sk-container-id-8 div.sk-estimator input.sk-toggleable__control:checked~label.sk-toggleable__label {background-color: #d4ebff;}#sk-container-id-8 div.sk-label input.sk-toggleable__control:checked~label.sk-toggleable__label {background-color: #d4ebff;}#sk-container-id-8 input.sk-hidden--visually {border: 0;clip: rect(1px 1px 1px 1px);clip: rect(1px, 1px, 1px, 1px);height: 1px;margin: -1px;overflow: hidden;padding: 0;position: absolute;width: 1px;}#sk-container-id-8 div.sk-estimator {font-family: monospace;background-color: #f0f8ff;border: 1px dotted black;border-radius: 0.25em;box-sizing: border-box;margin-bottom: 0.5em;}#sk-container-id-8 div.sk-estimator:hover {background-color: #d4ebff;}#sk-container-id-8 div.sk-parallel-item::after {content: \"\";width: 100%;border-bottom: 1px solid gray;flex-grow: 1;}#sk-container-id-8 div.sk-label:hover label.sk-toggleable__label {background-color: #d4ebff;}#sk-container-id-8 div.sk-serial::before {content: \"\";position: absolute;border-left: 1px solid gray;box-sizing: border-box;top: 0;bottom: 0;left: 50%;z-index: 0;}#sk-container-id-8 div.sk-serial {display: flex;flex-direction: column;align-items: center;background-color: white;padding-right: 0.2em;padding-left: 0.2em;position: relative;}#sk-container-id-8 div.sk-item {position: relative;z-index: 1;}#sk-container-id-8 div.sk-parallel {display: flex;align-items: stretch;justify-content: center;background-color: white;position: relative;}#sk-container-id-8 div.sk-item::before, #sk-container-id-8 div.sk-parallel-item::before {content: \"\";position: absolute;border-left: 1px solid gray;box-sizing: border-box;top: 0;bottom: 0;left: 50%;z-index: -1;}#sk-container-id-8 div.sk-parallel-item {display: flex;flex-direction: column;z-index: 1;position: relative;background-color: white;}#sk-container-id-8 div.sk-parallel-item:first-child::after {align-self: flex-end;width: 50%;}#sk-container-id-8 div.sk-parallel-item:last-child::after {align-self: flex-start;width: 50%;}#sk-container-id-8 div.sk-parallel-item:only-child::after {width: 0;}#sk-container-id-8 div.sk-dashed-wrapped {border: 1px dashed gray;margin: 0 0.4em 0.5em 0.4em;box-sizing: border-box;padding-bottom: 0.4em;background-color: white;}#sk-container-id-8 div.sk-label label {font-family: monospace;font-weight: bold;display: inline-block;line-height: 1.2em;}#sk-container-id-8 div.sk-label-container {text-align: center;}#sk-container-id-8 div.sk-container {/* jupyter's `normalize.less` sets `[hidden] { display: none; }` but bootstrap.min.css set `[hidden] { display: none !important; }` so we also need the `!important` here to be able to override the default hidden behavior on the sphinx rendered scikit-learn.org. See: https://github.com/scikit-learn/scikit-learn/issues/21755 */display: inline-block !important;position: relative;}#sk-container-id-8 div.sk-text-repr-fallback {display: none;}</style><div id=\"sk-container-id-8\" class=\"sk-top-container\"><div class=\"sk-text-repr-fallback\"><pre>Pipeline(steps=[(&#x27;onehotencoder&#x27;,\n",
       "                 OneHotEncoder(cols=[&#x27;neighborhood&#x27;, &#x27;style&#x27;],\n",
       "                               use_cat_names=True)),\n",
       "                (&#x27;decisiontreeregressor&#x27;,\n",
       "                 DecisionTreeRegressor(random_state=42))])</pre><b>In a Jupyter environment, please rerun this cell to show the HTML representation or trust the notebook. <br />On GitHub, the HTML representation is unable to render, please try loading this page with nbviewer.org.</b></div><div class=\"sk-container\" hidden><div class=\"sk-item sk-dashed-wrapped\"><div class=\"sk-label-container\"><div class=\"sk-label sk-toggleable\"><input class=\"sk-toggleable__control sk-hidden--visually\" id=\"sk-estimator-id-18\" type=\"checkbox\" ><label for=\"sk-estimator-id-18\" class=\"sk-toggleable__label sk-toggleable__label-arrow\">Pipeline</label><div class=\"sk-toggleable__content\"><pre>Pipeline(steps=[(&#x27;onehotencoder&#x27;,\n",
       "                 OneHotEncoder(cols=[&#x27;neighborhood&#x27;, &#x27;style&#x27;],\n",
       "                               use_cat_names=True)),\n",
       "                (&#x27;decisiontreeregressor&#x27;,\n",
       "                 DecisionTreeRegressor(random_state=42))])</pre></div></div></div><div class=\"sk-serial\"><div class=\"sk-item\"><div class=\"sk-estimator sk-toggleable\"><input class=\"sk-toggleable__control sk-hidden--visually\" id=\"sk-estimator-id-19\" type=\"checkbox\" ><label for=\"sk-estimator-id-19\" class=\"sk-toggleable__label sk-toggleable__label-arrow\">OneHotEncoder</label><div class=\"sk-toggleable__content\"><pre>OneHotEncoder(cols=[&#x27;neighborhood&#x27;, &#x27;style&#x27;], use_cat_names=True)</pre></div></div></div><div class=\"sk-item\"><div class=\"sk-estimator sk-toggleable\"><input class=\"sk-toggleable__control sk-hidden--visually\" id=\"sk-estimator-id-20\" type=\"checkbox\" ><label for=\"sk-estimator-id-20\" class=\"sk-toggleable__label sk-toggleable__label-arrow\">DecisionTreeRegressor</label><div class=\"sk-toggleable__content\"><pre>DecisionTreeRegressor(random_state=42)</pre></div></div></div></div></div></div></div>"
      ],
      "text/plain": [
       "Pipeline(steps=[('onehotencoder',\n",
       "                 OneHotEncoder(cols=['neighborhood', 'style'],\n",
       "                               use_cat_names=True)),\n",
       "                ('decisiontreeregressor',\n",
       "                 DecisionTreeRegressor(random_state=42))])"
      ]
     },
     "execution_count": 22,
     "metadata": {},
     "output_type": "execute_result"
    }
   ],
   "source": [
    "# MODEL 2 HERE\n",
    "# Step 1a: Create the pipeline onject\n",
    "pipe_dt = make_pipeline(\n",
    "\n",
    "    #Step 1b - add in any preprocessors\n",
    "    OneHotEncoder(use_cat_names=True),\n",
    "    #step 1c: Add in the model object to the pipeline\n",
    "    DecisionTreeRegressor(random_state=42)\n",
    ")\n",
    "# Step 2: Fit the pipeline\n",
    "pipe_dt.fit(X_train, y_train)"
   ]
  },
  {
   "cell_type": "code",
   "execution_count": 23,
   "metadata": {},
   "outputs": [
    {
     "data": {
      "text/html": [
       "<style>#sk-container-id-9 {color: black;}#sk-container-id-9 pre{padding: 0;}#sk-container-id-9 div.sk-toggleable {background-color: white;}#sk-container-id-9 label.sk-toggleable__label {cursor: pointer;display: block;width: 100%;margin-bottom: 0;padding: 0.3em;box-sizing: border-box;text-align: center;}#sk-container-id-9 label.sk-toggleable__label-arrow:before {content: \"▸\";float: left;margin-right: 0.25em;color: #696969;}#sk-container-id-9 label.sk-toggleable__label-arrow:hover:before {color: black;}#sk-container-id-9 div.sk-estimator:hover label.sk-toggleable__label-arrow:before {color: black;}#sk-container-id-9 div.sk-toggleable__content {max-height: 0;max-width: 0;overflow: hidden;text-align: left;background-color: #f0f8ff;}#sk-container-id-9 div.sk-toggleable__content pre {margin: 0.2em;color: black;border-radius: 0.25em;background-color: #f0f8ff;}#sk-container-id-9 input.sk-toggleable__control:checked~div.sk-toggleable__content {max-height: 200px;max-width: 100%;overflow: auto;}#sk-container-id-9 input.sk-toggleable__control:checked~label.sk-toggleable__label-arrow:before {content: \"▾\";}#sk-container-id-9 div.sk-estimator input.sk-toggleable__control:checked~label.sk-toggleable__label {background-color: #d4ebff;}#sk-container-id-9 div.sk-label input.sk-toggleable__control:checked~label.sk-toggleable__label {background-color: #d4ebff;}#sk-container-id-9 input.sk-hidden--visually {border: 0;clip: rect(1px 1px 1px 1px);clip: rect(1px, 1px, 1px, 1px);height: 1px;margin: -1px;overflow: hidden;padding: 0;position: absolute;width: 1px;}#sk-container-id-9 div.sk-estimator {font-family: monospace;background-color: #f0f8ff;border: 1px dotted black;border-radius: 0.25em;box-sizing: border-box;margin-bottom: 0.5em;}#sk-container-id-9 div.sk-estimator:hover {background-color: #d4ebff;}#sk-container-id-9 div.sk-parallel-item::after {content: \"\";width: 100%;border-bottom: 1px solid gray;flex-grow: 1;}#sk-container-id-9 div.sk-label:hover label.sk-toggleable__label {background-color: #d4ebff;}#sk-container-id-9 div.sk-serial::before {content: \"\";position: absolute;border-left: 1px solid gray;box-sizing: border-box;top: 0;bottom: 0;left: 50%;z-index: 0;}#sk-container-id-9 div.sk-serial {display: flex;flex-direction: column;align-items: center;background-color: white;padding-right: 0.2em;padding-left: 0.2em;position: relative;}#sk-container-id-9 div.sk-item {position: relative;z-index: 1;}#sk-container-id-9 div.sk-parallel {display: flex;align-items: stretch;justify-content: center;background-color: white;position: relative;}#sk-container-id-9 div.sk-item::before, #sk-container-id-9 div.sk-parallel-item::before {content: \"\";position: absolute;border-left: 1px solid gray;box-sizing: border-box;top: 0;bottom: 0;left: 50%;z-index: -1;}#sk-container-id-9 div.sk-parallel-item {display: flex;flex-direction: column;z-index: 1;position: relative;background-color: white;}#sk-container-id-9 div.sk-parallel-item:first-child::after {align-self: flex-end;width: 50%;}#sk-container-id-9 div.sk-parallel-item:last-child::after {align-self: flex-start;width: 50%;}#sk-container-id-9 div.sk-parallel-item:only-child::after {width: 0;}#sk-container-id-9 div.sk-dashed-wrapped {border: 1px dashed gray;margin: 0 0.4em 0.5em 0.4em;box-sizing: border-box;padding-bottom: 0.4em;background-color: white;}#sk-container-id-9 div.sk-label label {font-family: monospace;font-weight: bold;display: inline-block;line-height: 1.2em;}#sk-container-id-9 div.sk-label-container {text-align: center;}#sk-container-id-9 div.sk-container {/* jupyter's `normalize.less` sets `[hidden] { display: none; }` but bootstrap.min.css set `[hidden] { display: none !important; }` so we also need the `!important` here to be able to override the default hidden behavior on the sphinx rendered scikit-learn.org. See: https://github.com/scikit-learn/scikit-learn/issues/21755 */display: inline-block !important;position: relative;}#sk-container-id-9 div.sk-text-repr-fallback {display: none;}</style><div id=\"sk-container-id-9\" class=\"sk-top-container\"><div class=\"sk-text-repr-fallback\"><pre>Pipeline(steps=[(&#x27;onehotencoder&#x27;,\n",
       "                 OneHotEncoder(cols=[&#x27;neighborhood&#x27;, &#x27;style&#x27;],\n",
       "                               use_cat_names=True)),\n",
       "                (&#x27;randomforestregressor&#x27;,\n",
       "                 RandomForestRegressor(random_state=42))])</pre><b>In a Jupyter environment, please rerun this cell to show the HTML representation or trust the notebook. <br />On GitHub, the HTML representation is unable to render, please try loading this page with nbviewer.org.</b></div><div class=\"sk-container\" hidden><div class=\"sk-item sk-dashed-wrapped\"><div class=\"sk-label-container\"><div class=\"sk-label sk-toggleable\"><input class=\"sk-toggleable__control sk-hidden--visually\" id=\"sk-estimator-id-21\" type=\"checkbox\" ><label for=\"sk-estimator-id-21\" class=\"sk-toggleable__label sk-toggleable__label-arrow\">Pipeline</label><div class=\"sk-toggleable__content\"><pre>Pipeline(steps=[(&#x27;onehotencoder&#x27;,\n",
       "                 OneHotEncoder(cols=[&#x27;neighborhood&#x27;, &#x27;style&#x27;],\n",
       "                               use_cat_names=True)),\n",
       "                (&#x27;randomforestregressor&#x27;,\n",
       "                 RandomForestRegressor(random_state=42))])</pre></div></div></div><div class=\"sk-serial\"><div class=\"sk-item\"><div class=\"sk-estimator sk-toggleable\"><input class=\"sk-toggleable__control sk-hidden--visually\" id=\"sk-estimator-id-22\" type=\"checkbox\" ><label for=\"sk-estimator-id-22\" class=\"sk-toggleable__label sk-toggleable__label-arrow\">OneHotEncoder</label><div class=\"sk-toggleable__content\"><pre>OneHotEncoder(cols=[&#x27;neighborhood&#x27;, &#x27;style&#x27;], use_cat_names=True)</pre></div></div></div><div class=\"sk-item\"><div class=\"sk-estimator sk-toggleable\"><input class=\"sk-toggleable__control sk-hidden--visually\" id=\"sk-estimator-id-23\" type=\"checkbox\" ><label for=\"sk-estimator-id-23\" class=\"sk-toggleable__label sk-toggleable__label-arrow\">RandomForestRegressor</label><div class=\"sk-toggleable__content\"><pre>RandomForestRegressor(random_state=42)</pre></div></div></div></div></div></div></div>"
      ],
      "text/plain": [
       "Pipeline(steps=[('onehotencoder',\n",
       "                 OneHotEncoder(cols=['neighborhood', 'style'],\n",
       "                               use_cat_names=True)),\n",
       "                ('randomforestregressor',\n",
       "                 RandomForestRegressor(random_state=42))])"
      ]
     },
     "execution_count": 23,
     "metadata": {},
     "output_type": "execute_result"
    }
   ],
   "source": [
    "# MODEL 3 HERE\n",
    "# Step 1a: Create the pipeline onject\n",
    "pipe_rf = make_pipeline(\n",
    "\n",
    "    #Step 1b - add in any preprocessors\n",
    "    OneHotEncoder(use_cat_names=True),\n",
    "    #step 1c: Add in the model object to the pipeline\n",
    "    RandomForestRegressor(random_state=42)\n",
    ")\n",
    "# Step 2: Fit the pipeline\n",
    "pipe_rf.fit(X_train, y_train)"
   ]
  },
  {
   "cell_type": "code",
   "execution_count": 24,
   "metadata": {},
   "outputs": [
    {
     "data": {
      "text/html": [
       "<style>#sk-container-id-10 {color: black;}#sk-container-id-10 pre{padding: 0;}#sk-container-id-10 div.sk-toggleable {background-color: white;}#sk-container-id-10 label.sk-toggleable__label {cursor: pointer;display: block;width: 100%;margin-bottom: 0;padding: 0.3em;box-sizing: border-box;text-align: center;}#sk-container-id-10 label.sk-toggleable__label-arrow:before {content: \"▸\";float: left;margin-right: 0.25em;color: #696969;}#sk-container-id-10 label.sk-toggleable__label-arrow:hover:before {color: black;}#sk-container-id-10 div.sk-estimator:hover label.sk-toggleable__label-arrow:before {color: black;}#sk-container-id-10 div.sk-toggleable__content {max-height: 0;max-width: 0;overflow: hidden;text-align: left;background-color: #f0f8ff;}#sk-container-id-10 div.sk-toggleable__content pre {margin: 0.2em;color: black;border-radius: 0.25em;background-color: #f0f8ff;}#sk-container-id-10 input.sk-toggleable__control:checked~div.sk-toggleable__content {max-height: 200px;max-width: 100%;overflow: auto;}#sk-container-id-10 input.sk-toggleable__control:checked~label.sk-toggleable__label-arrow:before {content: \"▾\";}#sk-container-id-10 div.sk-estimator input.sk-toggleable__control:checked~label.sk-toggleable__label {background-color: #d4ebff;}#sk-container-id-10 div.sk-label input.sk-toggleable__control:checked~label.sk-toggleable__label {background-color: #d4ebff;}#sk-container-id-10 input.sk-hidden--visually {border: 0;clip: rect(1px 1px 1px 1px);clip: rect(1px, 1px, 1px, 1px);height: 1px;margin: -1px;overflow: hidden;padding: 0;position: absolute;width: 1px;}#sk-container-id-10 div.sk-estimator {font-family: monospace;background-color: #f0f8ff;border: 1px dotted black;border-radius: 0.25em;box-sizing: border-box;margin-bottom: 0.5em;}#sk-container-id-10 div.sk-estimator:hover {background-color: #d4ebff;}#sk-container-id-10 div.sk-parallel-item::after {content: \"\";width: 100%;border-bottom: 1px solid gray;flex-grow: 1;}#sk-container-id-10 div.sk-label:hover label.sk-toggleable__label {background-color: #d4ebff;}#sk-container-id-10 div.sk-serial::before {content: \"\";position: absolute;border-left: 1px solid gray;box-sizing: border-box;top: 0;bottom: 0;left: 50%;z-index: 0;}#sk-container-id-10 div.sk-serial {display: flex;flex-direction: column;align-items: center;background-color: white;padding-right: 0.2em;padding-left: 0.2em;position: relative;}#sk-container-id-10 div.sk-item {position: relative;z-index: 1;}#sk-container-id-10 div.sk-parallel {display: flex;align-items: stretch;justify-content: center;background-color: white;position: relative;}#sk-container-id-10 div.sk-item::before, #sk-container-id-10 div.sk-parallel-item::before {content: \"\";position: absolute;border-left: 1px solid gray;box-sizing: border-box;top: 0;bottom: 0;left: 50%;z-index: -1;}#sk-container-id-10 div.sk-parallel-item {display: flex;flex-direction: column;z-index: 1;position: relative;background-color: white;}#sk-container-id-10 div.sk-parallel-item:first-child::after {align-self: flex-end;width: 50%;}#sk-container-id-10 div.sk-parallel-item:last-child::after {align-self: flex-start;width: 50%;}#sk-container-id-10 div.sk-parallel-item:only-child::after {width: 0;}#sk-container-id-10 div.sk-dashed-wrapped {border: 1px dashed gray;margin: 0 0.4em 0.5em 0.4em;box-sizing: border-box;padding-bottom: 0.4em;background-color: white;}#sk-container-id-10 div.sk-label label {font-family: monospace;font-weight: bold;display: inline-block;line-height: 1.2em;}#sk-container-id-10 div.sk-label-container {text-align: center;}#sk-container-id-10 div.sk-container {/* jupyter's `normalize.less` sets `[hidden] { display: none; }` but bootstrap.min.css set `[hidden] { display: none !important; }` so we also need the `!important` here to be able to override the default hidden behavior on the sphinx rendered scikit-learn.org. See: https://github.com/scikit-learn/scikit-learn/issues/21755 */display: inline-block !important;position: relative;}#sk-container-id-10 div.sk-text-repr-fallback {display: none;}</style><div id=\"sk-container-id-10\" class=\"sk-top-container\"><div class=\"sk-text-repr-fallback\"><pre>Pipeline(steps=[(&#x27;onehotencoder&#x27;,\n",
       "                 OneHotEncoder(cols=[&#x27;neighborhood&#x27;, &#x27;style&#x27;],\n",
       "                               use_cat_names=True)),\n",
       "                (&#x27;xgbregressor&#x27;,\n",
       "                 XGBRegressor(base_score=None, booster=None, callbacks=None,\n",
       "                              colsample_bylevel=None, colsample_bynode=None,\n",
       "                              colsample_bytree=None, device=None,\n",
       "                              early_stopping_rounds=None,\n",
       "                              enable_categorical=False, eval_metric=None,\n",
       "                              feature_types=None, gamma=None, grow_policy=None,\n",
       "                              importance_type=None,\n",
       "                              interaction_constraints=None, learning_rate=None,\n",
       "                              max_bin=None, max_cat_threshold=None,\n",
       "                              max_cat_to_onehot=None, max_delta_step=None,\n",
       "                              max_depth=None, max_leaves=None,\n",
       "                              min_child_weight=None, missing=nan,\n",
       "                              monotone_constraints=None, multi_strategy=None,\n",
       "                              n_estimators=None, n_jobs=None,\n",
       "                              num_parallel_tree=None, random_state=42, ...))])</pre><b>In a Jupyter environment, please rerun this cell to show the HTML representation or trust the notebook. <br />On GitHub, the HTML representation is unable to render, please try loading this page with nbviewer.org.</b></div><div class=\"sk-container\" hidden><div class=\"sk-item sk-dashed-wrapped\"><div class=\"sk-label-container\"><div class=\"sk-label sk-toggleable\"><input class=\"sk-toggleable__control sk-hidden--visually\" id=\"sk-estimator-id-24\" type=\"checkbox\" ><label for=\"sk-estimator-id-24\" class=\"sk-toggleable__label sk-toggleable__label-arrow\">Pipeline</label><div class=\"sk-toggleable__content\"><pre>Pipeline(steps=[(&#x27;onehotencoder&#x27;,\n",
       "                 OneHotEncoder(cols=[&#x27;neighborhood&#x27;, &#x27;style&#x27;],\n",
       "                               use_cat_names=True)),\n",
       "                (&#x27;xgbregressor&#x27;,\n",
       "                 XGBRegressor(base_score=None, booster=None, callbacks=None,\n",
       "                              colsample_bylevel=None, colsample_bynode=None,\n",
       "                              colsample_bytree=None, device=None,\n",
       "                              early_stopping_rounds=None,\n",
       "                              enable_categorical=False, eval_metric=None,\n",
       "                              feature_types=None, gamma=None, grow_policy=None,\n",
       "                              importance_type=None,\n",
       "                              interaction_constraints=None, learning_rate=None,\n",
       "                              max_bin=None, max_cat_threshold=None,\n",
       "                              max_cat_to_onehot=None, max_delta_step=None,\n",
       "                              max_depth=None, max_leaves=None,\n",
       "                              min_child_weight=None, missing=nan,\n",
       "                              monotone_constraints=None, multi_strategy=None,\n",
       "                              n_estimators=None, n_jobs=None,\n",
       "                              num_parallel_tree=None, random_state=42, ...))])</pre></div></div></div><div class=\"sk-serial\"><div class=\"sk-item\"><div class=\"sk-estimator sk-toggleable\"><input class=\"sk-toggleable__control sk-hidden--visually\" id=\"sk-estimator-id-25\" type=\"checkbox\" ><label for=\"sk-estimator-id-25\" class=\"sk-toggleable__label sk-toggleable__label-arrow\">OneHotEncoder</label><div class=\"sk-toggleable__content\"><pre>OneHotEncoder(cols=[&#x27;neighborhood&#x27;, &#x27;style&#x27;], use_cat_names=True)</pre></div></div></div><div class=\"sk-item\"><div class=\"sk-estimator sk-toggleable\"><input class=\"sk-toggleable__control sk-hidden--visually\" id=\"sk-estimator-id-26\" type=\"checkbox\" ><label for=\"sk-estimator-id-26\" class=\"sk-toggleable__label sk-toggleable__label-arrow\">XGBRegressor</label><div class=\"sk-toggleable__content\"><pre>XGBRegressor(base_score=None, booster=None, callbacks=None,\n",
       "             colsample_bylevel=None, colsample_bynode=None,\n",
       "             colsample_bytree=None, device=None, early_stopping_rounds=None,\n",
       "             enable_categorical=False, eval_metric=None, feature_types=None,\n",
       "             gamma=None, grow_policy=None, importance_type=None,\n",
       "             interaction_constraints=None, learning_rate=None, max_bin=None,\n",
       "             max_cat_threshold=None, max_cat_to_onehot=None,\n",
       "             max_delta_step=None, max_depth=None, max_leaves=None,\n",
       "             min_child_weight=None, missing=nan, monotone_constraints=None,\n",
       "             multi_strategy=None, n_estimators=None, n_jobs=None,\n",
       "             num_parallel_tree=None, random_state=42, ...)</pre></div></div></div></div></div></div></div>"
      ],
      "text/plain": [
       "Pipeline(steps=[('onehotencoder',\n",
       "                 OneHotEncoder(cols=['neighborhood', 'style'],\n",
       "                               use_cat_names=True)),\n",
       "                ('xgbregressor',\n",
       "                 XGBRegressor(base_score=None, booster=None, callbacks=None,\n",
       "                              colsample_bylevel=None, colsample_bynode=None,\n",
       "                              colsample_bytree=None, device=None,\n",
       "                              early_stopping_rounds=None,\n",
       "                              enable_categorical=False, eval_metric=None,\n",
       "                              feature_types=None, gamma=None, grow_policy=None,\n",
       "                              importance_type=None,\n",
       "                              interaction_constraints=None, learning_rate=None,\n",
       "                              max_bin=None, max_cat_threshold=None,\n",
       "                              max_cat_to_onehot=None, max_delta_step=None,\n",
       "                              max_depth=None, max_leaves=None,\n",
       "                              min_child_weight=None, missing=nan,\n",
       "                              monotone_constraints=None, multi_strategy=None,\n",
       "                              n_estimators=None, n_jobs=None,\n",
       "                              num_parallel_tree=None, random_state=42, ...))])"
      ]
     },
     "execution_count": 24,
     "metadata": {},
     "output_type": "execute_result"
    }
   ],
   "source": [
    "# MODEL 4 HERE\n",
    "# Step 1a: Create the pipeline onject\n",
    "pipe_xg = make_pipeline(\n",
    "\n",
    "    #Step 1b - add in any preprocessors\n",
    "    OneHotEncoder(use_cat_names=True),\n",
    "    #step 1c: Add in the model object to the pipeline\n",
    "    XGBRegressor(random_state=42)\n",
    ")\n",
    "# Step 2: Fit the pipeline\n",
    "pipe_xg.fit(X_train, y_train)"
   ]
  },
  {
   "attachments": {},
   "cell_type": "markdown",
   "metadata": {},
   "source": [
    "### Part 6: Check Metrics"
   ]
  },
  {
   "attachments": {},
   "cell_type": "markdown",
   "metadata": {},
   "source": [
    "So we built out all these models and fit them to the datasets. Now what? Well, we need to check on the accuracy of these models and compare each to our baseline model to see if it is performing better or worse than the baseline! To do so, we will utilize a few different modules. Note that the measurements of accuracy differ between a Regression analysis and a Classification analysis. In regression, we will use:\n",
    "\n",
    "* **mean absolute error(MAE)**: Calculated using the actual and predicted values. This measures the residuals of the model's predictions from the actual values and returns the mean value of those residuals\n",
    "\n",
    "* **mean squared error(MSE)**:Along the same lines as MAE, however, MSE squares the predicted and actual value before subtraction and division, causing errors to be very obvious. MSE can show large numbers due to the amount of variance actually present within the model.\n",
    "\n",
    "* **r2 score**: Overall assessment of model accuracy. The values range from 0 to 1, indicating a percentage of data that the model is correctly predicting.\n",
    "\n",
    "Remember that there is no one sure-fire way to check a model's accuracy. The culmination of all these should be what affects our decision on a model, not the value of a singular metric!"
   ]
  },
  {
   "cell_type": "code",
   "execution_count": 28,
   "metadata": {},
   "outputs": [
    {
     "name": "stdout",
     "output_type": "stream",
     "text": [
      "Baseline Scores:\n",
      "396483.24336120364\n",
      "--------------------------------\n",
      "Linear Model Score:\n",
      "120539.77\n",
      "125249.06\n",
      "--------------------------------\n",
      "Decision Score:\n",
      "0.0\n",
      "702.03\n",
      "--------------------------------\n",
      "Random Forest Score:\n",
      "230.82\n",
      "530.67\n",
      "XGBoost Score:\n",
      "2526.43\n",
      "3022.57\n"
     ]
    }
   ],
   "source": [
    "print('Baseline Scores:')\n",
    "print(mean_absolute_error(y_train, baseline))\n",
    "print('--------------------------------')\n",
    "print('Linear Model Score:')\n",
    "print(mean_absolute_error(y_train, model_lr.predict(X_train)).round(2))\n",
    "print(mean_absolute_error(y_test, model_lr.predict(X_test)).round(2))\n",
    "print('--------------------------------')\n",
    "print('Decision Score:')\n",
    "print(mean_absolute_error(y_train, pipe_dt.predict(X_train)).round(2))\n",
    "print(mean_absolute_error(y_test, pipe_dt.predict(X_test)).round(2))\n",
    "print('--------------------------------')\n",
    "print('Random Forest Score:')\n",
    "print(mean_absolute_error(y_train, pipe_rf.predict(X_train)).round(2))\n",
    "print(mean_absolute_error(y_test, pipe_rf.predict(X_test)).round(2))\n",
    "print('XGBoost Score:')\n",
    "print(mean_absolute_error(y_train, pipe_xg.predict(X_train)).round(2))\n",
    "print(mean_absolute_error(y_test, pipe_xg.predict(X_test)).round(2))"
   ]
  },
  {
   "cell_type": "code",
   "execution_count": 27,
   "metadata": {},
   "outputs": [
    {
     "name": "stdout",
     "output_type": "stream",
     "text": [
      "Baseline Scores:\n",
      "275232733536.3197\n",
      "--------------------------------\n",
      "Linear Model Score:\n",
      "21958568050.79\n",
      "22856874251.0\n",
      "--------------------------------\n",
      "Decision Score:\n",
      "0.0\n",
      "3932669.65\n",
      "--------------------------------\n",
      "Random Forest Score:\n",
      "2622081.43\n",
      "3294270.83\n",
      "XGBoost Score:\n",
      "142321471.58\n",
      "128250286.98\n"
     ]
    }
   ],
   "source": [
    "print('Baseline Scores:')\n",
    "print(mean_squared_error(y_train, baseline))\n",
    "print('--------------------------------')\n",
    "print('Linear Model Score:')\n",
    "print(mean_squared_error(y_train, model_lr.predict(X_train)).round(2))\n",
    "print(mean_squared_error(y_test, model_lr.predict(X_test)).round(2))\n",
    "print('--------------------------------')\n",
    "print('Decision Score:')\n",
    "print(mean_squared_error(y_train, pipe_dt.predict(X_train)).round(2))\n",
    "print(mean_squared_error(y_test, pipe_dt.predict(X_test)).round(2))\n",
    "print('--------------------------------')\n",
    "print('Random Forest Score:')\n",
    "print(mean_squared_error(y_train, pipe_rf.predict(X_train)).round(2))\n",
    "print(mean_squared_error(y_test, pipe_rf.predict(X_test)).round(2))\n",
    "print('XGBoost Score:')\n",
    "print(mean_squared_error(y_train, pipe_xg.predict(X_train)).round(2))\n",
    "print(mean_squared_error(y_test, pipe_xg.predict(X_test)).round(2))"
   ]
  },
  {
   "cell_type": "code",
   "execution_count": 29,
   "metadata": {},
   "outputs": [
    {
     "name": "stdout",
     "output_type": "stream",
     "text": [
      "Baseline Scores:\n",
      "-2.2066670418485756e-05\n",
      "--------------------------------\n",
      "Linear Model Score:\n",
      "0.92\n",
      "0.92\n",
      "--------------------------------\n",
      "Decision Score:\n",
      "1.0\n",
      "1.0\n",
      "--------------------------------\n",
      "Random Forest Score:\n",
      "1.0\n",
      "1.0\n",
      "XGBoost Score:\n",
      "1.0\n",
      "1.0\n"
     ]
    }
   ],
   "source": [
    "print('Baseline Scores:')\n",
    "print(r2_score(y_train, baseline))\n",
    "print('--------------------------------')\n",
    "print('Linear Model Score:')\n",
    "print(r2_score(y_train, model_lr.predict(X_train)).round(2))\n",
    "print(r2_score(y_test, model_lr.predict(X_test)).round(2))\n",
    "print('--------------------------------')\n",
    "print('Decision Score:')\n",
    "print(r2_score(y_train, pipe_dt.predict(X_train)).round(2))\n",
    "print(r2_score(y_test, pipe_dt.predict(X_test)).round(2))\n",
    "print('--------------------------------')\n",
    "print('Random Forest Score:')\n",
    "print(r2_score(y_train, pipe_rf.predict(X_train)).round(2))\n",
    "print(r2_score(y_test, pipe_rf.predict(X_test)).round(2))\n",
    "print('XGBoost Score:')\n",
    "print(r2_score(y_train, pipe_xg.predict(X_train)).round(2))\n",
    "print(r2_score(y_test, pipe_xg.predict(X_test)).round(2))"
   ]
  },
  {
   "attachments": {},
   "cell_type": "markdown",
   "metadata": {},
   "source": [
    "### Step 7: Tuning a model"
   ]
  },
  {
   "attachments": {},
   "cell_type": "markdown",
   "metadata": {},
   "source": [
    "After we determine which model we want to use and will best fit our situation, we will want to tune the hyperparameters of that model. Hyperparameters refer to the parameters, or arguments, that each model takes. Each model has different parameters that can be tuned and each one has a level of significance to the final outcome of a model's prediction! Now, we could do this all by hand and input each of these values separately in the model, fit it, then check the metrics. However, there is an easier way to accomplish this task! By using the `RandomizedSearchCV` module, we will be able to parse over a parameter grid, or a dictionary where the key is the parameter and the value is all possible values you want to test the parameter at!\n",
    "\n",
    "Today, we will be looking over a few of these hyperparameters for the `RandomForestRegressor` model."
   ]
  },
  {
   "cell_type": "code",
   "execution_count": 41,
   "metadata": {},
   "outputs": [
    {
     "ename": "ValueError",
     "evalue": "Invalid parameter 'RandomForestRegressor' for estimator Pipeline(steps=[('onehotencoder',\n                 OneHotEncoder(cols=['neighborhood', 'style'],\n                               use_cat_names=True)),\n                ('randomforestregressor',\n                 RandomForestRegressor(random_state=42))]). Valid parameters are: ['memory', 'steps', 'verbose'].",
     "output_type": "error",
     "traceback": [
      "\u001b[1;31m---------------------------------------------------------------------------\u001b[0m",
      "\u001b[1;31mValueError\u001b[0m                                Traceback (most recent call last)",
      "\u001b[1;32mc:\\Users\\bioni\\OneDrive\\Documents\\GitHub\\Coding_Temple\\Week 4\\Lecture Notes\\D3\\Python for DA Day III.ipynb Cell 61\u001b[0m line \u001b[0;36m1\n\u001b[0;32m     <a href='vscode-notebook-cell:/c%3A/Users/bioni/OneDrive/Documents/GitHub/Coding_Temple/Week%204/Lecture%20Notes/D3/Python%20for%20DA%20Day%20III.ipynb#Y114sZmlsZQ%3D%3D?line=9'>10</a>\u001b[0m clf \u001b[39m=\u001b[39m RandomizedSearchCV(pipe_rf, param_grid)\n\u001b[0;32m     <a href='vscode-notebook-cell:/c%3A/Users/bioni/OneDrive/Documents/GitHub/Coding_Temple/Week%204/Lecture%20Notes/D3/Python%20for%20DA%20Day%20III.ipynb#Y114sZmlsZQ%3D%3D?line=11'>12</a>\u001b[0m \u001b[39m# Step 3: Fit the data:\u001b[39;00m\n\u001b[1;32m---> <a href='vscode-notebook-cell:/c%3A/Users/bioni/OneDrive/Documents/GitHub/Coding_Temple/Week%204/Lecture%20Notes/D3/Python%20for%20DA%20Day%20III.ipynb#Y114sZmlsZQ%3D%3D?line=12'>13</a>\u001b[0m clf\u001b[39m.\u001b[39mfit(X_train, y_train)\n",
      "File \u001b[1;32mc:\\Users\\bioni\\anaconda3\\Lib\\site-packages\\sklearn\\base.py:1151\u001b[0m, in \u001b[0;36m_fit_context.<locals>.decorator.<locals>.wrapper\u001b[1;34m(estimator, *args, **kwargs)\u001b[0m\n\u001b[0;32m   1144\u001b[0m     estimator\u001b[39m.\u001b[39m_validate_params()\n\u001b[0;32m   1146\u001b[0m \u001b[39mwith\u001b[39;00m config_context(\n\u001b[0;32m   1147\u001b[0m     skip_parameter_validation\u001b[39m=\u001b[39m(\n\u001b[0;32m   1148\u001b[0m         prefer_skip_nested_validation \u001b[39mor\u001b[39;00m global_skip_validation\n\u001b[0;32m   1149\u001b[0m     )\n\u001b[0;32m   1150\u001b[0m ):\n\u001b[1;32m-> 1151\u001b[0m     \u001b[39mreturn\u001b[39;00m fit_method(estimator, \u001b[39m*\u001b[39margs, \u001b[39m*\u001b[39m\u001b[39m*\u001b[39mkwargs)\n",
      "File \u001b[1;32mc:\\Users\\bioni\\anaconda3\\Lib\\site-packages\\sklearn\\model_selection\\_search.py:898\u001b[0m, in \u001b[0;36mBaseSearchCV.fit\u001b[1;34m(self, X, y, groups, **fit_params)\u001b[0m\n\u001b[0;32m    892\u001b[0m     results \u001b[39m=\u001b[39m \u001b[39mself\u001b[39m\u001b[39m.\u001b[39m_format_results(\n\u001b[0;32m    893\u001b[0m         all_candidate_params, n_splits, all_out, all_more_results\n\u001b[0;32m    894\u001b[0m     )\n\u001b[0;32m    896\u001b[0m     \u001b[39mreturn\u001b[39;00m results\n\u001b[1;32m--> 898\u001b[0m \u001b[39mself\u001b[39m\u001b[39m.\u001b[39m_run_search(evaluate_candidates)\n\u001b[0;32m    900\u001b[0m \u001b[39m# multimetric is determined here because in the case of a callable\u001b[39;00m\n\u001b[0;32m    901\u001b[0m \u001b[39m# self.scoring the return type is only known after calling\u001b[39;00m\n\u001b[0;32m    902\u001b[0m first_test_score \u001b[39m=\u001b[39m all_out[\u001b[39m0\u001b[39m][\u001b[39m\"\u001b[39m\u001b[39mtest_scores\u001b[39m\u001b[39m\"\u001b[39m]\n",
      "File \u001b[1;32mc:\\Users\\bioni\\anaconda3\\Lib\\site-packages\\sklearn\\model_selection\\_search.py:1806\u001b[0m, in \u001b[0;36mRandomizedSearchCV._run_search\u001b[1;34m(self, evaluate_candidates)\u001b[0m\n\u001b[0;32m   1804\u001b[0m \u001b[39mdef\u001b[39;00m \u001b[39m_run_search\u001b[39m(\u001b[39mself\u001b[39m, evaluate_candidates):\n\u001b[0;32m   1805\u001b[0m \u001b[39m    \u001b[39m\u001b[39m\"\"\"Search n_iter candidates from param_distributions\"\"\"\u001b[39;00m\n\u001b[1;32m-> 1806\u001b[0m     evaluate_candidates(\n\u001b[0;32m   1807\u001b[0m         ParameterSampler(\n\u001b[0;32m   1808\u001b[0m             \u001b[39mself\u001b[39m\u001b[39m.\u001b[39mparam_distributions, \u001b[39mself\u001b[39m\u001b[39m.\u001b[39mn_iter, random_state\u001b[39m=\u001b[39m\u001b[39mself\u001b[39m\u001b[39m.\u001b[39mrandom_state\n\u001b[0;32m   1809\u001b[0m         )\n\u001b[0;32m   1810\u001b[0m     )\n",
      "File \u001b[1;32mc:\\Users\\bioni\\anaconda3\\Lib\\site-packages\\sklearn\\model_selection\\_search.py:845\u001b[0m, in \u001b[0;36mBaseSearchCV.fit.<locals>.evaluate_candidates\u001b[1;34m(candidate_params, cv, more_results)\u001b[0m\n\u001b[0;32m    837\u001b[0m \u001b[39mif\u001b[39;00m \u001b[39mself\u001b[39m\u001b[39m.\u001b[39mverbose \u001b[39m>\u001b[39m \u001b[39m0\u001b[39m:\n\u001b[0;32m    838\u001b[0m     \u001b[39mprint\u001b[39m(\n\u001b[0;32m    839\u001b[0m         \u001b[39m\"\u001b[39m\u001b[39mFitting \u001b[39m\u001b[39m{0}\u001b[39;00m\u001b[39m folds for each of \u001b[39m\u001b[39m{1}\u001b[39;00m\u001b[39m candidates,\u001b[39m\u001b[39m\"\u001b[39m\n\u001b[0;32m    840\u001b[0m         \u001b[39m\"\u001b[39m\u001b[39m totalling \u001b[39m\u001b[39m{2}\u001b[39;00m\u001b[39m fits\u001b[39m\u001b[39m\"\u001b[39m\u001b[39m.\u001b[39mformat(\n\u001b[0;32m    841\u001b[0m             n_splits, n_candidates, n_candidates \u001b[39m*\u001b[39m n_splits\n\u001b[0;32m    842\u001b[0m         )\n\u001b[0;32m    843\u001b[0m     )\n\u001b[1;32m--> 845\u001b[0m out \u001b[39m=\u001b[39m parallel(\n\u001b[0;32m    846\u001b[0m     delayed(_fit_and_score)(\n\u001b[0;32m    847\u001b[0m         clone(base_estimator),\n\u001b[0;32m    848\u001b[0m         X,\n\u001b[0;32m    849\u001b[0m         y,\n\u001b[0;32m    850\u001b[0m         train\u001b[39m=\u001b[39mtrain,\n\u001b[0;32m    851\u001b[0m         test\u001b[39m=\u001b[39mtest,\n\u001b[0;32m    852\u001b[0m         parameters\u001b[39m=\u001b[39mparameters,\n\u001b[0;32m    853\u001b[0m         split_progress\u001b[39m=\u001b[39m(split_idx, n_splits),\n\u001b[0;32m    854\u001b[0m         candidate_progress\u001b[39m=\u001b[39m(cand_idx, n_candidates),\n\u001b[0;32m    855\u001b[0m         \u001b[39m*\u001b[39m\u001b[39m*\u001b[39mfit_and_score_kwargs,\n\u001b[0;32m    856\u001b[0m     )\n\u001b[0;32m    857\u001b[0m     \u001b[39mfor\u001b[39;00m (cand_idx, parameters), (split_idx, (train, test)) \u001b[39min\u001b[39;00m product(\n\u001b[0;32m    858\u001b[0m         \u001b[39menumerate\u001b[39m(candidate_params), \u001b[39menumerate\u001b[39m(cv\u001b[39m.\u001b[39msplit(X, y, groups))\n\u001b[0;32m    859\u001b[0m     )\n\u001b[0;32m    860\u001b[0m )\n\u001b[0;32m    862\u001b[0m \u001b[39mif\u001b[39;00m \u001b[39mlen\u001b[39m(out) \u001b[39m<\u001b[39m \u001b[39m1\u001b[39m:\n\u001b[0;32m    863\u001b[0m     \u001b[39mraise\u001b[39;00m \u001b[39mValueError\u001b[39;00m(\n\u001b[0;32m    864\u001b[0m         \u001b[39m\"\u001b[39m\u001b[39mNo fits were performed. \u001b[39m\u001b[39m\"\u001b[39m\n\u001b[0;32m    865\u001b[0m         \u001b[39m\"\u001b[39m\u001b[39mWas the CV iterator empty? \u001b[39m\u001b[39m\"\u001b[39m\n\u001b[0;32m    866\u001b[0m         \u001b[39m\"\u001b[39m\u001b[39mWere there no candidates?\u001b[39m\u001b[39m\"\u001b[39m\n\u001b[0;32m    867\u001b[0m     )\n",
      "File \u001b[1;32mc:\\Users\\bioni\\anaconda3\\Lib\\site-packages\\sklearn\\utils\\parallel.py:65\u001b[0m, in \u001b[0;36mParallel.__call__\u001b[1;34m(self, iterable)\u001b[0m\n\u001b[0;32m     60\u001b[0m config \u001b[39m=\u001b[39m get_config()\n\u001b[0;32m     61\u001b[0m iterable_with_config \u001b[39m=\u001b[39m (\n\u001b[0;32m     62\u001b[0m     (_with_config(delayed_func, config), args, kwargs)\n\u001b[0;32m     63\u001b[0m     \u001b[39mfor\u001b[39;00m delayed_func, args, kwargs \u001b[39min\u001b[39;00m iterable\n\u001b[0;32m     64\u001b[0m )\n\u001b[1;32m---> 65\u001b[0m \u001b[39mreturn\u001b[39;00m \u001b[39msuper\u001b[39m()\u001b[39m.\u001b[39m\u001b[39m__call__\u001b[39m(iterable_with_config)\n",
      "File \u001b[1;32mc:\\Users\\bioni\\anaconda3\\Lib\\site-packages\\joblib\\parallel.py:1085\u001b[0m, in \u001b[0;36mParallel.__call__\u001b[1;34m(self, iterable)\u001b[0m\n\u001b[0;32m   1076\u001b[0m \u001b[39mtry\u001b[39;00m:\n\u001b[0;32m   1077\u001b[0m     \u001b[39m# Only set self._iterating to True if at least a batch\u001b[39;00m\n\u001b[0;32m   1078\u001b[0m     \u001b[39m# was dispatched. In particular this covers the edge\u001b[39;00m\n\u001b[1;32m   (...)\u001b[0m\n\u001b[0;32m   1082\u001b[0m     \u001b[39m# was very quick and its callback already dispatched all the\u001b[39;00m\n\u001b[0;32m   1083\u001b[0m     \u001b[39m# remaining jobs.\u001b[39;00m\n\u001b[0;32m   1084\u001b[0m     \u001b[39mself\u001b[39m\u001b[39m.\u001b[39m_iterating \u001b[39m=\u001b[39m \u001b[39mFalse\u001b[39;00m\n\u001b[1;32m-> 1085\u001b[0m     \u001b[39mif\u001b[39;00m \u001b[39mself\u001b[39m\u001b[39m.\u001b[39mdispatch_one_batch(iterator):\n\u001b[0;32m   1086\u001b[0m         \u001b[39mself\u001b[39m\u001b[39m.\u001b[39m_iterating \u001b[39m=\u001b[39m \u001b[39mself\u001b[39m\u001b[39m.\u001b[39m_original_iterator \u001b[39mis\u001b[39;00m \u001b[39mnot\u001b[39;00m \u001b[39mNone\u001b[39;00m\n\u001b[0;32m   1088\u001b[0m     \u001b[39mwhile\u001b[39;00m \u001b[39mself\u001b[39m\u001b[39m.\u001b[39mdispatch_one_batch(iterator):\n",
      "File \u001b[1;32mc:\\Users\\bioni\\anaconda3\\Lib\\site-packages\\joblib\\parallel.py:901\u001b[0m, in \u001b[0;36mParallel.dispatch_one_batch\u001b[1;34m(self, iterator)\u001b[0m\n\u001b[0;32m    899\u001b[0m     \u001b[39mreturn\u001b[39;00m \u001b[39mFalse\u001b[39;00m\n\u001b[0;32m    900\u001b[0m \u001b[39melse\u001b[39;00m:\n\u001b[1;32m--> 901\u001b[0m     \u001b[39mself\u001b[39m\u001b[39m.\u001b[39m_dispatch(tasks)\n\u001b[0;32m    902\u001b[0m     \u001b[39mreturn\u001b[39;00m \u001b[39mTrue\u001b[39;00m\n",
      "File \u001b[1;32mc:\\Users\\bioni\\anaconda3\\Lib\\site-packages\\joblib\\parallel.py:819\u001b[0m, in \u001b[0;36mParallel._dispatch\u001b[1;34m(self, batch)\u001b[0m\n\u001b[0;32m    817\u001b[0m \u001b[39mwith\u001b[39;00m \u001b[39mself\u001b[39m\u001b[39m.\u001b[39m_lock:\n\u001b[0;32m    818\u001b[0m     job_idx \u001b[39m=\u001b[39m \u001b[39mlen\u001b[39m(\u001b[39mself\u001b[39m\u001b[39m.\u001b[39m_jobs)\n\u001b[1;32m--> 819\u001b[0m     job \u001b[39m=\u001b[39m \u001b[39mself\u001b[39m\u001b[39m.\u001b[39m_backend\u001b[39m.\u001b[39mapply_async(batch, callback\u001b[39m=\u001b[39mcb)\n\u001b[0;32m    820\u001b[0m     \u001b[39m# A job can complete so quickly than its callback is\u001b[39;00m\n\u001b[0;32m    821\u001b[0m     \u001b[39m# called before we get here, causing self._jobs to\u001b[39;00m\n\u001b[0;32m    822\u001b[0m     \u001b[39m# grow. To ensure correct results ordering, .insert is\u001b[39;00m\n\u001b[0;32m    823\u001b[0m     \u001b[39m# used (rather than .append) in the following line\u001b[39;00m\n\u001b[0;32m    824\u001b[0m     \u001b[39mself\u001b[39m\u001b[39m.\u001b[39m_jobs\u001b[39m.\u001b[39minsert(job_idx, job)\n",
      "File \u001b[1;32mc:\\Users\\bioni\\anaconda3\\Lib\\site-packages\\joblib\\_parallel_backends.py:208\u001b[0m, in \u001b[0;36mSequentialBackend.apply_async\u001b[1;34m(self, func, callback)\u001b[0m\n\u001b[0;32m    206\u001b[0m \u001b[39mdef\u001b[39;00m \u001b[39mapply_async\u001b[39m(\u001b[39mself\u001b[39m, func, callback\u001b[39m=\u001b[39m\u001b[39mNone\u001b[39;00m):\n\u001b[0;32m    207\u001b[0m \u001b[39m    \u001b[39m\u001b[39m\"\"\"Schedule a func to be run\"\"\"\u001b[39;00m\n\u001b[1;32m--> 208\u001b[0m     result \u001b[39m=\u001b[39m ImmediateResult(func)\n\u001b[0;32m    209\u001b[0m     \u001b[39mif\u001b[39;00m callback:\n\u001b[0;32m    210\u001b[0m         callback(result)\n",
      "File \u001b[1;32mc:\\Users\\bioni\\anaconda3\\Lib\\site-packages\\joblib\\_parallel_backends.py:597\u001b[0m, in \u001b[0;36mImmediateResult.__init__\u001b[1;34m(self, batch)\u001b[0m\n\u001b[0;32m    594\u001b[0m \u001b[39mdef\u001b[39;00m \u001b[39m__init__\u001b[39m(\u001b[39mself\u001b[39m, batch):\n\u001b[0;32m    595\u001b[0m     \u001b[39m# Don't delay the application, to avoid keeping the input\u001b[39;00m\n\u001b[0;32m    596\u001b[0m     \u001b[39m# arguments in memory\u001b[39;00m\n\u001b[1;32m--> 597\u001b[0m     \u001b[39mself\u001b[39m\u001b[39m.\u001b[39mresults \u001b[39m=\u001b[39m batch()\n",
      "File \u001b[1;32mc:\\Users\\bioni\\anaconda3\\Lib\\site-packages\\joblib\\parallel.py:288\u001b[0m, in \u001b[0;36mBatchedCalls.__call__\u001b[1;34m(self)\u001b[0m\n\u001b[0;32m    284\u001b[0m \u001b[39mdef\u001b[39;00m \u001b[39m__call__\u001b[39m(\u001b[39mself\u001b[39m):\n\u001b[0;32m    285\u001b[0m     \u001b[39m# Set the default nested backend to self._backend but do not set the\u001b[39;00m\n\u001b[0;32m    286\u001b[0m     \u001b[39m# change the default number of processes to -1\u001b[39;00m\n\u001b[0;32m    287\u001b[0m     \u001b[39mwith\u001b[39;00m parallel_backend(\u001b[39mself\u001b[39m\u001b[39m.\u001b[39m_backend, n_jobs\u001b[39m=\u001b[39m\u001b[39mself\u001b[39m\u001b[39m.\u001b[39m_n_jobs):\n\u001b[1;32m--> 288\u001b[0m         \u001b[39mreturn\u001b[39;00m [func(\u001b[39m*\u001b[39margs, \u001b[39m*\u001b[39m\u001b[39m*\u001b[39mkwargs)\n\u001b[0;32m    289\u001b[0m                 \u001b[39mfor\u001b[39;00m func, args, kwargs \u001b[39min\u001b[39;00m \u001b[39mself\u001b[39m\u001b[39m.\u001b[39mitems]\n",
      "File \u001b[1;32mc:\\Users\\bioni\\anaconda3\\Lib\\site-packages\\joblib\\parallel.py:288\u001b[0m, in \u001b[0;36m<listcomp>\u001b[1;34m(.0)\u001b[0m\n\u001b[0;32m    284\u001b[0m \u001b[39mdef\u001b[39;00m \u001b[39m__call__\u001b[39m(\u001b[39mself\u001b[39m):\n\u001b[0;32m    285\u001b[0m     \u001b[39m# Set the default nested backend to self._backend but do not set the\u001b[39;00m\n\u001b[0;32m    286\u001b[0m     \u001b[39m# change the default number of processes to -1\u001b[39;00m\n\u001b[0;32m    287\u001b[0m     \u001b[39mwith\u001b[39;00m parallel_backend(\u001b[39mself\u001b[39m\u001b[39m.\u001b[39m_backend, n_jobs\u001b[39m=\u001b[39m\u001b[39mself\u001b[39m\u001b[39m.\u001b[39m_n_jobs):\n\u001b[1;32m--> 288\u001b[0m         \u001b[39mreturn\u001b[39;00m [func(\u001b[39m*\u001b[39margs, \u001b[39m*\u001b[39m\u001b[39m*\u001b[39mkwargs)\n\u001b[0;32m    289\u001b[0m                 \u001b[39mfor\u001b[39;00m func, args, kwargs \u001b[39min\u001b[39;00m \u001b[39mself\u001b[39m\u001b[39m.\u001b[39mitems]\n",
      "File \u001b[1;32mc:\\Users\\bioni\\anaconda3\\Lib\\site-packages\\sklearn\\utils\\parallel.py:127\u001b[0m, in \u001b[0;36m_FuncWrapper.__call__\u001b[1;34m(self, *args, **kwargs)\u001b[0m\n\u001b[0;32m    125\u001b[0m     config \u001b[39m=\u001b[39m {}\n\u001b[0;32m    126\u001b[0m \u001b[39mwith\u001b[39;00m config_context(\u001b[39m*\u001b[39m\u001b[39m*\u001b[39mconfig):\n\u001b[1;32m--> 127\u001b[0m     \u001b[39mreturn\u001b[39;00m \u001b[39mself\u001b[39m\u001b[39m.\u001b[39mfunction(\u001b[39m*\u001b[39margs, \u001b[39m*\u001b[39m\u001b[39m*\u001b[39mkwargs)\n",
      "File \u001b[1;32mc:\\Users\\bioni\\anaconda3\\Lib\\site-packages\\sklearn\\model_selection\\_validation.py:720\u001b[0m, in \u001b[0;36m_fit_and_score\u001b[1;34m(estimator, X, y, scorer, train, test, verbose, parameters, fit_params, return_train_score, return_parameters, return_n_test_samples, return_times, return_estimator, split_progress, candidate_progress, error_score)\u001b[0m\n\u001b[0;32m    717\u001b[0m     \u001b[39mfor\u001b[39;00m k, v \u001b[39min\u001b[39;00m parameters\u001b[39m.\u001b[39mitems():\n\u001b[0;32m    718\u001b[0m         cloned_parameters[k] \u001b[39m=\u001b[39m clone(v, safe\u001b[39m=\u001b[39m\u001b[39mFalse\u001b[39;00m)\n\u001b[1;32m--> 720\u001b[0m     estimator \u001b[39m=\u001b[39m estimator\u001b[39m.\u001b[39mset_params(\u001b[39m*\u001b[39m\u001b[39m*\u001b[39mcloned_parameters)\n\u001b[0;32m    722\u001b[0m start_time \u001b[39m=\u001b[39m time\u001b[39m.\u001b[39mtime()\n\u001b[0;32m    724\u001b[0m X_train, y_train \u001b[39m=\u001b[39m _safe_split(estimator, X, y, train)\n",
      "File \u001b[1;32mc:\\Users\\bioni\\anaconda3\\Lib\\site-packages\\sklearn\\pipeline.py:215\u001b[0m, in \u001b[0;36mPipeline.set_params\u001b[1;34m(self, **kwargs)\u001b[0m\n\u001b[0;32m    196\u001b[0m \u001b[39mdef\u001b[39;00m \u001b[39mset_params\u001b[39m(\u001b[39mself\u001b[39m, \u001b[39m*\u001b[39m\u001b[39m*\u001b[39mkwargs):\n\u001b[0;32m    197\u001b[0m \u001b[39m    \u001b[39m\u001b[39m\"\"\"Set the parameters of this estimator.\u001b[39;00m\n\u001b[0;32m    198\u001b[0m \n\u001b[0;32m    199\u001b[0m \u001b[39m    Valid parameter keys can be listed with ``get_params()``. Note that\u001b[39;00m\n\u001b[1;32m   (...)\u001b[0m\n\u001b[0;32m    213\u001b[0m \u001b[39m        Pipeline class instance.\u001b[39;00m\n\u001b[0;32m    214\u001b[0m \u001b[39m    \"\"\"\u001b[39;00m\n\u001b[1;32m--> 215\u001b[0m     \u001b[39mself\u001b[39m\u001b[39m.\u001b[39m_set_params(\u001b[39m\"\u001b[39m\u001b[39msteps\u001b[39m\u001b[39m\"\u001b[39m, \u001b[39m*\u001b[39m\u001b[39m*\u001b[39mkwargs)\n\u001b[0;32m    216\u001b[0m     \u001b[39mreturn\u001b[39;00m \u001b[39mself\u001b[39m\n",
      "File \u001b[1;32mc:\\Users\\bioni\\anaconda3\\Lib\\site-packages\\sklearn\\utils\\metaestimators.py:68\u001b[0m, in \u001b[0;36m_BaseComposition._set_params\u001b[1;34m(self, attr, **params)\u001b[0m\n\u001b[0;32m     65\u001b[0m                 \u001b[39mself\u001b[39m\u001b[39m.\u001b[39m_replace_estimator(attr, name, params\u001b[39m.\u001b[39mpop(name))\n\u001b[0;32m     67\u001b[0m \u001b[39m# 3. Step parameters and other initialisation arguments\u001b[39;00m\n\u001b[1;32m---> 68\u001b[0m \u001b[39msuper\u001b[39m()\u001b[39m.\u001b[39mset_params(\u001b[39m*\u001b[39m\u001b[39m*\u001b[39mparams)\n\u001b[0;32m     69\u001b[0m \u001b[39mreturn\u001b[39;00m \u001b[39mself\u001b[39m\n",
      "File \u001b[1;32mc:\\Users\\bioni\\anaconda3\\Lib\\site-packages\\sklearn\\base.py:229\u001b[0m, in \u001b[0;36mBaseEstimator.set_params\u001b[1;34m(self, **params)\u001b[0m\n\u001b[0;32m    227\u001b[0m \u001b[39mif\u001b[39;00m key \u001b[39mnot\u001b[39;00m \u001b[39min\u001b[39;00m valid_params:\n\u001b[0;32m    228\u001b[0m     local_valid_params \u001b[39m=\u001b[39m \u001b[39mself\u001b[39m\u001b[39m.\u001b[39m_get_param_names()\n\u001b[1;32m--> 229\u001b[0m     \u001b[39mraise\u001b[39;00m \u001b[39mValueError\u001b[39;00m(\n\u001b[0;32m    230\u001b[0m         \u001b[39mf\u001b[39m\u001b[39m\"\u001b[39m\u001b[39mInvalid parameter \u001b[39m\u001b[39m{\u001b[39;00mkey\u001b[39m!r}\u001b[39;00m\u001b[39m for estimator \u001b[39m\u001b[39m{\u001b[39;00m\u001b[39mself\u001b[39m\u001b[39m}\u001b[39;00m\u001b[39m. \u001b[39m\u001b[39m\"\u001b[39m\n\u001b[0;32m    231\u001b[0m         \u001b[39mf\u001b[39m\u001b[39m\"\u001b[39m\u001b[39mValid parameters are: \u001b[39m\u001b[39m{\u001b[39;00mlocal_valid_params\u001b[39m!r}\u001b[39;00m\u001b[39m.\u001b[39m\u001b[39m\"\u001b[39m\n\u001b[0;32m    232\u001b[0m     )\n\u001b[0;32m    234\u001b[0m \u001b[39mif\u001b[39;00m delim:\n\u001b[0;32m    235\u001b[0m     nested_params[key][sub_key] \u001b[39m=\u001b[39m value\n",
      "\u001b[1;31mValueError\u001b[0m: Invalid parameter 'RandomForestRegressor' for estimator Pipeline(steps=[('onehotencoder',\n                 OneHotEncoder(cols=['neighborhood', 'style'],\n                               use_cat_names=True)),\n                ('randomforestregressor',\n                 RandomForestRegressor(random_state=42))]). Valid parameters are: ['memory', 'steps', 'verbose']."
     ]
    }
   ],
   "source": [
    "# Step 1: Create a parameter grid\n",
    "\n",
    "param_grid = {\n",
    "    'randomforestregressor__n_estimators': range(50,200,50),\n",
    "    'RandomForestRegressor__max_depth': range(10,60,10),\n",
    "    'RandomForestRegressor__min_samples_split': [2,5,10]\n",
    "}\n",
    "\n",
    "# Step 2: Instantiate teh RSVC module with the model object and the param_grid object\n",
    "clf = RandomizedSearchCV(pipe_rf, param_grid)\n",
    "\n",
    "# Step 3: Fit the data:\n",
    "clf.fit(X_train, y_train)"
   ]
  },
  {
   "attachments": {},
   "cell_type": "markdown",
   "metadata": {},
   "source": [
    "So now that we have this object, what can we do with it? We can pull the best parameters and best score from the object! Once we have this information, we can easily change these values during the instantiation of our model object and verify using our MSE and R2 score:"
   ]
  },
  {
   "cell_type": "code",
   "execution_count": 39,
   "metadata": {},
   "outputs": [
    {
     "ename": "AttributeError",
     "evalue": "'RandomizedSearchCV' object has no attribute 'best_params_'",
     "output_type": "error",
     "traceback": [
      "\u001b[1;31m---------------------------------------------------------------------------\u001b[0m",
      "\u001b[1;31mAttributeError\u001b[0m                            Traceback (most recent call last)",
      "\u001b[1;32mc:\\Users\\bioni\\OneDrive\\Documents\\GitHub\\Coding_Temple\\Week 4\\Lecture Notes\\D3\\Python for DA Day III.ipynb Cell 63\u001b[0m line \u001b[0;36m1\n\u001b[1;32m----> <a href='vscode-notebook-cell:/c%3A/Users/bioni/OneDrive/Documents/GitHub/Coding_Temple/Week%204/Lecture%20Notes/D3/Python%20for%20DA%20Day%20III.ipynb#Y166sZmlsZQ%3D%3D?line=0'>1</a>\u001b[0m clf\u001b[39m.\u001b[39mbest_params_\n",
      "\u001b[1;31mAttributeError\u001b[0m: 'RandomizedSearchCV' object has no attribute 'best_params_'"
     ]
    }
   ],
   "source": [
    "clf.best_params_"
   ]
  },
  {
   "cell_type": "code",
   "execution_count": 42,
   "metadata": {},
   "outputs": [],
   "source": [
    "param_grid2 = {\n",
    "    'randomforestregressor__n_estimator': 150,\n",
    "    'RandomForestRegressor__max_depth': 2,\n",
    "    'RandomForestRegressor__min_samples_split': 10\n",
    "}"
   ]
  },
  {
   "cell_type": "code",
   "execution_count": 43,
   "metadata": {},
   "outputs": [
    {
     "ename": "AttributeError",
     "evalue": "'RandomizedSearchCV' object has no attribute 'best_score_'",
     "output_type": "error",
     "traceback": [
      "\u001b[1;31m---------------------------------------------------------------------------\u001b[0m",
      "\u001b[1;31mAttributeError\u001b[0m                            Traceback (most recent call last)",
      "\u001b[1;32mc:\\Users\\bioni\\OneDrive\\Documents\\GitHub\\Coding_Temple\\Week 4\\Lecture Notes\\D3\\Python for DA Day III.ipynb Cell 65\u001b[0m line \u001b[0;36m1\n\u001b[1;32m----> <a href='vscode-notebook-cell:/c%3A/Users/bioni/OneDrive/Documents/GitHub/Coding_Temple/Week%204/Lecture%20Notes/D3/Python%20for%20DA%20Day%20III.ipynb#Y120sZmlsZQ%3D%3D?line=0'>1</a>\u001b[0m clf\u001b[39m.\u001b[39mbest_score_\n",
      "\u001b[1;31mAttributeError\u001b[0m: 'RandomizedSearchCV' object has no attribute 'best_score_'"
     ]
    }
   ],
   "source": [
    "clf.best_score_"
   ]
  },
  {
   "attachments": {},
   "cell_type": "markdown",
   "metadata": {},
   "source": [
    "### In-Class Exercise 3: \n",
    "For this exercise, your goal is to check the metrics of each of your model objects created in the last exercise. After you have identified the model you believe to work the best with the data, you will use the `RandomizedSearchCV` module to parse over a parameter grid and hypertune your model!"
   ]
  },
  {
   "cell_type": "code",
   "execution_count": null,
   "metadata": {},
   "outputs": [],
   "source": [
    "# YOUR CODE HERE"
   ]
  },
  {
   "cell_type": "code",
   "execution_count": null,
   "metadata": {},
   "outputs": [],
   "source": [
    "# YOUR CODE HERE"
   ]
  },
  {
   "attachments": {},
   "cell_type": "markdown",
   "metadata": {},
   "source": [
    "## Section 2: Classification Analysis"
   ]
  },
  {
   "cell_type": "code",
   "execution_count": 8,
   "metadata": {},
   "outputs": [
    {
     "data": {
      "text/html": [
       "<div>\n",
       "<style scoped>\n",
       "    .dataframe tbody tr th:only-of-type {\n",
       "        vertical-align: middle;\n",
       "    }\n",
       "\n",
       "    .dataframe tbody tr th {\n",
       "        vertical-align: top;\n",
       "    }\n",
       "\n",
       "    .dataframe thead th {\n",
       "        text-align: right;\n",
       "    }\n",
       "</style>\n",
       "<table border=\"1\" class=\"dataframe\">\n",
       "  <thead>\n",
       "    <tr style=\"text-align: right;\">\n",
       "      <th></th>\n",
       "      <th>index</th>\n",
       "      <th>sepal_length</th>\n",
       "      <th>sepal_width</th>\n",
       "      <th>petal_length</th>\n",
       "      <th>petal_width</th>\n",
       "      <th>species</th>\n",
       "    </tr>\n",
       "  </thead>\n",
       "  <tbody>\n",
       "    <tr>\n",
       "      <th>0</th>\n",
       "      <td>1</td>\n",
       "      <td>5.1</td>\n",
       "      <td>3.5</td>\n",
       "      <td>1.4</td>\n",
       "      <td>0.2</td>\n",
       "      <td>Iris-setosa</td>\n",
       "    </tr>\n",
       "    <tr>\n",
       "      <th>1</th>\n",
       "      <td>2</td>\n",
       "      <td>4.9</td>\n",
       "      <td>3.0</td>\n",
       "      <td>1.4</td>\n",
       "      <td>0.2</td>\n",
       "      <td>Iris-setosa</td>\n",
       "    </tr>\n",
       "    <tr>\n",
       "      <th>2</th>\n",
       "      <td>3</td>\n",
       "      <td>4.7</td>\n",
       "      <td>3.2</td>\n",
       "      <td>1.3</td>\n",
       "      <td>0.2</td>\n",
       "      <td>Iris-setosa</td>\n",
       "    </tr>\n",
       "    <tr>\n",
       "      <th>3</th>\n",
       "      <td>4</td>\n",
       "      <td>4.6</td>\n",
       "      <td>3.1</td>\n",
       "      <td>1.5</td>\n",
       "      <td>0.2</td>\n",
       "      <td>Iris-setosa</td>\n",
       "    </tr>\n",
       "    <tr>\n",
       "      <th>4</th>\n",
       "      <td>5</td>\n",
       "      <td>5.0</td>\n",
       "      <td>3.6</td>\n",
       "      <td>1.4</td>\n",
       "      <td>0.2</td>\n",
       "      <td>Iris-setosa</td>\n",
       "    </tr>\n",
       "  </tbody>\n",
       "</table>\n",
       "</div>"
      ],
      "text/plain": [
       "   index  sepal_length  sepal_width  petal_length  petal_width      species\n",
       "0      1           5.1          3.5           1.4          0.2  Iris-setosa\n",
       "1      2           4.9          3.0           1.4          0.2  Iris-setosa\n",
       "2      3           4.7          3.2           1.3          0.2  Iris-setosa\n",
       "3      4           4.6          3.1           1.5          0.2  Iris-setosa\n",
       "4      5           5.0          3.6           1.4          0.2  Iris-setosa"
      ]
     },
     "execution_count": 8,
     "metadata": {},
     "output_type": "execute_result"
    }
   ],
   "source": [
    "df_class = pd.read_csv(r'C:\\Users\\bioni\\OneDrive\\Documents\\GitHub\\Coding_Temple\\Week 4\\Lecture Notes\\Iris.csv', names = ['index','sepal_length', 'sepal_width', 'petal_length', 'petal_width', 'species'])\n",
    "df_class.head()"
   ]
  },
  {
   "attachments": {},
   "cell_type": "markdown",
   "metadata": {},
   "source": [
    "### Part 1: Clean the data/EDA\n",
    "We will start off with tidying our data and completing our Exploratory Data Analysis\n",
    "\n",
    "* Are all columns the proper data-type?\n",
    "* What is the distribution of our target vector?\n",
    "* Are all the column names following proper conventions?"
   ]
  },
  {
   "cell_type": "code",
   "execution_count": 12,
   "metadata": {},
   "outputs": [
    {
     "name": "stdout",
     "output_type": "stream",
     "text": [
      "Index(['index', 'sepal_length', 'sepal_width', 'petal_length', 'petal_width',\n",
      "       'species'],\n",
      "      dtype='object')\n"
     ]
    },
    {
     "data": {
      "text/html": [
       "<div>\n",
       "<style scoped>\n",
       "    .dataframe tbody tr th:only-of-type {\n",
       "        vertical-align: middle;\n",
       "    }\n",
       "\n",
       "    .dataframe tbody tr th {\n",
       "        vertical-align: top;\n",
       "    }\n",
       "\n",
       "    .dataframe thead th {\n",
       "        text-align: right;\n",
       "    }\n",
       "</style>\n",
       "<table border=\"1\" class=\"dataframe\">\n",
       "  <thead>\n",
       "    <tr style=\"text-align: right;\">\n",
       "      <th></th>\n",
       "      <th>index</th>\n",
       "      <th>sepal_length</th>\n",
       "      <th>sepal_width</th>\n",
       "      <th>petal_length</th>\n",
       "      <th>petal_width</th>\n",
       "      <th>species</th>\n",
       "    </tr>\n",
       "  </thead>\n",
       "  <tbody>\n",
       "    <tr>\n",
       "      <th>0</th>\n",
       "      <td>1</td>\n",
       "      <td>5.1</td>\n",
       "      <td>3.5</td>\n",
       "      <td>1.4</td>\n",
       "      <td>0.2</td>\n",
       "      <td>Iris-setosa</td>\n",
       "    </tr>\n",
       "    <tr>\n",
       "      <th>1</th>\n",
       "      <td>2</td>\n",
       "      <td>4.9</td>\n",
       "      <td>3.0</td>\n",
       "      <td>1.4</td>\n",
       "      <td>0.2</td>\n",
       "      <td>Iris-setosa</td>\n",
       "    </tr>\n",
       "    <tr>\n",
       "      <th>2</th>\n",
       "      <td>3</td>\n",
       "      <td>4.7</td>\n",
       "      <td>3.2</td>\n",
       "      <td>1.3</td>\n",
       "      <td>0.2</td>\n",
       "      <td>Iris-setosa</td>\n",
       "    </tr>\n",
       "    <tr>\n",
       "      <th>3</th>\n",
       "      <td>4</td>\n",
       "      <td>4.6</td>\n",
       "      <td>3.1</td>\n",
       "      <td>1.5</td>\n",
       "      <td>0.2</td>\n",
       "      <td>Iris-setosa</td>\n",
       "    </tr>\n",
       "    <tr>\n",
       "      <th>4</th>\n",
       "      <td>5</td>\n",
       "      <td>5.0</td>\n",
       "      <td>3.6</td>\n",
       "      <td>1.4</td>\n",
       "      <td>0.2</td>\n",
       "      <td>Iris-setosa</td>\n",
       "    </tr>\n",
       "  </tbody>\n",
       "</table>\n",
       "</div>"
      ],
      "text/plain": [
       "   index  sepal_length  sepal_width  petal_length  petal_width      species\n",
       "0      1           5.1          3.5           1.4          0.2  Iris-setosa\n",
       "1      2           4.9          3.0           1.4          0.2  Iris-setosa\n",
       "2      3           4.7          3.2           1.3          0.2  Iris-setosa\n",
       "3      4           4.6          3.1           1.5          0.2  Iris-setosa\n",
       "4      5           5.0          3.6           1.4          0.2  Iris-setosa"
      ]
     },
     "metadata": {},
     "output_type": "display_data"
    }
   ],
   "source": [
    "print(df_class.columns)\n",
    "\n",
    "df_class.columns = ['index','sepal_length', 'sepal_width', 'petal_length', 'petal_width', 'species']\n",
    "display(df_class.head())\n",
    "\n",
    "#df_class.columns = df_class.columns.str.lower().str.strip().str.replace(' ','_')"
   ]
  },
  {
   "cell_type": "code",
   "execution_count": null,
   "metadata": {},
   "outputs": [
    {
     "name": "stdout",
     "output_type": "stream",
     "text": [
      "<class 'pandas.core.frame.DataFrame'>\n",
      "RangeIndex: 150 entries, 0 to 149\n",
      "Data columns (total 6 columns):\n",
      " #   Column        Non-Null Count  Dtype  \n",
      "---  ------        --------------  -----  \n",
      " 0   index         150 non-null    int64  \n",
      " 1   sepal_length  150 non-null    float64\n",
      " 2   sepal_width   150 non-null    float64\n",
      " 3   petal_length  150 non-null    float64\n",
      " 4   petal_width   150 non-null    float64\n",
      " 5   species       150 non-null    object \n",
      "dtypes: float64(4), int64(1), object(1)\n",
      "memory usage: 7.2+ KB\n"
     ]
    }
   ],
   "source": [
    "# Data type check and null value check\n",
    "df_class.info()"
   ]
  },
  {
   "attachments": {},
   "cell_type": "markdown",
   "metadata": {},
   "source": [
    "Looks like each of our columns are the proper types and we have changed each column name to follow proper conventions! Next, let's create some visualizations"
   ]
  },
  {
   "cell_type": "code",
   "execution_count": null,
   "metadata": {},
   "outputs": [
    {
     "data": {
      "image/png": "[encoded data removed]",
      "text/plain": [
       "<Figure size 640x480 with 1 Axes>"
      ]
     },
     "metadata": {},
     "output_type": "display_data"
    }
   ],
   "source": [
    "sns.histplot(data=df_class, x='species');"
   ]
  },
  {
   "attachments": {},
   "cell_type": "markdown",
   "metadata": {},
   "source": [
    "Looks like we have a completely even distribution of values between the three unique values of our `species` column, or our target vector!"
   ]
  },
  {
   "cell_type": "code",
   "execution_count": null,
   "metadata": {},
   "outputs": [
    {
     "data": {
      "image/png": "[encoded data removed]",
      "text/plain": [
       "<Figure size 1250x250 with 5 Axes>"
      ]
     },
     "metadata": {},
     "output_type": "display_data"
    }
   ],
   "source": [
    "sns.pairplot(data= df_class, y_vars= 'species');"
   ]
  },
  {
   "attachments": {},
   "cell_type": "markdown",
   "metadata": {},
   "source": [
    "We have some outliers in the sepal length and width, however, most of our data is distributed/clustered together."
   ]
  },
  {
   "attachments": {},
   "cell_type": "markdown",
   "metadata": {},
   "source": [
    "### Part 2: Split the data"
   ]
  },
  {
   "cell_type": "code",
   "execution_count": 13,
   "metadata": {},
   "outputs": [],
   "source": [
    "# step 1: Identify the target vector\n",
    "target = 'species'\n",
    "\n",
    "# Step 2: Separate out the target vector from the feature matrix. We also drop any columns in which we do not want to use for our classification vector.\n",
    "X = df_class.drop(columns = [target, 'index'])\n",
    "y = df_class[target]\n",
    "\n",
    "# Step 3: Split your dataset\n",
    "X_train, X_test, y_train, y_test = train_test_split(X,y, test_size= .2, random_state= 42)\n",
    "\n",
    "# Assert Statement\n",
    "assert len(X_train) + len(X_test) == len(X), 'data did not split correctly'\n"
   ]
  },
  {
   "attachments": {},
   "cell_type": "markdown",
   "metadata": {},
   "source": [
    "### Part 3: Establish a baseline"
   ]
  },
  {
   "attachments": {},
   "cell_type": "markdown",
   "metadata": {},
   "source": [
    "Remember from our above example how we establish the baseline for a classification problem. Instead of using the mean like we do in regression, we take the majority class from our target vector instead. We will take the value of this as a percentage."
   ]
  },
  {
   "cell_type": "code",
   "execution_count": 58,
   "metadata": {},
   "outputs": [
    {
     "name": "stdout",
     "output_type": "stream",
     "text": [
      " Our baseline model can predict our majority class, Iris-Setosa, for each row and be correct 33.33% of the time!\n"
     ]
    }
   ],
   "source": [
    "# Majority Class\n",
    "\n",
    "base = (df_class.species.value_counts(normalize= True)*100).round(2)[0]\n",
    "print(f' Our baseline model can predict our majority class, Iris-Setosa, for each row and be correct {base}% of the time!')"
   ]
  },
  {
   "attachments": {},
   "cell_type": "markdown",
   "metadata": {},
   "source": [
    "### Part 4: Model Building"
   ]
  },
  {
   "attachments": {},
   "cell_type": "markdown",
   "metadata": {},
   "source": [
    "Now we can build our models! The key to remember here is that we are building models for a classification task. Because of this, we will want to ensure that we only use the classification versions of our models!"
   ]
  },
  {
   "cell_type": "code",
   "execution_count": 34,
   "metadata": {},
   "outputs": [
    {
     "data": {
      "text/html": [
       "<style>#sk-container-id-5 {color: black;}#sk-container-id-5 pre{padding: 0;}#sk-container-id-5 div.sk-toggleable {background-color: white;}#sk-container-id-5 label.sk-toggleable__label {cursor: pointer;display: block;width: 100%;margin-bottom: 0;padding: 0.3em;box-sizing: border-box;text-align: center;}#sk-container-id-5 label.sk-toggleable__label-arrow:before {content: \"▸\";float: left;margin-right: 0.25em;color: #696969;}#sk-container-id-5 label.sk-toggleable__label-arrow:hover:before {color: black;}#sk-container-id-5 div.sk-estimator:hover label.sk-toggleable__label-arrow:before {color: black;}#sk-container-id-5 div.sk-toggleable__content {max-height: 0;max-width: 0;overflow: hidden;text-align: left;background-color: #f0f8ff;}#sk-container-id-5 div.sk-toggleable__content pre {margin: 0.2em;color: black;border-radius: 0.25em;background-color: #f0f8ff;}#sk-container-id-5 input.sk-toggleable__control:checked~div.sk-toggleable__content {max-height: 200px;max-width: 100%;overflow: auto;}#sk-container-id-5 input.sk-toggleable__control:checked~label.sk-toggleable__label-arrow:before {content: \"▾\";}#sk-container-id-5 div.sk-estimator input.sk-toggleable__control:checked~label.sk-toggleable__label {background-color: #d4ebff;}#sk-container-id-5 div.sk-label input.sk-toggleable__control:checked~label.sk-toggleable__label {background-color: #d4ebff;}#sk-container-id-5 input.sk-hidden--visually {border: 0;clip: rect(1px 1px 1px 1px);clip: rect(1px, 1px, 1px, 1px);height: 1px;margin: -1px;overflow: hidden;padding: 0;position: absolute;width: 1px;}#sk-container-id-5 div.sk-estimator {font-family: monospace;background-color: #f0f8ff;border: 1px dotted black;border-radius: 0.25em;box-sizing: border-box;margin-bottom: 0.5em;}#sk-container-id-5 div.sk-estimator:hover {background-color: #d4ebff;}#sk-container-id-5 div.sk-parallel-item::after {content: \"\";width: 100%;border-bottom: 1px solid gray;flex-grow: 1;}#sk-container-id-5 div.sk-label:hover label.sk-toggleable__label {background-color: #d4ebff;}#sk-container-id-5 div.sk-serial::before {content: \"\";position: absolute;border-left: 1px solid gray;box-sizing: border-box;top: 0;bottom: 0;left: 50%;z-index: 0;}#sk-container-id-5 div.sk-serial {display: flex;flex-direction: column;align-items: center;background-color: white;padding-right: 0.2em;padding-left: 0.2em;position: relative;}#sk-container-id-5 div.sk-item {position: relative;z-index: 1;}#sk-container-id-5 div.sk-parallel {display: flex;align-items: stretch;justify-content: center;background-color: white;position: relative;}#sk-container-id-5 div.sk-item::before, #sk-container-id-5 div.sk-parallel-item::before {content: \"\";position: absolute;border-left: 1px solid gray;box-sizing: border-box;top: 0;bottom: 0;left: 50%;z-index: -1;}#sk-container-id-5 div.sk-parallel-item {display: flex;flex-direction: column;z-index: 1;position: relative;background-color: white;}#sk-container-id-5 div.sk-parallel-item:first-child::after {align-self: flex-end;width: 50%;}#sk-container-id-5 div.sk-parallel-item:last-child::after {align-self: flex-start;width: 50%;}#sk-container-id-5 div.sk-parallel-item:only-child::after {width: 0;}#sk-container-id-5 div.sk-dashed-wrapped {border: 1px dashed gray;margin: 0 0.4em 0.5em 0.4em;box-sizing: border-box;padding-bottom: 0.4em;background-color: white;}#sk-container-id-5 div.sk-label label {font-family: monospace;font-weight: bold;display: inline-block;line-height: 1.2em;}#sk-container-id-5 div.sk-label-container {text-align: center;}#sk-container-id-5 div.sk-container {/* jupyter's `normalize.less` sets `[hidden] { display: none; }` but bootstrap.min.css set `[hidden] { display: none !important; }` so we also need the `!important` here to be able to override the default hidden behavior on the sphinx rendered scikit-learn.org. See: https://github.com/scikit-learn/scikit-learn/issues/21755 */display: inline-block !important;position: relative;}#sk-container-id-5 div.sk-text-repr-fallback {display: none;}</style><div id=\"sk-container-id-5\" class=\"sk-top-container\"><div class=\"sk-text-repr-fallback\"><pre>Pipeline(steps=[(&#x27;logisticregression&#x27;, LogisticRegression(random_state=42))])</pre><b>In a Jupyter environment, please rerun this cell to show the HTML representation or trust the notebook. <br />On GitHub, the HTML representation is unable to render, please try loading this page with nbviewer.org.</b></div><div class=\"sk-container\" hidden><div class=\"sk-item sk-dashed-wrapped\"><div class=\"sk-label-container\"><div class=\"sk-label sk-toggleable\"><input class=\"sk-toggleable__control sk-hidden--visually\" id=\"sk-estimator-id-6\" type=\"checkbox\" ><label for=\"sk-estimator-id-6\" class=\"sk-toggleable__label sk-toggleable__label-arrow\">Pipeline</label><div class=\"sk-toggleable__content\"><pre>Pipeline(steps=[(&#x27;logisticregression&#x27;, LogisticRegression(random_state=42))])</pre></div></div></div><div class=\"sk-serial\"><div class=\"sk-item\"><div class=\"sk-estimator sk-toggleable\"><input class=\"sk-toggleable__control sk-hidden--visually\" id=\"sk-estimator-id-7\" type=\"checkbox\" ><label for=\"sk-estimator-id-7\" class=\"sk-toggleable__label sk-toggleable__label-arrow\">LogisticRegression</label><div class=\"sk-toggleable__content\"><pre>LogisticRegression(random_state=42)</pre></div></div></div></div></div></div></div>"
      ],
      "text/plain": [
       "Pipeline(steps=[('logisticregression', LogisticRegression(random_state=42))])"
      ]
     },
     "execution_count": 34,
     "metadata": {},
     "output_type": "execute_result"
    }
   ],
   "source": [
    "# Logistic Regression - used for classification tasks, not regression (weird s-curve in regression line)\n",
    "\n",
    "lr_pipe = make_pipeline(\n",
    "    LogisticRegression(random_state= 42),\n",
    ")\n",
    "\n",
    "lr_pipe.fit(X_train, y_train)\n"
   ]
  },
  {
   "cell_type": "code",
   "execution_count": 35,
   "metadata": {},
   "outputs": [
    {
     "data": {
      "text/html": [
       "<style>#sk-container-id-6 {color: black;}#sk-container-id-6 pre{padding: 0;}#sk-container-id-6 div.sk-toggleable {background-color: white;}#sk-container-id-6 label.sk-toggleable__label {cursor: pointer;display: block;width: 100%;margin-bottom: 0;padding: 0.3em;box-sizing: border-box;text-align: center;}#sk-container-id-6 label.sk-toggleable__label-arrow:before {content: \"▸\";float: left;margin-right: 0.25em;color: #696969;}#sk-container-id-6 label.sk-toggleable__label-arrow:hover:before {color: black;}#sk-container-id-6 div.sk-estimator:hover label.sk-toggleable__label-arrow:before {color: black;}#sk-container-id-6 div.sk-toggleable__content {max-height: 0;max-width: 0;overflow: hidden;text-align: left;background-color: #f0f8ff;}#sk-container-id-6 div.sk-toggleable__content pre {margin: 0.2em;color: black;border-radius: 0.25em;background-color: #f0f8ff;}#sk-container-id-6 input.sk-toggleable__control:checked~div.sk-toggleable__content {max-height: 200px;max-width: 100%;overflow: auto;}#sk-container-id-6 input.sk-toggleable__control:checked~label.sk-toggleable__label-arrow:before {content: \"▾\";}#sk-container-id-6 div.sk-estimator input.sk-toggleable__control:checked~label.sk-toggleable__label {background-color: #d4ebff;}#sk-container-id-6 div.sk-label input.sk-toggleable__control:checked~label.sk-toggleable__label {background-color: #d4ebff;}#sk-container-id-6 input.sk-hidden--visually {border: 0;clip: rect(1px 1px 1px 1px);clip: rect(1px, 1px, 1px, 1px);height: 1px;margin: -1px;overflow: hidden;padding: 0;position: absolute;width: 1px;}#sk-container-id-6 div.sk-estimator {font-family: monospace;background-color: #f0f8ff;border: 1px dotted black;border-radius: 0.25em;box-sizing: border-box;margin-bottom: 0.5em;}#sk-container-id-6 div.sk-estimator:hover {background-color: #d4ebff;}#sk-container-id-6 div.sk-parallel-item::after {content: \"\";width: 100%;border-bottom: 1px solid gray;flex-grow: 1;}#sk-container-id-6 div.sk-label:hover label.sk-toggleable__label {background-color: #d4ebff;}#sk-container-id-6 div.sk-serial::before {content: \"\";position: absolute;border-left: 1px solid gray;box-sizing: border-box;top: 0;bottom: 0;left: 50%;z-index: 0;}#sk-container-id-6 div.sk-serial {display: flex;flex-direction: column;align-items: center;background-color: white;padding-right: 0.2em;padding-left: 0.2em;position: relative;}#sk-container-id-6 div.sk-item {position: relative;z-index: 1;}#sk-container-id-6 div.sk-parallel {display: flex;align-items: stretch;justify-content: center;background-color: white;position: relative;}#sk-container-id-6 div.sk-item::before, #sk-container-id-6 div.sk-parallel-item::before {content: \"\";position: absolute;border-left: 1px solid gray;box-sizing: border-box;top: 0;bottom: 0;left: 50%;z-index: -1;}#sk-container-id-6 div.sk-parallel-item {display: flex;flex-direction: column;z-index: 1;position: relative;background-color: white;}#sk-container-id-6 div.sk-parallel-item:first-child::after {align-self: flex-end;width: 50%;}#sk-container-id-6 div.sk-parallel-item:last-child::after {align-self: flex-start;width: 50%;}#sk-container-id-6 div.sk-parallel-item:only-child::after {width: 0;}#sk-container-id-6 div.sk-dashed-wrapped {border: 1px dashed gray;margin: 0 0.4em 0.5em 0.4em;box-sizing: border-box;padding-bottom: 0.4em;background-color: white;}#sk-container-id-6 div.sk-label label {font-family: monospace;font-weight: bold;display: inline-block;line-height: 1.2em;}#sk-container-id-6 div.sk-label-container {text-align: center;}#sk-container-id-6 div.sk-container {/* jupyter's `normalize.less` sets `[hidden] { display: none; }` but bootstrap.min.css set `[hidden] { display: none !important; }` so we also need the `!important` here to be able to override the default hidden behavior on the sphinx rendered scikit-learn.org. See: https://github.com/scikit-learn/scikit-learn/issues/21755 */display: inline-block !important;position: relative;}#sk-container-id-6 div.sk-text-repr-fallback {display: none;}</style><div id=\"sk-container-id-6\" class=\"sk-top-container\"><div class=\"sk-text-repr-fallback\"><pre>DecisionTreeClassifier(random_state=42)</pre><b>In a Jupyter environment, please rerun this cell to show the HTML representation or trust the notebook. <br />On GitHub, the HTML representation is unable to render, please try loading this page with nbviewer.org.</b></div><div class=\"sk-container\" hidden><div class=\"sk-item\"><div class=\"sk-estimator sk-toggleable\"><input class=\"sk-toggleable__control sk-hidden--visually\" id=\"sk-estimator-id-8\" type=\"checkbox\" checked><label for=\"sk-estimator-id-8\" class=\"sk-toggleable__label sk-toggleable__label-arrow\">DecisionTreeClassifier</label><div class=\"sk-toggleable__content\"><pre>DecisionTreeClassifier(random_state=42)</pre></div></div></div></div></div>"
      ],
      "text/plain": [
       "DecisionTreeClassifier(random_state=42)"
      ]
     },
     "execution_count": 35,
     "metadata": {},
     "output_type": "execute_result"
    }
   ],
   "source": [
    "# Decision Tree:\n",
    "dt = DecisionTreeClassifier(random_state= 42)\n",
    "\n",
    "# Fit it\n",
    "dt.fit(X_train, y_train)"
   ]
  },
  {
   "cell_type": "code",
   "execution_count": 36,
   "metadata": {},
   "outputs": [
    {
     "data": {
      "text/html": [
       "<style>#sk-container-id-7 {color: black;}#sk-container-id-7 pre{padding: 0;}#sk-container-id-7 div.sk-toggleable {background-color: white;}#sk-container-id-7 label.sk-toggleable__label {cursor: pointer;display: block;width: 100%;margin-bottom: 0;padding: 0.3em;box-sizing: border-box;text-align: center;}#sk-container-id-7 label.sk-toggleable__label-arrow:before {content: \"▸\";float: left;margin-right: 0.25em;color: #696969;}#sk-container-id-7 label.sk-toggleable__label-arrow:hover:before {color: black;}#sk-container-id-7 div.sk-estimator:hover label.sk-toggleable__label-arrow:before {color: black;}#sk-container-id-7 div.sk-toggleable__content {max-height: 0;max-width: 0;overflow: hidden;text-align: left;background-color: #f0f8ff;}#sk-container-id-7 div.sk-toggleable__content pre {margin: 0.2em;color: black;border-radius: 0.25em;background-color: #f0f8ff;}#sk-container-id-7 input.sk-toggleable__control:checked~div.sk-toggleable__content {max-height: 200px;max-width: 100%;overflow: auto;}#sk-container-id-7 input.sk-toggleable__control:checked~label.sk-toggleable__label-arrow:before {content: \"▾\";}#sk-container-id-7 div.sk-estimator input.sk-toggleable__control:checked~label.sk-toggleable__label {background-color: #d4ebff;}#sk-container-id-7 div.sk-label input.sk-toggleable__control:checked~label.sk-toggleable__label {background-color: #d4ebff;}#sk-container-id-7 input.sk-hidden--visually {border: 0;clip: rect(1px 1px 1px 1px);clip: rect(1px, 1px, 1px, 1px);height: 1px;margin: -1px;overflow: hidden;padding: 0;position: absolute;width: 1px;}#sk-container-id-7 div.sk-estimator {font-family: monospace;background-color: #f0f8ff;border: 1px dotted black;border-radius: 0.25em;box-sizing: border-box;margin-bottom: 0.5em;}#sk-container-id-7 div.sk-estimator:hover {background-color: #d4ebff;}#sk-container-id-7 div.sk-parallel-item::after {content: \"\";width: 100%;border-bottom: 1px solid gray;flex-grow: 1;}#sk-container-id-7 div.sk-label:hover label.sk-toggleable__label {background-color: #d4ebff;}#sk-container-id-7 div.sk-serial::before {content: \"\";position: absolute;border-left: 1px solid gray;box-sizing: border-box;top: 0;bottom: 0;left: 50%;z-index: 0;}#sk-container-id-7 div.sk-serial {display: flex;flex-direction: column;align-items: center;background-color: white;padding-right: 0.2em;padding-left: 0.2em;position: relative;}#sk-container-id-7 div.sk-item {position: relative;z-index: 1;}#sk-container-id-7 div.sk-parallel {display: flex;align-items: stretch;justify-content: center;background-color: white;position: relative;}#sk-container-id-7 div.sk-item::before, #sk-container-id-7 div.sk-parallel-item::before {content: \"\";position: absolute;border-left: 1px solid gray;box-sizing: border-box;top: 0;bottom: 0;left: 50%;z-index: -1;}#sk-container-id-7 div.sk-parallel-item {display: flex;flex-direction: column;z-index: 1;position: relative;background-color: white;}#sk-container-id-7 div.sk-parallel-item:first-child::after {align-self: flex-end;width: 50%;}#sk-container-id-7 div.sk-parallel-item:last-child::after {align-self: flex-start;width: 50%;}#sk-container-id-7 div.sk-parallel-item:only-child::after {width: 0;}#sk-container-id-7 div.sk-dashed-wrapped {border: 1px dashed gray;margin: 0 0.4em 0.5em 0.4em;box-sizing: border-box;padding-bottom: 0.4em;background-color: white;}#sk-container-id-7 div.sk-label label {font-family: monospace;font-weight: bold;display: inline-block;line-height: 1.2em;}#sk-container-id-7 div.sk-label-container {text-align: center;}#sk-container-id-7 div.sk-container {/* jupyter's `normalize.less` sets `[hidden] { display: none; }` but bootstrap.min.css set `[hidden] { display: none !important; }` so we also need the `!important` here to be able to override the default hidden behavior on the sphinx rendered scikit-learn.org. See: https://github.com/scikit-learn/scikit-learn/issues/21755 */display: inline-block !important;position: relative;}#sk-container-id-7 div.sk-text-repr-fallback {display: none;}</style><div id=\"sk-container-id-7\" class=\"sk-top-container\"><div class=\"sk-text-repr-fallback\"><pre>RandomForestClassifier(random_state=42)</pre><b>In a Jupyter environment, please rerun this cell to show the HTML representation or trust the notebook. <br />On GitHub, the HTML representation is unable to render, please try loading this page with nbviewer.org.</b></div><div class=\"sk-container\" hidden><div class=\"sk-item\"><div class=\"sk-estimator sk-toggleable\"><input class=\"sk-toggleable__control sk-hidden--visually\" id=\"sk-estimator-id-9\" type=\"checkbox\" checked><label for=\"sk-estimator-id-9\" class=\"sk-toggleable__label sk-toggleable__label-arrow\">RandomForestClassifier</label><div class=\"sk-toggleable__content\"><pre>RandomForestClassifier(random_state=42)</pre></div></div></div></div></div>"
      ],
      "text/plain": [
       "RandomForestClassifier(random_state=42)"
      ]
     },
     "execution_count": 36,
     "metadata": {},
     "output_type": "execute_result"
    }
   ],
   "source": [
    " # Random Forest\n",
    "\n",
    "rf = RandomForestClassifier(random_state= 42)\n",
    "\n",
    "# fit it\n",
    "rf.fit(X_train, y_train)"
   ]
  },
  {
   "cell_type": "code",
   "execution_count": 37,
   "metadata": {},
   "outputs": [
    {
     "data": {
      "text/html": [
       "<style>#sk-container-id-8 {color: black;}#sk-container-id-8 pre{padding: 0;}#sk-container-id-8 div.sk-toggleable {background-color: white;}#sk-container-id-8 label.sk-toggleable__label {cursor: pointer;display: block;width: 100%;margin-bottom: 0;padding: 0.3em;box-sizing: border-box;text-align: center;}#sk-container-id-8 label.sk-toggleable__label-arrow:before {content: \"▸\";float: left;margin-right: 0.25em;color: #696969;}#sk-container-id-8 label.sk-toggleable__label-arrow:hover:before {color: black;}#sk-container-id-8 div.sk-estimator:hover label.sk-toggleable__label-arrow:before {color: black;}#sk-container-id-8 div.sk-toggleable__content {max-height: 0;max-width: 0;overflow: hidden;text-align: left;background-color: #f0f8ff;}#sk-container-id-8 div.sk-toggleable__content pre {margin: 0.2em;color: black;border-radius: 0.25em;background-color: #f0f8ff;}#sk-container-id-8 input.sk-toggleable__control:checked~div.sk-toggleable__content {max-height: 200px;max-width: 100%;overflow: auto;}#sk-container-id-8 input.sk-toggleable__control:checked~label.sk-toggleable__label-arrow:before {content: \"▾\";}#sk-container-id-8 div.sk-estimator input.sk-toggleable__control:checked~label.sk-toggleable__label {background-color: #d4ebff;}#sk-container-id-8 div.sk-label input.sk-toggleable__control:checked~label.sk-toggleable__label {background-color: #d4ebff;}#sk-container-id-8 input.sk-hidden--visually {border: 0;clip: rect(1px 1px 1px 1px);clip: rect(1px, 1px, 1px, 1px);height: 1px;margin: -1px;overflow: hidden;padding: 0;position: absolute;width: 1px;}#sk-container-id-8 div.sk-estimator {font-family: monospace;background-color: #f0f8ff;border: 1px dotted black;border-radius: 0.25em;box-sizing: border-box;margin-bottom: 0.5em;}#sk-container-id-8 div.sk-estimator:hover {background-color: #d4ebff;}#sk-container-id-8 div.sk-parallel-item::after {content: \"\";width: 100%;border-bottom: 1px solid gray;flex-grow: 1;}#sk-container-id-8 div.sk-label:hover label.sk-toggleable__label {background-color: #d4ebff;}#sk-container-id-8 div.sk-serial::before {content: \"\";position: absolute;border-left: 1px solid gray;box-sizing: border-box;top: 0;bottom: 0;left: 50%;z-index: 0;}#sk-container-id-8 div.sk-serial {display: flex;flex-direction: column;align-items: center;background-color: white;padding-right: 0.2em;padding-left: 0.2em;position: relative;}#sk-container-id-8 div.sk-item {position: relative;z-index: 1;}#sk-container-id-8 div.sk-parallel {display: flex;align-items: stretch;justify-content: center;background-color: white;position: relative;}#sk-container-id-8 div.sk-item::before, #sk-container-id-8 div.sk-parallel-item::before {content: \"\";position: absolute;border-left: 1px solid gray;box-sizing: border-box;top: 0;bottom: 0;left: 50%;z-index: -1;}#sk-container-id-8 div.sk-parallel-item {display: flex;flex-direction: column;z-index: 1;position: relative;background-color: white;}#sk-container-id-8 div.sk-parallel-item:first-child::after {align-self: flex-end;width: 50%;}#sk-container-id-8 div.sk-parallel-item:last-child::after {align-self: flex-start;width: 50%;}#sk-container-id-8 div.sk-parallel-item:only-child::after {width: 0;}#sk-container-id-8 div.sk-dashed-wrapped {border: 1px dashed gray;margin: 0 0.4em 0.5em 0.4em;box-sizing: border-box;padding-bottom: 0.4em;background-color: white;}#sk-container-id-8 div.sk-label label {font-family: monospace;font-weight: bold;display: inline-block;line-height: 1.2em;}#sk-container-id-8 div.sk-label-container {text-align: center;}#sk-container-id-8 div.sk-container {/* jupyter's `normalize.less` sets `[hidden] { display: none; }` but bootstrap.min.css set `[hidden] { display: none !important; }` so we also need the `!important` here to be able to override the default hidden behavior on the sphinx rendered scikit-learn.org. See: https://github.com/scikit-learn/scikit-learn/issues/21755 */display: inline-block !important;position: relative;}#sk-container-id-8 div.sk-text-repr-fallback {display: none;}</style><div id=\"sk-container-id-8\" class=\"sk-top-container\"><div class=\"sk-text-repr-fallback\"><pre>XGBClassifier(base_score=None, booster=None, callbacks=None,\n",
       "              colsample_bylevel=None, colsample_bynode=None,\n",
       "              colsample_bytree=None, device=None, early_stopping_rounds=None,\n",
       "              enable_categorical=False, eval_metric=None, feature_types=None,\n",
       "              gamma=None, grow_policy=None, importance_type=None,\n",
       "              interaction_constraints=None, learning_rate=None, max_bin=None,\n",
       "              max_cat_threshold=None, max_cat_to_onehot=None,\n",
       "              max_delta_step=None, max_depth=None, max_leaves=None,\n",
       "              min_child_weight=None, missing=nan, monotone_constraints=None,\n",
       "              multi_strategy=None, n_estimators=None, n_jobs=None,\n",
       "              num_parallel_tree=None, objective=&#x27;multi:softprob&#x27;, ...)</pre><b>In a Jupyter environment, please rerun this cell to show the HTML representation or trust the notebook. <br />On GitHub, the HTML representation is unable to render, please try loading this page with nbviewer.org.</b></div><div class=\"sk-container\" hidden><div class=\"sk-item\"><div class=\"sk-estimator sk-toggleable\"><input class=\"sk-toggleable__control sk-hidden--visually\" id=\"sk-estimator-id-10\" type=\"checkbox\" checked><label for=\"sk-estimator-id-10\" class=\"sk-toggleable__label sk-toggleable__label-arrow\">XGBClassifier</label><div class=\"sk-toggleable__content\"><pre>XGBClassifier(base_score=None, booster=None, callbacks=None,\n",
       "              colsample_bylevel=None, colsample_bynode=None,\n",
       "              colsample_bytree=None, device=None, early_stopping_rounds=None,\n",
       "              enable_categorical=False, eval_metric=None, feature_types=None,\n",
       "              gamma=None, grow_policy=None, importance_type=None,\n",
       "              interaction_constraints=None, learning_rate=None, max_bin=None,\n",
       "              max_cat_threshold=None, max_cat_to_onehot=None,\n",
       "              max_delta_step=None, max_depth=None, max_leaves=None,\n",
       "              min_child_weight=None, missing=nan, monotone_constraints=None,\n",
       "              multi_strategy=None, n_estimators=None, n_jobs=None,\n",
       "              num_parallel_tree=None, objective=&#x27;multi:softprob&#x27;, ...)</pre></div></div></div></div></div>"
      ],
      "text/plain": [
       "XGBClassifier(base_score=None, booster=None, callbacks=None,\n",
       "              colsample_bylevel=None, colsample_bynode=None,\n",
       "              colsample_bytree=None, device=None, early_stopping_rounds=None,\n",
       "              enable_categorical=False, eval_metric=None, feature_types=None,\n",
       "              gamma=None, grow_policy=None, importance_type=None,\n",
       "              interaction_constraints=None, learning_rate=None, max_bin=None,\n",
       "              max_cat_threshold=None, max_cat_to_onehot=None,\n",
       "              max_delta_step=None, max_depth=None, max_leaves=None,\n",
       "              min_child_weight=None, missing=nan, monotone_constraints=None,\n",
       "              multi_strategy=None, n_estimators=None, n_jobs=None,\n",
       "              num_parallel_tree=None, objective='multi:softprob', ...)"
      ]
     },
     "execution_count": 37,
     "metadata": {},
     "output_type": "execute_result"
    }
   ],
   "source": [
    "# Boosted mode\n",
    "xg = XGBClassifier()\n",
    "#xg.fit(X_train,y_train)\n",
    "\n",
    "#Method 1\n",
    "labels = LabelEncoder()\n",
    "labels.fit(y_train)\n",
    "\n",
    "y_transformed  = labels.transform(y_train)\n",
    "y_transformed\n",
    "xg.fit(X_train, y_transformed)\n",
    "\n",
    "# Method 2\n",
    "#xg.fit(X_train, LabelEncoder().fit_transform(y_train))"
   ]
  },
  {
   "attachments": {},
   "cell_type": "markdown",
   "metadata": {},
   "source": [
    "### Part 5: Evaluate and Check Metrics"
   ]
  },
  {
   "cell_type": "code",
   "execution_count": 38,
   "metadata": {},
   "outputs": [
    {
     "name": "stdout",
     "output_type": "stream",
     "text": [
      "Logistic Regression:\n",
      "Training Accuracy: 97.5\n",
      "Testing Accuracy: 100.0\n",
      "----------------------------\n",
      "Decision Tree Classifier:\n",
      "Training Accuracy: 100.0\n",
      "Testing Accuracy: 100.0\n",
      "----------------------------\n",
      "Ranodom Forest Classifier:\n",
      "Training Accuracy: 100.0\n",
      "Testing Accuracy: 100.0\n",
      "----------------------------\n",
      "XGBoost Classifier:\n",
      "Training Accuracy: 100.0\n",
      "Testing Accuracy: 100.0\n",
      "----------------------------\n"
     ]
    }
   ],
   "source": [
    "# Score the model\n",
    "print('Logistic Regression:')\n",
    "print(f'Training Accuracy: {lr_pipe.score(X_train, y_train)*100}')\n",
    "print(f'Testing Accuracy: {lr_pipe.score(X_test, y_test)*100}')\n",
    "print('----------------------------')\n",
    "print('Decision Tree Classifier:')\n",
    "print(f'Training Accuracy: {dt.score(X_train, y_train)*100}')\n",
    "print(f'Testing Accuracy: {dt.score(X_test, y_test)*100}')\n",
    "print('----------------------------')\n",
    "print('Ranodom Forest Classifier:')\n",
    "print(f'Training Accuracy: {rf.score(X_train, y_train)*100}')\n",
    "print(f'Testing Accuracy: {rf.score(X_test, y_test)*100}')\n",
    "print('----------------------------')\n",
    "print('XGBoost Classifier:')\n",
    "print(f'Training Accuracy: {xg.score(X_train, LabelEncoder().fit_transform (y_train))*100}')\n",
    "print(f'Testing Accuracy: {xg.score(X_test, LabelEncoder().fit_transform (y_test))*100}')\n",
    "print('----------------------------')"
   ]
  },
  {
   "cell_type": "code",
   "execution_count": 39,
   "metadata": {},
   "outputs": [
    {
     "name": "stdout",
     "output_type": "stream",
     "text": [
      "Logistic Regression:\n",
      "Training Accuracy: 99.81241205899023\n",
      "Testing Accuracy: 100.0\n",
      "----------------------------\n",
      "Decision Tree Regression:\n",
      "Training Accuracy: 100.0\n",
      "Testing Accuracy: 100.0\n",
      "----------------------------\n",
      "Random Forest Classifier:\n",
      "Training Accuracy: 100.0\n",
      "Testing Accuracy: 100.0\n",
      "----------------------------\n",
      "XGBoost:\n",
      "Training Accuracy: 100.0\n",
      "Testing Accuracy: 100.0\n",
      "----------------------------\n"
     ]
    }
   ],
   "source": [
    "\n",
    "print('Logistic Regression:')\n",
    "print(f'Training Accuracy: {roc_auc_score(y_train, lr_pipe.predict_proba(X_train), multi_class= \"ovr\")*100}')\n",
    "print(f'Testing Accuracy: {roc_auc_score(y_test, lr_pipe.predict_proba(X_test), multi_class= \"ovr\")*100}')\n",
    "print('----------------------------')\n",
    "print('Decision Tree Regression:')\n",
    "print(f'Training Accuracy: {roc_auc_score(y_train, dt.predict_proba(X_train), multi_class= \"ovr\")*100}')\n",
    "print(f'Testing Accuracy: {roc_auc_score(y_test, dt.predict_proba(X_test), multi_class= \"ovr\")*100}')\n",
    "print('----------------------------')\n",
    "print('Random Forest Classifier:')\n",
    "print(f'Training Accuracy: {roc_auc_score(y_train, rf.predict_proba(X_train), multi_class= \"ovr\")*100}')\n",
    "print(f'Testing Accuracy: {roc_auc_score(y_test, rf.predict_proba(X_test), multi_class= \"ovr\")*100}')\n",
    "print('----------------------------')\n",
    "print('XGBoost:')\n",
    "print(f'Training Accuracy: {roc_auc_score(y_train, xg.predict_proba(X_train), multi_class= \"ovr\")*100}')\n",
    "print(f'Testing Accuracy: {roc_auc_score(y_test, xg.predict_proba(X_test), multi_class= \"ovr\")*100}')\n",
    "print('----------------------------')"
   ]
  },
  {
   "attachments": {},
   "cell_type": "markdown",
   "metadata": {},
   "source": [
    "### Part 6: Communicate Results\n",
    "\n",
    "From our metrics above, we will be choosing the Logistic Regression model to explore the results of. Let's visualize the feature importances of our model:"
   ]
  },
  {
   "cell_type": "code",
   "execution_count": 48,
   "metadata": {},
   "outputs": [
    {
     "data": {
      "text/plain": [
       "array([[-0.39673029,  0.95339781, -2.37667952, -1.01215147],\n",
       "       [ 0.5123132 , -0.24808938, -0.21410113, -0.76297242],\n",
       "       [-0.11558291, -0.70530843,  2.59078064,  1.77512389]])"
      ]
     },
     "execution_count": 48,
     "metadata": {},
     "output_type": "execute_result"
    }
   ],
   "source": [
    "lr_pipe.steps[0][1].coef_"
   ]
  },
  {
   "cell_type": "code",
   "execution_count": 49,
   "metadata": {},
   "outputs": [
    {
     "name": "stdout",
     "output_type": "stream",
     "text": [
      "['sepal_length' 'sepal_width' 'petal_length' 'petal_width']\n",
      "[[-0.39673029  0.95339781 -2.37667952 -1.01215147]\n",
      " [ 0.5123132  -0.24808938 -0.21410113 -0.76297242]\n",
      " [-0.11558291 -0.70530843  2.59078064  1.77512389]]\n"
     ]
    },
    {
     "data": {
      "text/plain": [
       "<Axes: >"
      ]
     },
     "execution_count": 49,
     "metadata": {},
     "output_type": "execute_result"
    },
    {
     "data": {
      "image/png": "[encoded data removed]",
      "text/plain": [
       "<Figure size 640x480 with 1 Axes>"
      ]
     },
     "metadata": {},
     "output_type": "display_data"
    }
   ],
   "source": [
    "coefficients = lr_pipe.steps[0][1].coef_\n",
    "features = lr_pipe.feature_names_in_\n",
    "\n",
    "print(features)\n",
    "print(coefficients)\n",
    "\n",
    "feat_imp = pd.Series(coefficients[0], index= features).sort_values(key=abs)\n",
    "feat_imp.tail().plot(kind = 'barh')"
   ]
  },
  {
   "cell_type": "code",
   "execution_count": null,
   "metadata": {},
   "outputs": [],
   "source": []
  },
  {
   "attachments": {},
   "cell_type": "markdown",
   "metadata": {},
   "source": [
    "### Part 7: Tune the Model"
   ]
  },
  {
   "cell_type": "code",
   "execution_count": 51,
   "metadata": {},
   "outputs": [
    {
     "name": "stderr",
     "output_type": "stream",
     "text": [
      "c:\\Users\\bioni\\anaconda3\\Lib\\site-packages\\sklearn\\linear_model\\_logistic.py:460: ConvergenceWarning: lbfgs failed to converge (status=1):\n",
      "STOP: TOTAL NO. of ITERATIONS REACHED LIMIT.\n",
      "\n",
      "Increase the number of iterations (max_iter) or scale the data as shown in:\n",
      "    https://scikit-learn.org/stable/modules/preprocessing.html\n",
      "Please also refer to the documentation for alternative solver options:\n",
      "    https://scikit-learn.org/stable/modules/linear_model.html#logistic-regression\n",
      "  n_iter_i = _check_optimize_result(\n",
      "c:\\Users\\bioni\\anaconda3\\Lib\\site-packages\\sklearn\\linear_model\\_logistic.py:460: ConvergenceWarning: lbfgs failed to converge (status=1):\n",
      "STOP: TOTAL NO. of ITERATIONS REACHED LIMIT.\n",
      "\n",
      "Increase the number of iterations (max_iter) or scale the data as shown in:\n",
      "    https://scikit-learn.org/stable/modules/preprocessing.html\n",
      "Please also refer to the documentation for alternative solver options:\n",
      "    https://scikit-learn.org/stable/modules/linear_model.html#logistic-regression\n",
      "  n_iter_i = _check_optimize_result(\n",
      "c:\\Users\\bioni\\anaconda3\\Lib\\site-packages\\sklearn\\linear_model\\_logistic.py:460: ConvergenceWarning: lbfgs failed to converge (status=1):\n",
      "STOP: TOTAL NO. of ITERATIONS REACHED LIMIT.\n",
      "\n",
      "Increase the number of iterations (max_iter) or scale the data as shown in:\n",
      "    https://scikit-learn.org/stable/modules/preprocessing.html\n",
      "Please also refer to the documentation for alternative solver options:\n",
      "    https://scikit-learn.org/stable/modules/linear_model.html#logistic-regression\n",
      "  n_iter_i = _check_optimize_result(\n",
      "c:\\Users\\bioni\\anaconda3\\Lib\\site-packages\\sklearn\\linear_model\\_logistic.py:460: ConvergenceWarning: lbfgs failed to converge (status=1):\n",
      "STOP: TOTAL NO. of ITERATIONS REACHED LIMIT.\n",
      "\n",
      "Increase the number of iterations (max_iter) or scale the data as shown in:\n",
      "    https://scikit-learn.org/stable/modules/preprocessing.html\n",
      "Please also refer to the documentation for alternative solver options:\n",
      "    https://scikit-learn.org/stable/modules/linear_model.html#logistic-regression\n",
      "  n_iter_i = _check_optimize_result(\n",
      "c:\\Users\\bioni\\anaconda3\\Lib\\site-packages\\sklearn\\linear_model\\_logistic.py:460: ConvergenceWarning: lbfgs failed to converge (status=1):\n",
      "STOP: TOTAL NO. of ITERATIONS REACHED LIMIT.\n",
      "\n",
      "Increase the number of iterations (max_iter) or scale the data as shown in:\n",
      "    https://scikit-learn.org/stable/modules/preprocessing.html\n",
      "Please also refer to the documentation for alternative solver options:\n",
      "    https://scikit-learn.org/stable/modules/linear_model.html#logistic-regression\n",
      "  n_iter_i = _check_optimize_result(\n",
      "c:\\Users\\bioni\\anaconda3\\Lib\\site-packages\\sklearn\\linear_model\\_logistic.py:460: ConvergenceWarning: lbfgs failed to converge (status=1):\n",
      "STOP: TOTAL NO. of ITERATIONS REACHED LIMIT.\n",
      "\n",
      "Increase the number of iterations (max_iter) or scale the data as shown in:\n",
      "    https://scikit-learn.org/stable/modules/preprocessing.html\n",
      "Please also refer to the documentation for alternative solver options:\n",
      "    https://scikit-learn.org/stable/modules/linear_model.html#logistic-regression\n",
      "  n_iter_i = _check_optimize_result(\n",
      "c:\\Users\\bioni\\anaconda3\\Lib\\site-packages\\sklearn\\linear_model\\_logistic.py:460: ConvergenceWarning: lbfgs failed to converge (status=1):\n",
      "STOP: TOTAL NO. of ITERATIONS REACHED LIMIT.\n",
      "\n",
      "Increase the number of iterations (max_iter) or scale the data as shown in:\n",
      "    https://scikit-learn.org/stable/modules/preprocessing.html\n",
      "Please also refer to the documentation for alternative solver options:\n",
      "    https://scikit-learn.org/stable/modules/linear_model.html#logistic-regression\n",
      "  n_iter_i = _check_optimize_result(\n",
      "c:\\Users\\bioni\\anaconda3\\Lib\\site-packages\\sklearn\\linear_model\\_logistic.py:460: ConvergenceWarning: lbfgs failed to converge (status=1):\n",
      "STOP: TOTAL NO. of ITERATIONS REACHED LIMIT.\n",
      "\n",
      "Increase the number of iterations (max_iter) or scale the data as shown in:\n",
      "    https://scikit-learn.org/stable/modules/preprocessing.html\n",
      "Please also refer to the documentation for alternative solver options:\n",
      "    https://scikit-learn.org/stable/modules/linear_model.html#logistic-regression\n",
      "  n_iter_i = _check_optimize_result(\n",
      "c:\\Users\\bioni\\anaconda3\\Lib\\site-packages\\sklearn\\linear_model\\_logistic.py:460: ConvergenceWarning: lbfgs failed to converge (status=1):\n",
      "STOP: TOTAL NO. of ITERATIONS REACHED LIMIT.\n",
      "\n",
      "Increase the number of iterations (max_iter) or scale the data as shown in:\n",
      "    https://scikit-learn.org/stable/modules/preprocessing.html\n",
      "Please also refer to the documentation for alternative solver options:\n",
      "    https://scikit-learn.org/stable/modules/linear_model.html#logistic-regression\n",
      "  n_iter_i = _check_optimize_result(\n",
      "c:\\Users\\bioni\\anaconda3\\Lib\\site-packages\\sklearn\\linear_model\\_logistic.py:460: ConvergenceWarning: lbfgs failed to converge (status=1):\n",
      "STOP: TOTAL NO. of ITERATIONS REACHED LIMIT.\n",
      "\n",
      "Increase the number of iterations (max_iter) or scale the data as shown in:\n",
      "    https://scikit-learn.org/stable/modules/preprocessing.html\n",
      "Please also refer to the documentation for alternative solver options:\n",
      "    https://scikit-learn.org/stable/modules/linear_model.html#logistic-regression\n",
      "  n_iter_i = _check_optimize_result(\n",
      "c:\\Users\\bioni\\anaconda3\\Lib\\site-packages\\sklearn\\linear_model\\_logistic.py:460: ConvergenceWarning: lbfgs failed to converge (status=1):\n",
      "STOP: TOTAL NO. of ITERATIONS REACHED LIMIT.\n",
      "\n",
      "Increase the number of iterations (max_iter) or scale the data as shown in:\n",
      "    https://scikit-learn.org/stable/modules/preprocessing.html\n",
      "Please also refer to the documentation for alternative solver options:\n",
      "    https://scikit-learn.org/stable/modules/linear_model.html#logistic-regression\n",
      "  n_iter_i = _check_optimize_result(\n",
      "c:\\Users\\bioni\\anaconda3\\Lib\\site-packages\\sklearn\\linear_model\\_logistic.py:460: ConvergenceWarning: lbfgs failed to converge (status=1):\n",
      "STOP: TOTAL NO. of ITERATIONS REACHED LIMIT.\n",
      "\n",
      "Increase the number of iterations (max_iter) or scale the data as shown in:\n",
      "    https://scikit-learn.org/stable/modules/preprocessing.html\n",
      "Please also refer to the documentation for alternative solver options:\n",
      "    https://scikit-learn.org/stable/modules/linear_model.html#logistic-regression\n",
      "  n_iter_i = _check_optimize_result(\n",
      "c:\\Users\\bioni\\anaconda3\\Lib\\site-packages\\sklearn\\linear_model\\_logistic.py:460: ConvergenceWarning: lbfgs failed to converge (status=1):\n",
      "STOP: TOTAL NO. of ITERATIONS REACHED LIMIT.\n",
      "\n",
      "Increase the number of iterations (max_iter) or scale the data as shown in:\n",
      "    https://scikit-learn.org/stable/modules/preprocessing.html\n",
      "Please also refer to the documentation for alternative solver options:\n",
      "    https://scikit-learn.org/stable/modules/linear_model.html#logistic-regression\n",
      "  n_iter_i = _check_optimize_result(\n",
      "c:\\Users\\bioni\\anaconda3\\Lib\\site-packages\\sklearn\\linear_model\\_logistic.py:460: ConvergenceWarning: lbfgs failed to converge (status=1):\n",
      "STOP: TOTAL NO. of ITERATIONS REACHED LIMIT.\n",
      "\n",
      "Increase the number of iterations (max_iter) or scale the data as shown in:\n",
      "    https://scikit-learn.org/stable/modules/preprocessing.html\n",
      "Please also refer to the documentation for alternative solver options:\n",
      "    https://scikit-learn.org/stable/modules/linear_model.html#logistic-regression\n",
      "  n_iter_i = _check_optimize_result(\n",
      "c:\\Users\\bioni\\anaconda3\\Lib\\site-packages\\sklearn\\linear_model\\_logistic.py:460: ConvergenceWarning: lbfgs failed to converge (status=1):\n",
      "STOP: TOTAL NO. of ITERATIONS REACHED LIMIT.\n",
      "\n",
      "Increase the number of iterations (max_iter) or scale the data as shown in:\n",
      "    https://scikit-learn.org/stable/modules/preprocessing.html\n",
      "Please also refer to the documentation for alternative solver options:\n",
      "    https://scikit-learn.org/stable/modules/linear_model.html#logistic-regression\n",
      "  n_iter_i = _check_optimize_result(\n",
      "c:\\Users\\bioni\\anaconda3\\Lib\\site-packages\\sklearn\\linear_model\\_logistic.py:460: ConvergenceWarning: lbfgs failed to converge (status=1):\n",
      "STOP: TOTAL NO. of ITERATIONS REACHED LIMIT.\n",
      "\n",
      "Increase the number of iterations (max_iter) or scale the data as shown in:\n",
      "    https://scikit-learn.org/stable/modules/preprocessing.html\n",
      "Please also refer to the documentation for alternative solver options:\n",
      "    https://scikit-learn.org/stable/modules/linear_model.html#logistic-regression\n",
      "  n_iter_i = _check_optimize_result(\n",
      "c:\\Users\\bioni\\anaconda3\\Lib\\site-packages\\sklearn\\linear_model\\_logistic.py:460: ConvergenceWarning: lbfgs failed to converge (status=1):\n",
      "STOP: TOTAL NO. of ITERATIONS REACHED LIMIT.\n",
      "\n",
      "Increase the number of iterations (max_iter) or scale the data as shown in:\n",
      "    https://scikit-learn.org/stable/modules/preprocessing.html\n",
      "Please also refer to the documentation for alternative solver options:\n",
      "    https://scikit-learn.org/stable/modules/linear_model.html#logistic-regression\n",
      "  n_iter_i = _check_optimize_result(\n",
      "c:\\Users\\bioni\\anaconda3\\Lib\\site-packages\\sklearn\\linear_model\\_logistic.py:460: ConvergenceWarning: lbfgs failed to converge (status=1):\n",
      "STOP: TOTAL NO. of ITERATIONS REACHED LIMIT.\n",
      "\n",
      "Increase the number of iterations (max_iter) or scale the data as shown in:\n",
      "    https://scikit-learn.org/stable/modules/preprocessing.html\n",
      "Please also refer to the documentation for alternative solver options:\n",
      "    https://scikit-learn.org/stable/modules/linear_model.html#logistic-regression\n",
      "  n_iter_i = _check_optimize_result(\n",
      "c:\\Users\\bioni\\anaconda3\\Lib\\site-packages\\sklearn\\linear_model\\_logistic.py:460: ConvergenceWarning: lbfgs failed to converge (status=1):\n",
      "STOP: TOTAL NO. of ITERATIONS REACHED LIMIT.\n",
      "\n",
      "Increase the number of iterations (max_iter) or scale the data as shown in:\n",
      "    https://scikit-learn.org/stable/modules/preprocessing.html\n",
      "Please also refer to the documentation for alternative solver options:\n",
      "    https://scikit-learn.org/stable/modules/linear_model.html#logistic-regression\n",
      "  n_iter_i = _check_optimize_result(\n",
      "c:\\Users\\bioni\\anaconda3\\Lib\\site-packages\\sklearn\\linear_model\\_logistic.py:460: ConvergenceWarning: lbfgs failed to converge (status=1):\n",
      "STOP: TOTAL NO. of ITERATIONS REACHED LIMIT.\n",
      "\n",
      "Increase the number of iterations (max_iter) or scale the data as shown in:\n",
      "    https://scikit-learn.org/stable/modules/preprocessing.html\n",
      "Please also refer to the documentation for alternative solver options:\n",
      "    https://scikit-learn.org/stable/modules/linear_model.html#logistic-regression\n",
      "  n_iter_i = _check_optimize_result(\n",
      "c:\\Users\\bioni\\anaconda3\\Lib\\site-packages\\sklearn\\linear_model\\_logistic.py:460: ConvergenceWarning: lbfgs failed to converge (status=1):\n",
      "STOP: TOTAL NO. of ITERATIONS REACHED LIMIT.\n",
      "\n",
      "Increase the number of iterations (max_iter) or scale the data as shown in:\n",
      "    https://scikit-learn.org/stable/modules/preprocessing.html\n",
      "Please also refer to the documentation for alternative solver options:\n",
      "    https://scikit-learn.org/stable/modules/linear_model.html#logistic-regression\n",
      "  n_iter_i = _check_optimize_result(\n"
     ]
    },
    {
     "data": {
      "text/html": [
       "<style>#sk-container-id-10 {color: black;}#sk-container-id-10 pre{padding: 0;}#sk-container-id-10 div.sk-toggleable {background-color: white;}#sk-container-id-10 label.sk-toggleable__label {cursor: pointer;display: block;width: 100%;margin-bottom: 0;padding: 0.3em;box-sizing: border-box;text-align: center;}#sk-container-id-10 label.sk-toggleable__label-arrow:before {content: \"▸\";float: left;margin-right: 0.25em;color: #696969;}#sk-container-id-10 label.sk-toggleable__label-arrow:hover:before {color: black;}#sk-container-id-10 div.sk-estimator:hover label.sk-toggleable__label-arrow:before {color: black;}#sk-container-id-10 div.sk-toggleable__content {max-height: 0;max-width: 0;overflow: hidden;text-align: left;background-color: #f0f8ff;}#sk-container-id-10 div.sk-toggleable__content pre {margin: 0.2em;color: black;border-radius: 0.25em;background-color: #f0f8ff;}#sk-container-id-10 input.sk-toggleable__control:checked~div.sk-toggleable__content {max-height: 200px;max-width: 100%;overflow: auto;}#sk-container-id-10 input.sk-toggleable__control:checked~label.sk-toggleable__label-arrow:before {content: \"▾\";}#sk-container-id-10 div.sk-estimator input.sk-toggleable__control:checked~label.sk-toggleable__label {background-color: #d4ebff;}#sk-container-id-10 div.sk-label input.sk-toggleable__control:checked~label.sk-toggleable__label {background-color: #d4ebff;}#sk-container-id-10 input.sk-hidden--visually {border: 0;clip: rect(1px 1px 1px 1px);clip: rect(1px, 1px, 1px, 1px);height: 1px;margin: -1px;overflow: hidden;padding: 0;position: absolute;width: 1px;}#sk-container-id-10 div.sk-estimator {font-family: monospace;background-color: #f0f8ff;border: 1px dotted black;border-radius: 0.25em;box-sizing: border-box;margin-bottom: 0.5em;}#sk-container-id-10 div.sk-estimator:hover {background-color: #d4ebff;}#sk-container-id-10 div.sk-parallel-item::after {content: \"\";width: 100%;border-bottom: 1px solid gray;flex-grow: 1;}#sk-container-id-10 div.sk-label:hover label.sk-toggleable__label {background-color: #d4ebff;}#sk-container-id-10 div.sk-serial::before {content: \"\";position: absolute;border-left: 1px solid gray;box-sizing: border-box;top: 0;bottom: 0;left: 50%;z-index: 0;}#sk-container-id-10 div.sk-serial {display: flex;flex-direction: column;align-items: center;background-color: white;padding-right: 0.2em;padding-left: 0.2em;position: relative;}#sk-container-id-10 div.sk-item {position: relative;z-index: 1;}#sk-container-id-10 div.sk-parallel {display: flex;align-items: stretch;justify-content: center;background-color: white;position: relative;}#sk-container-id-10 div.sk-item::before, #sk-container-id-10 div.sk-parallel-item::before {content: \"\";position: absolute;border-left: 1px solid gray;box-sizing: border-box;top: 0;bottom: 0;left: 50%;z-index: -1;}#sk-container-id-10 div.sk-parallel-item {display: flex;flex-direction: column;z-index: 1;position: relative;background-color: white;}#sk-container-id-10 div.sk-parallel-item:first-child::after {align-self: flex-end;width: 50%;}#sk-container-id-10 div.sk-parallel-item:last-child::after {align-self: flex-start;width: 50%;}#sk-container-id-10 div.sk-parallel-item:only-child::after {width: 0;}#sk-container-id-10 div.sk-dashed-wrapped {border: 1px dashed gray;margin: 0 0.4em 0.5em 0.4em;box-sizing: border-box;padding-bottom: 0.4em;background-color: white;}#sk-container-id-10 div.sk-label label {font-family: monospace;font-weight: bold;display: inline-block;line-height: 1.2em;}#sk-container-id-10 div.sk-label-container {text-align: center;}#sk-container-id-10 div.sk-container {/* jupyter's `normalize.less` sets `[hidden] { display: none; }` but bootstrap.min.css set `[hidden] { display: none !important; }` so we also need the `!important` here to be able to override the default hidden behavior on the sphinx rendered scikit-learn.org. See: https://github.com/scikit-learn/scikit-learn/issues/21755 */display: inline-block !important;position: relative;}#sk-container-id-10 div.sk-text-repr-fallback {display: none;}</style><div id=\"sk-container-id-10\" class=\"sk-top-container\"><div class=\"sk-text-repr-fallback\"><pre>RandomizedSearchCV(estimator=Pipeline(steps=[(&#x27;logisticregression&#x27;,\n",
       "                                              LogisticRegression(random_state=42))]),\n",
       "                   param_distributions={&#x27;logisticregression__C&#x27;: array([0.1, 0.3, 0.5, 0.7, 0.9, 1.1, 1.3, 1.5, 1.7, 1.9])})</pre><b>In a Jupyter environment, please rerun this cell to show the HTML representation or trust the notebook. <br />On GitHub, the HTML representation is unable to render, please try loading this page with nbviewer.org.</b></div><div class=\"sk-container\" hidden><div class=\"sk-item sk-dashed-wrapped\"><div class=\"sk-label-container\"><div class=\"sk-label sk-toggleable\"><input class=\"sk-toggleable__control sk-hidden--visually\" id=\"sk-estimator-id-12\" type=\"checkbox\" ><label for=\"sk-estimator-id-12\" class=\"sk-toggleable__label sk-toggleable__label-arrow\">RandomizedSearchCV</label><div class=\"sk-toggleable__content\"><pre>RandomizedSearchCV(estimator=Pipeline(steps=[(&#x27;logisticregression&#x27;,\n",
       "                                              LogisticRegression(random_state=42))]),\n",
       "                   param_distributions={&#x27;logisticregression__C&#x27;: array([0.1, 0.3, 0.5, 0.7, 0.9, 1.1, 1.3, 1.5, 1.7, 1.9])})</pre></div></div></div><div class=\"sk-parallel\"><div class=\"sk-parallel-item\"><div class=\"sk-item\"><div class=\"sk-label-container\"><div class=\"sk-label sk-toggleable\"><input class=\"sk-toggleable__control sk-hidden--visually\" id=\"sk-estimator-id-13\" type=\"checkbox\" ><label for=\"sk-estimator-id-13\" class=\"sk-toggleable__label sk-toggleable__label-arrow\">estimator: Pipeline</label><div class=\"sk-toggleable__content\"><pre>Pipeline(steps=[(&#x27;logisticregression&#x27;, LogisticRegression(random_state=42))])</pre></div></div></div><div class=\"sk-serial\"><div class=\"sk-item\"><div class=\"sk-serial\"><div class=\"sk-item\"><div class=\"sk-estimator sk-toggleable\"><input class=\"sk-toggleable__control sk-hidden--visually\" id=\"sk-estimator-id-14\" type=\"checkbox\" ><label for=\"sk-estimator-id-14\" class=\"sk-toggleable__label sk-toggleable__label-arrow\">LogisticRegression</label><div class=\"sk-toggleable__content\"><pre>LogisticRegression(random_state=42)</pre></div></div></div></div></div></div></div></div></div></div></div></div>"
      ],
      "text/plain": [
       "RandomizedSearchCV(estimator=Pipeline(steps=[('logisticregression',\n",
       "                                              LogisticRegression(random_state=42))]),\n",
       "                   param_distributions={'logisticregression__C': array([0.1, 0.3, 0.5, 0.7, 0.9, 1.1, 1.3, 1.5, 1.7, 1.9])})"
      ]
     },
     "execution_count": 51,
     "metadata": {},
     "output_type": "execute_result"
    }
   ],
   "source": [
    "import numpy as np\n",
    "param_grid = {\n",
    "    'logisticregression__C' : np.arange(0.1, 2.0,0.2)\n",
    "\n",
    "}\n",
    "clf = RandomizedSearchCV(lr_pipe, param_grid) \n",
    "clf.fit(X_train, y_train)"
   ]
  },
  {
   "cell_type": "code",
   "execution_count": 57,
   "metadata": {},
   "outputs": [
    {
     "data": {
      "text/plain": [
       "{'logisticregression__C': 0.9000000000000001}"
      ]
     },
     "execution_count": 57,
     "metadata": {},
     "output_type": "execute_result"
    }
   ],
   "source": [
    "clf.best_params_"
   ]
  },
  {
   "cell_type": "code",
   "execution_count": 53,
   "metadata": {},
   "outputs": [
    {
     "data": {
      "text/plain": [
       "0.9666666666666666"
      ]
     },
     "execution_count": 53,
     "metadata": {},
     "output_type": "execute_result"
    }
   ],
   "source": [
    "clf.best_score_"
   ]
  },
  {
   "cell_type": "code",
   "execution_count": null,
   "metadata": {},
   "outputs": [],
   "source": []
  }
 ],
 "metadata": {
  "kernelspec": {
   "display_name": "Python 3",
   "language": "python",
   "name": "python3"
  },
  "language_info": {
   "codemirror_mode": {
    "name": "ipython",
    "version": 3
   },
   "file_extension": ".py",
   "mimetype": "text/x-python",
   "name": "python",
   "nbconvert_exporter": "python",
   "pygments_lexer": "ipython3",
   "version": "3.11.4"
  },
  "orig_nbformat": 4
 },
 "nbformat": 4,
 "nbformat_minor": 2
}
