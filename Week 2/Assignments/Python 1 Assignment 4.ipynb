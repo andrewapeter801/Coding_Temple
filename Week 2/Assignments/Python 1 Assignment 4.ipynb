{
 "cells": [
  {
   "attachments": {},
   "cell_type": "markdown",
   "metadata": {},
   "source": [
    "# Coding Temple's Data Analytics Program\n",
    "---\n",
    "## Python Basics Assignment 4\n",
    "---"
   ]
  },
  {
   "attachments": {},
   "cell_type": "markdown",
   "metadata": {},
   "source": [
    "### **Task 1: Update Shopping Cart**\n",
    "Using the shopping cart you created yesterday as a blueprint, create a shopping cart using object-oriented programming. This shopping cart should maintain all functionality that you currently have in your blueprint."
   ]
  },
  {
   "cell_type": "code",
   "execution_count": 7,
   "metadata": {},
   "outputs": [
    {
     "name": "stdout",
     "output_type": "stream",
     "text": [
      "Cat Litter 1\n",
      "Cat Litter qty:1\n"
     ]
    },
    {
     "data": {
      "text/plain": [
       "'1 total items purchased!'"
      ]
     },
     "execution_count": 7,
     "metadata": {},
     "output_type": "execute_result"
    }
   ],
   "source": [
    "# YOUR CODE HERE\n",
    "'''\n",
    "    The Shopping_Cart class will have attributes such as: handles, capacity and items to place inside.\n",
    "    \n",
    "    \n",
    "    Attributes for this class:\n",
    "    - items: the items and its quantities placed inside a list\n",
    "\n",
    "    Methods of this class:\n",
    "    - Initalize: self.items attribute as an empty list\n",
    "    - add_to_cart: try and add items to a cart only if the quantity is positive int\n",
    "    - remove_from_cart: remove an item from teh cart only if the quantity is a positive int\n",
    "    - clear_cart: empty the entire cart\n",
    "    - view_cart: prints all items in the cart and quantities\n",
    "    - checkout: print all existing cart and totals\n",
    "\n",
    "    '''\n",
    "class ShoppingCart:\n",
    "    \n",
    "    def __init__(self):\n",
    "        self.items = {}\n",
    "                 \n",
    "    def add_to_cart(self, item_name:str, qty:int):\n",
    "        '''Attempts to add item to cart'''\n",
    "        try:\n",
    "            if int(qty) > 0:\n",
    "                self.items[item_name] = qty       \n",
    "            else:\n",
    "                print('QTY Must be a positive integer value')\n",
    "        except:\n",
    "                print('QTY Must be a positive integer value')\n",
    "                \n",
    "    def remove_from_cart(self, item_name):\n",
    "        ''' remove an item from the cart, otherwise informs my user to check the cart'''\n",
    "        if item_name not in [item for item in self.items.keys()]:\n",
    "            print('Item was not found! Please double check your cart!')\n",
    "            for item in self.items():\n",
    "                if item == item_name():\n",
    "                    del self.items[item]\n",
    "                    self.view_cart()\n",
    "                    break\n",
    "    def clear_cart(self):\n",
    "        '''Empty the cart'''\n",
    "        for items in self.items():\n",
    "            print(items)\n",
    "        \n",
    "    def view_cart(self):\n",
    "        '''Allow you to check cart'''\n",
    "        for k,v in self.items.items():\n",
    "            print(k,v)\n",
    "\n",
    "    def check_out(self):\n",
    "        'Close the cart and return to you the items in it!'\n",
    "        for k,v in self.items.items():\n",
    "            print(str(k) + ' qty:' + str(v))\n",
    "            return str(sum([v for v in self.items.values()])) + ' total items purchased!'\n",
    "    \n",
    "\n",
    "cart = ShoppingCart()\n",
    "cart.add_to_cart('Cat Litter',1)\n",
    "cart.view_cart()\n",
    "cart.check_out()\n"
   ]
  },
  {
   "attachments": {},
   "cell_type": "markdown",
   "metadata": {},
   "source": [
    "### **Task 2: String Class**\n",
    "Write a class which has the following two methods:\n",
    "* `get_string`: Accepts a string input from the user\n",
    "* `print_string`: Prints the string all in upper-case"
   ]
  },
  {
   "cell_type": "code",
   "execution_count": 35,
   "metadata": {},
   "outputs": [
    {
     "ename": "NameError",
     "evalue": "name 'print_string' is not defined",
     "output_type": "error",
     "traceback": [
      "\u001b[1;31m---------------------------------------------------------------------------\u001b[0m",
      "\u001b[1;31mNameError\u001b[0m                                 Traceback (most recent call last)",
      "\u001b[1;32mc:\\Users\\bioni\\Downloads\\Python 1 Assignment 4.ipynb Cell 5\u001b[0m line \u001b[0;36m6\n\u001b[0;32m      <a href='vscode-notebook-cell:/c%3A/Users/bioni/Downloads/Python%201%20Assignment%204.ipynb#W4sZmlsZQ%3D%3D?line=3'>4</a>\u001b[0m     sport \u001b[39m=\u001b[39m \u001b[39m0\u001b[39m\n\u001b[0;32m      <a href='vscode-notebook-cell:/c%3A/Users/bioni/Downloads/Python%201%20Assignment%204.ipynb#W4sZmlsZQ%3D%3D?line=4'>5</a>\u001b[0m get_string \u001b[39m=\u001b[39m \u001b[39minput\u001b[39m(\u001b[39m'\u001b[39m\u001b[39mWhat sport do you like to play?\u001b[39m\u001b[39m'\u001b[39m)\n\u001b[1;32m----> <a href='vscode-notebook-cell:/c%3A/Users/bioni/Downloads/Python%201%20Assignment%204.ipynb#W4sZmlsZQ%3D%3D?line=5'>6</a>\u001b[0m print_string\u001b[39m.\u001b[39mupper()\n",
      "\u001b[1;31mNameError\u001b[0m: name 'print_string' is not defined"
     ]
    }
   ],
   "source": [
    "# YOUR CODE HERE (self.str) (self.print)\n",
    "\n",
    "class Sports_ball:\n",
    "    sport = 0\n",
    "get_string = input('What sport do you like to play?')\n",
    "print_string.upper()"
   ]
  },
  {
   "attachments": {},
   "cell_type": "markdown",
   "metadata": {},
   "source": [
    "### **Task 3: Activities**\n",
    "Create a class that depicts your favorite activity. Add in attributes that are associated with that activity in you `__init__` call. Also, create three functions that are associated with the activity.\n",
    "\n",
    "**Example:**\n",
    "If I chose football, I may have a FootballPlayer class with attributes such as:\n",
    "* `self.speed`\n",
    "* `self.strength`\n",
    "* `self.position`\n",
    "\n",
    "and methods such as:\n",
    "* `def pass_ball`\n",
    "* `def run`\n",
    "* `def faster_than_x`"
   ]
  },
  {
   "cell_type": "code",
   "execution_count": 1,
   "metadata": {},
   "outputs": [],
   "source": [
    "class Golf:\n",
    "\n",
    "    def __init__(self):\n",
    "        self.clubs = {}\n",
    "    \n",
    "    '''instances attributes of classes dynamically'''\n",
    "    def __init__(self, woods: str, irons: int, putter: str):\n",
    "        self.woods = woods\n",
    "        self.irons = irons\n",
    "        self.putter = putter\n",
    "\n",
    "    def drive(self):\n",
    "        '''method for driving the golf ball'''\n",
    "        for drive in self.woods:\n",
    "            print(f'Nice whack at the ball with your {self.drive}, nice!')\n",
    "            for driver in self.driver:\n",
    "                print(driver)\n",
    "\n",
    "    def fairway_shot(self):\n",
    "        '''method for iron shots in the fairway'''\n",
    "        for fairway_shot in self.irons:\n",
    "            iron = input(\"What club would you like to hit?\")\n",
    "            print(f'Nice, {fairway_shot} onto the green!')\n",
    "\n",
    "    def putting(self):\n",
    "        '''method for hitting putts of the green'''\n",
    "        for putt in self.putter:\n",
    "            print(f'Ya buddy! Great {self.putter}!')\n",
    "\n",
    "golf_bag = Golf(3, 9, [])\n",
    "def run():\n",
    "    '''create a function to run my golf class'''\n",
    "    while True:\n",
    "        response = input('What shot would you like to take? Woods, irons, putter, Quit')\n",
    "\n",
    "        if response.lower() == 'woods':\n",
    "            golf_bag.self.woods()\n",
    "            print('I hope had a sub-par round!')\n",
    "            break\n",
    "        elif response.lower() == 'irons':\n",
    "            golf_bag.self.irons()\n",
    "        elif response.lower() == 'putter':\n",
    "            golf_bag.self.putter()\n",
    "\n"
   ]
  },
  {
   "attachments": {},
   "cell_type": "markdown",
   "metadata": {},
   "source": [
    "### **Task 4: Test Your Class!**\n",
    "Now that you created your class, let's create an instance of your class. In the cell below, instantiate a Class Object, then test each of your class methods on that object."
   ]
  },
  {
   "cell_type": "code",
   "execution_count": 2,
   "metadata": {},
   "outputs": [
    {
     "data": {
      "text/plain": [
       "<function __main__.Golf.putting(self)>"
      ]
     },
     "execution_count": 2,
     "metadata": {},
     "output_type": "execute_result"
    }
   ],
   "source": [
    "my_golf = Golf(1,7,1)\n",
    "Golf.drive\n",
    "Golf.fairway_shot\n",
    "Golf.putting"
   ]
  }
 ],
 "metadata": {
  "kernelspec": {
   "display_name": "Python 3",
   "language": "python",
   "name": "python3"
  },
  "language_info": {
   "codemirror_mode": {
    "name": "ipython",
    "version": 3
   },
   "file_extension": ".py",
   "mimetype": "text/x-python",
   "name": "python",
   "nbconvert_exporter": "python",
   "pygments_lexer": "ipython3",
   "version": "3.11.5"
  },
  "orig_nbformat": 4,
  "vscode": {
   "interpreter": {
    "hash": "26de051ba29f2982a8de78e945f0abaf191376122a1563185a90213a26c5da77"
   }
  }
 },
 "nbformat": 4,
 "nbformat_minor": 2
}
