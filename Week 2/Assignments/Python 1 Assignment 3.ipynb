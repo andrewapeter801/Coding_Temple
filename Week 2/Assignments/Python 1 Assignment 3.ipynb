{
 "cells": [
  {
   "attachments": {},
   "cell_type": "markdown",
   "metadata": {},
   "source": [
    "# Coding Temple's Data Analytics Program\n",
    "---\n",
    "## Python 1 Assignment 3\n",
    "---"
   ]
  },
  {
   "attachments": {},
   "cell_type": "markdown",
   "metadata": {},
   "source": [
    "### **Task 1: Build a Shopping Cart**\n",
    "**You can use either lists or dictionaries. The program should have the following capabilites:**\n",
    "* Takes a string as an input\n",
    "* Stores user input in a dictionary or list\n",
    "* Users should be able to:\n",
    "    * Add Items\n",
    "    * Delete Items\n",
    "    * See current shopping cart\n",
    "* The program should loop until user 'quits'\n",
    "* Upon quitting the program, print out all items in the user's list"
   ]
  },
  {
   "cell_type": "code",
   "execution_count": 6,
   "metadata": {},
   "outputs": [],
   "source": [
    "from IPython.display import clear_output\n",
    "\n",
    "# Ask the user 5 bits of input: Do you want to : Show/Add/Delete/clear or Quit?\n",
    "# YOUR CODE HERE\n",
    "def manage_shopping_cart():\n",
    "\n",
    "    shopping_cart = {}\n",
    "    while True:\n",
    "        choice =input(\"Do you want to: show/add/delete/clear or quit?\")\n",
    "\n",
    "        if choice == \"show\":\n",
    "            \n",
    "        \n",
    "            print(shopping_cart)\n",
    "        \n",
    "        elif choice.lower() == \"add\":\n",
    "            item = input(\"What do you want to add?\")\n",
    "            quantity = input(\"Enter the quantity\")\n",
    "            shopping_cart[item] = quantity\n",
    "            print(f\"{item} has been added to your shopping cart!\")\n",
    "        \n",
    "        elif choice.lower() == \"delete\":\n",
    "            item_to_delete = input(\"Enter the item to delete: \")\n",
    "            if item_to_delete in shopping_cart:\n",
    "                del shopping_cart[item_to_delete]\n",
    "                print(f\"{item_to_delete} was removed from your cart!\")\n",
    "            else:\n",
    "                print(\"Item not found in your shopping cart!\")\n",
    "\n",
    "    \n",
    "        elif choice.lower() == \"clear\":\n",
    "            shopping_cart.clear()\n",
    "            print(\"Your shopping cart has been cleared!\")\n",
    "\n",
    "        \n",
    "        elif choice.lower() == \"quit\":\n",
    "            print(shopping_cart)\n",
    "            break\n",
    "        \n",
    "        else:\n",
    "            print(\"Please select one of the options!\")"
   ]
  },
  {
   "cell_type": "code",
   "execution_count": 7,
   "metadata": {},
   "outputs": [
    {
     "name": "stdout",
     "output_type": "stream",
     "text": [
      "banana's has been added to your shopping cart!\n",
      "banana's was removed from your cart!\n",
      "{}\n",
      "{}\n"
     ]
    }
   ],
   "source": [
    "manage_shopping_cart()"
   ]
  },
  {
   "attachments": {},
   "cell_type": "markdown",
   "metadata": {},
   "source": [
    "### **Task 2: Create a Module and Import it**\n",
    "Create a Module in VS Code and import it into a Notebook. Use each of the functions you build in your module\n",
    "\n",
    "**Your module should have the following capabilities:**\n",
    "* Has a function to calculate the square footage of a house\n",
    "* Has a function to calculate the circumference of a circle\n",
    "* Has a function to change feet to inches"
   ]
  },
  {
   "cell_type": "code",
   "execution_count": 1,
   "metadata": {},
   "outputs": [],
   "source": [
    "from new_mod import caluculate_square_footage, calculate_circumference, calculate_feet_to_inches"
   ]
  },
  {
   "cell_type": "code",
   "execution_count": 2,
   "metadata": {},
   "outputs": [
    {
     "data": {
      "text/plain": [
       "(706.8583470577499, 60, 24)"
      ]
     },
     "execution_count": 2,
     "metadata": {},
     "output_type": "execute_result"
    }
   ],
   "source": [
    "calculate_circumference(15), caluculate_square_footage(15,4), calculate_feet_to_inches(2)"
   ]
  },
  {
   "attachments": {},
   "cell_type": "markdown",
   "metadata": {},
   "source": [
    "### **Task 3.1: Lists**\n",
    "Create 4 lists. Two of these lists should be keys, two of these lists should be values"
   ]
  },
  {
   "cell_type": "code",
   "execution_count": 15,
   "metadata": {},
   "outputs": [],
   "source": [
    "#UPER\n",
    "# step1: Create 2 sets of keys and values\n",
    "# step2: Create 2 dictionaries\n",
    "\n",
    "keys_1 = ['name', 'age', 'gender']\n",
    "keys_2 = ['country', 'city', 'zipcode']\n",
    "\n",
    "values_1 = ['John', 30, 'Male']\n",
    "values_2 = ['USA', 'Lehi', '84043']\n",
    "\n",
    "\n"
   ]
  },
  {
   "attachments": {},
   "cell_type": "markdown",
   "metadata": {},
   "source": [
    "### **Task 3.2: Create a function that converts two lists into a dictionary, then merges two dictionaries into one.**\n",
    "\n",
    "Using your 4 lists, create a function which combines the keys lists with the values lists into a dictionary, then merges and returns the two dictionaries together."
   ]
  },
  {
   "cell_type": "code",
   "execution_count": 17,
   "metadata": {},
   "outputs": [],
   "source": [
    "#UPER\n",
    "# Understand: create 2 dictionaries using the lists created in the last problem, then merge them together\n",
    "\n",
    "#Plan:\n",
    "#Step 1: Create 2 dictionaries\n",
    "#Step 2: Merge dictionaries\n",
    "#Step 3: Return 2 merged dictionaries together\n",
    "\n",
    "\n",
    "dict_1 = {key:value for key, value in zip(keys_1, values_1)}\n",
    "dict_2 = {key:values_1 for key, value in zip(keys_2, values_2)}\n",
    "\n",
    "merged_dict = {**dict_1, **dict_2}\n",
    "merged_dict\n",
    "\n",
    "def lists_to_dict(keylist1, keylist2, valueslist1, valueslist2):\n",
    "    dict_1 = {key:value for key, value in zip(keylist1, valueslist1)}\n",
    "    dict_2 = {key:value for key, value in zip(keylist2, valueslist2)}\n",
    "\n",
    "lists_to_dict(keys_1, keys_2, values_1, values_2)\n"
   ]
  }
 ],
 "metadata": {
  "kernelspec": {
   "display_name": "Python 3",
   "language": "python",
   "name": "python3"
  },
  "language_info": {
   "codemirror_mode": {
    "name": "ipython",
    "version": 3
   },
   "file_extension": ".py",
   "mimetype": "text/x-python",
   "name": "python",
   "nbconvert_exporter": "python",
   "pygments_lexer": "ipython3",
   "version": "3.11.5"
  },
  "orig_nbformat": 4,
  "vscode": {
   "interpreter": {
    "hash": "26de051ba29f2982a8de78e945f0abaf191376122a1563185a90213a26c5da77"
   }
  }
 },
 "nbformat": 4,
 "nbformat_minor": 2
}
