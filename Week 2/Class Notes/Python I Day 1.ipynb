{
  "cells": [
    {
      "attachments": {},
      "cell_type": "markdown",
      "metadata": {
        "id": "57xaaz1EpigH"
      },
      "source": [
        "# Coding Temple's Data Analytics Course\n",
        "---\n",
        "## Python I: Variable Assignment, Loops, Lists\n",
        "---"
      ]
    },
    {
      "attachments": {},
      "cell_type": "markdown",
      "metadata": {
        "id": "DEMU__ZTpigK"
      },
      "source": [
        "## Tasks Today:\n",
        "\n",
        "1) Int & Float assignments <br>\n",
        " &nbsp;&nbsp;&nbsp;&nbsp; a) Assigning int <br>\n",
        " &nbsp;&nbsp;&nbsp;&nbsp; b) Assigning float <br>\n",
        " &nbsp;&nbsp;&nbsp;&nbsp; c) Performing Calculations on ints and floats <br>\n",
        " &nbsp;&nbsp;&nbsp;&nbsp;&nbsp;&nbsp;&nbsp;&nbsp; - Addition <br>\n",
        " &nbsp;&nbsp;&nbsp;&nbsp;&nbsp;&nbsp;&nbsp;&nbsp; - Subtraction <br>\n",
        " &nbsp;&nbsp;&nbsp;&nbsp;&nbsp;&nbsp;&nbsp;&nbsp; - Multiplication <br>\n",
        " &nbsp;&nbsp;&nbsp;&nbsp;&nbsp;&nbsp;&nbsp;&nbsp; - Division <br>\n",
        " &nbsp;&nbsp;&nbsp;&nbsp;&nbsp;&nbsp;&nbsp;&nbsp; - Floor Division <br>\n",
        " &nbsp;&nbsp;&nbsp;&nbsp;&nbsp;&nbsp;&nbsp;&nbsp; - Modulo <br>\n",
        " &nbsp;&nbsp;&nbsp;&nbsp;&nbsp;&nbsp;&nbsp;&nbsp; - Exponential <br>\n",
        "2) String Input-Output <br>\n",
        " &nbsp;&nbsp;&nbsp;&nbsp; a) String Assignment <br>\n",
        " &nbsp;&nbsp;&nbsp;&nbsp; b) print() <br>\n",
        " &nbsp;&nbsp;&nbsp;&nbsp; c) String Concatenation <br>\n",
        " &nbsp;&nbsp;&nbsp;&nbsp; d) Type Conversion <br>\n",
        " &nbsp;&nbsp;&nbsp;&nbsp; e) input() <br>\n",
        " &nbsp;&nbsp;&nbsp;&nbsp; f) format() <br>\n",
        " &nbsp;&nbsp;&nbsp;&nbsp; g) Old Way (python 2) <br>\n",
        "3) <b>In-Class Exercise #1</b> <br>\n",
        "4) If Statements <br>\n",
        " &nbsp;&nbsp;&nbsp;&nbsp; a) 'is' keyword <br>\n",
        " &nbsp;&nbsp;&nbsp;&nbsp; b) 'in' keyword <br>\n",
        " &nbsp;&nbsp;&nbsp;&nbsp; c) 'not in' keyword <br>\n",
        "5) <b>In-Class Exercise #2</b> <br>\n",
        "6) Elif Statements <br>\n",
        "7) Else Statements <br>\n",
        "8) <b>In-Class Exercise #3</b> <br>\n",
        "9) For Loops <br>\n",
        " &nbsp;&nbsp;&nbsp;&nbsp; a) Using 'in' keyword <br>\n",
        " &nbsp;&nbsp;&nbsp;&nbsp; b) Continue Statement <br>\n",
        " &nbsp;&nbsp;&nbsp;&nbsp; c) Break Statement <br>\n",
        " &nbsp;&nbsp;&nbsp;&nbsp; d) Pass Statement <br>\n",
        " &nbsp;&nbsp;&nbsp;&nbsp; e) Double For Loops <br>\n",
        "10) While Loops <br>\n",
        " &nbsp;&nbsp;&nbsp;&nbsp; a) Looping 'While True' <br>\n",
        " &nbsp;&nbsp;&nbsp;&nbsp; b) While and For Loops Used Together <br>\n",
        "11) Built-In Functions <br>\n",
        " &nbsp;&nbsp;&nbsp;&nbsp; a) range() <br>\n",
        " &nbsp;&nbsp;&nbsp;&nbsp; b) len() <br>\n",
        " &nbsp;&nbsp;&nbsp;&nbsp; c) help() <br>\n",
        " &nbsp;&nbsp;&nbsp;&nbsp; d) isinstance() <br>\n",
        " &nbsp;&nbsp;&nbsp;&nbsp; e) abs() <br>\n",
        "12) Try and Except <br>\n",
        "13) Lists <br>\n",
        " &nbsp;&nbsp;&nbsp;&nbsp; a) Declaring Lists <br>\n",
        " &nbsp;&nbsp;&nbsp;&nbsp; b) Indexing a List <br>\n",
        " &nbsp;&nbsp;&nbsp;&nbsp; c) .append() <br>\n",
        " &nbsp;&nbsp;&nbsp;&nbsp; d) .insert() <br>\n",
        " &nbsp;&nbsp;&nbsp;&nbsp; e) .pop() <br>\n",
        " &nbsp;&nbsp;&nbsp;&nbsp; f) .remove() <br>\n",
        " &nbsp;&nbsp;&nbsp;&nbsp; g) del() <br>\n",
        " &nbsp;&nbsp;&nbsp;&nbsp; h) Concatenating Two Lists <br>\n",
        " &nbsp;&nbsp;&nbsp;&nbsp; i) Lists Within Lists <br>\n",
        " &nbsp;&nbsp;&nbsp;&nbsp; j) Looping Through Lists <br>"
      ]
    },
    {
      "attachments": {},
      "cell_type": "markdown",
      "metadata": {
        "id": "9AQEnYwJpigM"
      },
      "source": [
        "### Int & Float Assignments"
      ]
    },
    {
      "attachments": {},
      "cell_type": "markdown",
      "metadata": {
        "id": "WbMsgFCDpigM"
      },
      "source": [
        "##### Assigning int"
      ]
    },
    {
      "cell_type": "code",
      "execution_count": null,
      "metadata": {
        "id": "if4FWmqWpigN"
      },
      "outputs": [
        {
          "ename": "",
          "evalue": "",
          "output_type": "error",
          "traceback": [
            "\u001b[1;31mRunning cells with 'c:\\Users\\bioni\\AppData\\Local\\Microsoft\\WindowsApps\\python3.11.exe' requires the ipykernel package.\n",
            "\u001b[1;31mRun the following command to install 'ipykernel' into the Python environment. \n",
            "\u001b[1;31mCommand: 'c:/Users/bioni/AppData/Local/Microsoft/WindowsApps/python3.11.exe -m pip install ipykernel -U --user --force-reinstall'"
          ]
        }
      ],
      "source": [
        "# Name the variable first\n",
        "number = 6\n",
        "number"
      ]
    },
    {
      "attachments": {},
      "cell_type": "markdown",
      "metadata": {
        "id": "BBX5w1FfpigO"
      },
      "source": [
        "##### Assinging float"
      ]
    },
    {
      "cell_type": "code",
      "execution_count": 1,
      "metadata": {
        "id": "w0KpCCeXpigO"
      },
      "outputs": [
        {
          "data": {
            "text/plain": [
              "2.3"
            ]
          },
          "execution_count": 1,
          "metadata": {},
          "output_type": "execute_result"
        }
      ],
      "source": [
        "number_float = 2.3\n",
        "number_float\n"
      ]
    },
    {
      "attachments": {},
      "cell_type": "markdown",
      "metadata": {
        "id": "hZkNTUDApigO"
      },
      "source": [
        "#### Performing Calculations on ints and floats"
      ]
    },
    {
      "attachments": {},
      "cell_type": "markdown",
      "metadata": {
        "id": "0OJrZLB_pigP"
      },
      "source": [
        "##### Addition"
      ]
    },
    {
      "cell_type": "code",
      "execution_count": 6,
      "metadata": {
        "id": "ZplFGDG-pigP"
      },
      "outputs": [],
      "source": [
        "num_1 = 2\n",
        "num_2 = 5.4\n",
        "\n",
        "# This is one way we can perform addition to two different numbers in Python\n",
        "result = num_1 + num_2\n",
        "result\n",
        "\n",
        "# There is also a Pythonic way of doing this:\n",
        "result += num_2 # EXACT SAME THING as saying result = result + num_2\n",
        "print(result)\n"
      ]
    },
    {
      "attachments": {},
      "cell_type": "markdown",
      "metadata": {
        "id": "XpRbDiqapigQ"
      },
      "source": [
        "##### Subtraction"
      ]
    },
    {
      "cell_type": "code",
      "execution_count": 7,
      "metadata": {
        "id": "4ty9SIlqpigQ"
      },
      "outputs": [
        {
          "name": "stdout",
          "output_type": "stream",
          "text": [
            "3.4000000000000004\n"
          ]
        },
        {
          "ename": "NameError",
          "evalue": "name 'res' is not defined",
          "output_type": "error",
          "traceback": [
            "\u001b[1;31m---------------------------------------------------------------------------\u001b[0m",
            "\u001b[1;31mNameError\u001b[0m                                 Traceback (most recent call last)",
            "\u001b[1;32mc:\\Users\\bioni\\OneDrive\\Documents\\GitHub\\Coding_Temple\\Week 2\\Class Notes\\Python I Day 1.ipynb Cell 12\u001b[0m line \u001b[0;36m6\n\u001b[0;32m      <a href='vscode-notebook-cell:/c%3A/Users/bioni/OneDrive/Documents/GitHub/Coding_Temple/Week%202/Class%20Notes/Python%20I%20Day%201.ipynb#X14sZmlsZQ%3D%3D?line=2'>3</a>\u001b[0m \u001b[39mprint\u001b[39m(result_diff)\n\u001b[0;32m      <a href='vscode-notebook-cell:/c%3A/Users/bioni/OneDrive/Documents/GitHub/Coding_Temple/Week%202/Class%20Notes/Python%20I%20Day%201.ipynb#X14sZmlsZQ%3D%3D?line=4'>5</a>\u001b[0m result_diff \u001b[39m-\u001b[39m\u001b[39m=\u001b[39m \u001b[39m1\u001b[39m\n\u001b[1;32m----> <a href='vscode-notebook-cell:/c%3A/Users/bioni/OneDrive/Documents/GitHub/Coding_Temple/Week%202/Class%20Notes/Python%20I%20Day%201.ipynb#X14sZmlsZQ%3D%3D?line=5'>6</a>\u001b[0m \u001b[39mprint\u001b[39m(res)\n",
            "\u001b[1;31mNameError\u001b[0m: name 'res' is not defined"
          ]
        }
      ],
      "source": [
        "# Subtraction uses the (-) operand\n",
        "result_diff = num_2 - num_1\n",
        "print(result_diff)\n",
        "\n",
        "result_diff -= 1\n",
        "print(result_diff)\n",
        "\n",
        "\n"
      ]
    },
    {
      "attachments": {},
      "cell_type": "markdown",
      "metadata": {
        "id": "2l8PJyt1pigQ"
      },
      "source": [
        "##### Multiplication"
      ]
    },
    {
      "cell_type": "code",
      "execution_count": 8,
      "metadata": {
        "id": "ihgp2XUCpigQ"
      },
      "outputs": [
        {
          "name": "stdout",
          "output_type": "stream",
          "text": [
            "10.8\n"
          ]
        }
      ],
      "source": [
        "result_mult = num_1 * num_2\n",
        "print(result_mult)\n",
        "\n",
        "result_mult *= 2\n",
        "print(result_mult)\n"
      ]
    },
    {
      "attachments": {},
      "cell_type": "markdown",
      "metadata": {
        "id": "BX9eRTAtpigQ"
      },
      "source": [
        "##### Division"
      ]
    },
    {
      "cell_type": "code",
      "execution_count": 9,
      "metadata": {
        "id": "xmH2irBvpigR"
      },
      "outputs": [
        {
          "name": "stdout",
          "output_type": "stream",
          "text": [
            "0.37037037037037035\n",
            "0.37037037037037035\n"
          ]
        }
      ],
      "source": [
        "result_div = num_1 / num_2\n",
        "print(result_div)\n",
        "\n",
        "result_div / 2\n",
        "print(result_div)"
      ]
    },
    {
      "attachments": {},
      "cell_type": "markdown",
      "metadata": {
        "id": "wRDQbO74pigR"
      },
      "source": [
        "##### Floor Division"
      ]
    },
    {
      "cell_type": "code",
      "execution_count": 11,
      "metadata": {
        "id": "ug00LrlRpigR"
      },
      "outputs": [
        {
          "name": "stdout",
          "output_type": "stream",
          "text": [
            "1.0\n"
          ]
        }
      ],
      "source": [
        "result_floor = num_2 // num_1\n",
        "#pythonic\n",
        "result_floor //=2\n",
        "print(result_floor)"
      ]
    },
    {
      "attachments": {},
      "cell_type": "markdown",
      "metadata": {
        "id": "xrF0YNLRpigR"
      },
      "source": [
        "##### Modulo"
      ]
    },
    {
      "cell_type": "code",
      "execution_count": 12,
      "metadata": {
        "id": "KJbeV5W8pigR"
      },
      "outputs": [
        {
          "name": "stdout",
          "output_type": "stream",
          "text": [
            "1.4000000000000004\n"
          ]
        }
      ],
      "source": [
        "result_mod = num_2 % num_1\n",
        "print(result_mod)\n"
      ]
    },
    {
      "attachments": {},
      "cell_type": "markdown",
      "metadata": {
        "id": "mV3tz9_4pigS"
      },
      "source": [
        "##### Exponential"
      ]
    },
    {
      "cell_type": "code",
      "execution_count": 15,
      "metadata": {
        "id": "HkDfvywxpigS"
      },
      "outputs": [
        {
          "name": "stdout",
          "output_type": "stream",
          "text": [
            "25\n",
            "625\n"
          ]
        }
      ],
      "source": [
        "squared = 5 **2\n",
        "print(squared)\n",
        "\n",
        "squared **= 2\n",
        "print(squared)"
      ]
    },
    {
      "attachments": {},
      "cell_type": "markdown",
      "metadata": {
        "id": "dryy0pBFpigS"
      },
      "source": [
        "### String Input-Output"
      ]
    },
    {
      "attachments": {},
      "cell_type": "markdown",
      "metadata": {
        "id": "Xjfphv3UpigS"
      },
      "source": [
        "##### String Assignment"
      ]
    },
    {
      "cell_type": "code",
      "execution_count": 17,
      "metadata": {
        "id": "QQA_K7eppigS"
      },
      "outputs": [
        {
          "name": "stdout",
          "output_type": "stream",
          "text": [
            "Andrew\n"
          ]
        }
      ],
      "source": [
        "name  = \"Andrew\"\n",
        "print(name)"
      ]
    },
    {
      "attachments": {},
      "cell_type": "markdown",
      "metadata": {
        "id": "x6Fx1auepigS"
      },
      "source": [
        "##### print() <br>\n",
        "<p>Don't forget about end=' '</p>"
      ]
    },
    {
      "cell_type": "code",
      "execution_count": 20,
      "metadata": {
        "id": "Z4SCUqIVpigS"
      },
      "outputs": [
        {
          "name": "stdout",
          "output_type": "stream",
          "text": [
            "Hey this is my first name  Andrew\n",
            "Full Name: Andrew \n"
          ]
        }
      ],
      "source": [
        "print(\"Hey this is my first name \",name)\n",
        "print(\"Full Name:\", name , end=' \\n')"
      ]
    },
    {
      "attachments": {},
      "cell_type": "markdown",
      "metadata": {
        "id": "0rvl648hpigT"
      },
      "source": [
        "##### String Concatenation"
      ]
    },
    {
      "cell_type": "code",
      "execution_count": 24,
      "metadata": {
        "id": "S3Y5p6N8pigT"
      },
      "outputs": [
        {
          "name": "stdout",
          "output_type": "stream",
          "text": [
            "Andrew Peterson\n",
            "Andrew Peterson Jr\n"
          ]
        }
      ],
      "source": [
        "first_name = \"Andrew\"\n",
        "last_name = \"Peterson\"\n",
        "full_name = first_name +' '+ last_name\n",
        "print(full_name)\n",
        "\n",
        "#pythonic method\n",
        "full_name += \" Jr\"\n",
        "print(full_name)"
      ]
    },
    {
      "attachments": {},
      "cell_type": "markdown",
      "metadata": {
        "id": "XlQAnJBbpigT"
      },
      "source": [
        "##### Type Conversion"
      ]
    },
    {
      "cell_type": "code",
      "execution_count": 26,
      "metadata": {
        "id": "LczVxyFmpigT"
      },
      "outputs": [
        {
          "name": "stdout",
          "output_type": "stream",
          "text": [
            "32\n",
            "32\n",
            "<class 'str'>\n"
          ]
        }
      ],
      "source": [
        "number = '32'\n",
        "change_type_num = int(number)\n",
        "print(number)\n",
        "print(change_type_num)\n",
        "\n",
        "print(type(number))"
      ]
    },
    {
      "cell_type": "code",
      "execution_count": 29,
      "metadata": {
        "id": "93t1CFRdpigT"
      },
      "outputs": [
        {
          "name": "stdout",
          "output_type": "stream",
          "text": [
            "Andrew\n",
            "<class 'int'>\n"
          ]
        }
      ],
      "source": [
        "# Input is a function. What this function is does is asks for input in the terminal\n",
        "name = input('What is your name?')\n",
        "print(name)\n",
        "\n",
        "# Important to note:\n",
        "# Input always output a string\n",
        "age = int(input('What is your age?'))\n",
        "print(type(age))"
      ]
    },
    {
      "attachments": {},
      "cell_type": "markdown",
      "metadata": {
        "id": "TkEhAU61pigT"
      },
      "source": [
        "##### format()"
      ]
    },
    {
      "cell_type": "code",
      "execution_count": 34,
      "metadata": {
        "id": "T656F6u4pigU"
      },
      "outputs": [
        {
          "name": "stdout",
          "output_type": "stream",
          "text": [
            "You are 40 Andrew and you are getting wiser!\n",
            "40 is a great time in life!\n"
          ]
        }
      ],
      "source": [
        "age = input(\"what is your age?\")\n",
        "result_str = \"You are {} {} and you are getting wiser!\".format(age, name)\n",
        "print(result_str)\n",
        "\n",
        "# The f-string\n",
        "result_again = f'{age} is a great time in life!'\n",
        "print(result_again)"
      ]
    },
    {
      "attachments": {},
      "cell_type": "markdown",
      "metadata": {
        "id": "7IOvBGXapigU"
      },
      "source": [
        "##### Old Way (python 2)"
      ]
    },
    {
      "cell_type": "code",
      "execution_count": 33,
      "metadata": {
        "id": "x1NsLPo6pigU"
      },
      "outputs": [
        {
          "data": {
            "text/plain": [
              "'You are 40 and you look great for your age'"
            ]
          },
          "execution_count": 33,
          "metadata": {},
          "output_type": "execute_result"
        }
      ],
      "source": [
        "result_str2 = 'You are %s and you look great for your age' %age\n",
        "result_str2"
      ]
    },
    {
      "attachments": {},
      "cell_type": "markdown",
      "metadata": {
        "id": "Jfh2Y6qwpigU"
      },
      "source": [
        "# In-Class Exercise 1 <br>\n",
        "<p>Create a format statement that asks for color, year, make, model and prints out the results</p>"
      ]
    },
    {
      "cell_type": "code",
      "execution_count": 11,
      "metadata": {
        "id": "XEkCn2tHpigU"
      },
      "outputs": [
        {
          "name": "stdout",
          "output_type": "stream",
          "text": [
            "My car color is Black. The year of my car is 2021. It is a Hyundai, Tuscon.\n"
          ]
        }
      ],
      "source": [
        "# Uses input function to ask for color, year, make, and model of vehicle.\n",
        "# Then, you will use a .format() or f-string to print those values back to your user.\n",
        "\n",
        "car_color = input(\"What is the color of your car?\")\"\n",
        "car_year = input(\"What is the year of your car?\")\n",
        "car_make = input(\"What is the make of your car?\")\n",
        "car_model = input(\"What is your car model?\")\n",
        "\n",
        "car_str = f\"My car color is {car_color}. The year of my car is {car_year}. It is a {car_make}, {car_model}.\"\n",
        "print(car_str)\n"
      ]
    },
    {
      "attachments": {},
      "cell_type": "markdown",
      "metadata": {
        "id": "7rBu-8S0pigU"
      },
      "source": [
        "### If Statements"
      ]
    },
    {
      "cell_type": "code",
      "execution_count": 18,
      "metadata": {
        "id": "mbHj2C8QpigV"
      },
      "outputs": [
        {
          "name": "stdout",
          "output_type": "stream",
          "text": [
            "Not equal\n",
            "Low number\n",
            "Low number with or statement\n"
          ]
        }
      ],
      "source": [
        "# Available opperands: <,>, ==, >=, <=\n",
        "\n",
        "# Truth Tree\n",
        "# T && F = F\n",
        "# T && T = T\n",
        "# T || F = T\n",
        "# F || T = T\n",
        "# F || F = F\n",
        "\n",
        "num_1 = 5\n",
        "num_2 = 10\n",
        "\n",
        "if num_2 == num_1:\n",
        "    print('Equal Values')\n",
        "else:\n",
        "    print('Not equal')\n",
        "\n",
        "if num_2 > num_1 & num_1 < 20:\n",
        "    print('Low number')\n",
        "\n",
        "if num_2 > num_1 | num_1 < 20:\n",
        "    print('Low number with or statement')"
      ]
    },
    {
      "attachments": {},
      "cell_type": "markdown",
      "metadata": {
        "id": "qkYer6qtpigV"
      },
      "source": [
        "##### 'is' keyword"
      ]
    },
    {
      "cell_type": "code",
      "execution_count": 24,
      "metadata": {
        "id": "FHbOkfRJpigV",
        "scrolled": true
      },
      "outputs": [
        {
          "name": "stdout",
          "output_type": "stream",
          "text": [
            "This is the exact number/object\n"
          ]
        }
      ],
      "source": [
        "# is keywork is used when we check is the same/similar to an object.\n",
        "num_3 = 55\n",
        "\n",
        "if num_3 == 55:\n",
        "    print(\"This is the exact number/object\")"
      ]
    },
    {
      "attachments": {},
      "cell_type": "markdown",
      "metadata": {
        "id": "GYrLnQv3pigW"
      },
      "source": [
        "##### 'in' keyword"
      ]
    },
    {
      "cell_type": "code",
      "execution_count": 20,
      "metadata": {
        "id": "0LglfRfDpigW"
      },
      "outputs": [
        {
          "name": "stdout",
          "output_type": "stream",
          "text": [
            "The character that lost everything\n"
          ]
        }
      ],
      "source": [
        "char_name = \"Max Payne\"\n",
        "\n",
        "if 'Max' in char_name:\n",
        "    print('The character that lost everything')"
      ]
    },
    {
      "attachments": {},
      "cell_type": "markdown",
      "metadata": {
        "id": "O3YwJKEgpigW"
      },
      "source": [
        "##### 'not in' keyword'"
      ]
    },
    {
      "cell_type": "code",
      "execution_count": 23,
      "metadata": {
        "id": "sgIzj-vopigW"
      },
      "outputs": [
        {
          "name": "stdout",
          "output_type": "stream",
          "text": [
            "The character named Tails is not present in this list\n"
          ]
        }
      ],
      "source": [
        "char_list = [char_name, 'Sonic', 'Tails', 'Knuckles']\n",
        "name = input('Chacter name:')\n",
        "if 'a' not in char_list:\n",
        "    print(f'The character named {name} is not present in this list')\n",
        "else:\n",
        "    print(f'Here is the chancter you asked for: {char_list}')"
      ]
    },
    {
      "attachments": {},
      "cell_type": "markdown",
      "metadata": {
        "id": "U064bQXGpigW"
      },
      "source": [
        "# In-Class Exercise 2 <br>\n",
        "<p>Ask a user for input, check to see if the letter 'p' is in the input</p>"
      ]
    },
    {
      "cell_type": "code",
      "execution_count": 32,
      "metadata": {
        "id": "IW9tVkRYpigW"
      },
      "outputs": [
        {
          "data": {
            "text/plain": [
              "True"
            ]
          },
          "execution_count": 32,
          "metadata": {},
          "output_type": "execute_result"
        }
      ],
      "source": [
        "# name = input(\"what is your name?\")\n",
        "# if 'p' in name:\n",
        "#     print(\"Your name has a p in it\")\n",
        "# else:\n",
        "#     print(\"Your name does not have a p in it\")\n",
        "\n",
        "#Function:\n",
        "def city_p(city):\n",
        "    return 'p' in city.lower()\n",
        "city_p('Provo')\n"
      ]
    },
    {
      "attachments": {},
      "cell_type": "markdown",
      "metadata": {
        "id": "5-UuzohapigW"
      },
      "source": [
        "## Using 'and'/'or' with If Statements"
      ]
    },
    {
      "cell_type": "code",
      "execution_count": null,
      "metadata": {
        "id": "LnxGb7aQpigW"
      },
      "outputs": [],
      "source": [
        "num_1 = 15\n",
        "num_2 = 3\n",
        "num_3 = 10\n",
        "num_4 = 4\n",
        "\n",
        "#if with \"and\" statement\n",
        "if num_1 / 5 == num_2 and num_3 -7 == num_4:\n",
        "    print(\"True and False\")\n",
        "\n",
        "    if num_1 / num_1"
      ]
    },
    {
      "attachments": {},
      "cell_type": "markdown",
      "metadata": {
        "id": "whxY1xwwpigX"
      },
      "source": [
        "### Elif Statements"
      ]
    },
    {
      "cell_type": "code",
      "execution_count": 36,
      "metadata": {
        "id": "Td62fi2FpigX"
      },
      "outputs": [
        {
          "name": "stdout",
          "output_type": "stream",
          "text": [
            "This is Alex\n"
          ]
        }
      ],
      "source": [
        "first_name = 'Andrew'\n",
        "\n",
        "if first_name == 'katie':\n",
        "    print(\"Your name is Katie\")\n",
        "elif first_name != 'Andrew':\n",
        "    print(\"Your name is NOT Andrew\")\n",
        "\n",
        "else:\n",
        "    print('This is Alex')"
      ]
    },
    {
      "attachments": {},
      "cell_type": "markdown",
      "metadata": {
        "id": "ASN3ooropigX"
      },
      "source": [
        "### Else Statements"
      ]
    },
    {
      "cell_type": "code",
      "execution_count": null,
      "metadata": {
        "id": "PFNuu-vupigX"
      },
      "outputs": [],
      "source": [
        "# See above"
      ]
    },
    {
      "attachments": {},
      "cell_type": "markdown",
      "metadata": {
        "id": "Ck0z9vNipigX"
      },
      "source": [
        "### For Loops"
      ]
    },
    {
      "cell_type": "code",
      "execution_count": 42,
      "metadata": {
        "id": "d39ZrrARpigX"
      },
      "outputs": [
        {
          "name": "stdout",
          "output_type": "stream",
          "text": [
            "Max Payne\n",
            "Sonic\n",
            "Tails\n",
            "Knuckles\n",
            "Max Payne\n",
            "Sonic\n",
            "Tails\n",
            "Knuckles\n"
          ]
        },
        {
          "ename": "IndexError",
          "evalue": "list index out of range",
          "output_type": "error",
          "traceback": [
            "\u001b[1;31m---------------------------------------------------------------------------\u001b[0m",
            "\u001b[1;31mIndexError\u001b[0m                                Traceback (most recent call last)",
            "\u001b[1;32mc:\\Users\\bioni\\OneDrive\\Documents\\GitHub\\Coding_Temple\\Week 2\\Class Notes\\Python I Day 1.ipynb Cell 56\u001b[0m line \u001b[0;36m1\n\u001b[0;32m     <a href='vscode-notebook-cell:/c%3A/Users/bioni/OneDrive/Documents/GitHub/Coding_Temple/Week%202/Class%20Notes/Python%20I%20Day%201.ipynb#Y110sZmlsZQ%3D%3D?line=9'>10</a>\u001b[0m \u001b[39m# Another method of a for loop looks over a RANGE of values, to acces index positions and gather back values that way:\u001b[39;00m\n\u001b[0;32m     <a href='vscode-notebook-cell:/c%3A/Users/bioni/OneDrive/Documents/GitHub/Coding_Temple/Week%202/Class%20Notes/Python%20I%20Day%201.ipynb#Y110sZmlsZQ%3D%3D?line=10'>11</a>\u001b[0m \u001b[39mfor\u001b[39;00m index_position \u001b[39min\u001b[39;00m \u001b[39mrange\u001b[39m(\u001b[39mlen\u001b[39m(name)):\n\u001b[1;32m---> <a href='vscode-notebook-cell:/c%3A/Users/bioni/OneDrive/Documents/GitHub/Coding_Temple/Week%202/Class%20Notes/Python%20I%20Day%201.ipynb#Y110sZmlsZQ%3D%3D?line=11'>12</a>\u001b[0m     \u001b[39mprint\u001b[39m(char_list[index_position])\n",
            "\u001b[1;31mIndexError\u001b[0m: list index out of range"
          ]
        }
      ],
      "source": [
        "#Iterables: An iterable is anything that can be parsed over in smaller chunks. \n",
        "#For Example, we can break a word down into individual letters.\n",
        "# We break a list of words down to each individual word\n",
        "\n",
        "name = 'Andrew Peterson'\n",
        "# One method of looping: This gives back the values associated with the object you are iterating through\n",
        "for letter in char_list:\n",
        "    print(letter)\n",
        "\n",
        "# Another method of a for loop looks over a RANGE of values, to acces index positions and gather back values that way:\n",
        "for index_position in range(len(name)):\n",
        "    print(char_list[index_position])"
      ]
    },
    {
      "attachments": {},
      "cell_type": "markdown",
      "metadata": {
        "id": "5S0I8aINpigY"
      },
      "source": [
        "##### Continue Statement"
      ]
    },
    {
      "cell_type": "code",
      "execution_count": 45,
      "metadata": {
        "id": "J_kRqgj5pigY"
      },
      "outputs": [
        {
          "name": "stdout",
          "output_type": "stream",
          "text": [
            "0\n",
            "1\n",
            "2\n",
            "3\n",
            "4\n",
            "6\n",
            "7\n",
            "8\n",
            "9\n",
            "10\n",
            "11\n",
            "12\n",
            "13\n",
            "14\n",
            "15\n",
            "16\n",
            "17\n",
            "18\n",
            "19\n"
          ]
        }
      ],
      "source": [
        "# Continues to the next iteration, bypassing any other values or action in which you would want to take:\n",
        "for i in range(20):\n",
        "    if i == 5:\n",
        "        continue\n",
        "    print(i)"
      ]
    },
    {
      "attachments": {},
      "cell_type": "markdown",
      "metadata": {
        "id": "ayhahusHpigY"
      },
      "source": [
        "##### Break Statement"
      ]
    },
    {
      "cell_type": "code",
      "execution_count": 46,
      "metadata": {
        "id": "rVZD2dL1pigY"
      },
      "outputs": [
        {
          "name": "stdout",
          "output_type": "stream",
          "text": [
            "0\n",
            "1\n",
            "2\n",
            "3\n",
            "4\n"
          ]
        }
      ],
      "source": [
        "# will break out of current loop it is present in:\n",
        "for i in range(20):\n",
        "    if i == 5:\n",
        "        break\n",
        "    print(i)\n"
      ]
    },
    {
      "attachments": {},
      "cell_type": "markdown",
      "metadata": {
        "id": "TNq5R0MJpigY"
      },
      "source": [
        "##### Pass Statement"
      ]
    },
    {
      "cell_type": "code",
      "execution_count": null,
      "metadata": {
        "id": "Z8IVvwtdpigY"
      },
      "outputs": [],
      "source": [
        "# Mostly used as a placeholder and will continue onoto the same iteration:\n",
        "for i in name:\n",
        "    pass # TODO: Come back and finish implementation\n",
        "\n",
        "def replace_rows_in_database(info):\n",
        "    # TODO: Write out a functions that can replace rows in DV\n",
        "\n",
        "    pass"
      ]
    },
    {
      "attachments": {},
      "cell_type": "markdown",
      "metadata": {
        "id": "aiccDYGIpigZ"
      },
      "source": [
        "##### Double For Loops"
      ]
    },
    {
      "cell_type": "code",
      "execution_count": 47,
      "metadata": {
        "id": "AfOZQ6CPpigZ"
      },
      "outputs": [
        {
          "name": "stdout",
          "output_type": "stream",
          "text": [
            "i =  j =  0\n",
            "i =  j =  1\n",
            "i =  j =  2\n",
            "i =  j =  3\n",
            "i =  j =  4\n",
            "i =  j =  0\n",
            "i =  j =  1\n",
            "i =  j =  2\n",
            "i =  j =  3\n",
            "i =  j =  4\n",
            "i =  j =  0\n",
            "i =  j =  1\n",
            "i =  j =  2\n",
            "i =  j =  3\n",
            "i =  j =  4\n",
            "i =  j =  0\n",
            "i =  j =  1\n",
            "i =  j =  2\n",
            "i =  j =  3\n",
            "i =  j =  4\n",
            "i =  j =  0\n",
            "i =  j =  1\n",
            "i =  j =  2\n",
            "i =  j =  3\n",
            "i =  j =  4\n"
          ]
        }
      ],
      "source": [
        "# USE THIS FOR PRIME NUMBERS ASSIGNMENT\n",
        "\n",
        "for i in range(5):\n",
        "    for j in range(5):\n",
        "        print('i = ', 'j = ', j)"
      ]
    },
    {
      "attachments": {},
      "cell_type": "markdown",
      "metadata": {
        "id": "YSJaEYX8pigZ"
      },
      "source": [
        "### While Loops"
      ]
    },
    {
      "cell_type": "code",
      "execution_count": 48,
      "metadata": {
        "id": "AanJpMEOpigZ"
      },
      "outputs": [
        {
          "name": "stdout",
          "output_type": "stream",
          "text": [
            "0\n",
            "1\n",
            "2\n",
            "3\n",
            "4\n",
            "5\n",
            "6\n",
            "7\n",
            "8\n",
            "9\n"
          ]
        }
      ],
      "source": [
        "# Ensure you add a conditional statement to BREAK\n",
        "# While keyword, conditional statement\n",
        "# Based on that cond statement, the loop will either continue or stop\n",
        "\n",
        "num = 0\n",
        "while num <10:\n",
        "    print(num)\n",
        "    num+=1"
      ]
    },
    {
      "attachments": {},
      "cell_type": "markdown",
      "metadata": {
        "id": "lKGkgn6npigZ"
      },
      "source": [
        "##### Looping 'While True'"
      ]
    },
    {
      "cell_type": "code",
      "execution_count": 49,
      "metadata": {
        "id": "q_7GHK21pigZ"
      },
      "outputs": [
        {
          "name": "stdout",
          "output_type": "stream",
          "text": [
            "Infinite Loop\n"
          ]
        }
      ],
      "source": [
        "# Infinite Loop\n",
        "game_over = False\n",
        "while True:\n",
        "    print(\"Infinite Loop\")\n",
        "\n",
        "    if game_over == False:\n",
        "        break"
      ]
    },
    {
      "attachments": {},
      "cell_type": "markdown",
      "metadata": {
        "id": "mIR2glbrpigZ"
      },
      "source": [
        "##### While & For Loops Used Together"
      ]
    },
    {
      "cell_type": "code",
      "execution_count": 50,
      "metadata": {
        "id": "xVRDp4cspigZ"
      },
      "outputs": [
        {
          "name": "stdout",
          "output_type": "stream",
          "text": [
            "\n",
            " while loop itereation #: 0\n",
            "For loop iteration # 0\n",
            "For loop iteration # 1\n",
            "\n",
            " while loop itereation #: 1\n",
            "For loop iteration # 0\n",
            "For loop iteration # 1\n",
            "\n",
            " while loop itereation #: 2\n",
            "For loop iteration # 0\n",
            "For loop iteration # 1\n",
            "\n",
            " while loop itereation #: 3\n",
            "For loop iteration # 0\n",
            "For loop iteration # 1\n",
            "\n",
            " while loop itereation #: 4\n",
            "For loop iteration # 0\n",
            "For loop iteration # 1\n"
          ]
        }
      ],
      "source": [
        "num = 0\n",
        "while num < 5:\n",
        "    print(\"\\n while loop itereation #:\", num)\n",
        "\n",
        "    for i in range(2):\n",
        "        print('For loop iteration #', i)\n",
        "\n",
        "    num += 1"
      ]
    },
    {
      "attachments": {},
      "cell_type": "markdown",
      "metadata": {
        "id": "mdZEfa2ppiga"
      },
      "source": [
        "### Built-In Functions"
      ]
    },
    {
      "attachments": {},
      "cell_type": "markdown",
      "metadata": {
        "id": "TePeW8K4piga"
      },
      "source": [
        "##### range()"
      ]
    },
    {
      "cell_type": "code",
      "execution_count": 52,
      "metadata": {
        "id": "ic7Mz-e1piga"
      },
      "outputs": [
        {
          "name": "stdout",
          "output_type": "stream",
          "text": [
            "2\n",
            "4\n",
            "6\n",
            "8\n",
            "10\n",
            "12\n",
            "14\n",
            "16\n",
            "18\n"
          ]
        }
      ],
      "source": [
        "# Takes in a Start, Stop, Step\n",
        "# Start is infered as the value of 0, the step is infered as the value of 1\n",
        "# So, from 0 to your defined stopping point(non-inclusive), at a step size, or increase of 1 value per iteration:\n",
        "\n",
        "for i in range(2,20,2):\n",
        "    print(i)"
      ]
    },
    {
      "attachments": {},
      "cell_type": "markdown",
      "metadata": {
        "id": "A_grIbGIpiga"
      },
      "source": [
        "##### len()"
      ]
    },
    {
      "cell_type": "code",
      "execution_count": 56,
      "metadata": {
        "id": "s2CBPduMpiga"
      },
      "outputs": [
        {
          "name": "stdout",
          "output_type": "stream",
          "text": [
            "4\n"
          ]
        }
      ],
      "source": [
        "name_length = len(name)\n",
        "\n",
        "char_list_len = len(char_list)\n",
        "print(char_list_len)"
      ]
    },
    {
      "attachments": {},
      "cell_type": "markdown",
      "metadata": {
        "id": "dFyB7vgSpiga"
      },
      "source": [
        "##### help()"
      ]
    },
    {
      "cell_type": "code",
      "execution_count": 57,
      "metadata": {
        "id": "AEMbQIlCpiga"
      },
      "outputs": [
        {
          "name": "stdout",
          "output_type": "stream",
          "text": [
            "Help on class range in module builtins:\n",
            "\n",
            "class range(object)\n",
            " |  range(stop) -> range object\n",
            " |  range(start, stop[, step]) -> range object\n",
            " |  \n",
            " |  Return an object that produces a sequence of integers from start (inclusive)\n",
            " |  to stop (exclusive) by step.  range(i, j) produces i, i+1, i+2, ..., j-1.\n",
            " |  start defaults to 0, and stop is omitted!  range(4) produces 0, 1, 2, 3.\n",
            " |  These are exactly the valid indices for a list of 4 elements.\n",
            " |  When step is given, it specifies the increment (or decrement).\n",
            " |  \n",
            " |  Methods defined here:\n",
            " |  \n",
            " |  __bool__(self, /)\n",
            " |      True if self else False\n",
            " |  \n",
            " |  __contains__(self, key, /)\n",
            " |      Return key in self.\n",
            " |  \n",
            " |  __eq__(self, value, /)\n",
            " |      Return self==value.\n",
            " |  \n",
            " |  __ge__(self, value, /)\n",
            " |      Return self>=value.\n",
            " |  \n",
            " |  __getattribute__(self, name, /)\n",
            " |      Return getattr(self, name).\n",
            " |  \n",
            " |  __getitem__(self, key, /)\n",
            " |      Return self[key].\n",
            " |  \n",
            " |  __gt__(self, value, /)\n",
            " |      Return self>value.\n",
            " |  \n",
            " |  __hash__(self, /)\n",
            " |      Return hash(self).\n",
            " |  \n",
            " |  __iter__(self, /)\n",
            " |      Implement iter(self).\n",
            " |  \n",
            " |  __le__(self, value, /)\n",
            " |      Return self<=value.\n",
            " |  \n",
            " |  __len__(self, /)\n",
            " |      Return len(self).\n",
            " |  \n",
            " |  __lt__(self, value, /)\n",
            " |      Return self<value.\n",
            " |  \n",
            " |  __ne__(self, value, /)\n",
            " |      Return self!=value.\n",
            " |  \n",
            " |  __reduce__(...)\n",
            " |      Helper for pickle.\n",
            " |  \n",
            " |  __repr__(self, /)\n",
            " |      Return repr(self).\n",
            " |  \n",
            " |  __reversed__(...)\n",
            " |      Return a reverse iterator.\n",
            " |  \n",
            " |  count(...)\n",
            " |      rangeobject.count(value) -> integer -- return number of occurrences of value\n",
            " |  \n",
            " |  index(...)\n",
            " |      rangeobject.index(value) -> integer -- return index of value.\n",
            " |      Raise ValueError if the value is not present.\n",
            " |  \n",
            " |  ----------------------------------------------------------------------\n",
            " |  Static methods defined here:\n",
            " |  \n",
            " |  __new__(*args, **kwargs) from builtins.type\n",
            " |      Create and return a new object.  See help(type) for accurate signature.\n",
            " |  \n",
            " |  ----------------------------------------------------------------------\n",
            " |  Data descriptors defined here:\n",
            " |  \n",
            " |  start\n",
            " |  \n",
            " |  step\n",
            " |  \n",
            " |  stop\n",
            "\n"
          ]
        }
      ],
      "source": [
        "help(range)"
      ]
    },
    {
      "attachments": {},
      "cell_type": "markdown",
      "metadata": {
        "id": "9OWMPi2cpiga"
      },
      "source": [
        "##### isinstance()"
      ]
    },
    {
      "cell_type": "code",
      "execution_count": 60,
      "metadata": {
        "id": "hdt_QRVlpigb"
      },
      "outputs": [
        {
          "name": "stdout",
          "output_type": "stream",
          "text": [
            "This number is definitely a floating value point value\n"
          ]
        }
      ],
      "source": [
        "# This isinstance(var, type)\n",
        "\n",
        "isinstance(4.5, int)    \n",
        "\n",
        "if isinstance(4.5, float):\n",
        "    print(\"This number is definitely a floating value point value\")"
      ]
    },
    {
      "attachments": {},
      "cell_type": "markdown",
      "metadata": {
        "id": "pFWkGjappigb"
      },
      "source": [
        "##### abs()"
      ]
    },
    {
      "cell_type": "code",
      "execution_count": 61,
      "metadata": {
        "id": "_--tP9mppigb"
      },
      "outputs": [
        {
          "data": {
            "text/plain": [
              "5"
            ]
          },
          "execution_count": 61,
          "metadata": {},
          "output_type": "execute_result"
        }
      ],
      "source": [
        "# | 5 | ->5\n",
        "\n",
        "abs(-5)"
      ]
    },
    {
      "attachments": {},
      "cell_type": "markdown",
      "metadata": {
        "id": "BBW-bZlMpigb"
      },
      "source": [
        "### Try and Except"
      ]
    },
    {
      "cell_type": "code",
      "execution_count": 62,
      "metadata": {
        "id": "1D69EKPDpigb"
      },
      "outputs": [
        {
          "ename": "SyntaxError",
          "evalue": "invalid syntax (211832415.py, line 6)",
          "output_type": "error",
          "traceback": [
            "\u001b[1;36m  Cell \u001b[1;32mIn[62], line 6\u001b[1;36m\u001b[0m\n\u001b[1;33m    except:\u001b[0m\n\u001b[1;37m    ^\u001b[0m\n\u001b[1;31mSyntaxError\u001b[0m\u001b[1;31m:\u001b[0m invalid syntax\n"
          ]
        }
      ],
      "source": [
        "number_test = 0\n",
        "input_num = int(input('Guess a number!'))\n",
        "if input_num != number_test:\n",
        "    input_num = input_num +number_test\n",
        "    print('Your number is :' +str(input_num))\n",
        "except:\n",
        "    print(\"Oh man! That did not work ... Error check your number\")"
      ]
    },
    {
      "attachments": {},
      "cell_type": "markdown",
      "metadata": {
        "id": "KfNu45y9pigb"
      },
      "source": [
        "### Lists"
      ]
    },
    {
      "attachments": {},
      "cell_type": "markdown",
      "metadata": {
        "id": "_pQYGjf-pigb"
      },
      "source": [
        "##### Declaring Lists"
      ]
    },
    {
      "cell_type": "code",
      "execution_count": 64,
      "metadata": {
        "id": "DfaAbDkupigb"
      },
      "outputs": [
        {
          "name": "stdout",
          "output_type": "stream",
          "text": [
            "['Alex', 'Andy', 'Randall', 'Katie', 'Kali']\n"
          ]
        }
      ],
      "source": [
        "l_1 = []\n",
        "\n",
        "l_2 = list()\n",
        "\n",
        "names = ['Alex', 'Andy', 'Randall', 'Katie', 'Kali']\n",
        "print(names)"
      ]
    },
    {
      "attachments": {},
      "cell_type": "markdown",
      "metadata": {
        "id": "FRrW8cwkpigb"
      },
      "source": [
        "##### Indexing a List"
      ]
    },
    {
      "cell_type": "code",
      "execution_count": 66,
      "metadata": {
        "id": "G7dNYCC7pigc"
      },
      "outputs": [
        {
          "name": "stdout",
          "output_type": "stream",
          "text": [
            "Alex\n",
            "['Andy', 'Randall', 'Katie', 'Kali']\n"
          ]
        }
      ],
      "source": [
        "# [start:stop:step]\n",
        "\n",
        "# Single Index -- very first value\n",
        "print(names[0])\n",
        "\n",
        "# Print all the names in list starting with the second naem and all the way to the end of the list:\n",
        "print(names[1:])\n",
        "\n",
        "# Print all the names start"
      ]
    },
    {
      "attachments": {},
      "cell_type": "markdown",
      "metadata": {
        "id": "t__TV9J3pigc"
      },
      "source": [
        "##### .append()"
      ]
    },
    {
      "cell_type": "code",
      "execution_count": 67,
      "metadata": {
        "id": "WYNIdv2ppigc"
      },
      "outputs": [
        {
          "name": "stdout",
          "output_type": "stream",
          "text": [
            "['Alex', 'Andy', 'Randall', 'Katie', 'Kali', 'Lee']\n"
          ]
        }
      ],
      "source": [
        "names.append('Lee')\n",
        "print(names)"
      ]
    },
    {
      "attachments": {},
      "cell_type": "markdown",
      "metadata": {
        "id": "JqK9rNXipigc"
      },
      "source": [
        "##### .insert()"
      ]
    },
    {
      "cell_type": "code",
      "execution_count": 69,
      "metadata": {
        "id": "CUBDbaxHpigc"
      },
      "outputs": [
        {
          "data": {
            "text/plain": [
              "['Alex', 'Andy', 'James', 'Kali', 'Katie', 'Lee', 'Randall']"
            ]
          },
          "execution_count": 69,
          "metadata": {},
          "output_type": "execute_result"
        }
      ],
      "source": [
        "names.sort()\n",
        "names.insert(2, 'James')\n",
        "names"
      ]
    },
    {
      "attachments": {},
      "cell_type": "markdown",
      "metadata": {
        "id": "wrykYThKpigc"
      },
      "source": [
        "##### .pop()"
      ]
    },
    {
      "cell_type": "code",
      "execution_count": 70,
      "metadata": {
        "id": "M2vsYThtpigc"
      },
      "outputs": [
        {
          "name": "stdout",
          "output_type": "stream",
          "text": [
            "Katie\n",
            "['Alex', 'Andy', 'James', 'Kali', 'Lee', 'Randall']\n"
          ]
        }
      ],
      "source": [
        "# Default to removing the last value  if the parenthesis are left empty\n",
        "\n",
        "# Pop also returns the remaining value. So you can save it to a variabel if you wanted:\n",
        "\n",
        "removed_name = names.pop(4)\n",
        "print(removed_name)\n",
        "print(names)\n"
      ]
    },
    {
      "attachments": {},
      "cell_type": "markdown",
      "metadata": {
        "id": "f7HSgrpBpigc"
      },
      "source": [
        "\n",
        "##### .remove()"
      ]
    },
    {
      "cell_type": "code",
      "execution_count": null,
      "metadata": {
        "id": "Yy1Fntqfpigc"
      },
      "outputs": [],
      "source": []
    },
    {
      "attachments": {},
      "cell_type": "markdown",
      "metadata": {
        "id": "lQmj8afmpigc"
      },
      "source": [
        "##### del()"
      ]
    },
    {
      "cell_type": "code",
      "execution_count": null,
      "metadata": {
        "id": "bNzO04zgpigd"
      },
      "outputs": [],
      "source": []
    },
    {
      "attachments": {},
      "cell_type": "markdown",
      "metadata": {
        "id": "gBmrIDmEpigd"
      },
      "source": [
        "##### Concatenating Two Lists"
      ]
    },
    {
      "cell_type": "code",
      "execution_count": 71,
      "metadata": {
        "id": "EhY6ViTgpigd"
      },
      "outputs": [
        {
          "data": {
            "text/plain": [
              "[0, 1, 2, 3, 4, 5]"
            ]
          },
          "execution_count": 71,
          "metadata": {},
          "output_type": "execute_result"
        }
      ],
      "source": [
        "l_2 = [0,1,2]\n",
        "l_3 = [3,4,5]\n",
        "\n",
        "l_2 + l_3\n"
      ]
    },
    {
      "attachments": {},
      "cell_type": "markdown",
      "metadata": {
        "id": "qFFI7yWvpigd"
      },
      "source": [
        "##### Lists Within Lists"
      ]
    },
    {
      "cell_type": "code",
      "execution_count": 74,
      "metadata": {
        "id": "kEdQnK2dpigd"
      },
      "outputs": [
        {
          "name": "stdout",
          "output_type": "stream",
          "text": [
            "['Max', 23, 3.14, ['Sally', 2.222, ['Rakamodod']]]\n"
          ]
        }
      ],
      "source": [
        "# Lists are able to house any and all data types at one time. This includes other data source. Other lists, other dictionaries, sets, ect..\n",
        "# These can nest as deep as you want.\n",
        "\n",
        "names = ['Max', 23, 3.14, ['Sally', 2.222, ['Rakamodod']]]\n",
        "print(names)"
      ]
    },
    {
      "attachments": {},
      "cell_type": "markdown",
      "metadata": {
        "id": "WtbhHB8Dpigd"
      },
      "source": [
        "##### Looping Through Lists"
      ]
    },
    {
      "cell_type": "code",
      "execution_count": 75,
      "metadata": {
        "id": "l-8Lv_6ipigd"
      },
      "outputs": [
        {
          "name": "stdout",
          "output_type": "stream",
          "text": [
            "Max\n",
            "23\n",
            "3.14\n",
            "['Sally', 2.222, ['Rakamodod']]\n",
            "Max\n",
            "23\n",
            "3.14\n",
            "['Sally', 2.222, ['Rakamodod']]\n"
          ]
        }
      ],
      "source": [
        "# WE can loop through using two methods we learned earlier: Index positio, the values\n",
        "\n",
        "for index in range(len(names)):\n",
        "    print(names[index])\n",
        "\n",
        "for value in names:\n",
        "    print(value)"
      ]
    },
    {
      "cell_type": "markdown",
      "metadata": {},
      "source": []
    },
    {
      "cell_type": "markdown",
      "metadata": {},
      "source": [
        "Suppose you are processing the results of a health test. The test is scored from 0 to 100, where 100 is perfect health.\n",
        "\n",
        "If the person's health is above 70, print something encouraging. Otherwise, print \"Go to the doctor, now!\""
      ]
    },
    {
      "cell_type": "code",
      "execution_count": 78,
      "metadata": {},
      "outputs": [
        {
          "name": "stdout",
          "output_type": "stream",
          "text": [
            "You rock and are healthy!\n"
          ]
        }
      ],
      "source": [
        "\n",
        "health = 75\n",
        "\n",
        "if health > 70:\n",
        "    print(\"You rock and are healthy!\")\n",
        "else:\n",
        "    print(\"Go to the doctor, NOW!\")"
      ]
    },
    {
      "cell_type": "markdown",
      "metadata": {},
      "source": [
        "Say hello to each name in the list!\n"
      ]
    },
    {
      "cell_type": "code",
      "execution_count": 81,
      "metadata": {},
      "outputs": [],
      "source": [
        "names = ['Heather', 'Denise', 'Jenny', 'Lisa', 'Kristie']"
      ]
    },
    {
      "cell_type": "code",
      "execution_count": 83,
      "metadata": {},
      "outputs": [
        {
          "name": "stdout",
          "output_type": "stream",
          "text": [
            "Hello, Heather\n",
            "Hello, Denise\n",
            "Hello, Jenny\n",
            "Hello, Lisa\n",
            "Hello, Kristie\n"
          ]
        }
      ],
      "source": [
        "for name in names:\n",
        "    print(f\"Hello, {name}\")"
      ]
    },
    {
      "cell_type": "markdown",
      "metadata": {},
      "source": [
        "Only say hello to the names that start with K"
      ]
    },
    {
      "cell_type": "code",
      "execution_count": 85,
      "metadata": {},
      "outputs": [
        {
          "data": {
            "text/plain": [
              "'A'"
            ]
          },
          "execution_count": 85,
          "metadata": {},
          "output_type": "execute_result"
        }
      ],
      "source": [
        "# SCrap work\n",
        "my_name = \"Andrew\"\n",
        "my_name[0]\n"
      ]
    },
    {
      "cell_type": "code",
      "execution_count": 89,
      "metadata": {},
      "outputs": [
        {
          "name": "stdout",
          "output_type": "stream",
          "text": [
            " Hello, Kristie!\n"
          ]
        }
      ],
      "source": [
        "for name in names:\n",
        "    if name[0] == 'K':\n",
        "        print(f\" Hello, {name}!\")"
      ]
    },
    {
      "cell_type": "markdown",
      "metadata": {},
      "source": [
        "Write a loop that prints all of the numbers between 10 and 20 (inclusive)"
      ]
    },
    {
      "cell_type": "code",
      "execution_count": 90,
      "metadata": {},
      "outputs": [
        {
          "name": "stdout",
          "output_type": "stream",
          "text": [
            "10\n",
            "11\n",
            "12\n",
            "13\n",
            "14\n",
            "15\n",
            "16\n",
            "17\n",
            "18\n",
            "19\n",
            "20\n"
          ]
        }
      ],
      "source": [
        "for i in range(10,21):\n",
        "    print(i)"
      ]
    },
    {
      "cell_type": "markdown",
      "metadata": {},
      "source": [
        "Write a loop that prints all of the even numbers between 10 and 20 (inclusive)"
      ]
    },
    {
      "cell_type": "code",
      "execution_count": 91,
      "metadata": {},
      "outputs": [
        {
          "name": "stdout",
          "output_type": "stream",
          "text": [
            "10\n",
            "12\n",
            "14\n",
            "16\n",
            "18\n",
            "20\n"
          ]
        }
      ],
      "source": [
        "#method 1\n",
        "for i in range(10,21,2):\n",
        "    print(i)"
      ]
    },
    {
      "cell_type": "code",
      "execution_count": 93,
      "metadata": {},
      "outputs": [
        {
          "name": "stdout",
          "output_type": "stream",
          "text": [
            "10\n",
            "12\n",
            "14\n",
            "16\n",
            "18\n",
            "20\n"
          ]
        }
      ],
      "source": [
        "#method 2\n",
        "for i in range(10,21):\n",
        "    if i % 2 == 0:\n",
        "        print(i)"
      ]
    }
  ],
  "metadata": {
    "colab": {
      "provenance": []
    },
    "kernelspec": {
      "display_name": "Python 3",
      "language": "python",
      "name": "python3"
    },
    "language_info": {
      "codemirror_mode": {
        "name": "ipython",
        "version": 3
      },
      "file_extension": ".py",
      "mimetype": "text/x-python",
      "name": "python",
      "nbconvert_exporter": "python",
      "pygments_lexer": "ipython3",
      "version": "3.11.5"
    },
    "vscode": {
      "interpreter": {
        "hash": "26de051ba29f2982a8de78e945f0abaf191376122a1563185a90213a26c5da77"
      }
    }
  },
  "nbformat": 4,
  "nbformat_minor": 0
}
