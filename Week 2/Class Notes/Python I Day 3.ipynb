{
  "cells": [
    {
      "attachments": {},
      "cell_type": "markdown",
      "metadata": {
        "id": "5KFNmEo6vVr7"
      },
      "source": [
        "# Coding Temple's Data Analytics Course\n",
        "---\n",
        "## Python I: Data Collections 2 (Dictionaries, Sets) and Importing Modules\n",
        "---"
      ]
    },
    {
      "attachments": {},
      "cell_type": "markdown",
      "metadata": {
        "id": "j9K-45kEvVr-"
      },
      "source": [
        "### Tasks Today:\n",
        "\n",
        "1) Dictionary <br>\n",
        " &nbsp;&nbsp;&nbsp;&nbsp; a) Declaring (key, value) <br>\n",
        " &nbsp;&nbsp;&nbsp;&nbsp; b) Accessing Values <br>\n",
        " &nbsp;&nbsp;&nbsp;&nbsp; ------ Exercise #1 - Print the eye color of each person in a double nested dict <br>\n",
        " &nbsp;&nbsp;&nbsp;&nbsp; c) Adding New Pairs <br>\n",
        " &nbsp;&nbsp;&nbsp;&nbsp; d) Modifying Values <br>\n",
        " &nbsp;&nbsp;&nbsp;&nbsp; e) Removing Key, Value Pairs <br>\n",
        " &nbsp;&nbsp;&nbsp;&nbsp; f) Looping a Dictionary <br>\n",
        " &nbsp;&nbsp;&nbsp;&nbsp; g) Looping Only Keys <br>\n",
        " &nbsp;&nbsp;&nbsp;&nbsp; h) Looping Only Values <br>\n",
        " &nbsp;&nbsp;&nbsp;&nbsp; ------ Exercise #2 - Create a Function that Prints All Key Value Pairs within a print .format()  <br>\n",
        " &nbsp;&nbsp;&nbsp;&nbsp; i) sorted() <br>\n",
        " &nbsp;&nbsp;&nbsp;&nbsp; j) Lists with Dictionaries <br>\n",
        " &nbsp;&nbsp;&nbsp;&nbsp; k) Dictionaries with Lists <br>\n",
        " &nbsp;&nbsp;&nbsp;&nbsp; l) Dictionaries with Dictionaries <br>\n",
        " &nbsp;&nbsp;&nbsp;&nbsp; ------ Exercise #3 - Write a Function that asks someone's name and address, and then stores that into a dictionary, which prints all names and addresses after they're done putting information in...  <br>\n",
        "2) Dictionaries vs. Lists (over time)<br>\n",
        "3) Set <br>\n",
        " &nbsp;&nbsp;&nbsp;&nbsp; a) Declaring <br>\n",
        " &nbsp;&nbsp;&nbsp;&nbsp; b) .add() <br>\n",
        " &nbsp;&nbsp;&nbsp;&nbsp; c) .remove() <br>\n",
        " &nbsp;&nbsp;&nbsp;&nbsp; d) .union() <br>\n",
        " &nbsp;&nbsp;&nbsp;&nbsp; e) .intersection() <br>\n",
        " &nbsp;&nbsp;&nbsp;&nbsp; f) .difference() <br>\n",
        " &nbsp;&nbsp;&nbsp;&nbsp; g) Frozen Set <br>\n",
        "4) Modules <br>\n",
        " &nbsp;&nbsp;&nbsp;&nbsp; a) Importing Entire Modules <br>\n",
        " &nbsp;&nbsp;&nbsp;&nbsp; b) Importing Methods Only <br>\n",
        " &nbsp;&nbsp;&nbsp;&nbsp; c) Using the 'as' Keyword <br>\n",
        " &nbsp;&nbsp;&nbsp;&nbsp; d) Creating a Module <br>\n",
        "5) Exercises <br>\n",
        " &nbsp;&nbsp;&nbsp;&nbsp; a) Build a Shopping Cart <br>\n",
        " &nbsp;&nbsp;&nbsp;&nbsp; b) Create Your Own Module <br>"
      ]
    },
    {
      "attachments": {},
      "cell_type": "markdown",
      "metadata": {
        "id": "tG2CnNg5vVr_"
      },
      "source": [
        "## Dictionary <br>\n",
        "<p>A collection of data with 'key:value' pairs. Dictionaries are ordered as of Python 3.6</p>"
      ]
    },
    {
      "attachments": {},
      "cell_type": "markdown",
      "metadata": {
        "id": "_ovzJpJ2vVr_"
      },
      "source": [
        "##### Declaring (key, value)"
      ]
    },
    {
      "cell_type": "code",
      "execution_count": 1,
      "metadata": {
        "id": "NmLqPHwvvVsA"
      },
      "outputs": [
        {
          "name": "stdout",
          "output_type": "stream",
          "text": [
            "{'Dave': '255 Main Street', 'Sean': '522 1st Street', 0: ' This is a value of key 0'}\n"
          ]
        }
      ],
      "source": [
        "# Declaring an empty disctionary\n",
        "d_1 = {}\n",
        "\n",
        "# we can use:\n",
        "d_2 = dict()\n",
        "\n",
        "# Keys should tend to be unique!\n",
        "# Can use most values as keys, but be careful when using int values!\n",
        "\n",
        "# Create our first dictionary!\n",
        "# K:V, more...  Key colon Value comma More stuff\n",
        "d_3 = {\n",
        "    'Dave' : '255 Main Street', \n",
        "    'Sean' : '522 1st Street',\n",
        "    0: \" This is a value of key 0\"\n",
        "\n",
        "}\n",
        "print(d_3)"
      ]
    },
    {
      "attachments": {},
      "cell_type": "markdown",
      "metadata": {
        "id": "PmFu1v4CvVsA"
      },
      "source": [
        "##### Accessing Values"
      ]
    },
    {
      "cell_type": "code",
      "execution_count": 2,
      "metadata": {
        "id": "t1apypi_vVsB"
      },
      "outputs": [
        {
          "data": {
            "text/plain": [
              "'522 1st Street'"
            ]
          },
          "execution_count": 2,
          "metadata": {},
          "output_type": "execute_result"
        }
      ],
      "source": [
        "#dict[value]\n",
        "d_3['Sean']"
      ]
    },
    {
      "attachments": {},
      "cell_type": "markdown",
      "metadata": {
        "id": "CfVTqCdLvVsB"
      },
      "source": [
        "## In-Class Exercise #1 - Print a formatted statement from the dictionary below <br>\n",
        "<p>The output should be '2018 Chevrolet Silverado'</p>"
      ]
    },
    {
      "cell_type": "code",
      "execution_count": 6,
      "metadata": {
        "id": "purCoPGOvVsB"
      },
      "outputs": [
        {
          "name": "stdout",
          "output_type": "stream",
          "text": [
            "2018 Chevrolet Silverado\n"
          ]
        }
      ],
      "source": [
        "# use the dict below\n",
        "truck = {\n",
        "    'year': 2018,\n",
        "    'make': 'Chevrolet',\n",
        "    'model': 'Silverado'\n",
        "}\n",
        "#dynamic programming\n",
        "print(f\"{truck['year']} {truck['make']} {truck['model']}\")"
      ]
    },
    {
      "attachments": {},
      "cell_type": "markdown",
      "metadata": {
        "id": "duMuMkiHvVsC"
      },
      "source": [
        "##### Adding New Pairs"
      ]
    },
    {
      "cell_type": "code",
      "execution_count": 7,
      "metadata": {
        "id": "jviBrpR9vVsD"
      },
      "outputs": [
        {
          "data": {
            "text/plain": [
              "{'Dave': '255 Main Street',\n",
              " 'Sean': '522 1st Street',\n",
              " 0: ' This is a value of key 0',\n",
              " 'Bob': '151 Main Street'}"
            ]
          },
          "execution_count": 7,
          "metadata": {},
          "output_type": "execute_result"
        }
      ],
      "source": [
        "# dict[new_key] = new_value\n",
        "d_3['Bob'] = '151 Main Street'\n",
        "d_3"
      ]
    },
    {
      "attachments": {},
      "cell_type": "markdown",
      "metadata": {
        "id": "_Bbc0fFEvVsD"
      },
      "source": [
        "##### Modifying Values"
      ]
    },
    {
      "cell_type": "code",
      "execution_count": 9,
      "metadata": {
        "id": "b1Z6VnhMvVsE"
      },
      "outputs": [
        {
          "data": {
            "text/plain": [
              "{'Dave': '255 Main Street',\n",
              " 'Sean': '522 1st Street',\n",
              " 0: ' This is a value of key 0',\n",
              " 'Bob': '151 Main StreetChicago, IL Chicago, IL'}"
            ]
          },
          "execution_count": 9,
          "metadata": {},
          "output_type": "execute_result"
        }
      ],
      "source": [
        "# dict[exist_key] = new_value\n",
        "\n",
        "placeholder = d_3['Bob']\n",
        "d_3['Bob'] = placeholder + \" Chicago, IL\"\n",
        "\n",
        "d_3\n"
      ]
    },
    {
      "attachments": {},
      "cell_type": "markdown",
      "metadata": {
        "id": "Wrbr3-yRvVsE"
      },
      "source": [
        "##### Removing Key, Value Pairs"
      ]
    },
    {
      "cell_type": "code",
      "execution_count": 10,
      "metadata": {
        "id": "dxzQ0qKLvVsE"
      },
      "outputs": [
        {
          "data": {
            "text/plain": [
              "{'Dave': '255 Main Street',\n",
              " 'Sean': '522 1st Street',\n",
              " 0: ' This is a value of key 0'}"
            ]
          },
          "execution_count": 10,
          "metadata": {},
          "output_type": "execute_result"
        }
      ],
      "source": [
        "# del dict[key]\n",
        "\n",
        "del d_3['Bob']\n",
        "d_3"
      ]
    },
    {
      "attachments": {},
      "cell_type": "markdown",
      "metadata": {
        "id": "pCmdguG9vVsE"
      },
      "source": [
        "##### Looping a Dictionary"
      ]
    },
    {
      "cell_type": "code",
      "execution_count": 12,
      "metadata": {
        "id": "cFnSnZX4vVsE"
      },
      "outputs": [
        {
          "name": "stdout",
          "output_type": "stream",
          "text": [
            "Dave 255 Main Street\n",
            "Sean 522 1st Street\n",
            "0  This is a value of key 0\n"
          ]
        }
      ],
      "source": [
        "# .items()\n",
        "# a,b,c = 1,2,3\n",
        "for key, value in d_3.items():\n",
        "    print(key, value)"
      ]
    },
    {
      "attachments": {},
      "cell_type": "markdown",
      "metadata": {
        "id": "upAeCEWzvVsF"
      },
      "source": [
        "##### Looping Only Keys"
      ]
    },
    {
      "cell_type": "code",
      "execution_count": 15,
      "metadata": {
        "id": "n9nNnOVAvVsF"
      },
      "outputs": [
        {
          "name": "stdout",
          "output_type": "stream",
          "text": [
            "Dave\n",
            "Sean\n",
            "0\n",
            "255 Main Street\n",
            "522 1st Street\n",
            " This is a value of key 0\n"
          ]
        }
      ],
      "source": [
        "# .keys() Accsses  the keys of a dictionary, using the built-in method!\n",
        "for key in d_3.keys():\n",
        "    print(key)\n",
        "\n",
        "#grab these without a built-in method\n",
        "for key in d_3:\n",
        "    print(d_3[key])"
      ]
    },
    {
      "attachments": {},
      "cell_type": "markdown",
      "metadata": {
        "id": "ZgKwXNn4vVsF"
      },
      "source": [
        "##### Looping Only Values"
      ]
    },
    {
      "cell_type": "code",
      "execution_count": 16,
      "metadata": {
        "id": "1CkDVB8xvVsF"
      },
      "outputs": [
        {
          "name": "stdout",
          "output_type": "stream",
          "text": [
            "255 Main Street\n",
            "522 1st Street\n",
            " This is a value of key 0\n"
          ]
        }
      ],
      "source": [
        "# .values()\n",
        "for value in d_3.values():\n",
        "    print(value)"
      ]
    },
    {
      "attachments": {},
      "cell_type": "markdown",
      "metadata": {
        "id": "SqvChRcVvVsF"
      },
      "source": [
        "## In-Class Exercise #2 - Create a Function that Prints All Key Value Pairs within a print .format() <br>\n",
        "<p><b>Output should be:</b><br>\n",
        "Max has blue eyes<br>\n",
        "Lilly has brown eyes<br>\n",
        "Barney has blue eyes<br>\n",
        "etc.\n",
        "</p>"
      ]
    },
    {
      "cell_type": "code",
      "execution_count": 25,
      "metadata": {
        "id": "gquKolGWvVsG"
      },
      "outputs": [
        {
          "name": "stdout",
          "output_type": "stream",
          "text": [
            "Max has blue eyes\n",
            "Lilly has brown eyes\n",
            "Barney has blue eyes\n",
            "Larney has brown eyes\n",
            "Ted has purple eyes\n"
          ]
        }
      ],
      "source": [
        "# use the dict below\n",
        "\n",
        "people = {\n",
        "    'Max': 'blue',\n",
        "    'Lilly': 'brown',\n",
        "    'Barney': 'blue',\n",
        "    'Larney': 'brown',\n",
        "    'Ted': 'purple'\n",
        "}\n",
        "\n",
        "for key,value in people.items():\n",
        "    print(f\"{key} has {value} eyes\")"
      ]
    },
    {
      "attachments": {},
      "cell_type": "markdown",
      "metadata": {
        "id": "29N6BueGvVsG"
      },
      "source": [
        "##### sorted()"
      ]
    },
    {
      "cell_type": "code",
      "execution_count": 26,
      "metadata": {
        "id": "UYqYM0RUvVsG"
      },
      "outputs": [
        {
          "name": "stdout",
          "output_type": "stream",
          "text": [
            "['Barney', 'Larney', 'Lilly', 'Max', 'Ted']\n",
            "['blue', 'blue', 'brown', 'brown', 'purple']\n",
            "[('Barney', 'blue'), ('Larney', 'brown'), ('Lilly', 'brown'), ('Max', 'blue'), ('Ted', 'purple')]\n"
          ]
        }
      ],
      "source": [
        "# Sort variables in order\n",
        "# Sorted(dict.values), dict.keys(), or the dict.items()\n",
        "print(sorted(people.keys()))\n",
        "print(sorted(people.values()))\n",
        "print(sorted(people.items()))"
      ]
    },
    {
      "attachments": {},
      "cell_type": "markdown",
      "metadata": {
        "id": "4GJZ_rO-vVsG"
      },
      "source": [
        "##### List with Dictionaries"
      ]
    },
    {
      "cell_type": "code",
      "execution_count": 2,
      "metadata": {
        "id": "y-4KUYz6vVsG"
      },
      "outputs": [
        {
          "ename": "SyntaxError",
          "evalue": "':' expected after dictionary key (3797546511.py, line 1)",
          "output_type": "error",
          "traceback": [
            "\u001b[1;36m  Cell \u001b[1;32mIn[2], line 1\u001b[1;36m\u001b[0m\n\u001b[1;33m    names = ['Dave', 'Randy', 'Greg', {'random_guy': 'Robert', 'random_girl': 'Barbara', 'assorted_randos': 'Steve', 'Austin', 'Ten'}]\u001b[0m\n\u001b[1;37m                                                                                                                            ^\u001b[0m\n\u001b[1;31mSyntaxError\u001b[0m\u001b[1;31m:\u001b[0m ':' expected after dictionary key\n"
          ]
        }
      ],
      "source": [
        "names = ['Dave', 'Randy', 'Greg', {'random_guy': 'Robert', 'random_girl': 'Barbara', 'assorted_randos': 'Steve', 'Austin', 'Ten'}]\n",
        "\n",
        "# What the name of the random girl in our list of people?\n",
        "print(names[3]['random_girl'])\n",
        "\n",
        "# What was the name of the 2nd assorted person in our list of people?\n",
        "print(f\"The second person in the assorted list was: {names[3]['assorted_randos'][1]}\")"
      ]
    },
    {
      "attachments": {},
      "cell_type": "markdown",
      "metadata": {
        "id": "Sa_0SbhSvVsG"
      },
      "source": [
        "##### Dictionaries with Lists"
      ]
    },
    {
      "cell_type": "code",
      "execution_count": null,
      "metadata": {
        "id": "DadZ8fsuvVsH"
      },
      "outputs": [],
      "source": []
    },
    {
      "attachments": {},
      "cell_type": "markdown",
      "metadata": {
        "id": "XGAjke_TvVsH"
      },
      "source": [
        "##### Dictionaries with Dictionaries"
      ]
    },
    {
      "cell_type": "code",
      "execution_count": 1,
      "metadata": {
        "id": "XVhbUSUrvVsH"
      },
      "outputs": [
        {
          "name": "stdout",
          "output_type": "stream",
          "text": [
            " The price vanilla ice cream is: 2.99 per scoope!\n"
          ]
        }
      ],
      "source": [
        " # To get values, you traverse through keys:\n",
        "food_dict = {\n",
        "    'ice_cream': {\n",
        "        'CHO' : {\n",
        "            'Schrodenger\\'s Farm': 2.99,\n",
        "            'Walmart' : 1.99\n",
        "        },\n",
        "            \n",
        "        'VA' :{\n",
        "            'Schrodenger\\'s Farm': 3.99,\n",
        "            'Walmart': 2.99,\n",
        "        },\n",
        "        'Oreo' : {\n",
        "            'Walmart' : 5.99,\n",
        "            'Baskin Robbins': 4.99,\n",
        "        }\n",
        "    }\n",
        "\n",
        "}\n",
        "print(f\" The price vanilla ice cream is: {food_dict['ice_cream']['VA']['Walmart']} per scoope!\")"
      ]
    },
    {
      "attachments": {},
      "cell_type": "markdown",
      "metadata": {
        "id": "6ZhjLk9rvVsH"
      },
      "source": [
        "## Dictionaries vs. Lists (over time) Example of RUNTIME\n",
        "### When inputting values in a Dictionary vs List"
      ]
    },
    {
      "cell_type": "code",
      "execution_count": 38,
      "metadata": {
        "id": "GCtOL0TyvVsH"
      },
      "outputs": [],
      "source": [
        "import time\n",
        "\n",
        "# Generate a fake dictionary\n",
        "d= {}\n",
        "\n",
        "for i in range(10000000):\n",
        "    d[1] = 'value'\n",
        "\n",
        "#Generate a fake list\n",
        "big_list = [x for x in range(10000000)]"
      ]
    },
    {
      "cell_type": "code",
      "execution_count": 39,
      "metadata": {
        "id": "wRkH9LcEvVsH"
      },
      "outputs": [
        {
          "ename": "KeyError",
          "evalue": "9999999",
          "output_type": "error",
          "traceback": [
            "\u001b[1;31m---------------------------------------------------------------------------\u001b[0m",
            "\u001b[1;31mKeyError\u001b[0m                                  Traceback (most recent call last)",
            "\u001b[1;32mc:\\Users\\bioni\\Downloads\\Python I Day 3.ipynb Cell 34\u001b[0m line \u001b[0;36m3\n\u001b[0;32m      <a href='vscode-notebook-cell:/c%3A/Users/bioni/Downloads/Python%20I%20Day%203.ipynb#X45sZmlsZQ%3D%3D?line=0'>1</a>\u001b[0m start_time \u001b[39m=\u001b[39m time\u001b[39m.\u001b[39mtime()\n\u001b[1;32m----> <a href='vscode-notebook-cell:/c%3A/Users/bioni/Downloads/Python%20I%20Day%203.ipynb#X45sZmlsZQ%3D%3D?line=2'>3</a>\u001b[0m \u001b[39mprint\u001b[39m(d[\u001b[39m9999999\u001b[39;49m])\n\u001b[0;32m      <a href='vscode-notebook-cell:/c%3A/Users/bioni/Downloads/Python%20I%20Day%203.ipynb#X45sZmlsZQ%3D%3D?line=4'>5</a>\u001b[0m end_time \u001b[39m=\u001b[39m time\u001b[39m.\u001b[39mtime()\n\u001b[0;32m      <a href='vscode-notebook-cell:/c%3A/Users/bioni/Downloads/Python%20I%20Day%203.ipynb#X45sZmlsZQ%3D%3D?line=5'>6</a>\u001b[0m \u001b[39mprint\u001b[39m(\u001b[39m'\u001b[39m\u001b[39mElapsed time for a dictionary: \u001b[39m\u001b[39m{}\u001b[39;00m\u001b[39m'\u001b[39m\u001b[39m.\u001b[39mformat(end_time))\n",
            "\u001b[1;31mKeyError\u001b[0m: 9999999"
          ]
        }
      ],
      "source": [
        "start_time = time.time()\n",
        "\n",
        "print(d[9999999])\n",
        "\n",
        "end_time = time.time()\n",
        "print('Elapsed time for a dictionary: {}'.format(end_time))\n"
      ]
    },
    {
      "attachments": {},
      "cell_type": "markdown",
      "metadata": {
        "id": "A0JtLQk2vVsI"
      },
      "source": [
        "## Exercise #3 - Write a Function that asks someone's name and address, and then stores that into a dictionary, and continues to do so until they choose to 'quit'. Once they quit, the program should print all names and addresses. <br>\n",
        "<p>\n",
        "<b>Proper steps:</b><br>\n",
        "step 1: write a function that takes in information and stores it in a dictionary<br>\n",
        "step 2: define an empty dictionary to work with<br>\n",
        "step 3: create our loop, which asks the user for information until they quit<br>\n",
        "step 4: ask for the information, and store it into variables<br>\n",
        "step 5: check if the user types quit<br>\n",
        "step 5a: print out all information<br>\n",
        "step 5b: break out of the loop<br>\n",
        "step 6: if they didn't quit, add the information to the dictionary<br>\n",
        "step 7: invoke the function by calling it\n",
        "</p>"
      ]
    },
    {
      "cell_type": "code",
      "execution_count": 40,
      "metadata": {
        "id": "EooQW0lJvVsI"
      },
      "outputs": [],
      "source": [
        "# step 1:\n",
        "def store_info():\n",
        "#step 2\n",
        "    d= {}\n",
        "#step 3\n",
        "    while True:\n",
        "        # Step 4:\n",
        "        name= input(\"Enter a name to be stored or say 'quit'\")\n",
        "        address= input(\"The address for {key} is {value}\")\n",
        "    if name.lower() == 'quit' or address.lower() == 'quit':\n",
        "        #Step 5:\n",
        "        for key, value\n",
        "        break\n",
        "    #step 6\n",
        "    d[name] = address\n",
        "store_info()\n"
      ]
    },
    {
      "attachments": {},
      "cell_type": "markdown",
      "metadata": {
        "id": "4t2mRyx8vVsI"
      },
      "source": [
        "## Set <br>\n",
        "<p>A Set is an unordered collection data type that is iterable (loop), mutable, and has no duplicate elements.<br>Major advantage is that it is highly optimized in checking if something is in the set, as opposed to checking if something is in a list.</p>"
      ]
    },
    {
      "attachments": {},
      "cell_type": "markdown",
      "metadata": {
        "id": "ZP2IKs3HvVsI"
      },
      "source": [
        "##### Declaring"
      ]
    },
    {
      "cell_type": "code",
      "execution_count": 44,
      "metadata": {
        "id": "xr0Vv_fUvVsI"
      },
      "outputs": [
        {
          "name": "stdout",
          "output_type": "stream",
          "text": [
            "{1, 4, 6}\n",
            "{1, 4, 6}\n"
          ]
        }
      ],
      "source": [
        "# set() or {,}\n",
        "# no order {3,2,1} outpus {1,2,3}\n",
        "\n",
        "nums = {4,1,6,4}\n",
        "print(nums)\n",
        "\n",
        "nums = set([4,1,6,4])\n",
        "print(nums)"
      ]
    },
    {
      "attachments": {},
      "cell_type": "markdown",
      "metadata": {
        "id": "HQObphljvVsI"
      },
      "source": [
        "##### .add()"
      ]
    },
    {
      "cell_type": "code",
      "execution_count": 45,
      "metadata": {
        "id": "YFDHFSAxvVsI"
      },
      "outputs": [
        {
          "name": "stdout",
          "output_type": "stream",
          "text": [
            "{56, 1, 4, 6}\n"
          ]
        }
      ],
      "source": [
        "# set.add(val_to_add)\n",
        "nums.add(56)\n",
        "print(nums)"
      ]
    },
    {
      "attachments": {},
      "cell_type": "markdown",
      "metadata": {
        "id": "PRcw-9h8vVsJ"
      },
      "source": [
        "##### .remove()"
      ]
    },
    {
      "cell_type": "code",
      "execution_count": 46,
      "metadata": {
        "id": "OzWMbZtcvVsJ"
      },
      "outputs": [
        {
          "name": "stdout",
          "output_type": "stream",
          "text": [
            "{1, 4, 6}\n"
          ]
        }
      ],
      "source": [
        "# remove by value\n",
        "# set.remove()\n",
        "\n",
        "nums.remove(56)\n",
        "print(nums)"
      ]
    },
    {
      "attachments": {},
      "cell_type": "markdown",
      "metadata": {
        "id": "8peDkJYDvVsJ"
      },
      "source": [
        "##### .union() "
      ]
    },
    {
      "cell_type": "code",
      "execution_count": 48,
      "metadata": {
        "id": "kszS-rNkvVsJ"
      },
      "outputs": [
        {
          "name": "stdout",
          "output_type": "stream",
          "text": [
            "{1, 2, 3, 4, 5, 6}\n",
            "{1, 2, 3, 4, 5, 6}\n"
          ]
        }
      ],
      "source": [
        "# A union joins together 2 sets, can also use '|' or set.union(set2)\n",
        "# join all values in the sets and also get rid of any duplicate values\n",
        "s1= {1,2,3,4}\n",
        "s2= {3,4,5,6}\n",
        "s3 = s1.union(s2)\n",
        "print(s3)\n",
        "\n",
        "s4 = s1|s2\n",
        "print(s4)"
      ]
    },
    {
      "attachments": {},
      "cell_type": "markdown",
      "metadata": {
        "id": "7Pkmgy1bvVsJ"
      },
      "source": [
        "##### .intersection()"
      ]
    },
    {
      "cell_type": "code",
      "execution_count": 49,
      "metadata": {
        "id": "QcThuZRavVsJ"
      },
      "outputs": [
        {
          "name": "stdout",
          "output_type": "stream",
          "text": [
            "{3, 4}\n",
            "{3, 4}\n"
          ]
        }
      ],
      "source": [
        "# returns the intersection of two sets\n",
        "# uses the set.intersection() or &\n",
        "# Only takes elements that are similar between BOTH sets\n",
        "\n",
        "s5 = s1.intersection(s2)\n",
        "\n",
        "s6 = s2 & s1\n",
        "print(s5)\n",
        "print(s6)\n"
      ]
    },
    {
      "attachments": {},
      "cell_type": "markdown",
      "metadata": {
        "id": "myOE3tfRvVsJ"
      },
      "source": [
        "##### .difference()"
      ]
    },
    {
      "cell_type": "code",
      "execution_count": 51,
      "metadata": {
        "id": "UrVBrL_-vVsK"
      },
      "outputs": [
        {
          "name": "stdout",
          "output_type": "stream",
          "text": [
            "{1, 2, 3, 4}\n",
            "{3, 4, 5, 6}\n",
            "{1, 2}\n",
            "{5, 6}\n"
          ]
        }
      ],
      "source": [
        "# returns a set that only contains all the elements of the invoking set that are not present within the secondary set.\n",
        "# we can calll to this using invoking_set.differnce(secondary_set) or (-)\n",
        "# Once more, only takes values from the invoking set that are not in the secondary set.\n",
        "# ORDER MATTERS\n",
        "s7 = s2 - s1\n",
        "s8 = s1.difference(s2)\n",
        "\n",
        "print(s1)\n",
        "print(s2)\n",
        "\n",
        "print(s8)\n",
        "print(s7)"
      ]
    },
    {
      "attachments": {},
      "cell_type": "markdown",
      "metadata": {
        "id": "tsio_H7MvVsK"
      },
      "source": [
        "##### .clear()"
      ]
    },
    {
      "cell_type": "code",
      "execution_count": 52,
      "metadata": {
        "id": "caPfgjjfvVsK"
      },
      "outputs": [
        {
          "name": "stdout",
          "output_type": "stream",
          "text": [
            "set()\n"
          ]
        }
      ],
      "source": [
        "#empty the entire set\n",
        "# uses .clear()\n",
        "\n",
        "s8.clear()\n",
        "print(s8)"
      ]
    },
    {
      "attachments": {},
      "cell_type": "markdown",
      "metadata": {
        "id": "9q2ZAWJhvVsK"
      },
      "source": [
        "##### Frozenset <br>\n",
        "<p>Frozen sets are immutable objects that only support methods and operators that produce a result without affecting the frozen set or sets to which they are applied.</p><br><b>Unique & Immutable</b>"
      ]
    },
    {
      "cell_type": "code",
      "execution_count": 53,
      "metadata": {
        "id": "GY03_VgRvVsK"
      },
      "outputs": [
        {
          "name": "stdout",
          "output_type": "stream",
          "text": [
            "frozenset({1, 2, 3, 4, 5, 6})\n"
          ]
        }
      ],
      "source": [
        "#frozenset(set)\n",
        "my_frozen_set = frozenset(s3)\n",
        "print(my_frozen_set)\n",
        "\n",
        "#try to add to this set: cannot change the values in this set\n",
        "#can take dict values and unordered"
      ]
    },
    {
      "cell_type": "markdown",
      "metadata": {},
      "source": [
        "Dictionary Comprehension"
      ]
    },
    {
      "cell_type": "code",
      "execution_count": 2,
      "metadata": {},
      "outputs": [
        {
          "name": "stdout",
          "output_type": "stream",
          "text": [
            "[1, 4, 9, 16, 25]\n",
            "{'a': 1, 'b': 2, 'c': 3, 'd': '4', 'e': 5}\n"
          ]
        },
        {
          "ename": "TypeError",
          "evalue": "unsupported operand type(s) for ** or pow(): 'str' and 'int'",
          "output_type": "error",
          "traceback": [
            "\u001b[1;31m---------------------------------------------------------------------------\u001b[0m",
            "\u001b[1;31mTypeError\u001b[0m                                 Traceback (most recent call last)",
            "\u001b[1;32mc:\\Users\\bioni\\OneDrive\\Documents\\GitHub\\Coding_Temple\\Week 2\\Class Notes\\Python I Day 3.ipynb Cell 55\u001b[0m line \u001b[0;36m1\n\u001b[0;32m     <a href='vscode-notebook-cell:/c%3A/Users/bioni/OneDrive/Documents/GitHub/Coding_Temple/Week%202/Class%20Notes/Python%20I%20Day%203.ipynb#Y105sZmlsZQ%3D%3D?line=9'>10</a>\u001b[0m \u001b[39mprint\u001b[39m(dict_1)\n\u001b[0;32m     <a href='vscode-notebook-cell:/c%3A/Users/bioni/OneDrive/Documents/GitHub/Coding_Temple/Week%202/Class%20Notes/Python%20I%20Day%203.ipynb#Y105sZmlsZQ%3D%3D?line=10'>11</a>\u001b[0m \u001b[39mfor\u001b[39;00m key \u001b[39min\u001b[39;00m dict_1\u001b[39m.\u001b[39mkeys():\n\u001b[1;32m---> <a href='vscode-notebook-cell:/c%3A/Users/bioni/OneDrive/Documents/GitHub/Coding_Temple/Week%202/Class%20Notes/Python%20I%20Day%203.ipynb#Y105sZmlsZQ%3D%3D?line=11'>12</a>\u001b[0m     dict_1[key] \u001b[39m=\u001b[39m dict_1[key]\u001b[39m*\u001b[39;49m\u001b[39m*\u001b[39;49m\u001b[39m2\u001b[39;49m\n\u001b[0;32m     <a href='vscode-notebook-cell:/c%3A/Users/bioni/OneDrive/Documents/GitHub/Coding_Temple/Week%202/Class%20Notes/Python%20I%20Day%203.ipynb#Y105sZmlsZQ%3D%3D?line=12'>13</a>\u001b[0m \u001b[39mprint\u001b[39m(dict_1)\n\u001b[0;32m     <a href='vscode-notebook-cell:/c%3A/Users/bioni/OneDrive/Documents/GitHub/Coding_Temple/Week%202/Class%20Notes/Python%20I%20Day%203.ipynb#Y105sZmlsZQ%3D%3D?line=14'>15</a>\u001b[0m \u001b[39m#Dictionary Comprehension\u001b[39;00m\n\u001b[0;32m     <a href='vscode-notebook-cell:/c%3A/Users/bioni/OneDrive/Documents/GitHub/Coding_Temple/Week%202/Class%20Notes/Python%20I%20Day%203.ipynb#Y105sZmlsZQ%3D%3D?line=15'>16</a>\u001b[0m \u001b[39m#{key: value iterator conditional}\u001b[39;00m\n",
            "\u001b[1;31mTypeError\u001b[0m: unsupported operand type(s) for ** or pow(): 'str' and 'int'"
          ]
        }
      ],
      "source": [
        "new_list = []\n",
        "prev_list = [1,2,3,4,5]\n",
        "for val in prev_list:\n",
        "    new_list.append(val**2)\n",
        "\n",
        "new_list = [val**2 for val in prev_list]\n",
        "print(new_list)\n",
        "\n",
        "dict_1 = {'a' : 1, 'b': 2, 'c' : 3, 'd': '4', 'e':5}\n",
        "print(dict_1)\n",
        "for key in dict_1.keys():\n",
        "    dict_1[key] = dict_1[key]**2\n",
        "print(dict_1)\n",
        "\n",
        "#Dictionary Comprehension\n",
        "#{key: value iterator conditional}\n",
        "{k:v**2 for k,v in dict_1.items() if k != 'a'}"
      ]
    },
    {
      "cell_type": "code",
      "execution_count": 62,
      "metadata": {},
      "outputs": [
        {
          "data": {
            "text/plain": [
              "{'temp1': -17.77777777777778,\n",
              " 'temp2': -8.333333333333334,\n",
              " 'temp3': 0.0,\n",
              " 'temp4': -21.666666666666668}"
            ]
          },
          "execution_count": 62,
          "metadata": {},
          "output_type": "execute_result"
        }
      ],
      "source": [
        "temps = {'temp1' :0,\n",
        "         'temp2' :17,\n",
        "         'temp3' :32,\n",
        "         'temp4' :-7}\n",
        "#5/9* (value - 32)\n",
        "{k:(5/9)*(v-32) for k,v in temps.items()}  \n"
      ]
    },
    {
      "attachments": {},
      "cell_type": "markdown",
      "metadata": {
        "id": "S7ZqL_E5vVsK"
      },
      "source": [
        "## Modules"
      ]
    },
    {
      "attachments": {},
      "cell_type": "markdown",
      "metadata": {
        "id": "Eg6fu-i9vVsK"
      },
      "source": [
        "##### Importing Entire Modules"
      ]
    },
    {
      "cell_type": "code",
      "execution_count": 64,
      "metadata": {
        "id": "jsdZ2lSZvVsK"
      },
      "outputs": [
        {
          "name": "stdout",
          "output_type": "stream",
          "text": [
            "3.141592653589793\n",
            "3\n"
          ]
        }
      ],
      "source": [
        "# import keyword\n",
        "# import x , from x import y, or import x as y\n",
        "import math\n",
        "\n",
        "print(math.pi)\n",
        "print(math.floor(math.pi))"
      ]
    },
    {
      "attachments": {},
      "cell_type": "markdown",
      "metadata": {
        "id": "w11uTaPhvVsL"
      },
      "source": [
        "##### Importing Methods Only"
      ]
    },
    {
      "cell_type": "code",
      "execution_count": 66,
      "metadata": {
        "id": "GKE5653UvVsL"
      },
      "outputs": [
        {
          "name": "stdout",
          "output_type": "stream",
          "text": [
            "3.141592653589793\n",
            "3\n"
          ]
        }
      ],
      "source": [
        "from math import pi, floor\n",
        "\n",
        "print(pi)\n",
        "print(floor(pi))"
      ]
    },
    {
      "attachments": {},
      "cell_type": "markdown",
      "metadata": {
        "id": "5Mcnl9suvVsL"
      },
      "source": [
        "##### Using the 'as' Keyword"
      ]
    },
    {
      "cell_type": "code",
      "execution_count": 68,
      "metadata": {
        "id": "zq2EA5QBvVsL"
      },
      "outputs": [
        {
          "name": "stdout",
          "output_type": "stream",
          "text": [
            "3.141592653589793\n",
            "3\n"
          ]
        }
      ],
      "source": [
        "from math import pi as p, floor as f\n",
        "print(p)\n",
        "print(f(p))\n"
      ]
    },
    {
      "attachments": {},
      "cell_type": "markdown",
      "metadata": {
        "id": "pCXWER3zvVsL"
      },
      "source": [
        "##### Creating a Module"
      ]
    },
    {
      "cell_type": "code",
      "execution_count": null,
      "metadata": {
        "id": "selfDfXhvVsL"
      },
      "outputs": [],
      "source": []
    }
  ],
  "metadata": {
    "colab": {
      "provenance": []
    },
    "kernelspec": {
      "display_name": "Python 3",
      "language": "python",
      "name": "python3"
    },
    "language_info": {
      "codemirror_mode": {
        "name": "ipython",
        "version": 3
      },
      "file_extension": ".py",
      "mimetype": "text/x-python",
      "name": "python",
      "nbconvert_exporter": "python",
      "pygments_lexer": "ipython3",
      "version": "3.11.5"
    },
    "vscode": {
      "interpreter": {
        "hash": "26de051ba29f2982a8de78e945f0abaf191376122a1563185a90213a26c5da77"
      }
    }
  },
  "nbformat": 4,
  "nbformat_minor": 0
}
