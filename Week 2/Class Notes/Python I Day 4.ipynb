{
 "cells": [
  {
   "attachments": {},
   "cell_type": "markdown",
   "metadata": {
    "id": "giAbN1rzE1Ai"
   },
   "source": [
    "# Coding Temple's Data Analytics Program                                        \n",
    "---\n",
    "## Python I: Object-Oriented-Programming (OOP)\n",
    "---"
   ]
  },
  {
   "attachments": {},
   "cell_type": "markdown",
   "metadata": {
    "id": "gEt2hxqGE1An"
   },
   "source": [
    "## Tasks Today:\n",
    "\n",
    "   \n",
    "\n",
    "1) <b>Creating a Class (Initializing/Declaring)</b> <br>\n",
    "2) <b>Using a Class (Instantiating)</b> <br>\n",
    " &nbsp;&nbsp;&nbsp;&nbsp; a) Creating One Instance <br>\n",
    " &nbsp;&nbsp;&nbsp;&nbsp; b) Creating Multiple Instances <br>\n",
    " &nbsp;&nbsp;&nbsp;&nbsp; c) In-Class Exercise #1 - Create a Class 'Car' and instantiate three different makes of cars <br>\n",
    "3) <b>The \\__init\\__() Method</b> <br>\n",
    " &nbsp;&nbsp;&nbsp;&nbsp; a) The 'self' Attribute <br>\n",
    "4) <b>Class Attributes</b> <br>\n",
    " &nbsp;&nbsp;&nbsp;&nbsp; a) Initializing Attributes <br>\n",
    " &nbsp;&nbsp;&nbsp;&nbsp; b) Setting an Attribute Outside of the \\__init\\__() Method <br>\n",
    " &nbsp;&nbsp;&nbsp;&nbsp; c) Setting Defaults for Attributes <br>\n",
    " &nbsp;&nbsp;&nbsp;&nbsp; d) Accessing Class Attributes <br>\n",
    " &nbsp;&nbsp;&nbsp;&nbsp; e) Changing Class Attributes <br>\n",
    " &nbsp;&nbsp;&nbsp;&nbsp; f) In-Class Exercise #2 - Add a color and wheels attribute to your 'Car' class <br>\n",
    "5) <b>Class Methods</b> <br>\n",
    " &nbsp;&nbsp;&nbsp;&nbsp; a) Creating <br>\n",
    " &nbsp;&nbsp;&nbsp;&nbsp; b) Calling <br>\n",
    " &nbsp;&nbsp;&nbsp;&nbsp; c) Modifying an Attribute's Value Through a Method <br>\n",
    " &nbsp;&nbsp;&nbsp;&nbsp; d) Incrementing an Attribute's Value Through a Method <br>\n",
    " &nbsp;&nbsp;&nbsp;&nbsp; e) In-Class Exercise #3 - Add a method that prints the cars color and wheel number, then call them <br>"
   ]
  },
  {
   "attachments": {},
   "cell_type": "markdown",
   "metadata": {
    "id": "qgEWxaC0E1Ao"
   },
   "source": [
    "## Creating a Class (Initializing/Declaring)\n",
    "<p>When creating a class, function, or even a variable you are initializing that object. Initializing and Declaring occur at the same time in Python, whereas in lower level languages you have to declare an object before initializing it. This is the first step in the process of using a class.</p>"
   ]
  },
  {
   "cell_type": "code",
   "execution_count": 9,
   "metadata": {
    "id": "KSw6qoU4E1Ap"
   },
   "outputs": [],
   "source": [
    "# We use the class keyword when declaring a class object\n",
    "class Car:\n",
    "    # When we create a variable within of a class, we call this an attribute.\n",
    "    wheels = 4\n",
    "    color = 'blue'\n",
    "    engine = 'front'\n"
   ]
  },
  {
   "attachments": {},
   "cell_type": "markdown",
   "metadata": {
    "id": "Y0lj3nB3E1Aq"
   },
   "source": [
    "## Using a Class (Instantiating)\n",
    "<p>The process of creating a class is called <i>Instantiating</i>. Each time you create a variable of that type of class, it is referred to as an <i>Instance</i> of that class. This is the second step in the process of using a class.</p>"
   ]
  },
  {
   "attachments": {},
   "cell_type": "markdown",
   "metadata": {
    "id": "vc-gH2E1E1Ar"
   },
   "source": [
    "##### Creating One Instance"
   ]
  },
  {
   "cell_type": "code",
   "execution_count": 10,
   "metadata": {
    "id": "rxPg5dy9E1As"
   },
   "outputs": [],
   "source": [
    "ford = Car()\n"
   ]
  },
  {
   "cell_type": "code",
   "execution_count": 11,
   "metadata": {},
   "outputs": [
    {
     "data": {
      "text/plain": [
       "4"
      ]
     },
     "execution_count": 11,
     "metadata": {},
     "output_type": "execute_result"
    }
   ],
   "source": [
    "# Accessed using dot notation. (.)\n",
    "ford.wheels"
   ]
  },
  {
   "cell_type": "code",
   "execution_count": 13,
   "metadata": {},
   "outputs": [
    {
     "name": "stdout",
     "output_type": "stream",
     "text": [
      "blue\n"
     ]
    }
   ],
   "source": [
    "chevy = Car()\n",
    "honda = Car()\n",
    "porche = Car()\n",
    "\n",
    "print(porche.color)"
   ]
  },
  {
   "attachments": {},
   "cell_type": "markdown",
   "metadata": {},
   "source": [
    "#### Difference between a method/function and an attribute"
   ]
  },
  {
   "cell_type": "code",
   "execution_count": 16,
   "metadata": {},
   "outputs": [],
   "source": [
    "class Car:\n",
    "    # Attribute is a characteristic of the onject we are referring to\n",
    "    color = 'blue'\n",
    "    wheels = '4'\n",
    "\n",
    "# An action that the object can make\n",
    "    def honk():\n",
    "        return 'HOoooonnnnkkkk!'\n",
    "    def start_up():\n",
    "        pass"
   ]
  },
  {
   "attachments": {},
   "cell_type": "markdown",
   "metadata": {
    "id": "mwkSVukCE1As"
   },
   "source": [
    "##### Creating Multiple Instances"
   ]
  },
  {
   "cell_type": "code",
   "execution_count": 21,
   "metadata": {
    "id": "J-NBGcc1E1At"
   },
   "outputs": [
    {
     "name": "stdout",
     "output_type": "stream",
     "text": [
      "stop\n"
     ]
    }
   ],
   "source": [
    "class Car:\n",
    "    color = 'green'\n",
    "    trunk = 'back'\n",
    "    windows = '6'\n",
    "    wheels = 'spokes'\n",
    "    def brake(): \n",
    "        return 'stop'\n",
    "    \n",
    "toyota = Car\n",
    "mazda = Car\n",
    "tesla = Car\n",
    "\n",
    "print(toyota.brake())\n",
    "    \n",
    "    \n"
   ]
  },
  {
   "attachments": {},
   "cell_type": "markdown",
   "metadata": {
    "id": "orHPhAdCE1At"
   },
   "source": [
    "##### In-Class Exercise #1 - Create a Class 'Car' and Instantiate three different makes of cars"
   ]
  },
  {
   "cell_type": "code",
   "execution_count": 23,
   "metadata": {
    "id": "aSsTqQAFE1Au"
   },
   "outputs": [
    {
     "name": "stdout",
     "output_type": "stream",
     "text": [
      "red\n",
      "4\n"
     ]
    }
   ],
   "source": [
    "# one thing to note is that each class is independent of one antoher. Meaning that each class instantiation\n",
    "# Is ia separate intanstion from the one made previously.\n",
    "# All static, or global attributes of the class will however be shared between all instances of that class.\n",
    "# Meaning the default value for ALL changes.\n",
    "class Car():\n",
    "    doors = 4\n",
    "    color = \"red\"\n",
    "    wheels = 4\n",
    "    sunRoof = \"Yes\"\n",
    "    \n",
    "maz = Car()\n",
    "bently = Car()\n",
    "fer = Car()\n",
    "\n",
    "print(bently.color)\n",
    "print(bently.wheels)"
   ]
  },
  {
   "attachments": {},
   "cell_type": "markdown",
   "metadata": {},
   "source": [
    "#### Object ID's and Class Instantiations"
   ]
  },
  {
   "cell_type": "code",
   "execution_count": null,
   "metadata": {},
   "outputs": [],
   "source": []
  },
  {
   "attachments": {},
   "cell_type": "markdown",
   "metadata": {
    "id": "lJh0fFLME1Au"
   },
   "source": [
    "## The \\__init\\__() Method <br>\n",
    "<p>This method is used in almost every created class, and called only once upon the creation of the class instance. This method will initialize all variables needed for the object.</p>"
   ]
  },
  {
   "cell_type": "code",
   "execution_count": 8,
   "metadata": {
    "id": "ef5s6vbaE1Au"
   },
   "outputs": [
    {
     "name": "stdout",
     "output_type": "stream",
     "text": [
      "24\n",
      "blue\n",
      "black\n"
     ]
    }
   ],
   "source": [
    "class Car:\n",
    "    engine = '4.7L' # Constant attribute/static Attribute shared between each instance of the class and prediefined \n",
    "                    #in a way that requires instantiation before we cna change this value\n",
    "    def __init__(self, wheels, color): # Self keyword is keeping track of each unique instance of attributes\n",
    "        self.wheels = wheels # Dynamic attribute. Attribute is unique to each instance of the class and requires an input from a user \n",
    "                            #when they instantiate the class\n",
    "        self.color = color\n",
    "class Cup:\n",
    "    def __init__(self, color, size, volume, handles, materials):\n",
    "        self.color = color\n",
    "        self.size = size\n",
    "        self.volume = volume\n",
    "        self.handles = handles\n",
    "        self.materials = materials\n",
    "\n",
    "# Test with cup\n",
    "andrew_cup = Cup('black', 24, '160ml', False, 'Ceramic')\n",
    "print(andrew_cup.size)\n",
    "\n",
    "\n",
    "#test with car\n",
    "ford = Car(4,'blue')\n",
    "print(ford.color)\n",
    "chevy = Car(6,'black')\n",
    "print(chevy.color)"
   ]
  },
  {
   "attachments": {},
   "cell_type": "markdown",
   "metadata": {
    "id": "YSCUixxTE1Av"
   },
   "source": [
    "##### The 'self' Attribute <br>\n",
    "<p>This attribute is required to keep track of specific instance's attributes. Without the self attribute, the program would not know how to reference or keep track of an instance's attributes.</p>"
   ]
  },
  {
   "cell_type": "code",
   "execution_count": null,
   "metadata": {
    "id": "8rfFnKp3E1Av"
   },
   "outputs": [],
   "source": [
    "# see above where we create the self.attributes"
   ]
  },
  {
   "attachments": {},
   "cell_type": "markdown",
   "metadata": {
    "id": "FHAW6utmE1Av"
   },
   "source": [
    "## Class Attributes <br>\n",
    "<p>While variables are inside of a class, they are referred to as attributes and not variables. When someone says 'attribute' you know they're speaking about a class. Attributes can be initialized through the init method, or outside of it.</p>"
   ]
  },
  {
   "attachments": {},
   "cell_type": "markdown",
   "metadata": {
    "id": "sf-B77pbE1Av"
   },
   "source": [
    "##### Initializing Attributes"
   ]
  },
  {
   "cell_type": "code",
   "execution_count": 39,
   "metadata": {
    "id": "D2L5_hVdE1Av"
   },
   "outputs": [],
   "source": [
    "class Toy:\n",
    "    kind = 'car' # static attribute - constant/change extremely infrequently\n",
    "\n",
    "# __init__ method: These will be all dynamic atrributes. We expt every toy to have differing values for these attributes, or neeed a way to uniquely track them.\n",
    "# In programming, most of your attributes will be defined in this way.\n",
    "    def __init__(self, rooftop: int, horn:bool, wheels:int):\n",
    "        self.rooftop = rooftop\n",
    "        self.horn = horn\n",
    "        self.wheels = wheels\n",
    "\n",
    "tonka_truck = Toy(1, True, 8)\n",
    "hot_wheels = Toy(1, False, 4)"
   ]
  },
  {
   "attachments": {},
   "cell_type": "markdown",
   "metadata": {
    "id": "8k0rnG1dE1Av"
   },
   "source": [
    "##### Accessing Class Attributes"
   ]
  },
  {
   "cell_type": "code",
   "execution_count": 44,
   "metadata": {
    "id": "_PKUR78BE1Av",
    "scrolled": true
   },
   "outputs": [
    {
     "data": {
      "text/plain": [
       "'10.6\" x 5.2\"'"
      ]
     },
     "execution_count": 44,
     "metadata": {},
     "output_type": "execute_result"
    }
   ],
   "source": [
    "class Phone:\n",
    "    # Company, type fo phone, color, dimensions, network type\n",
    "    def __init__(self, company, phone_type, color, dimensions, network_type):\n",
    "        self.company = company\n",
    "        self.phone_type = phone_type\n",
    "        self.color = color\n",
    "        self.dimensions = dimensions\n",
    "        self.network = network_type\n",
    "\n",
    "iphone_14 = Phone('Apple', 'Iphone', 'Purple', '10.6\" x 5.2\"','5G')\n",
    "iphone_14.dimensions\n",
    "\n"
   ]
  },
  {
   "attachments": {},
   "cell_type": "markdown",
   "metadata": {
    "id": "0LG1jwWcE1Aw"
   },
   "source": [
    "##### Setting Defaults for Attributes"
   ]
  },
  {
   "attachments": {},
   "cell_type": "markdown",
   "metadata": {},
   "source": [
    "##### **INIT STANDS FOR INITIALIZATION!**\n",
    "When we call the class, we end up having to provide the values for the attributes of the init function. Which means, that this run AS SOON as we call the class"
   ]
  },
  {
   "cell_type": "code",
   "execution_count": 14,
   "metadata": {
    "id": "jz0KEMHDE1Aw"
   },
   "outputs": [
    {
     "data": {
      "text/plain": [
       "'Blue'"
      ]
     },
     "execution_count": 14,
     "metadata": {},
     "output_type": "execute_result"
    }
   ],
   "source": [
    "#while this is one method, it's just not very dynamic in it's ability to swap between values\n",
    "class Car:\n",
    "    engine = '4.7L'\n",
    "\n",
    "    def __init__(self, wheels):\n",
    "        self.wheels = wheels\n",
    "        self.color = 'Blue'\n",
    "\n",
    "honda = Car(4)\n",
    "honda.color = 'White'\n",
    "honda.color\n",
    "\n",
    "\n",
    "#method 2\n",
    "class Car:\n",
    "    engine = '4.7L'\n",
    "\n",
    "    def __init__(self, wheels, color = 'Blue'):\n",
    "        self.wheels = wheels\n",
    "        self.color = 'Blue'\n",
    "\n",
    "honda = Car(4, 'White')\n",
    "honda.color"
   ]
  },
  {
   "cell_type": "code",
   "execution_count": 48,
   "metadata": {},
   "outputs": [
    {
     "name": "stdout",
     "output_type": "stream",
     "text": [
      "Before the change: 4.7L\n",
      "After the change: 1.4L\n"
     ]
    },
    {
     "data": {
      "text/plain": [
       "'1.4L'"
      ]
     },
     "execution_count": 48,
     "metadata": {},
     "output_type": "execute_result"
    }
   ],
   "source": [
    "honda = Car(4)\n",
    "print(f'Before the change: {honda.engine}')\n",
    "honda.engine = '1.4L'\n",
    "print(f'After the change: {honda.engine}')\n",
    "honda.engine"
   ]
  },
  {
   "attachments": {},
   "cell_type": "markdown",
   "metadata": {
    "id": "P7zeGxM0E1Aw"
   },
   "source": [
    "##### Changing Class Attributes <br>\n",
    "<p>Keep in mind there are global class attributes and then there are attributes only available to each class instance which won't effect other classes.</p>"
   ]
  },
  {
   "cell_type": "code",
   "execution_count": null,
   "metadata": {
    "id": "PJBegn_JE1Aw"
   },
   "outputs": [],
   "source": []
  },
  {
   "attachments": {},
   "cell_type": "markdown",
   "metadata": {
    "id": "dUUbmR3SE1Aw"
   },
   "source": [
    "##### In-Class Exercise #2 - Add a doors and seats attribute to your 'Car' class then print out two different instances with different doors and seats"
   ]
  },
  {
   "cell_type": "code",
   "execution_count": 54,
   "metadata": {
    "id": "ol8-7dFJE1Aw"
   },
   "outputs": [
    {
     "name": "stdout",
     "output_type": "stream",
     "text": [
      "4\n",
      "5\n",
      "My Toyoya has 5 seats, and 4 doors!\n",
      "2\n",
      "2\n",
      "My Toyoya has 2 seats, and 2 doors!\n",
      "My Toyoya has 4 seats, and 4 doors!\n"
     ]
    }
   ],
   "source": [
    "class Car:\n",
    "    def __init__(self, doors, seats):\n",
    "        self.doors = doors\n",
    "        self.seats = seats\n",
    "\n",
    "honda = Car(4,5)\n",
    "print(honda.doors)\n",
    "print(honda.seats)\n",
    "print(f\"My Toyoya has {honda.seats} seats, and {honda.doors} doors!\")\n",
    "\n",
    "toyota = Car(2,2)\n",
    "print(toyota.doors)\n",
    "print(toyota.seats)\n",
    "print(f\"My Toyoya has {toyota.seats} seats, and {toyota.doors} doors!\")\n",
    "\n",
    "toyota = Car(4,4)\n",
    "print(f\"My Toyoya has {toyota.seats} seats, and {toyota.doors} doors!\")\n",
    "\n"
   ]
  },
  {
   "attachments": {},
   "cell_type": "markdown",
   "metadata": {
    "id": "fIN43CNqE1Aw"
   },
   "source": [
    "## Class Methods <br>\n",
    "<p>While inside of a class, functions are referred to as 'methods'. If you hear someone mention methods, they're speaking about classes. Methods are essentially functions, but only callable on the instances of a class.</p>"
   ]
  },
  {
   "attachments": {},
   "cell_type": "markdown",
   "metadata": {
    "id": "C4t23Xw-E1Aw"
   },
   "source": [
    "##### Creating"
   ]
  },
  {
   "cell_type": "code",
   "execution_count": 9,
   "metadata": {
    "id": "nxJWEyQeE1Ax"
   },
   "outputs": [],
   "source": [
    "class Printer:\n",
    "    # an action the object could take or be taken against it.\n",
    "    def print_string(stri):\n",
    "        return stri\n",
    "    "
   ]
  },
  {
   "cell_type": "code",
   "execution_count": 10,
   "metadata": {},
   "outputs": [],
   "source": [
    "class ShoppingBag:\n",
    "    '''\n",
    "    The ShoppingBag class will have attributes such as: handles, capacity and items to place inside.\n",
    "    \n",
    "    \n",
    "    Attributes for this class:\n",
    "    -handles: expected as int input, denotes number of handles on bag\n",
    "    -capacity: expected to be an into or a string, denotes the overall size of the bag\n",
    "    - items: expectted to be in list, denotes all items to be added to the bag\n",
    "\n",
    "    Methods of this class:\n",
    "    - show_shopping_bag: print all items within the bag\n",
    "    - show_capacity: expected to be an int or a string, denotes all items to be added to the bag\n",
    "    - add_to_shopping_bag: Allow user to input items into shopping bag\n",
    "    - change_bag_capacity: Allows user to change theoverall capacity\n",
    "    - increase_capacity: Allows user to increase overall capacity by a specified int input\n",
    "    '''\n",
    "    #initalize the attributes of our class dynaically\n",
    "    def __init__(self, handles, capacity, items):\n",
    "        self.handles = handles\n",
    "        self.capacity = capacity\n",
    "        self.items = items\n",
    "    \n",
    "    #define all our class methods\n",
    "    #Method that shows the shopping bag items\n",
    "    def show_shopping_bag(self):\n",
    "        '''prints off your shopping list'''\n",
    "        print('You have items in your bag!')\n",
    "        for item in self.items:\n",
    "            print(item)\n",
    "\n",
    "    # Method to show capacity of the bag\n",
    "    def show_capacity(self):\n",
    "        '''prints off current capacity'''\n",
    "        print(\"Your current capicity is: {self.capacity}\")\n",
    "\n",
    "    # Method to add item(s) to the item list for the shooping bag (dynamically)\n",
    "    def add_to_shopping_bag(self):\n",
    "        '''Dynamically changes the bag capacity'''\n",
    "        products = input(\"What would you like to add?\")\n",
    "        self.items.append(products)\n",
    "\n",
    "    # Method to change the capacity of the shopping bag (dynamically)\n",
    "    def change_bag_capacity(self, capacity):\n",
    "        self.capacity = capacity\n",
    "\n",
    "    # Method to increase the capacity, default to an increase of 10, if no increment specified, will increase by ten\n",
    "    def increase_capacity(self, changed_capacity=10):\n",
    "        self.capacity += changed_capacity\n",
    "\n"
   ]
  },
  {
   "attachments": {},
   "cell_type": "markdown",
   "metadata": {
    "id": "kJ4mLPg5E1Ax"
   },
   "source": [
    "##### Calling"
   ]
  },
  {
   "cell_type": "code",
   "execution_count": 11,
   "metadata": {
    "id": "D_I5p-aTE1Ax"
   },
   "outputs": [
    {
     "name": "stdout",
     "output_type": "stream",
     "text": [
      "You have items in your bag!\n",
      "Thanks for shopping at Whole Foods today!\n"
     ]
    }
   ],
   "source": [
    "# Create an instance of our class from above!\n",
    "whole_foods_bag_bag = ShoppingBag(2,10,[])\n",
    "\n",
    "# create a function to RUN my class:\n",
    "def run():\n",
    "    while True:\n",
    "        response = input('What would you like to do? Add,Show,Quit')\n",
    "\n",
    "        if response.lower() == 'quit':\n",
    "            whole_foods_bag_bag.show_shopping_bag()\n",
    "            print('Thanks for shopping at Whole Foods today!')\n",
    "            break\n",
    "        elif response.lower() == 'add':\n",
    "            whole_foods_bag_bag.add_to_shopping_bag()\n",
    "        elif response.lower() == 'show':\n",
    "            whole_foods_bag_bag.show_shopping_bag()\n",
    "run()"
   ]
  },
  {
   "attachments": {},
   "cell_type": "markdown",
   "metadata": {
    "id": "0ZllA5keE1Ax"
   },
   "source": [
    "##### Modifying an Attribute's Value Through a Method"
   ]
  },
  {
   "cell_type": "code",
   "execution_count": 5,
   "metadata": {
    "id": "jT_iOoUcE1Ax"
   },
   "outputs": [
    {
     "name": "stdout",
     "output_type": "stream",
     "text": [
      "Capacity BEFORE the change: 10\n",
      "Capcity AFTER the change: 40\n"
     ]
    }
   ],
   "source": [
    "# Show our capacity\n",
    "print(f'Capacity BEFORE the change: {whole_foods_bag_bag.capacity}')\n",
    "whole_foods_bag_bag.change_bag_capacity(40)\n",
    "print(f'Capcity AFTER the change: {whole_foods_bag_bag.capacity}')"
   ]
  },
  {
   "attachments": {},
   "cell_type": "markdown",
   "metadata": {
    "id": "pV9obOHAE1Ax"
   },
   "source": [
    "##### Incrementing an Attribute's Value Through a Method"
   ]
  },
  {
   "cell_type": "code",
   "execution_count": 6,
   "metadata": {
    "id": "-usVaZplE1Ax"
   },
   "outputs": [
    {
     "name": "stdout",
     "output_type": "stream",
     "text": [
      "Capacity BEFORE the change: 40\n",
      "Capcity AFTER the change: 55\n"
     ]
    }
   ],
   "source": [
    "#show capacity:\n",
    "print(f'Capacity BEFORE the change: {whole_foods_bag_bag.capacity}')\n",
    "whole_foods_bag_bag.increase_capacity(15)\n",
    "print(f'Capcity AFTER the change: {whole_foods_bag_bag.capacity}')"
   ]
  },
  {
   "attachments": {},
   "cell_type": "markdown",
   "metadata": {
    "id": "d5P9d_B7E1Ax"
   },
   "source": [
    "##### In-Class Exercise #3 - Add a method that takes in three parameters of year, doors and seats and prints out a formatted print statement with make, model, year, seats, and doors"
   ]
  },
  {
   "cell_type": "code",
   "execution_count": 8,
   "metadata": {
    "id": "u5Tjs1foE1Ax"
   },
   "outputs": [
    {
     "data": {
      "text/plain": [
       "2021"
      ]
     },
     "execution_count": 8,
     "metadata": {},
     "output_type": "execute_result"
    }
   ],
   "source": [
    "class Car:\n",
    "# The car will need 2 parameters inside of the init function: make, model\n",
    "# Inside my class, I need to creat a function (method) that takes 4 parameters in total (self, year, door, seats)\n",
    "# Output: This i\n",
    "    def __init__(self,make,model):\n",
    "        self.make = make\n",
    "        self.model = model\n",
    "    \n",
    "    def add_to_car_details(self, year, door, seats):\n",
    "        self.year = year\n",
    "        self.doors = door\n",
    "        self.seats = seats\n",
    "\n",
    "        return(f'My car is a {year}, {self.make}, {self.model} and it has {self.doors} doors, and {self.seats} seats')\n",
    "\n",
    "my_car = Car('Hyundai', 'Tuscon')\n",
    "my_car.add_to_car_details(2021, 4, 5)\n",
    "my_car.year\n",
    "\n",
    "# __repr__ method - returns is a string representation of your class object\n"
   ]
  },
  {
   "attachments": {},
   "cell_type": "markdown",
   "metadata": {},
   "source": [
    "### Class Inheritance"
   ]
  },
  {
   "attachments": {},
   "cell_type": "markdown",
   "metadata": {},
   "source": [
    "When we program in OOP(Object Oriented Programming), we create classes that encompass the entirety of a group or populous. For example, car. Cars come in many shapes and forms, however, we are generalizing each into a class named car, based off of attributes and methods that are similar. What happens when we have something that is technically a car, but is so unique, it should have it's own class, with it's own attributes and methods, yet still retain information that it is a car?\n",
    "\n",
    "This is where inheritance comes into play. Just like how we inherit features and attributes from our parents (skin tone, eye shape, body composition), we can have classes inherit from one another. When we talk about inheritance, we typically talk about a child class and a parent class, where the parent class is the class giving attributes and the child class is the one inheriting those attributes.\n",
    "\n",
    "There are multiple types of inheritance:\n",
    "\n",
    "* **Single Inheritance**\n",
    "    * One child-class inherits the features of one parent-class\n",
    "    \n",
    "    ![](https://www.softwaretestinghelp.com/wp-content/qa/uploads/2019/06/Single-inheritance.png)"
   ]
  },
  {
   "cell_type": "code",
   "execution_count": 73,
   "metadata": {},
   "outputs": [
    {
     "data": {
      "text/plain": [
       " The dog has 15 mph is speed and 9.8"
      ]
     },
     "execution_count": 73,
     "metadata": {},
     "output_type": "execute_result"
    }
   ],
   "source": [
    "# Creation of the parent class\n",
    "class Animal:\n",
    "    acceleration = 9.8 # Static Attribute of the parent class\n",
    "    def __init__ (self, name, species, legs = 4):\n",
    "        self.name = name #Dynamic attribute of our parent class\n",
    "        self.species = species\n",
    "        self.legs = legs\n",
    "\n",
    "def make_some_noice(self):\n",
    "    return 'some generic sound'\n",
    "\n",
    "#Create a child class that will inherit from my parent class:\n",
    "class Dog(Animal):\n",
    "    speed = 15\n",
    "\n",
    "    def __repr__(self):\n",
    "        return f' The dog has {self.speed} mph is speed and {self.acceleration}'\n",
    "\n",
    "\n",
    "# test this all out\n",
    "horse = Animal('Seabicuit', 'horse')\n",
    "horse.legs\n",
    "\n",
    "# test the child class\n",
    "lassie = Dog('lassie', 'Doge')\n",
    "lassie"
   ]
  },
  {
   "attachments": {},
   "cell_type": "markdown",
   "metadata": {},
   "source": [
    "* **Multiple Inheritance**\n",
    "    * One child-class inherits from from multiple parent-classes\n",
    "\n",
    "    ![](https://media.geeksforgeeks.org/wp-content/uploads/sc1-1.png)"
   ]
  },
  {
   "cell_type": "code",
   "execution_count": 74,
   "metadata": {},
   "outputs": [],
   "source": [
    "# Creation of the parent class\n",
    "class Animal:\n",
    "    acceleration = 9.8 # Static Attribute of the parent class\n",
    "    def __init__ (self, name, species, legs = 4):\n",
    "        self.name = name #Dynamic attribute of our parent class\n",
    "        self.species = species\n",
    "        self.legs = legs\n",
    "\n",
    "def make_some_noice(self):\n",
    "    return 'some generic sound'\n",
    "\n",
    "class Mammal:\n",
    "    def __init__(self, lays_eggs = False, hybernation_need = False):\n",
    "        self.lays_eggs = lays_eggs\n",
    "        self.hybernation_need = hybernation_need\n",
    "\n",
    "\n",
    "#Create a child class that will inherit from my parent class:\n",
    "class Dog(Animal,Mammal):\n",
    "    def __init__(self, name, species = 'dog'):\n",
    "        super().__init__(name, species)\n",
    "        Mammal.__init__(self)\n",
    "    speed = 15\n",
    "\n",
    "    def __repr__(self):\n",
    "        return f' The dog has {self.speed} mph is speed and {self.acceleration} and has the capcit to lay eggs'\n",
    "        "
   ]
  },
  {
   "attachments": {},
   "cell_type": "markdown",
   "metadata": {},
   "source": [
    "* **Multi-level Inheritance**\n",
    "    * A base class provides inheritance to a parent class, which provides inheritance to a child class, just like lineage is passed down from generation to generation\n",
    "    * This allows the child class to be derived of the base, without ever accessing the base class.\n",
    "\n",
    "     ![](https://upload.wikimedia.org/wikipedia/en/0/0e/Multilevel_Inheritance.jpg)"
   ]
  },
  {
   "cell_type": "code",
   "execution_count": null,
   "metadata": {},
   "outputs": [],
   "source": [
    "# Creation of the parent class\n",
    "class Animal:\n",
    "    acceleration = 9.8 # Static Attribute of the parent class\n",
    "    def __init__ (self, name, species, legs = 4):\n",
    "        self.name = name #Dynamic attribute of our parent class\n",
    "        self.species = species\n",
    "        self.legs = legs\n",
    "\n",
    "def make_some_noice(self):\n",
    "    return 'some generic sound'\n",
    "\n",
    "#Create a child class that will inherit from my parent class:\n",
    "class Dog(Animal):\n",
    "    def __init__(self, name, species = 'dog'):\n",
    "        super().__init__(name, species)\n",
    "    speed = 15\n",
    "\n",
    "    def __repr__(self):\n",
    "        return f' The dog has {self.speed} mph is speed and {self.acceleration}'\n",
    "    \n",
    "class Mutt(Dog):\n",
    "    color = 'black & brown'\n",
    "\n",
    "    # Constructor overried inside of the child inheritance:\n",
    "    def __init__ (self, name, species, color = 'black & brown'):\n",
    "        Dog.__init__(self, name, species)\n",
    "        self.color = color\n",
    "    def make_some_noice(self):\n",
    "        return 'BORK'\n",
    "    def __repr__(self):\n",
    "        return f'This Mutt has {self.speed}mph in speed, {self.acceleration} in acceleration,'"
   ]
  }
 ],
 "metadata": {
  "colab": {
   "provenance": [
    {
     "file_id": "1wDmopKqYDjbH4FtK1wEWVsTIdqRGRJYq",
     "timestamp": 1675696515120
    }
   ]
  },
  "kernelspec": {
   "display_name": "Python 3 (ipykernel)",
   "language": "python",
   "name": "python3"
  },
  "language_info": {
   "codemirror_mode": {
    "name": "ipython",
    "version": 3
   },
   "file_extension": ".py",
   "mimetype": "text/x-python",
   "name": "python",
   "nbconvert_exporter": "python",
   "pygments_lexer": "ipython3",
   "version": "3.11.5"
  },
  "vscode": {
   "interpreter": {
    "hash": "26de051ba29f2982a8de78e945f0abaf191376122a1563185a90213a26c5da77"
   }
  }
 },
 "nbformat": 4,
 "nbformat_minor": 1
}
