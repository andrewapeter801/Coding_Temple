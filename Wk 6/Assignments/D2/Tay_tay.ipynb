{
 "cells": [
  {
   "cell_type": "markdown",
   "metadata": {},
   "source": [
    "### Step 1: imports"
   ]
  },
  {
   "cell_type": "code",
   "execution_count": 94,
   "metadata": {},
   "outputs": [],
   "source": [
    "import pandas as pd\n",
    "import plotly.express as px\n",
    "import sqlalchemy\n",
    "import numpy as np"
   ]
  },
  {
   "cell_type": "markdown",
   "metadata": {},
   "source": [
    "### Step 1b: Import the Data"
   ]
  },
  {
   "cell_type": "code",
   "execution_count": 267,
   "metadata": {},
   "outputs": [
    {
     "data": {
      "text/html": [
       "<div>\n",
       "<style scoped>\n",
       "    .dataframe tbody tr th:only-of-type {\n",
       "        vertical-align: middle;\n",
       "    }\n",
       "\n",
       "    .dataframe tbody tr th {\n",
       "        vertical-align: top;\n",
       "    }\n",
       "\n",
       "    .dataframe thead th {\n",
       "        text-align: right;\n",
       "    }\n",
       "</style>\n",
       "<table border=\"1\" class=\"dataframe\">\n",
       "  <thead>\n",
       "    <tr style=\"text-align: right;\">\n",
       "      <th></th>\n",
       "      <th>City</th>\n",
       "      <th>Country</th>\n",
       "      <th>Venue</th>\n",
       "      <th>Opening act(s)</th>\n",
       "      <th>Attendance (tickets sold / available)</th>\n",
       "      <th>Revenue</th>\n",
       "      <th>Tour</th>\n",
       "    </tr>\n",
       "  </thead>\n",
       "  <tbody>\n",
       "    <tr>\n",
       "      <th>0</th>\n",
       "      <td>Evansville</td>\n",
       "      <td>United States</td>\n",
       "      <td>Roberts Municipal Stadium</td>\n",
       "      <td>Gloriana\\r\\nKellie Pickler</td>\n",
       "      <td>7,463 / 7,463</td>\n",
       "      <td>$360,617</td>\n",
       "      <td>Fearless_Tour</td>\n",
       "    </tr>\n",
       "    <tr>\n",
       "      <th>1</th>\n",
       "      <td>Jonesboro</td>\n",
       "      <td>United States</td>\n",
       "      <td>Convocation Center</td>\n",
       "      <td>Gloriana\\r\\nKellie Pickler</td>\n",
       "      <td>7,822 / 7,822</td>\n",
       "      <td>$340,328</td>\n",
       "      <td>Fearless_Tour</td>\n",
       "    </tr>\n",
       "    <tr>\n",
       "      <th>2</th>\n",
       "      <td>St. Louis</td>\n",
       "      <td>United States</td>\n",
       "      <td>Scottrade Center</td>\n",
       "      <td>Gloriana\\r\\nKellie Pickler</td>\n",
       "      <td>13,764 / 13,764</td>\n",
       "      <td>$650,420</td>\n",
       "      <td>Fearless_Tour</td>\n",
       "    </tr>\n",
       "    <tr>\n",
       "      <th>3</th>\n",
       "      <td>Alexandria</td>\n",
       "      <td>United States</td>\n",
       "      <td>Bishop Ireton High School</td>\n",
       "      <td>Gloriana\\r\\nKellie Pickler</td>\n",
       "      <td></td>\n",
       "      <td></td>\n",
       "      <td>Fearless_Tour</td>\n",
       "    </tr>\n",
       "    <tr>\n",
       "      <th>4</th>\n",
       "      <td>North Charleston</td>\n",
       "      <td>United States</td>\n",
       "      <td>North Charleston Coliseum</td>\n",
       "      <td>Gloriana\\r\\nKellie Pickler</td>\n",
       "      <td>8,751 / 8,751</td>\n",
       "      <td>$398,154</td>\n",
       "      <td>Fearless_Tour</td>\n",
       "    </tr>\n",
       "  </tbody>\n",
       "</table>\n",
       "</div>"
      ],
      "text/plain": [
       "               City        Country                      Venue  \\\n",
       "0        Evansville  United States  Roberts Municipal Stadium   \n",
       "1         Jonesboro  United States         Convocation Center   \n",
       "2         St. Louis  United States           Scottrade Center   \n",
       "3        Alexandria  United States  Bishop Ireton High School   \n",
       "4  North Charleston  United States  North Charleston Coliseum   \n",
       "\n",
       "               Opening act(s) Attendance (tickets sold / available)   Revenue  \\\n",
       "0  Gloriana\\r\\nKellie Pickler                         7,463 / 7,463  $360,617   \n",
       "1  Gloriana\\r\\nKellie Pickler                         7,822 / 7,822  $340,328   \n",
       "2  Gloriana\\r\\nKellie Pickler                       13,764 / 13,764  $650,420   \n",
       "3  Gloriana\\r\\nKellie Pickler                                                 \n",
       "4  Gloriana\\r\\nKellie Pickler                         8,751 / 8,751  $398,154   \n",
       "\n",
       "            Tour  \n",
       "0  Fearless_Tour  \n",
       "1  Fearless_Tour  \n",
       "2  Fearless_Tour  \n",
       "3  Fearless_Tour  \n",
       "4  Fearless_Tour  "
      ]
     },
     "execution_count": 267,
     "metadata": {},
     "output_type": "execute_result"
    }
   ],
   "source": [
    "df = pd.read_csv(r'C:\\Users\\bioni\\OneDrive\\Documents\\GitHub\\Coding_Temple\\Wk 6\\Assignments\\D2\\Taylor_Train.csv', encoding=\"latin-1\")\n",
    "df.head()"
   ]
  },
  {
   "cell_type": "markdown",
   "metadata": {},
   "source": [
    "### Step 2: Tidy the Data"
   ]
  },
  {
   "cell_type": "code",
   "execution_count": 268,
   "metadata": {},
   "outputs": [
    {
     "data": {
      "text/plain": [
       "0      Gloriana, Kellie Pickler\n",
       "1      Gloriana, Kellie Pickler\n",
       "2      Gloriana, Kellie Pickler\n",
       "3      Gloriana, Kellie Pickler\n",
       "4      Gloriana, Kellie Pickler\n",
       "                 ...           \n",
       "440          Charli XCX, Broods\n",
       "441          Charli XCX, Broods\n",
       "442          Charli XCX, Broods\n",
       "443                  Charli XCX\n",
       "444                  Charli XCX\n",
       "Name: Opening act(s), Length: 445, dtype: object"
      ]
     },
     "execution_count": 268,
     "metadata": {},
     "output_type": "execute_result"
    }
   ],
   "source": [
    "df['Opening act(s)'] = df['Opening act(s)'].str.strip().str.replace('\\r\\n', ', ')\n",
    "df['Opening act(s)']"
   ]
  },
  {
   "cell_type": "code",
   "execution_count": 269,
   "metadata": {},
   "outputs": [
    {
     "data": {
      "text/html": [
       "<div>\n",
       "<style scoped>\n",
       "    .dataframe tbody tr th:only-of-type {\n",
       "        vertical-align: middle;\n",
       "    }\n",
       "\n",
       "    .dataframe tbody tr th {\n",
       "        vertical-align: top;\n",
       "    }\n",
       "\n",
       "    .dataframe thead th {\n",
       "        text-align: right;\n",
       "    }\n",
       "</style>\n",
       "<table border=\"1\" class=\"dataframe\">\n",
       "  <thead>\n",
       "    <tr style=\"text-align: right;\">\n",
       "      <th></th>\n",
       "      <th>City</th>\n",
       "      <th>Country</th>\n",
       "      <th>Venue</th>\n",
       "      <th>Opening act(s)</th>\n",
       "      <th>Attendance (tickets sold / available)</th>\n",
       "      <th>Revenue</th>\n",
       "      <th>Tour</th>\n",
       "      <th>tickets_sold</th>\n",
       "      <th>tickets_available</th>\n",
       "    </tr>\n",
       "  </thead>\n",
       "  <tbody>\n",
       "    <tr>\n",
       "      <th>0</th>\n",
       "      <td>Evansville</td>\n",
       "      <td>United States</td>\n",
       "      <td>Roberts Municipal Stadium</td>\n",
       "      <td>Gloriana, Kellie Pickler</td>\n",
       "      <td>7,463 / 7,463</td>\n",
       "      <td>$360,617</td>\n",
       "      <td>Fearless_Tour</td>\n",
       "      <td>7,463</td>\n",
       "      <td>7,463</td>\n",
       "    </tr>\n",
       "    <tr>\n",
       "      <th>1</th>\n",
       "      <td>Jonesboro</td>\n",
       "      <td>United States</td>\n",
       "      <td>Convocation Center</td>\n",
       "      <td>Gloriana, Kellie Pickler</td>\n",
       "      <td>7,822 / 7,822</td>\n",
       "      <td>$340,328</td>\n",
       "      <td>Fearless_Tour</td>\n",
       "      <td>7,822</td>\n",
       "      <td>7,822</td>\n",
       "    </tr>\n",
       "    <tr>\n",
       "      <th>2</th>\n",
       "      <td>St. Louis</td>\n",
       "      <td>United States</td>\n",
       "      <td>Scottrade Center</td>\n",
       "      <td>Gloriana, Kellie Pickler</td>\n",
       "      <td>13,764 / 13,764</td>\n",
       "      <td>$650,420</td>\n",
       "      <td>Fearless_Tour</td>\n",
       "      <td>13,764</td>\n",
       "      <td>13,764</td>\n",
       "    </tr>\n",
       "    <tr>\n",
       "      <th>3</th>\n",
       "      <td>Alexandria</td>\n",
       "      <td>United States</td>\n",
       "      <td>Bishop Ireton High School</td>\n",
       "      <td>Gloriana, Kellie Pickler</td>\n",
       "      <td></td>\n",
       "      <td></td>\n",
       "      <td>Fearless_Tour</td>\n",
       "      <td></td>\n",
       "      <td>None</td>\n",
       "    </tr>\n",
       "    <tr>\n",
       "      <th>4</th>\n",
       "      <td>North Charleston</td>\n",
       "      <td>United States</td>\n",
       "      <td>North Charleston Coliseum</td>\n",
       "      <td>Gloriana, Kellie Pickler</td>\n",
       "      <td>8,751 / 8,751</td>\n",
       "      <td>$398,154</td>\n",
       "      <td>Fearless_Tour</td>\n",
       "      <td>8,751</td>\n",
       "      <td>8,751</td>\n",
       "    </tr>\n",
       "  </tbody>\n",
       "</table>\n",
       "</div>"
      ],
      "text/plain": [
       "               City        Country                      Venue  \\\n",
       "0        Evansville  United States  Roberts Municipal Stadium   \n",
       "1         Jonesboro  United States         Convocation Center   \n",
       "2         St. Louis  United States           Scottrade Center   \n",
       "3        Alexandria  United States  Bishop Ireton High School   \n",
       "4  North Charleston  United States  North Charleston Coliseum   \n",
       "\n",
       "             Opening act(s) Attendance (tickets sold / available)   Revenue  \\\n",
       "0  Gloriana, Kellie Pickler                         7,463 / 7,463  $360,617   \n",
       "1  Gloriana, Kellie Pickler                         7,822 / 7,822  $340,328   \n",
       "2  Gloriana, Kellie Pickler                       13,764 / 13,764  $650,420   \n",
       "3  Gloriana, Kellie Pickler                                                 \n",
       "4  Gloriana, Kellie Pickler                         8,751 / 8,751  $398,154   \n",
       "\n",
       "            Tour tickets_sold tickets_available  \n",
       "0  Fearless_Tour       7,463              7,463  \n",
       "1  Fearless_Tour       7,822              7,822  \n",
       "2  Fearless_Tour      13,764             13,764  \n",
       "3  Fearless_Tour                          None  \n",
       "4  Fearless_Tour       8,751              8,751  "
      ]
     },
     "execution_count": 269,
     "metadata": {},
     "output_type": "execute_result"
    }
   ],
   "source": [
    "df[[\"tickets_sold\", \"tickets_available\"]] = df[\"Attendance (tickets sold / available)\"].str.split(\"/\", expand = True)\n",
    "\n",
    "df.head()"
   ]
  },
  {
   "cell_type": "code",
   "execution_count": 270,
   "metadata": {},
   "outputs": [],
   "source": [
    "df.drop(\"Attendance (tickets sold / available)\",axis=1,inplace=True)\n",
    "\n"
   ]
  },
  {
   "cell_type": "code",
   "execution_count": 271,
   "metadata": {},
   "outputs": [
    {
     "data": {
      "text/html": [
       "<div>\n",
       "<style scoped>\n",
       "    .dataframe tbody tr th:only-of-type {\n",
       "        vertical-align: middle;\n",
       "    }\n",
       "\n",
       "    .dataframe tbody tr th {\n",
       "        vertical-align: top;\n",
       "    }\n",
       "\n",
       "    .dataframe thead th {\n",
       "        text-align: right;\n",
       "    }\n",
       "</style>\n",
       "<table border=\"1\" class=\"dataframe\">\n",
       "  <thead>\n",
       "    <tr style=\"text-align: right;\">\n",
       "      <th></th>\n",
       "      <th>City</th>\n",
       "      <th>Country</th>\n",
       "      <th>Venue</th>\n",
       "      <th>Opening act(s)</th>\n",
       "      <th>Revenue</th>\n",
       "      <th>Tour</th>\n",
       "      <th>tickets_sold</th>\n",
       "      <th>tickets_available</th>\n",
       "    </tr>\n",
       "  </thead>\n",
       "  <tbody>\n",
       "    <tr>\n",
       "      <th>0</th>\n",
       "      <td>Evansville</td>\n",
       "      <td>United States</td>\n",
       "      <td>Roberts Municipal Stadium</td>\n",
       "      <td>Gloriana, Kellie Pickler</td>\n",
       "      <td>$360,617</td>\n",
       "      <td>Fearless_Tour</td>\n",
       "      <td>7,463</td>\n",
       "      <td>7,463</td>\n",
       "    </tr>\n",
       "    <tr>\n",
       "      <th>1</th>\n",
       "      <td>Jonesboro</td>\n",
       "      <td>United States</td>\n",
       "      <td>Convocation Center</td>\n",
       "      <td>Gloriana, Kellie Pickler</td>\n",
       "      <td>$340,328</td>\n",
       "      <td>Fearless_Tour</td>\n",
       "      <td>7,822</td>\n",
       "      <td>7,822</td>\n",
       "    </tr>\n",
       "    <tr>\n",
       "      <th>2</th>\n",
       "      <td>St. Louis</td>\n",
       "      <td>United States</td>\n",
       "      <td>Scottrade Center</td>\n",
       "      <td>Gloriana, Kellie Pickler</td>\n",
       "      <td>$650,420</td>\n",
       "      <td>Fearless_Tour</td>\n",
       "      <td>13,764</td>\n",
       "      <td>13,764</td>\n",
       "    </tr>\n",
       "    <tr>\n",
       "      <th>3</th>\n",
       "      <td>Alexandria</td>\n",
       "      <td>United States</td>\n",
       "      <td>Bishop Ireton High School</td>\n",
       "      <td>Gloriana, Kellie Pickler</td>\n",
       "      <td></td>\n",
       "      <td>Fearless_Tour</td>\n",
       "      <td></td>\n",
       "      <td>None</td>\n",
       "    </tr>\n",
       "    <tr>\n",
       "      <th>4</th>\n",
       "      <td>North Charleston</td>\n",
       "      <td>United States</td>\n",
       "      <td>North Charleston Coliseum</td>\n",
       "      <td>Gloriana, Kellie Pickler</td>\n",
       "      <td>$398,154</td>\n",
       "      <td>Fearless_Tour</td>\n",
       "      <td>8,751</td>\n",
       "      <td>8,751</td>\n",
       "    </tr>\n",
       "  </tbody>\n",
       "</table>\n",
       "</div>"
      ],
      "text/plain": [
       "               City        Country                      Venue  \\\n",
       "0        Evansville  United States  Roberts Municipal Stadium   \n",
       "1         Jonesboro  United States         Convocation Center   \n",
       "2         St. Louis  United States           Scottrade Center   \n",
       "3        Alexandria  United States  Bishop Ireton High School   \n",
       "4  North Charleston  United States  North Charleston Coliseum   \n",
       "\n",
       "             Opening act(s)   Revenue           Tour tickets_sold  \\\n",
       "0  Gloriana, Kellie Pickler  $360,617  Fearless_Tour       7,463    \n",
       "1  Gloriana, Kellie Pickler  $340,328  Fearless_Tour       7,822    \n",
       "2  Gloriana, Kellie Pickler  $650,420  Fearless_Tour      13,764    \n",
       "3  Gloriana, Kellie Pickler           Fearless_Tour               \n",
       "4  Gloriana, Kellie Pickler  $398,154  Fearless_Tour       8,751    \n",
       "\n",
       "  tickets_available  \n",
       "0             7,463  \n",
       "1             7,822  \n",
       "2            13,764  \n",
       "3              None  \n",
       "4             8,751  "
      ]
     },
     "execution_count": 271,
     "metadata": {},
     "output_type": "execute_result"
    }
   ],
   "source": [
    "df.head()"
   ]
  },
  {
   "cell_type": "code",
   "execution_count": 272,
   "metadata": {},
   "outputs": [
    {
     "data": {
      "text/plain": [
       "Index(['city', 'country', 'venue', 'opening_act(s)', 'revenue', 'tour',\n",
       "       'tickets_sold', 'tickets_available'],\n",
       "      dtype='object')"
      ]
     },
     "execution_count": 272,
     "metadata": {},
     "output_type": "execute_result"
    }
   ],
   "source": [
    "df.columns = df.columns.str.lower().str.strip().str.replace(' ', '_')\n",
    "df.columns"
   ]
  },
  {
   "cell_type": "code",
   "execution_count": 254,
   "metadata": {},
   "outputs": [],
   "source": [
    "#df['tickets_sold'].str.strip().str.replace(',', '')"
   ]
  },
  {
   "cell_type": "code",
   "execution_count": 273,
   "metadata": {},
   "outputs": [
    {
     "data": {
      "text/html": [
       "<div>\n",
       "<style scoped>\n",
       "    .dataframe tbody tr th:only-of-type {\n",
       "        vertical-align: middle;\n",
       "    }\n",
       "\n",
       "    .dataframe tbody tr th {\n",
       "        vertical-align: top;\n",
       "    }\n",
       "\n",
       "    .dataframe thead th {\n",
       "        text-align: right;\n",
       "    }\n",
       "</style>\n",
       "<table border=\"1\" class=\"dataframe\">\n",
       "  <thead>\n",
       "    <tr style=\"text-align: right;\">\n",
       "      <th></th>\n",
       "      <th>city</th>\n",
       "      <th>country</th>\n",
       "      <th>venue</th>\n",
       "      <th>opening_act(s)</th>\n",
       "      <th>revenue</th>\n",
       "      <th>tour</th>\n",
       "      <th>tickets_sold</th>\n",
       "      <th>tickets_available</th>\n",
       "    </tr>\n",
       "  </thead>\n",
       "  <tbody>\n",
       "    <tr>\n",
       "      <th>0</th>\n",
       "      <td>Evansville</td>\n",
       "      <td>United States</td>\n",
       "      <td>Roberts Municipal Stadium</td>\n",
       "      <td>Gloriana, Kellie Pickler</td>\n",
       "      <td>$360,617</td>\n",
       "      <td>Fearless_Tour</td>\n",
       "      <td>7,463</td>\n",
       "      <td>7,463</td>\n",
       "    </tr>\n",
       "    <tr>\n",
       "      <th>1</th>\n",
       "      <td>Jonesboro</td>\n",
       "      <td>United States</td>\n",
       "      <td>Convocation Center</td>\n",
       "      <td>Gloriana, Kellie Pickler</td>\n",
       "      <td>$340,328</td>\n",
       "      <td>Fearless_Tour</td>\n",
       "      <td>7,822</td>\n",
       "      <td>7,822</td>\n",
       "    </tr>\n",
       "    <tr>\n",
       "      <th>2</th>\n",
       "      <td>St. Louis</td>\n",
       "      <td>United States</td>\n",
       "      <td>Scottrade Center</td>\n",
       "      <td>Gloriana, Kellie Pickler</td>\n",
       "      <td>$650,420</td>\n",
       "      <td>Fearless_Tour</td>\n",
       "      <td>13,764</td>\n",
       "      <td>13,764</td>\n",
       "    </tr>\n",
       "    <tr>\n",
       "      <th>3</th>\n",
       "      <td>Alexandria</td>\n",
       "      <td>United States</td>\n",
       "      <td>Bishop Ireton High School</td>\n",
       "      <td>Gloriana, Kellie Pickler</td>\n",
       "      <td></td>\n",
       "      <td>Fearless_Tour</td>\n",
       "      <td></td>\n",
       "      <td>None</td>\n",
       "    </tr>\n",
       "    <tr>\n",
       "      <th>4</th>\n",
       "      <td>North Charleston</td>\n",
       "      <td>United States</td>\n",
       "      <td>North Charleston Coliseum</td>\n",
       "      <td>Gloriana, Kellie Pickler</td>\n",
       "      <td>$398,154</td>\n",
       "      <td>Fearless_Tour</td>\n",
       "      <td>8,751</td>\n",
       "      <td>8,751</td>\n",
       "    </tr>\n",
       "  </tbody>\n",
       "</table>\n",
       "</div>"
      ],
      "text/plain": [
       "               city        country                      venue  \\\n",
       "0        Evansville  United States  Roberts Municipal Stadium   \n",
       "1         Jonesboro  United States         Convocation Center   \n",
       "2         St. Louis  United States           Scottrade Center   \n",
       "3        Alexandria  United States  Bishop Ireton High School   \n",
       "4  North Charleston  United States  North Charleston Coliseum   \n",
       "\n",
       "             opening_act(s)   revenue           tour tickets_sold  \\\n",
       "0  Gloriana, Kellie Pickler  $360,617  Fearless_Tour       7,463    \n",
       "1  Gloriana, Kellie Pickler  $340,328  Fearless_Tour       7,822    \n",
       "2  Gloriana, Kellie Pickler  $650,420  Fearless_Tour      13,764    \n",
       "3  Gloriana, Kellie Pickler           Fearless_Tour               \n",
       "4  Gloriana, Kellie Pickler  $398,154  Fearless_Tour       8,751    \n",
       "\n",
       "  tickets_available  \n",
       "0             7,463  \n",
       "1             7,822  \n",
       "2            13,764  \n",
       "3              None  \n",
       "4             8,751  "
      ]
     },
     "execution_count": 273,
     "metadata": {},
     "output_type": "execute_result"
    }
   ],
   "source": [
    "df.head()"
   ]
  },
  {
   "cell_type": "code",
   "execution_count": 274,
   "metadata": {},
   "outputs": [],
   "source": [
    "df['tickets_sold'] = df['tickets_sold'].replace('\\x97', '0').str.replace(',','').fillna(0).astype(int)"
   ]
  },
  {
   "cell_type": "code",
   "execution_count": 275,
   "metadata": {},
   "outputs": [],
   "source": [
    "df['tickets_available'] = df['tickets_available'].replace('\\x97', '0').str.replace(',','').fillna(0).astype(int)"
   ]
  },
  {
   "cell_type": "code",
   "execution_count": 285,
   "metadata": {},
   "outputs": [
    {
     "name": "stdout",
     "output_type": "stream",
     "text": [
      "<class 'pandas.core.frame.DataFrame'>\n",
      "RangeIndex: 445 entries, 0 to 444\n",
      "Data columns (total 8 columns):\n",
      " #   Column             Non-Null Count  Dtype \n",
      "---  ------             --------------  ----- \n",
      " 0   city               445 non-null    object\n",
      " 1   country            445 non-null    object\n",
      " 2   venue              445 non-null    object\n",
      " 3   opening_act(s)     445 non-null    object\n",
      " 4   revenue            442 non-null    object\n",
      " 5   tour               445 non-null    object\n",
      " 6   tickets_sold       445 non-null    int32 \n",
      " 7   tickets_available  445 non-null    int32 \n",
      "dtypes: int32(2), object(6)\n",
      "memory usage: 24.5+ KB\n"
     ]
    }
   ],
   "source": [
    "df.info()"
   ]
  },
  {
   "cell_type": "code",
   "execution_count": 280,
   "metadata": {},
   "outputs": [
    {
     "ename": "TypeError",
     "evalue": "'DataFrame' object is not callable",
     "output_type": "error",
     "traceback": [
      "\u001b[1;31m---------------------------------------------------------------------------\u001b[0m",
      "\u001b[1;31mTypeError\u001b[0m                                 Traceback (most recent call last)",
      "\u001b[1;32mc:\\Users\\bioni\\OneDrive\\Documents\\GitHub\\Coding_Temple\\Wk 6\\Assignments\\D2\\Tay_tay.ipynb Cell 16\u001b[0m line \u001b[0;36m1\n\u001b[1;32m----> <a href='vscode-notebook-cell:/c%3A/Users/bioni/OneDrive/Documents/GitHub/Coding_Temple/Wk%206/Assignments/D2/Tay_tay.ipynb#X31sZmlsZQ%3D%3D?line=0'>1</a>\u001b[0m df[\u001b[39m'\u001b[39m\u001b[39mrevenue\u001b[39m\u001b[39m'\u001b[39m]\u001b[39m=\u001b[39mdf([\u001b[39m'\u001b[39;49m\u001b[39mrevenue\u001b[39;49m\u001b[39m'\u001b[39;49m], errors\u001b[39m=\u001b[39;49m\u001b[39m'\u001b[39;49m\u001b[39mcoerce\u001b[39;49m\u001b[39m'\u001b[39;49m)\u001b[39m.\u001b[39mfillna(\u001b[39m0\u001b[39m, downcast\u001b[39m=\u001b[39m\u001b[39m'\u001b[39m\u001b[39minfer\u001b[39m\u001b[39m'\u001b[39m)\n",
      "\u001b[1;31mTypeError\u001b[0m: 'DataFrame' object is not callable"
     ]
    }
   ],
   "source": [
    "df['revenue']=df(['revenue'], errors='coerce').fillna(0, downcast='infer')\n"
   ]
  },
  {
   "cell_type": "code",
   "execution_count": 277,
   "metadata": {},
   "outputs": [],
   "source": [
    "df['opening_act(s)'] = df['opening_act(s)'].fillna(0)"
   ]
  },
  {
   "cell_type": "code",
   "execution_count": 290,
   "metadata": {},
   "outputs": [],
   "source": [
    "df['revenue'] = df['revenue'].replace('\\x97', '0').str.replace('$','').fillna(0).str.replace(\",\",\"\").astype(float)"
   ]
  },
  {
   "cell_type": "code",
   "execution_count": 293,
   "metadata": {},
   "outputs": [
    {
     "name": "stdout",
     "output_type": "stream",
     "text": [
      "<class 'pandas.core.frame.DataFrame'>\n",
      "RangeIndex: 445 entries, 0 to 444\n",
      "Data columns (total 8 columns):\n",
      " #   Column             Non-Null Count  Dtype  \n",
      "---  ------             --------------  -----  \n",
      " 0   city               445 non-null    object \n",
      " 1   country            445 non-null    object \n",
      " 2   venue              445 non-null    object \n",
      " 3   opening_act(s)     445 non-null    object \n",
      " 4   revenue            445 non-null    float64\n",
      " 5   tour               445 non-null    object \n",
      " 6   tickets_sold       445 non-null    int32  \n",
      " 7   tickets_available  445 non-null    int32  \n",
      "dtypes: float64(1), int32(2), object(5)\n",
      "memory usage: 24.5+ KB\n"
     ]
    }
   ],
   "source": [
    "df.info()"
   ]
  },
  {
   "cell_type": "code",
   "execution_count": 292,
   "metadata": {},
   "outputs": [],
   "source": [
    "df['revenue'] = df['revenue'].fillna(0)"
   ]
  },
  {
   "cell_type": "code",
   "execution_count": 294,
   "metadata": {},
   "outputs": [
    {
     "name": "stdout",
     "output_type": "stream",
     "text": [
      "<class 'pandas.core.frame.DataFrame'>\n",
      "RangeIndex: 445 entries, 0 to 444\n",
      "Data columns (total 8 columns):\n",
      " #   Column             Non-Null Count  Dtype  \n",
      "---  ------             --------------  -----  \n",
      " 0   city               445 non-null    object \n",
      " 1   country            445 non-null    object \n",
      " 2   venue              445 non-null    object \n",
      " 3   opening_act(s)     445 non-null    object \n",
      " 4   revenue            445 non-null    float64\n",
      " 5   tour               445 non-null    object \n",
      " 6   tickets_sold       445 non-null    int32  \n",
      " 7   tickets_available  445 non-null    int32  \n",
      "dtypes: float64(1), int32(2), object(5)\n",
      "memory usage: 24.5+ KB\n"
     ]
    }
   ],
   "source": [
    "df.info()"
   ]
  },
  {
   "cell_type": "markdown",
   "metadata": {},
   "source": [
    "### Step 3: EDA (Exploratory Data Analysis)\n",
    "We begin exploring and gathering summary statistics about our dataset and arm ourselves with as much knowledge as possible about what it is we are working with.\n",
    "\n",
    "We also going to take the time in this section to see if there is any further tidying up that needs to be accomplished before we can begin moving forward.\n",
    "\n",
    "- df.describe()\n",
    "- df.info()\n",
    "- df.value_count()"
   ]
  },
  {
   "cell_type": "code",
   "execution_count": 296,
   "metadata": {},
   "outputs": [
    {
     "data": {
      "text/html": [
       "<div>\n",
       "<style scoped>\n",
       "    .dataframe tbody tr th:only-of-type {\n",
       "        vertical-align: middle;\n",
       "    }\n",
       "\n",
       "    .dataframe tbody tr th {\n",
       "        vertical-align: top;\n",
       "    }\n",
       "\n",
       "    .dataframe thead th {\n",
       "        text-align: right;\n",
       "    }\n",
       "</style>\n",
       "<table border=\"1\" class=\"dataframe\">\n",
       "  <thead>\n",
       "    <tr style=\"text-align: right;\">\n",
       "      <th></th>\n",
       "      <th>revenue</th>\n",
       "      <th>tickets_sold</th>\n",
       "      <th>tickets_available</th>\n",
       "    </tr>\n",
       "  </thead>\n",
       "  <tbody>\n",
       "    <tr>\n",
       "      <th>count</th>\n",
       "      <td>445.00</td>\n",
       "      <td>445.00</td>\n",
       "      <td>445.00</td>\n",
       "    </tr>\n",
       "    <tr>\n",
       "      <th>mean</th>\n",
       "      <td>3551228.93</td>\n",
       "      <td>35628.42</td>\n",
       "      <td>35671.58</td>\n",
       "    </tr>\n",
       "    <tr>\n",
       "      <th>std</th>\n",
       "      <td>4276179.72</td>\n",
       "      <td>35178.54</td>\n",
       "      <td>35165.02</td>\n",
       "    </tr>\n",
       "    <tr>\n",
       "      <th>min</th>\n",
       "      <td>0.00</td>\n",
       "      <td>0.00</td>\n",
       "      <td>0.00</td>\n",
       "    </tr>\n",
       "    <tr>\n",
       "      <th>25%</th>\n",
       "      <td>828231.00</td>\n",
       "      <td>12807.00</td>\n",
       "      <td>12807.00</td>\n",
       "    </tr>\n",
       "    <tr>\n",
       "      <th>50%</th>\n",
       "      <td>1864934.00</td>\n",
       "      <td>25991.00</td>\n",
       "      <td>25991.00</td>\n",
       "    </tr>\n",
       "    <tr>\n",
       "      <th>75%</th>\n",
       "      <td>4268678.00</td>\n",
       "      <td>49464.00</td>\n",
       "      <td>49464.00</td>\n",
       "    </tr>\n",
       "    <tr>\n",
       "      <th>max</th>\n",
       "      <td>22031386.00</td>\n",
       "      <td>174764.00</td>\n",
       "      <td>174764.00</td>\n",
       "    </tr>\n",
       "  </tbody>\n",
       "</table>\n",
       "</div>"
      ],
      "text/plain": [
       "           revenue  tickets_sold  tickets_available\n",
       "count       445.00        445.00             445.00\n",
       "mean    3551228.93      35628.42           35671.58\n",
       "std     4276179.72      35178.54           35165.02\n",
       "min           0.00          0.00               0.00\n",
       "25%      828231.00      12807.00           12807.00\n",
       "50%     1864934.00      25991.00           25991.00\n",
       "75%     4268678.00      49464.00           49464.00\n",
       "max    22031386.00     174764.00          174764.00"
      ]
     },
     "execution_count": 296,
     "metadata": {},
     "output_type": "execute_result"
    }
   ],
   "source": [
    "df.describe().round(2)"
   ]
  },
  {
   "cell_type": "code",
   "execution_count": 297,
   "metadata": {},
   "outputs": [
    {
     "name": "stdout",
     "output_type": "stream",
     "text": [
      "<class 'pandas.core.frame.DataFrame'>\n",
      "RangeIndex: 445 entries, 0 to 444\n",
      "Data columns (total 8 columns):\n",
      " #   Column             Non-Null Count  Dtype  \n",
      "---  ------             --------------  -----  \n",
      " 0   city               445 non-null    object \n",
      " 1   country            445 non-null    object \n",
      " 2   venue              445 non-null    object \n",
      " 3   opening_act(s)     445 non-null    object \n",
      " 4   revenue            445 non-null    float64\n",
      " 5   tour               445 non-null    object \n",
      " 6   tickets_sold       445 non-null    int32  \n",
      " 7   tickets_available  445 non-null    int32  \n",
      "dtypes: float64(1), int32(2), object(5)\n",
      "memory usage: 24.5+ KB\n"
     ]
    }
   ],
   "source": [
    "df.info()"
   ]
  },
  {
   "cell_type": "code",
   "execution_count": null,
   "metadata": {},
   "outputs": [],
   "source": []
  },
  {
   "cell_type": "code",
   "execution_count": 298,
   "metadata": {},
   "outputs": [
    {
     "data": {
      "text/plain": [
       "city         country        venue              opening_act(s)              revenue     tour                     tickets_sold  tickets_available\n",
       "Los Angeles  United States  Staples Center     Vance Joy, Haim             8961681.0   The_1989_World_Tour      70563         70563                5\n",
       "                                               Ed Sheeran, Casey James     4734463.0   The_Red_Tour             55829         55829                4\n",
       "                                               Needtobreathe               3927154.0   Speak_Now_World_Tour     54900         54900                4\n",
       "Newark       United States  Prudential Center  Needtobreathe               3875463.0   Speak_Now_World_Tour     51487         51487                4\n",
       "Melbourne    Australia      AAMI Park          Vance Joy                   10421553.0  The_1989_World_Tour      98136         98136                3\n",
       "                                                                                                                                                  ..\n",
       "Houston      United States  Toyota Center      Ed Sheeran, Brett Eldredge  961422.0    The_Red_Tour             12467         12467                1\n",
       "                            NRG Stadium        Camila Cabello, Charli XCX  9350275.0   Reputation_Stadium_Tour  53800         53800                1\n",
       "                            Minute Maid Park   Vance Joy, Shawn Mendes     5202196.0   The_1989_World_Tour      40122         40122                1\n",
       "                                               Needtobreathe               3435756.0   Speak_Now_World_Tour     42095         42095                1\n",
       "Winnipeg     Canada         MTS Centre         Gloriana, Kellie Pickler    512487.0    Fearless_Tour            11369         11369                1\n",
       "Name: count, Length: 333, dtype: int64"
      ]
     },
     "execution_count": 298,
     "metadata": {},
     "output_type": "execute_result"
    }
   ],
   "source": [
    "df.value_counts()"
   ]
  },
  {
   "cell_type": "code",
   "execution_count": null,
   "metadata": {},
   "outputs": [],
   "source": [
    "df.to_csv('Tay_Tay.csv', index= False)"
   ]
  }
 ],
 "metadata": {
  "kernelspec": {
   "display_name": "Python 3",
   "language": "python",
   "name": "python3"
  },
  "language_info": {
   "codemirror_mode": {
    "name": "ipython",
    "version": 3
   },
   "file_extension": ".py",
   "mimetype": "text/x-python",
   "name": "python",
   "nbconvert_exporter": "python",
   "pygments_lexer": "ipython3",
   "version": "3.11.5"
  }
 },
 "nbformat": 4,
 "nbformat_minor": 2
}
