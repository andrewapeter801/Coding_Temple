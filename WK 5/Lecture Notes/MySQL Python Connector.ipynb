{
 "cells": [
  {
   "cell_type": "markdown",
   "metadata": {},
   "source": [
    "# Coding Temple's Data Analytics Program\n",
    "---\n",
    "## MySQL Python Connector"
   ]
  },
  {
   "cell_type": "markdown",
   "metadata": {},
   "source": [
    "### Part 1: Installs\n",
    "To begin with, we will need to install the mysql connector. Sometimes, we will also be required to make another pip install to ensure the module works properly"
   ]
  },
  {
   "cell_type": "code",
   "execution_count": 1,
   "metadata": {},
   "outputs": [
    {
     "name": "stdout",
     "output_type": "stream",
     "text": [
      "Collecting mysql-connector-python\n",
      "  Obtaining dependency information for mysql-connector-python from https://files.pythonhosted.org/packages/d3/b8/6798a0f91e595c0704a94c1e32a00ca930f77cb8f0f96c7e4dad4f9db1fe/mysql_connector_python-8.1.0-cp311-cp311-win_amd64.whl.metadata\n",
      "  Downloading mysql_connector_python-8.1.0-cp311-cp311-win_amd64.whl.metadata (2.1 kB)\n",
      "Collecting protobuf<=4.21.12,>=4.21.1 (from mysql-connector-python)\n",
      "  Downloading protobuf-4.21.12-cp310-abi3-win_amd64.whl (527 kB)\n",
      "     ---------------------------------------- 0.0/527.0 kB ? eta -:--:--\n",
      "     ---------------------------------------- 0.0/527.0 kB ? eta -:--:--\n",
      "      --------------------------------------- 10.2/527.0 kB ? eta -:--:--\n",
      "     -- ---------------------------------- 41.0/527.0 kB 330.3 kB/s eta 0:00:02\n",
      "     ------- ---------------------------- 112.6/527.0 kB 731.4 kB/s eta 0:00:01\n",
      "     -------------------------- ----------- 368.6/527.0 kB 1.9 MB/s eta 0:00:01\n",
      "     -------------------------------------  522.2/527.0 kB 2.3 MB/s eta 0:00:01\n",
      "     -------------------------------------- 527.0/527.0 kB 2.2 MB/s eta 0:00:00\n",
      "Downloading mysql_connector_python-8.1.0-cp311-cp311-win_amd64.whl (10.8 MB)\n",
      "   ---------------------------------------- 0.0/10.8 MB ? eta -:--:--\n",
      "    --------------------------------------- 0.2/10.8 MB 15.7 MB/s eta 0:00:01\n",
      "   -- ------------------------------------- 0.6/10.8 MB 6.5 MB/s eta 0:00:02\n",
      "   --- ------------------------------------ 1.0/10.8 MB 7.6 MB/s eta 0:00:02\n",
      "   ---- ----------------------------------- 1.1/10.8 MB 6.6 MB/s eta 0:00:02\n",
      "   ----- ---------------------------------- 1.5/10.8 MB 7.0 MB/s eta 0:00:02\n",
      "   ------ --------------------------------- 1.9/10.8 MB 7.0 MB/s eta 0:00:02\n",
      "   ------- -------------------------------- 2.2/10.8 MB 6.9 MB/s eta 0:00:02\n",
      "   -------- ------------------------------- 2.4/10.8 MB 6.7 MB/s eta 0:00:02\n",
      "   ---------- ----------------------------- 2.7/10.8 MB 6.5 MB/s eta 0:00:02\n",
      "   ----------- ---------------------------- 3.0/10.8 MB 6.5 MB/s eta 0:00:02\n",
      "   ------------ --------------------------- 3.3/10.8 MB 6.6 MB/s eta 0:00:02\n",
      "   ------------- -------------------------- 3.6/10.8 MB 6.6 MB/s eta 0:00:02\n",
      "   -------------- ------------------------- 3.9/10.8 MB 6.5 MB/s eta 0:00:02\n",
      "   --------------- ------------------------ 4.2/10.8 MB 6.5 MB/s eta 0:00:02\n",
      "   ---------------- ----------------------- 4.5/10.8 MB 6.5 MB/s eta 0:00:01\n",
      "   ----------------- ---------------------- 4.8/10.8 MB 6.5 MB/s eta 0:00:01\n",
      "   ------------------ --------------------- 5.2/10.8 MB 6.6 MB/s eta 0:00:01\n",
      "   ------------------- -------------------- 5.4/10.8 MB 6.6 MB/s eta 0:00:01\n",
      "   -------------------- ------------------- 5.6/10.8 MB 6.4 MB/s eta 0:00:01\n",
      "   --------------------- ------------------ 5.9/10.8 MB 6.4 MB/s eta 0:00:01\n",
      "   ---------------------- ----------------- 6.2/10.8 MB 6.4 MB/s eta 0:00:01\n",
      "   ----------------------- ---------------- 6.4/10.8 MB 6.3 MB/s eta 0:00:01\n",
      "   ------------------------ --------------- 6.6/10.8 MB 6.2 MB/s eta 0:00:01\n",
      "   ------------------------- -------------- 6.9/10.8 MB 6.2 MB/s eta 0:00:01\n",
      "   -------------------------- ------------- 7.2/10.8 MB 6.3 MB/s eta 0:00:01\n",
      "   --------------------------- ------------ 7.5/10.8 MB 6.2 MB/s eta 0:00:01\n",
      "   ---------------------------- ----------- 7.8/10.8 MB 6.3 MB/s eta 0:00:01\n",
      "   ----------------------------- ---------- 8.1/10.8 MB 6.2 MB/s eta 0:00:01\n",
      "   ------------------------------ --------- 8.4/10.8 MB 6.2 MB/s eta 0:00:01\n",
      "   ------------------------------- -------- 8.6/10.8 MB 6.2 MB/s eta 0:00:01\n",
      "   -------------------------------- ------- 8.9/10.8 MB 6.2 MB/s eta 0:00:01\n",
      "   --------------------------------- ------ 9.2/10.8 MB 6.2 MB/s eta 0:00:01\n",
      "   ---------------------------------- ----- 9.5/10.8 MB 6.2 MB/s eta 0:00:01\n",
      "   ------------------------------------ --- 9.8/10.8 MB 6.2 MB/s eta 0:00:01\n",
      "   ------------------------------------- -- 10.1/10.8 MB 6.3 MB/s eta 0:00:01\n",
      "   -------------------------------------- - 10.5/10.8 MB 6.3 MB/s eta 0:00:01\n",
      "   ---------------------------------------  10.8/10.8 MB 6.2 MB/s eta 0:00:01\n",
      "   ---------------------------------------  10.8/10.8 MB 6.3 MB/s eta 0:00:01\n",
      "   ---------------------------------------  10.8/10.8 MB 6.3 MB/s eta 0:00:01\n",
      "   ---------------------------------------- 10.8/10.8 MB 5.8 MB/s eta 0:00:00\n",
      "Installing collected packages: protobuf, mysql-connector-python\n",
      "Successfully installed mysql-connector-python-8.1.0 protobuf-4.21.12\n",
      "Collecting mysqlclient\n",
      "  Obtaining dependency information for mysqlclient from https://files.pythonhosted.org/packages/6d/48/571d99aa4634719c92d516c7bada1091ab85cebbd02fcf83f34b19f04c87/mysqlclient-2.2.0-cp311-cp311-win_amd64.whl.metadata\n",
      "  Downloading mysqlclient-2.2.0-cp311-cp311-win_amd64.whl.metadata (4.5 kB)\n",
      "Downloading mysqlclient-2.2.0-cp311-cp311-win_amd64.whl (199 kB)\n",
      "   ---------------------------------------- 0.0/200.0 kB ? eta -:--:--\n",
      "   -- ------------------------------------- 10.2/200.0 kB ? eta -:--:--\n",
      "   -- ------------------------------------- 10.2/200.0 kB ? eta -:--:--\n",
      "   ------- ------------------------------- 41.0/200.0 kB 326.8 kB/s eta 0:00:01\n",
      "   ---------------------------------- ----- 174.1/200.0 kB 1.2 MB/s eta 0:00:01\n",
      "   ---------------------------------------- 200.0/200.0 kB 1.2 MB/s eta 0:00:00\n",
      "Installing collected packages: mysqlclient\n",
      "Successfully installed mysqlclient-2.2.0\n"
     ]
    }
   ],
   "source": [
    "# Pip installs\n",
    "# If you need to run these installs, just uncomment each\n",
    "! python -m pip install mysql-connector-python\n",
    "\n",
    "# May sometimes need this installed as well in order for mysql to properly communicate with your program\n",
    "! python -m pip install mysqlclient"
   ]
  },
  {
   "cell_type": "code",
   "execution_count": 1,
   "metadata": {},
   "outputs": [
    {
     "ename": "",
     "evalue": "",
     "output_type": "error",
     "traceback": [
      "\u001b[1;31mThe Kernel crashed while executing code in the the current cell or a previous cell. Please review the code in the cell(s) to identify a possible cause of the failure. Click <a href='https://aka.ms/vscodeJupyterKernelCrash'>here</a> for more info. View Jupyter <a href='command:jupyter.viewOutput'>log</a> for further details."
     ]
    }
   ],
   "source": [
    "import mysql.connector\n",
    "from os import getenv\n",
    "from dotenv import load_dotenv"
   ]
  },
  {
   "cell_type": "markdown",
   "metadata": {},
   "source": [
    "## Part 2: Interacting with a MySQL Database\n",
    "In order to work with our database, we will want to use the import from above and connect to the mysql server. Once we are connected, we will create a cursory object and loop through each database:"
   ]
  },
  {
   "cell_type": "markdown",
   "metadata": {},
   "source": [
    "### Create the Connection"
   ]
  },
  {
   "cell_type": "code",
   "execution_count": null,
   "metadata": {},
   "outputs": [],
   "source": [
    "load.dotenv(r'')"
   ]
  },
  {
   "cell_type": "markdown",
   "metadata": {},
   "source": [
    "### Create Schema"
   ]
  },
  {
   "cell_type": "markdown",
   "metadata": {},
   "source": [
    "Now that we have verified our connection and looked at the available database schemas we can work with, we need to interact with one of these specific schema. Let's create one now to use together:"
   ]
  },
  {
   "cell_type": "code",
   "execution_count": null,
   "metadata": {},
   "outputs": [],
   "source": [
    "cur.executor('SHOW DATABASES')\n",
    "for x in cur:\n",
    "    print(x)\n",
    "\n"
   ]
  },
  {
   "cell_type": "markdown",
   "metadata": {},
   "source": [
    "Let's verify that the new schema has been added to our database:"
   ]
  },
  {
   "cell_type": "code",
   "execution_count": null,
   "metadata": {},
   "outputs": [],
   "source": []
  },
  {
   "cell_type": "markdown",
   "metadata": {},
   "source": [
    "### Connect to DataBase"
   ]
  },
  {
   "cell_type": "markdown",
   "metadata": {},
   "source": [
    "Perfect! Looks like this now exists within our databases. Let's connect to it now"
   ]
  },
  {
   "cell_type": "code",
   "execution_count": null,
   "metadata": {},
   "outputs": [],
   "source": [
    "database = getenv('DATABASE')\n",
    "mydb = myslq.connector.connect(user=user, password=password, host=host, database=database)\n",
    "\n",
    "cur=mydb.cursor()\n",
    "for x in cur:\n",
    "    print(x)"
   ]
  },
  {
   "cell_type": "markdown",
   "metadata": {},
   "source": [
    "### Create Tables"
   ]
  },
  {
   "cell_type": "markdown",
   "metadata": {},
   "source": [
    "Since we just created this schema, we would have no tables present within it. So, we will making them in Python!"
   ]
  },
  {
   "cell_type": "code",
   "execution_count": null,
   "metadata": {},
   "outputs": [],
   "source": [
    "# Using the cursor object, we execute a sql command:\n",
    "cur.execute('CREATE TABLE IF NOT EXISTS sales(purchase_id INT, movie_title VARCHAR(500), purchase_total NUMERIC(8,2))')\n",
    "\n",
    "# Commit the changes made by us to the database\n",
    "# If we don't do this, our changes will not save!!\n",
    "mydb.commit()"
   ]
  },
  {
   "cell_type": "markdown",
   "metadata": {},
   "source": [
    "### Insert Data"
   ]
  },
  {
   "cell_type": "markdown",
   "metadata": {},
   "source": [
    "Great. We have successfully created a table using MySQL in Python! Now, our next step is to insert data into this table. "
   ]
  },
  {
   "cell_type": "code",
   "execution_count": null,
   "metadata": {},
   "outputs": [],
   "source": [
    "cur.execute('INSERT INTO sales VALUES(01, \"Hocus Pocus\", 17.99)')\n",
    "cur.execute('INSERT INTO sales VALUES(02, \"Die Hard\", 22.99)')\n",
    "cur.execute('INSERT INTO sales VALUES(03, \"Kung Foo Panda\", 17.99)')"
   ]
  },
  {
   "cell_type": "code",
   "execution_count": null,
   "metadata": {},
   "outputs": [],
   "source": [
    "mydb.commit()"
   ]
  },
  {
   "cell_type": "code",
   "execution_count": null,
   "metadata": {},
   "outputs": [],
   "source": [
    "cur.execute('''SELECT * FROM sales''')\n",
    "for x in cur:\n",
    "    print(x)"
   ]
  },
  {
   "cell_type": "code",
   "execution_count": null,
   "metadata": {},
   "outputs": [],
   "source": [
    "# add in a qty column? Create it as \n",
    "cur.execute(\"ALTER TABLE sales ADD quantity INT\")\n",
    "mydb.commit()\n",
    "\n",
    "# Verify my alteration has been completed\n",
    "cur.execute('''SELECT * FROM sales''')\n",
    "for x in cur:\n",
    "    print(x)"
   ]
  },
  {
   "cell_type": "code",
   "execution_count": null,
   "metadata": {},
   "outputs": [],
   "source": [
    "# Drop\n",
    "cur.execute(\"ALTER TABLE sales DROP quantity\")\n",
    "mydb.commit()\n"
   ]
  },
  {
   "cell_type": "markdown",
   "metadata": {},
   "source": [
    "### Building it into a Class"
   ]
  },
  {
   "cell_type": "markdown",
   "metadata": {},
   "source": [
    "How can we take the things we have learned about and transform them into a functional object that can be inserted into a program or a pipeline?\n",
    "\n",
    "Let's build a class out of it!"
   ]
  },
  {
   "cell_type": "code",
   "execution_count": null,
   "metadata": {},
   "outputs": [],
   "source": [
    "# Create a class\n",
    "class MySQLCon:\n",
    "    def __init__(self):\n",
    "    self.__con = mysql.connector.connect(user='Andrew', password = 'xxxxxxxxx!', host =  , database = 'bonfire_mysql_connector')\n",
    "    self.__cur = self.__cur.cursor()\n",
    "\n",
    "def execute_command(self, sql.command):\n",
    "    self.__cur(sql_command)\n",
    "    self.__con.commit()\n",
    "    self.__con.close()\n",
    "\n",
    "\n",
    "def show_info(self, sql_command):\n",
    "    self.__cur.execute(sql_command)\n",
    "    for x in self.cur:\n",
    "        yield x\n",
    "    self.__con.close()\n",
    "\n",
    "c = MySQLCon()\n",
    "c.execute_command('CREATE TABLE IF NOT EXISTS students(student_id, class VARCHAR(100), grade VARCHAR(5))')\n",
    "\n"
   ]
  },
  {
   "cell_type": "code",
   "execution_count": null,
   "metadata": {},
   "outputs": [],
   "source": [
    "for x in c.show_info('SHOW TABLES'):\n",
    "    print(x)"
   ]
  }
 ],
 "metadata": {
  "kernelspec": {
   "display_name": "Python 3",
   "language": "python",
   "name": "python3"
  },
  "language_info": {
   "codemirror_mode": {
    "name": "ipython",
    "version": 3
   },
   "file_extension": ".py",
   "mimetype": "text/x-python",
   "name": "python",
   "nbconvert_exporter": "python",
   "pygments_lexer": "ipython3",
   "version": "3.11.5"
  },
  "orig_nbformat": 4
 },
 "nbformat": 4,
 "nbformat_minor": 2
}
