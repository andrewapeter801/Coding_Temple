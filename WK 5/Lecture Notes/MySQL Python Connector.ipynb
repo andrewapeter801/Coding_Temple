{
 "cells": [
  {
   "cell_type": "markdown",
   "metadata": {},
   "source": [
    "# Coding Temple's Data Analytics Program\n",
    "---\n",
    "## MySQL Python Connector"
   ]
  },
  {
   "cell_type": "markdown",
   "metadata": {},
   "source": [
    "### Part 1: Installs\n",
    "To begin with, we will need to install the mysql connector. Sometimes, we will also be required to make another pip install to ensure the module works properly"
   ]
  },
  {
   "cell_type": "code",
   "execution_count": 1,
   "metadata": {},
   "outputs": [
    {
     "name": "stdout",
     "output_type": "stream",
     "text": [
      "Requirement already satisfied: mysql-connector-python in c:\\users\\bioni\\appdata\\local\\packages\\pythonsoftwarefoundation.python.3.11_qbz5n2kfra8p0\\localcache\\local-packages\\python311\\site-packages (8.1.0)\n",
      "Requirement already satisfied: protobuf<=4.21.12,>=4.21.1 in c:\\users\\bioni\\appdata\\local\\packages\\pythonsoftwarefoundation.python.3.11_qbz5n2kfra8p0\\localcache\\local-packages\\python311\\site-packages (from mysql-connector-python) (4.21.12)\n"
     ]
    },
    {
     "name": "stderr",
     "output_type": "stream",
     "text": [
      "\n",
      "[notice] A new release of pip is available: 23.2.1 -> 23.3.1\n",
      "[notice] To update, run: C:\\Users\\bioni\\AppData\\Local\\Microsoft\\WindowsApps\\PythonSoftwareFoundation.Python.3.11_qbz5n2kfra8p0\\python.exe -m pip install --upgrade pip\n"
     ]
    },
    {
     "name": "stdout",
     "output_type": "stream",
     "text": [
      "Requirement already satisfied: mysqlclient in c:\\users\\bioni\\appdata\\local\\packages\\pythonsoftwarefoundation.python.3.11_qbz5n2kfra8p0\\localcache\\local-packages\\python311\\site-packages (2.2.0)\n"
     ]
    },
    {
     "name": "stderr",
     "output_type": "stream",
     "text": [
      "\n",
      "[notice] A new release of pip is available: 23.2.1 -> 23.3.1\n",
      "[notice] To update, run: C:\\Users\\bioni\\AppData\\Local\\Microsoft\\WindowsApps\\PythonSoftwareFoundation.Python.3.11_qbz5n2kfra8p0\\python.exe -m pip install --upgrade pip\n"
     ]
    }
   ],
   "source": [
    "# Pip installs\n",
    "# If you need to run these installs, just uncomment each\n",
    "! python -m pip install mysql-connector-python\n",
    "\n",
    "# May sometimes need this installed as well in order for mysql to properly communicate with your program\n",
    "! python -m pip install mysqlclient"
   ]
  },
  {
   "cell_type": "code",
   "execution_count": 2,
   "metadata": {},
   "outputs": [],
   "source": [
    "import mysql.connector\n",
    "from os import getenv\n",
    "from dotenv import load_dotenv"
   ]
  },
  {
   "cell_type": "markdown",
   "metadata": {},
   "source": [
    "## Part 2: Interacting with a MySQL Database\n",
    "In order to work with our database, we will want to use the import from above and connect to the mysql server. Once we are connected, we will create a cursory object and loop through each database:"
   ]
  },
  {
   "cell_type": "markdown",
   "metadata": {},
   "source": [
    "### Create the Connection"
   ]
  },
  {
   "cell_type": "code",
   "execution_count": 3,
   "metadata": {},
   "outputs": [
    {
     "ename": "NameError",
     "evalue": "name 'load' is not defined",
     "output_type": "error",
     "traceback": [
      "\u001b[1;31m---------------------------------------------------------------------------\u001b[0m",
      "\u001b[1;31mNameError\u001b[0m                                 Traceback (most recent call last)",
      "\u001b[1;32mc:\\Users\\bioni\\OneDrive\\Documents\\GitHub\\Coding_Temple\\WK 5\\Lecture Notes\\MySQL Python Connector.ipynb Cell 7\u001b[0m line \u001b[0;36m1\n\u001b[1;32m----> <a href='vscode-notebook-cell:/c%3A/Users/bioni/OneDrive/Documents/GitHub/Coding_Temple/WK%205/Lecture%20Notes/MySQL%20Python%20Connector.ipynb#W6sZmlsZQ%3D%3D?line=0'>1</a>\u001b[0m load\u001b[39m.\u001b[39mdotenv(\u001b[39mr\u001b[39m\u001b[39m'\u001b[39m\u001b[39m'\u001b[39m)\n",
      "\u001b[1;31mNameError\u001b[0m: name 'load' is not defined"
     ]
    }
   ],
   "source": [
    "load.dotenv(r'')"
   ]
  },
  {
   "cell_type": "markdown",
   "metadata": {},
   "source": [
    "### Create Schema"
   ]
  },
  {
   "cell_type": "markdown",
   "metadata": {},
   "source": [
    "Now that we have verified our connection and looked at the available database schemas we can work with, we need to interact with one of these specific schema. Let's create one now to use together:"
   ]
  },
  {
   "cell_type": "code",
   "execution_count": null,
   "metadata": {},
   "outputs": [],
   "source": [
    "cur.executor('SHOW DATABASES')\n",
    "for x in cur:\n",
    "    print(x)\n",
    "\n"
   ]
  },
  {
   "cell_type": "markdown",
   "metadata": {},
   "source": [
    "Let's verify that the new schema has been added to our database:"
   ]
  },
  {
   "cell_type": "code",
   "execution_count": null,
   "metadata": {},
   "outputs": [],
   "source": []
  },
  {
   "cell_type": "markdown",
   "metadata": {},
   "source": [
    "### Connect to DataBase"
   ]
  },
  {
   "cell_type": "markdown",
   "metadata": {},
   "source": [
    "Perfect! Looks like this now exists within our databases. Let's connect to it now"
   ]
  },
  {
   "cell_type": "code",
   "execution_count": null,
   "metadata": {},
   "outputs": [],
   "source": [
    "database = getenv('DATABASE')\n",
    "mydb = myslq.connector.connect(user=user, password=password, host=host, database=database)\n",
    "\n",
    "cur=mydb.cursor()\n",
    "for x in cur:\n",
    "    print(x)"
   ]
  },
  {
   "cell_type": "markdown",
   "metadata": {},
   "source": [
    "### Create Tables"
   ]
  },
  {
   "cell_type": "markdown",
   "metadata": {},
   "source": [
    "Since we just created this schema, we would have no tables present within it. So, we will making them in Python!"
   ]
  },
  {
   "cell_type": "code",
   "execution_count": null,
   "metadata": {},
   "outputs": [],
   "source": [
    "# Using the cursor object, we execute a sql command:\n",
    "cur.execute('CREATE TABLE IF NOT EXISTS sales(purchase_id INT, movie_title VARCHAR(500), purchase_total NUMERIC(8,2))')\n",
    "\n",
    "# Commit the changes made by us to the database\n",
    "# If we don't do this, our changes will not save!!\n",
    "mydb.commit()"
   ]
  },
  {
   "cell_type": "markdown",
   "metadata": {},
   "source": [
    "### Insert Data"
   ]
  },
  {
   "cell_type": "markdown",
   "metadata": {},
   "source": [
    "Great. We have successfully created a table using MySQL in Python! Now, our next step is to insert data into this table. "
   ]
  },
  {
   "cell_type": "code",
   "execution_count": null,
   "metadata": {},
   "outputs": [],
   "source": [
    "cur.execute('INSERT INTO sales VALUES(01, \"Hocus Pocus\", 17.99)')\n",
    "cur.execute('INSERT INTO sales VALUES(02, \"Die Hard\", 22.99)')\n",
    "cur.execute('INSERT INTO sales VALUES(03, \"Kung Foo Panda\", 17.99)')"
   ]
  },
  {
   "cell_type": "code",
   "execution_count": null,
   "metadata": {},
   "outputs": [],
   "source": [
    "mydb.commit()"
   ]
  },
  {
   "cell_type": "code",
   "execution_count": null,
   "metadata": {},
   "outputs": [],
   "source": [
    "cur.execute('''SELECT * FROM sales''')\n",
    "for x in cur:\n",
    "    print(x)"
   ]
  },
  {
   "cell_type": "code",
   "execution_count": null,
   "metadata": {},
   "outputs": [],
   "source": [
    "# add in a qty column? Create it as \n",
    "cur.execute(\"ALTER TABLE sales ADD quantity INT\")\n",
    "mydb.commit()\n",
    "\n",
    "# Verify my alteration has been completed\n",
    "cur.execute('''SELECT * FROM sales''')\n",
    "for x in cur:\n",
    "    print(x)"
   ]
  },
  {
   "cell_type": "code",
   "execution_count": null,
   "metadata": {},
   "outputs": [],
   "source": [
    "# Drop\n",
    "cur.execute(\"ALTER TABLE sales DROP quantity\")\n",
    "mydb.commit()\n"
   ]
  },
  {
   "cell_type": "markdown",
   "metadata": {},
   "source": [
    "### Building it into a Class"
   ]
  },
  {
   "cell_type": "markdown",
   "metadata": {},
   "source": [
    "How can we take the things we have learned about and transform them into a functional object that can be inserted into a program or a pipeline?\n",
    "\n",
    "Let's build a class out of it!"
   ]
  },
  {
   "cell_type": "code",
   "execution_count": null,
   "metadata": {},
   "outputs": [],
   "source": [
    "# Create a class\n",
    "class MySQLCon:\n",
    "    def __init__(self):\n",
    "    self.__con = mysql.connector.connect(user='Andrew', password = 'xxxxxxxxx!', host =  , database = 'bonfire_mysql_connector')\n",
    "    self.__cur = self.__cur.cursor()\n",
    "\n",
    "def execute_command(self, sql.command):\n",
    "    self.__cur(sql_command)\n",
    "    self.__con.commit()\n",
    "    self.__con.close()\n",
    "\n",
    "\n",
    "def show_info(self, sql_command):\n",
    "    self.__cur.execute(sql_command)\n",
    "    for x in self.cur:\n",
    "        yield x\n",
    "    self.__con.close()\n",
    "\n",
    "c = MySQLCon()\n",
    "c.execute_command('CREATE TABLE IF NOT EXISTS students(student_id, class VARCHAR(100), grade VARCHAR(5))')\n",
    "\n"
   ]
  },
  {
   "cell_type": "code",
   "execution_count": null,
   "metadata": {},
   "outputs": [],
   "source": [
    "for x in c.show_info('SHOW TABLES'):\n",
    "    print(x)"
   ]
  }
 ],
 "metadata": {
  "kernelspec": {
   "display_name": "Python 3",
   "language": "python",
   "name": "python3"
  },
  "language_info": {
   "codemirror_mode": {
    "name": "ipython",
    "version": 3
   },
   "file_extension": ".py",
   "mimetype": "text/x-python",
   "name": "python",
   "nbconvert_exporter": "python",
   "pygments_lexer": "ipython3",
   "version": "3.11.5"
  },
  "orig_nbformat": 4
 },
 "nbformat": 4,
 "nbformat_minor": 2
}
